{
 "cells": [
  {
   "cell_type": "code",
   "execution_count": 1,
   "metadata": {},
   "outputs": [],
   "source": [
    "import os\n",
    "import numpy as np\n",
    "import cv2\n",
    "import pandas as pd\n",
    "import re"
   ]
  },
  {
   "cell_type": "code",
   "execution_count": 2,
   "metadata": {},
   "outputs": [
    {
     "name": "stdout",
     "output_type": "stream",
     "text": [
      "Directories set up for Lateral clips: ['Botia_lohachata_10_C_1_L', 'Botia_lohachata_10_C_2_L', 'Botia_lohachata_10_C_3_L', 'Botia_lohachata_10_C_4_L', 'Botia_lohachata_10_C_5_L', 'Botia_lohachata_10_C_6_L', 'Botia_lohachata_10_P_1_L', 'Botia_lohachata_10_P_2_L', 'Botia_lohachata_10_P_3_L', 'Botia_lohachata_10_P_4_L', 'Botia_lohachata_10_P_5_L', 'Botia_lohachata_10_P_6_L', 'Botia_lohachata_11_C_10_L', 'Botia_lohachata_11_C_11_L', 'Botia_lohachata_11_C_12_L', 'Botia_lohachata_11_C_1_L', 'Botia_lohachata_11_C_2_L', 'Botia_lohachata_11_C_3_L', 'Botia_lohachata_11_C_4_L', 'Botia_lohachata_11_C_5_L', 'Botia_lohachata_11_C_6_L', 'Botia_lohachata_11_C_7_L', 'Botia_lohachata_11_C_8_L', 'Botia_lohachata_11_C_9_L', 'Botia_lohachata_11_P_1_L', 'Botia_lohachata_11_P_2_L', 'Botia_lohachata_11_P_3_L', 'Botia_lohachata_11_P_4_L', 'Botia_lohachata_11_P_5_L', 'Botia_lohachata_11_P_6_L', 'Botia_lohachata_11_P_7_L', 'Botia_lohachata_12_C_10_L', 'Botia_lohachata_12_C_11_L', 'Botia_lohachata_12_C_12_L', 'Botia_lohachata_12_C_13_L', 'Botia_lohachata_12_C_14_L', 'Botia_lohachata_12_C_15_L', 'Botia_lohachata_12_C_16_L', 'Botia_lohachata_12_C_17_L', 'Botia_lohachata_12_C_18_L', 'Botia_lohachata_12_C_19_L', 'Botia_lohachata_12_C_1_L', 'Botia_lohachata_12_C_20_L', 'Botia_lohachata_12_C_21_L', 'Botia_lohachata_12_C_22_L', 'Botia_lohachata_12_C_23_L', 'Botia_lohachata_12_C_24_L', 'Botia_lohachata_12_C_2_L', 'Botia_lohachata_12_C_3_L', 'Botia_lohachata_12_C_4_L', 'Botia_lohachata_12_C_5_L', 'Botia_lohachata_12_C_6_L', 'Botia_lohachata_12_C_7_L', 'Botia_lohachata_12_C_8_L', 'Botia_lohachata_12_C_9_L', 'Botia_lohachata_12_P_1_L', 'Botia_lohachata_12_P_2_L', 'Botia_lohachata_12_P_3_L', 'Botia_lohachata_12_P_4_L', 'Botia_lohachata_12_P_5_L', 'Botia_lohachata_12_P_6_L', 'Botia_lohachata_12_P_7_L', 'Botia_lohachata_12_P_8_L', 'Botia_lohachata_13_C_1_L', 'Botia_lohachata_13_C_2_L', 'Botia_lohachata_13_C_3_L', 'Botia_lohachata_13_C_4_L', 'Botia_lohachata_13_P_1_L', 'Botia_lohachata_13_P_2_L', 'Botia_lohachata_13_P_3_L', 'Botia_lohachata_14_P_1_L', 'Botia_lohachata_14_P_2_L', 'Botia_lohachata_14_P_3_L', 'Botia_lohachata_15_P_1_L', 'Botia_lohachata_15_P_2_L', 'Botia_lohachata_1_C_1_L', 'Botia_lohachata_1_C_2_L', 'Botia_lohachata_1_C_3_L', 'Botia_lohachata_1_P_10_L', 'Botia_lohachata_1_P_1_L', 'Botia_lohachata_1_P_2_L', 'Botia_lohachata_1_P_3_L', 'Botia_lohachata_1_P_4_L', 'Botia_lohachata_1_P_5_L', 'Botia_lohachata_1_P_6_L', 'Botia_lohachata_1_P_7_L', 'Botia_lohachata_1_P_8_L', 'Botia_lohachata_1_P_9_L', 'Botia_lohachata_2_C_1_L', 'Botia_lohachata_2_C_2_L', 'Botia_lohachata_2_C_3_L', 'Botia_lohachata_2_C_4_L', 'Botia_lohachata_2_C_5_L', 'Botia_lohachata_2_P_10_L', 'Botia_lohachata_2_P_11_L', 'Botia_lohachata_2_P_12_L', 'Botia_lohachata_2_P_13_L', 'Botia_lohachata_2_P_1_L', 'Botia_lohachata_2_P_2_L', 'Botia_lohachata_2_P_3_L', 'Botia_lohachata_2_P_4_L', 'Botia_lohachata_2_P_5_L', 'Botia_lohachata_2_P_6_L', 'Botia_lohachata_2_P_7_L', 'Botia_lohachata_2_P_8_L', 'Botia_lohachata_2_P_9_L', 'Botia_lohachata_3_C_1_L', 'Botia_lohachata_3_C_2_L', 'Botia_lohachata_3_C_3_L', 'Botia_lohachata_3_C_4_L', 'Botia_lohachata_3_C_5_L', 'Botia_lohachata_3_P_1_L', 'Botia_lohachata_3_P_2_L', 'Botia_lohachata_3_P_3_L', 'Botia_lohachata_3_P_4_L', 'Botia_lohachata_3_P_5_L', 'Botia_lohachata_4_C_1_L', 'Botia_lohachata_4_C_2_L', 'Botia_lohachata_4_C_3_L', 'Botia_lohachata_4_C_4_L', 'Botia_lohachata_4_C_5_L', 'Botia_lohachata_4_P_1_L', 'Botia_lohachata_4_P_2_L', 'Botia_lohachata_4_P_3_L', 'Botia_lohachata_4_P_4_L', 'Botia_lohachata_4_P_5_L', 'Botia_lohachata_4_P_6_L', 'Botia_lohachata_4_P_7_L', 'Botia_lohachata_5_C_1_L', 'Botia_lohachata_5_C_2_L', 'Botia_lohachata_5_C_3_L', 'Botia_lohachata_5_C_4_L', 'Botia_lohachata_5_P_1_L', 'Botia_lohachata_5_P_2_L', 'Botia_lohachata_5_P_3_L', 'Botia_lohachata_5_P_4_L', 'Botia_lohachata_5_P_5_L', 'Botia_lohachata_5_P_6_L', 'Botia_lohachata_5_P_7_L', 'Botia_lohachata_6_P_10_L', 'Botia_lohachata_6_P_11_L', 'Botia_lohachata_6_P_1_L', 'Botia_lohachata_6_P_2_L', 'Botia_lohachata_6_P_3_L', 'Botia_lohachata_6_P_4_L', 'Botia_lohachata_6_P_5_L', 'Botia_lohachata_6_P_6_L', 'Botia_lohachata_6_P_7_L', 'Botia_lohachata_6_P_8_L', 'Botia_lohachata_6_P_9_L', 'Botia_lohachata_7_C_1_L', 'Botia_lohachata_7_C_2_L', 'Botia_lohachata_7_C_3_L', 'Botia_lohachata_7_C_4_L', 'Botia_lohachata_7_P_10_L', 'Botia_lohachata_7_P_11_L', 'Botia_lohachata_7_P_12_L', 'Botia_lohachata_7_P_1_L', 'Botia_lohachata_7_P_2_L', 'Botia_lohachata_7_P_3_L', 'Botia_lohachata_7_P_4_L', 'Botia_lohachata_7_P_5_L', 'Botia_lohachata_7_P_6_L', 'Botia_lohachata_7_P_7_L', 'Botia_lohachata_7_P_8_L', 'Botia_lohachata_7_P_9_L', 'Botia_lohachata_8_C_1_L', 'Botia_lohachata_8_C_2_L', 'Botia_lohachata_8_C_3_L', 'Botia_lohachata_8_P_10_L', 'Botia_lohachata_8_P_11_L', 'Botia_lohachata_8_P_1_L', 'Botia_lohachata_8_P_2_L', 'Botia_lohachata_8_P_3_L', 'Botia_lohachata_8_P_4_L', 'Botia_lohachata_8_P_5_L', 'Botia_lohachata_8_P_6_L', 'Botia_lohachata_8_P_7_L', 'Botia_lohachata_8_P_8_L', 'Botia_lohachata_8_P_9_L', 'Botia_lohachata_9_P_1_L', 'Botia_lohachata_9_P_2_L', 'Yasuhikotakia_modesta_10_C_1_L', 'Yasuhikotakia_modesta_10_C_2_L', 'Yasuhikotakia_modesta_10_P_1_L', 'Yasuhikotakia_modesta_10_P_2_L', 'Yasuhikotakia_modesta_10_P_3_L', 'Yasuhikotakia_modesta_10_P_4_L', 'Yasuhikotakia_modesta_10_P_5_L', 'Yasuhikotakia_modesta_1_C_1_L', 'Yasuhikotakia_modesta_1_C_2_L', 'Yasuhikotakia_modesta_1_P_1_L', 'Yasuhikotakia_modesta_1_P_2_L', 'Yasuhikotakia_modesta_2_C_1_L', 'Yasuhikotakia_modesta_2_C_2_L', 'Yasuhikotakia_modesta_2_C_3_L', 'Yasuhikotakia_modesta_2_C_4_L', 'Yasuhikotakia_modesta_2_P_1_L', 'Yasuhikotakia_modesta_2_P_2_L', 'Yasuhikotakia_modesta_3_C_1_L', 'Yasuhikotakia_modesta_3_C_2_L', 'Yasuhikotakia_modesta_3_C_3_L', 'Yasuhikotakia_modesta_3_C_4_L', 'Yasuhikotakia_modesta_3_P_1_L', 'Yasuhikotakia_modesta_3_P_2_L', 'Yasuhikotakia_modesta_3_P_3_L', 'Yasuhikotakia_modesta_3_P_4_L', 'Yasuhikotakia_modesta_4_C_1_L', 'Yasuhikotakia_modesta_4_C_2_L', 'Yasuhikotakia_modesta_4_C_3_L', 'Yasuhikotakia_modesta_4_C_4_L', 'Yasuhikotakia_modesta_4_C_5_L', 'Yasuhikotakia_modesta_4_C_6_L', 'Yasuhikotakia_modesta_4_C_7_L', 'Yasuhikotakia_modesta_4_P_1_L', 'Yasuhikotakia_modesta_4_P_2_L', 'Yasuhikotakia_modesta_4_P_3_L', 'Yasuhikotakia_modesta_4_P_4_L', 'Yasuhikotakia_modesta_4_P_5_L', 'Yasuhikotakia_modesta_4_P_6_L', 'Yasuhikotakia_modesta_4_P_7_L', 'Yasuhikotakia_modesta_4_P_8_L', 'Yasuhikotakia_modesta_5_C_1_L', 'Yasuhikotakia_modesta_5_C_2_L', 'Yasuhikotakia_modesta_5_C_3_L', 'Yasuhikotakia_modesta_5_P_1_L', 'Yasuhikotakia_modesta_5_P_2_L', 'Yasuhikotakia_modesta_5_P_3_L', 'Yasuhikotakia_modesta_5_P_4_L', 'Yasuhikotakia_modesta_5_P_5_L', 'Yasuhikotakia_modesta_5_P_6_L', 'Yasuhikotakia_modesta_5_P_7_L', 'Yasuhikotakia_modesta_6_C_1_L', 'Yasuhikotakia_modesta_6_C_2_L', 'Yasuhikotakia_modesta_6_C_3_L', 'Yasuhikotakia_modesta_6_C_4_L', 'Yasuhikotakia_modesta_6_C_5_L', 'Yasuhikotakia_modesta_6_P_1_L', 'Yasuhikotakia_modesta_6_P_2_L', 'Yasuhikotakia_modesta_6_P_3_L', 'Yasuhikotakia_modesta_6_P_4_L', 'Yasuhikotakia_modesta_6_P_5_L', 'Yasuhikotakia_modesta_6_P_6_L', 'Yasuhikotakia_modesta_7_C_1_L', 'Yasuhikotakia_modesta_7_C_2_L', 'Yasuhikotakia_modesta_7_C_3_L', 'Yasuhikotakia_modesta_7_P_1_L', 'Yasuhikotakia_modesta_7_P_2_L', 'Yasuhikotakia_modesta_7_P_3_L', 'Yasuhikotakia_modesta_7_P_4_L', 'Yasuhikotakia_modesta_8_C_1_L', 'Yasuhikotakia_modesta_8_C_2_L', 'Yasuhikotakia_modesta_8_C_3_L', 'Yasuhikotakia_modesta_8_C_4_L', 'Yasuhikotakia_modesta_8_C_5_L', 'Yasuhikotakia_modesta_8_C_6_L', 'Yasuhikotakia_modesta_8_P_1_L', 'Yasuhikotakia_modesta_8_P_2_L', 'Yasuhikotakia_modesta_8_P_3_L', 'Yasuhikotakia_modesta_8_P_4_L', 'Yasuhikotakia_modesta_8_P_5_L', 'Yasuhikotakia_modesta_8_P_6_L', 'Yasuhikotakia_modesta_8_P_7_L', 'Yasuhikotakia_modesta_8_P_8_L', 'Yasuhikotakia_modesta_8_P_9_L', 'Yasuhikotakia_modesta_9_C_1_L', 'Yasuhikotakia_modesta_9_P_1_L', 'Yasuhikotakia_modesta_9_P_2_L', 'Yasuhikotakia_modesta_9_P_3_L', 'Yasuhikotakia_modesta_9_P_4_L']\n"
     ]
    }
   ],
   "source": [
    "# Directories that need to exist and be used\n",
    "# Specify view (either \"Lateral\" or \"Dorsal\")\n",
    "view = \"Lateral\"  # Change this to \"Dorsal\" when needed\n",
    "\n",
    "# Define base directories\n",
    "base_dir = f\"/mnt/d/Flora project/Clips/{view}_clips\"\n",
    "frames_dir = os.path.join(base_dir, \"Frames\")\n",
    "basic_masks = os.path.join(base_dir, \"Output/Basic_Masks\")\n",
    "altered_masks = os.path.join(base_dir, \"Output/Altered_Masks\")\n",
    "treatment_outputs = os.path.join(base_dir, \"Output/Treatment_Outputs\")\n",
    "\n",
    "# Ensure the base directories exist\n",
    "for directory in [frames_dir, basic_masks, altered_masks, treatment_outputs]:\n",
    "    os.makedirs(directory, exist_ok=True)\n",
    "\n",
    "# Get the list of clips (subdirectories in frames_dir)\n",
    "clip_names = [clip for clip in os.listdir(frames_dir) if os.path.isdir(os.path.join(frames_dir, clip))]\n",
    "\n",
    "# Ensure subdirectories exist for each clip\n",
    "for clip in clip_names:\n",
    "    os.makedirs(os.path.join(basic_masks, clip), exist_ok=True)\n",
    "    os.makedirs(os.path.join(altered_masks, clip), exist_ok=True)\n",
    "    os.makedirs(os.path.join(treatment_outputs, clip), exist_ok=True)\n",
    "\n",
    "print(f\"Directories set up for {view} clips: {clip_names}\")"
   ]
  },
  {
   "cell_type": "code",
   "execution_count": null,
   "metadata": {},
   "outputs": [],
   "source": [
    "# Define video filenames and corresponding frame directories\n",
    "video_names = [\n",
    "    \"unaltered_mask\",\n",
    "    \"mean_luminance_fish\",\n",
    "    \"mean_luminance_background\",\n",
    "    \"mean_luminance_both\"\n",
    "]\n",
    "frame_dirs = {name: os.path.join(dst_dir, name) for name in video_names}\n",
    "#^this line creates a dictionary (frame_dirs) where the keys are the names from video_names and the values are paths combining dst_dir with each video name\n",
    "\n",
    "# Create directories for frames\n",
    "for folder in frame_dirs.values():\n",
    "    os.makedirs(folder, exist_ok=True)"
   ]
  },
  {
   "cell_type": "code",
   "execution_count": null,
   "metadata": {},
   "outputs": [],
   "source": [
    "def extract_frame_number(filename):\n",
    "    match = re.search(r'frame_(\\d+)', filename)\n",
    "    return int(match.group(1)) if match else float('inf')"
   ]
  },
  {
   "cell_type": "code",
   "execution_count": null,
   "metadata": {},
   "outputs": [],
   "source": [
    "frames = sorted(os.listdir(frames_dir))\n",
    "masks = sorted(os.listdir(basic_masks), key=extract_frame_number)  \n",
    "\n",
    "sample_frame = cv2.imread(os.path.join(frames_dir, frames[0]))\n",
    "height, width, _ = sample_frame.shape\n",
    "fps = 60 # can change this to original 240fps"
   ]
  },
  {
   "cell_type": "code",
   "execution_count": null,
   "metadata": {},
   "outputs": [],
   "source": [
    "# fourcc = cv2.VideoWriter_fourcc(*'mp4v')\n",
    "# video1 = cv2.VideoWriter(os.path.join(dst_dir, 'unaltered_mask.mp4'), fourcc, fps, (width, height))\n",
    "# video2 = cv2.VideoWriter(os.path.join(dst_dir, 'mean_luminance_fish.mp4'), fourcc, fps, (width, height))\n",
    "# video3 = cv2.VideoWriter(os.path.join(dst_dir, 'mean_luminance_background.mp4'), fourcc, fps, (width, height))\n",
    "# video4 = cv2.VideoWriter(os.path.join(dst_dir, 'mean_luminance_both.mp4'), fourcc, fps, (width, height))"
   ]
  },
  {
   "cell_type": "code",
   "execution_count": null,
   "metadata": {},
   "outputs": [],
   "source": [
    "# Define video writers\n",
    "fourcc = cv2.VideoWriter_fourcc(*'mp4v')\n",
    "video_paths = {name: os.path.join(treatment_outputs, f\"{name}.mp4\") for name in video_names}\n",
    "videos = {\n",
    "    name: cv2.VideoWriter(path, fourcc, fps, (width, height))\n",
    "    for name, path in video_paths.items()\n",
    "}"
   ]
  },
  {
   "cell_type": "code",
   "execution_count": null,
   "metadata": {},
   "outputs": [],
   "source": [
    "# for frame_name, mask_name in zip(frames, masks):\n",
    "#     frame_path = os.path.join(frame_dir, frame_name)\n",
    "#     mask_path = os.path.join(mask_dir, mask_name)\n",
    "\n",
    "#     # Read images\n",
    "#     frame = cv2.imread(frame_path)\n",
    "#     mask = pd.read_csv(mask_path, header=None).values  # Convert CSV to NumPy array\n",
    "\n",
    "\n",
    "#     # Compute mean luminance\n",
    "#     fish_pixels = frame[mask == 1]\n",
    "#     background_pixels = frame[mask == 0]\n",
    "\n",
    "#     mean_fish = (\n",
    "#         np.mean(fish_pixels, axis=0).astype(np.uint8)\n",
    "#         if len(fish_pixels) > 0\n",
    "#         else np.array([0, 0, 0], dtype=np.uint8)\n",
    "#     )\n",
    "#     mean_background = (\n",
    "#         np.mean(background_pixels, axis=0).astype(np.uint8)\n",
    "#         if len(background_pixels) > 0\n",
    "#         else np.array([0, 0, 0], dtype=np.uint8)\n",
    "#     )\n",
    "\n",
    "#     # Create mean luminance images\n",
    "#     mean_fish_img = np.full(frame.shape, mean_fish, dtype=np.uint8)\n",
    "#     mean_background_img = np.full(frame.shape, mean_background, dtype=np.uint8)\n",
    "\n",
    "#     # Apply treatments\n",
    "#     unaltered_mask = frame.copy()  # Treatment 1: No modification\n",
    "#     mean_fish_treatment = frame.copy()\n",
    "#     mean_background_treatment = frame.copy()\n",
    "#     mean_both_treatment = frame.copy()\n",
    "\n",
    "#     # Apply modifications\n",
    "#     mean_fish_treatment[mask == 1] = (\n",
    "#         mean_fish  # Treatment 2: Replace fish with mean luminance\n",
    "#     )\n",
    "#     mean_background_treatment[mask == 0] = (\n",
    "#         mean_background  # Treatment 3: Replace background with mean luminance\n",
    "#     )\n",
    "#     mean_both_treatment[mask == 1] = (\n",
    "#         mean_fish  # Treatment 4: Replace fish with mean luminance\n",
    "#     )\n",
    "#     mean_both_treatment[mask == 0] = (\n",
    "#         mean_background  # Replace background with mean luminance\n",
    "#     )\n",
    "\n",
    "#     # Write frames to videos\n",
    "#     video1.write(unaltered_mask)\n",
    "#     video2.write(mean_fish_treatment)\n",
    "#     video3.write(mean_background_treatment)\n",
    "#     video4.write(mean_both_treatment)\n",
    "\n",
    "# video1.release()\n",
    "# video2.release()\n",
    "# video3.release()\n",
    "# video4.release()"
   ]
  },
  {
   "cell_type": "code",
   "execution_count": null,
   "metadata": {},
   "outputs": [],
   "source": [
    "# Process frames and save them as images & videos\n",
    "for i, (frame_name, mask_name) in enumerate(zip(frames, masks)):\n",
    "    frame_path = os.path.join(frames_dir, frame_name)\n",
    "    mask_path = os.path.join(basic_masks, mask_name)\n",
    "\n",
    "    # Read images\n",
    "    frame = cv2.imread(frame_path)\n",
    "    mask = pd.read_csv(mask_path, header=None).values  # Convert CSV to NumPy array\n",
    "\n",
    "    # Compute mean luminance\n",
    "    fish_pixels = frame[mask == 1]\n",
    "    background_pixels = frame[mask == 0]\n",
    "    #^This is where I think I could use the same logic to make stripey masks i.e. make some of the 1s into 2 then make 2s black and 1s white\n",
    "\n",
    "    mean_fish = np.mean(fish_pixels, axis=0).astype(np.uint8) if len(fish_pixels) > 0 else np.array([0, 0, 0], dtype=np.uint8)\n",
    "    mean_background = np.mean(background_pixels, axis=0).astype(np.uint8) if len(background_pixels) > 0 else np.array([0, 0, 0], dtype=np.uint8)\n",
    "\n",
    "    # Create mean luminance images\n",
    "    mean_fish_img = np.full(frame.shape, mean_fish, dtype=np.uint8)\n",
    "    mean_background_img = np.full(frame.shape, mean_background, dtype=np.uint8)\n",
    "\n",
    "    # Apply treatments - I think I only need mean_bg and mean_both treatments\n",
    "    unaltered_mask = frame.copy()\n",
    "    mean_fish_treatment = frame.copy()\n",
    "    mean_background_treatment = frame.copy()\n",
    "    mean_both_treatment = frame.copy()\n",
    "\n",
    "    mean_fish_treatment[mask == 1] = mean_fish\n",
    "    mean_background_treatment[mask == 0] = mean_background\n",
    "    mean_both_treatment[mask == 1] = mean_fish\n",
    "    mean_both_treatment[mask == 0] = mean_background\n",
    "\n",
    "    # Save frames as images in corresponding folders\n",
    "    cv2.imwrite(os.path.join(frame_dirs[\"unaltered_mask\"], f\"frame_{i:04d}.png\"), unaltered_mask)\n",
    "    cv2.imwrite(os.path.join(frame_dirs[\"mean_luminance_fish\"], f\"frame_{i:04d}.png\"), mean_fish_treatment)\n",
    "    cv2.imwrite(os.path.join(frame_dirs[\"mean_luminance_background\"], f\"frame_{i:04d}.png\"), mean_background_treatment)\n",
    "    cv2.imwrite(os.path.join(frame_dirs[\"mean_luminance_both\"], f\"frame_{i:04d}.png\"), mean_both_treatment)\n",
    "\n",
    "    # Write frames to videos\n",
    "    videos[\"unaltered_mask\"].write(unaltered_mask)\n",
    "    videos[\"mean_luminance_fish\"].write(mean_fish_treatment)\n",
    "    videos[\"mean_luminance_background\"].write(mean_background_treatment)\n",
    "    videos[\"mean_luminance_both\"].write(mean_both_treatment)\n",
    "\n",
    "# Release video writers\n",
    "for vid in videos.values():\n",
    "    vid.release()"
   ]
  }
 ],
 "metadata": {
  "kernelspec": {
   "display_name": "sam2",
   "language": "python",
   "name": "python3"
  },
  "language_info": {
   "codemirror_mode": {
    "name": "ipython",
    "version": 3
   },
   "file_extension": ".py",
   "mimetype": "text/x-python",
   "name": "python",
   "nbconvert_exporter": "python",
   "pygments_lexer": "ipython3",
   "version": "3.12.7"
  }
 },
 "nbformat": 4,
 "nbformat_minor": 2
}
