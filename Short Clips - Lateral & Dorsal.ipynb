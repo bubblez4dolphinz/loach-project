{
 "cells": [
  {
   "cell_type": "code",
   "execution_count": null,
   "id": "3c3b1c46-9f5c-41c1-9101-85db8709ec0d",
   "metadata": {},
   "outputs": [],
   "source": [
    "# Copyright (c) Meta Platforms, Inc. and affiliates."
   ]
  },
  {
   "cell_type": "markdown",
   "id": "6e7a0db5-7f04-4845-8b11-684fe6e9f7f2",
   "metadata": {},
   "source": [
    "# Short Clips - Lateral & Dorsal"
   ]
  },
  {
   "cell_type": "markdown",
   "id": "6707b540",
   "metadata": {},
   "source": [
    "This notebook is used to process the manually selected clips of when the fish is swimming between the two jars of stimulus shoals - an inherently risky behaviour. It requires the videos to be turned into frames by ffmpeg code. \n",
    "\n",
    "Lateral Clips\n",
    "- Load in Frames (jpg), give xy prompt, propagate segmentation\n",
    "- Save basic masks as csv files (0 and 1)\n",
    "- Create artificially pattered masks as csv files (i.e. add in vertical stripes)\n",
    "- Treatments: Combine frames and masks to write the various treatments into videos and save the output frames too (as PNG?). \n",
    "\n",
    "I will then run these clips through EMD and some of those resulting frames will be run through QCPA to quantify the amount of variation.\n",
    "\n",
    "Dorsal Clips\n",
    "- Load in Frames (jpg), give xy prompt, propagate segmentation\n",
    "- Save basic masks as csv files (0 and 1)\n",
    "- Save centroid coordinate into a track csv.\n",
    "I will then load these into Rstudio to analyse the speed and acceleration using trajr. "
   ]
  },
  {
   "cell_type": "markdown",
   "id": "a887b90f-6576-4ef8-964e-76d3a156ccb6",
   "metadata": {},
   "source": [
    "<a target=\"_blank\" href=\"https://colab.research.google.com/github/facebookresearch/sam2/blob/main/notebooks/video_predictor_example.ipynb\">\n",
    "  <img src=\"https://colab.research.google.com/assets/colab-badge.svg\" alt=\"Open In Colab\"/>\n",
    "</a>"
   ]
  },
  {
   "cell_type": "markdown",
   "id": "6804c414",
   "metadata": {},
   "source": [
    "# 1. SET UP NOTEBOOK"
   ]
  },
  {
   "cell_type": "markdown",
   "id": "26616201-06df-435b-98fd-ad17c373bb4a",
   "metadata": {},
   "source": [
    "### 1a. Environment Set-Up\n",
    "* Declare whether using google colab or running locally on jupyter\n",
    "* Load in packages: os, numpy, torch, matplotlib.pyplot & PIL\n",
    "* Select device for computation"
   ]
  },
  {
   "cell_type": "markdown",
   "id": "8491a127-4c01-48f5-9dc5-f148a9417fdf",
   "metadata": {},
   "source": [
    "If running locally using jupyter, first install `sam2` in your environment using the [installation instructions](https://github.com/facebookresearch/sam2#installation) in the repository."
   ]
  },
  {
   "cell_type": "code",
   "execution_count": 1,
   "id": "07a72092",
   "metadata": {},
   "outputs": [
    {
     "name": "stdout",
     "output_type": "stream",
     "text": [
      "using device: cuda\n"
     ]
    }
   ],
   "source": [
    "using_colab = False\n",
    "\n",
    "## PACKAGES ##\n",
    "import os\n",
    "os.environ[\"PYTORCH_ENABLE_MPS_FALLBACK\"] = \"1\" # if using Apple MPS, fall back to CPU for unsupported ops\n",
    "import numpy as np\n",
    "import torch\n",
    "import matplotlib.pyplot as plt\n",
    "import matplotlib.image as mpimg\n",
    "from PIL import Image\n",
    "import pandas as pd\n",
    "import gc\n",
    "#for finding the centroid\n",
    "from shapely.geometry import Polygon\n",
    "from shapely.ops import polylabel\n",
    "from shapely.plotting import plot_points, plot_polygon\n",
    "\n",
    "\n",
    "## SELECT DEVICE FOR COMPUTATION ##\n",
    "if torch.cuda.is_available():\n",
    "    device = torch.device(\"cuda\")\n",
    "elif torch.backends.mps.is_available():\n",
    "    device = torch.device(\"mps\")\n",
    "else:\n",
    "    device = torch.device(\"cpu\")\n",
    "print(f\"using device: {device}\")\n",
    "\n",
    "if device.type == \"cuda\":\n",
    "    # use bfloat16 for the entire notebook\n",
    "    torch.autocast(\"cuda\", dtype=torch.bfloat16).__enter__()\n",
    "    # turn on tfloat32 for Ampere GPUs (https://pytorch.org/docs/stable/notes/cuda.html#tensorfloat-32-tf32-on-ampere-devices)\n",
    "    if torch.cuda.get_device_properties(0).major >= 8:\n",
    "        torch.backends.cuda.matmul.allow_tf32 = True\n",
    "        torch.backends.cudnn.allow_tf32 = True\n",
    "elif device.type == \"mps\":\n",
    "    print(\n",
    "        \"\\nSupport for MPS devices is preliminary. SAM 2 is trained with CUDA and might \"\n",
    "        \"give numerically different outputs and sometimes degraded performance on MPS. \"\n",
    "        \"See e.g. https://github.com/pytorch/pytorch/issues/84936 for a discussion.\"\n",
    "    )"
   ]
  },
  {
   "cell_type": "markdown",
   "id": "ae8e0779-751f-4224-9b04-ed0f0b406500",
   "metadata": {},
   "source": [
    "### 1b. Loading the SAM 2 video predictor\n",
    "* Import checkpoints, models and predictor\n",
    "* Define plotting helper functions from sam2\n",
    "* Define other custrom helper functions - registering 'clicks' and appending dictionaries"
   ]
  },
  {
   "cell_type": "code",
   "execution_count": 2,
   "id": "01b53e8e",
   "metadata": {},
   "outputs": [],
   "source": [
    "## LOAD IN SAM2 ##\n",
    "from sam2.build_sam import build_sam2_video_predictor\n",
    "sam2_checkpoint = \"../checkpoints/sam2.1_hiera_large.pt\"\n",
    "model_cfg = \"configs/sam2.1/sam2.1_hiera_l.yaml\"\n",
    "predictor = build_sam2_video_predictor(model_cfg, sam2_checkpoint, device=device)\n",
    "\n",
    "\n",
    "## SAM2 FUNCTIONS ##\n",
    "def show_mask(mask, ax, obj_id=None, random_color=False):\n",
    "    if random_color:\n",
    "        color = np.concatenate([np.random.random(3), np.array([0.6])], axis=0)\n",
    "    else:\n",
    "        cmap = plt.get_cmap(\"tab10\")\n",
    "        cmap_idx = 0 if obj_id is None else obj_id\n",
    "        color = np.array([*cmap(cmap_idx)[:3], 0.6])\n",
    "    h, w = mask.shape[-2:]\n",
    "    mask_image = mask.reshape(h, w, 1) * color.reshape(1, 1, -1)\n",
    "    ax.imshow(mask_image)\n",
    "\n",
    "def show_points(coords, labels, ax, marker_size=200): #changing this seems to change the interpretation of the point size as well as the icon size in the output\n",
    "    pos_points = coords[labels==1]\n",
    "    neg_points = coords[labels==0]\n",
    "    ax.scatter(pos_points[:, 0], pos_points[:, 1], color='green', marker='x', s=marker_size, edgecolor='white', linewidth=1.25) # marker shape can be * or x\n",
    "    ax.scatter(neg_points[:, 0], neg_points[:, 1], color='red', marker='x', s=marker_size, edgecolor='white', linewidth=1.25) \n",
    "#n.b. I have removed the code referring to boxes because I don't want to use boxes\n",
    "\n",
    "\n",
    "# CUSTOM FUNCTIONS ##\n",
    "def onclick(event): # Define the onclick function to update prompt_pts and clicked flag\n",
    "    global clicked, prompt_pts_list, prompt_labs_list\n",
    "    if event.xdata is not None and event.ydata is not None:\n",
    "        ix, iy = int(event.xdata), int(event.ydata)\n",
    "        prompt_pts_list.append((ix, iy))\n",
    "        print(prompt_pts_list)\n",
    "        \n",
    "        # Ask user for the label (positive or negative)\n",
    "        label = input(f\"Click registered at: x={ix}, y={iy}. Is this point positive (1) or negative (0)? \")\n",
    "        while label not in ['0', '1']:\n",
    "            print(\"Invalid input. Please enter 1 for positive or 0 for negative.\")\n",
    "            label = input(f\"Click registered at: x={ix}, y={iy}. Is this point positive (1) or negative (0)? \")\n",
    "        \n",
    "        prompt_labs_list.append(int(label))  # Convert to int32 as needed\n",
    "        print(prompt_labs_list)\n",
    "        clicked = True\n",
    "\n",
    "def updateDict(video_segments, new_dict): #  update dictionaries\n",
    "    # Find the current max key in D, or start at 0 if D is empty\n",
    "    max_key = max(map(int, video_segments.keys()), default=-1) + 1\n",
    "    # Rename the keys in new_dict starting from max_key\n",
    "    renamed_keys = {str(max_key + i): v for i, v in enumerate(new_dict.values())}\n",
    "    # Update D\n",
    "    video_segments.update(renamed_keys)"
   ]
  },
  {
   "cell_type": "code",
   "execution_count": 3,
   "id": "a400723f",
   "metadata": {},
   "outputs": [],
   "source": [
    "###### give_prompt redefined to be  allow me to add more clicks\n",
    "\n",
    "## I ought to change this so I have to specify which obj_id I'm referring to\n",
    "\n",
    "def give_prompt(clip_dir, frame_name, predictor, inference_state, obj_id=1):\n",
    "\n",
    "    \"\"\"\n",
    "    Displays a specified frame of a clip, waits for a user click, and generates a mask.\n",
    "\n",
    "    Args:\n",
    "        clip_dir (str): Path to the folder containing the image.\n",
    "        frame_name (str): Filename of the frame to display.\n",
    "        predictor (object): Prediction model for mask generation.\n",
    "        inference_state (object): Inference state for the predictor.\n",
    "        obj_id (int, optional): Object ID for mask generation. Default is 1.\n",
    "\n",
    "    Returns:\n",
    "        prompt_pts (np.ndarray): Array of selected prompt points.\n",
    "        prompt_labs (np.ndarray): Array of corresponding point labels.\n",
    "    \"\"\"\n",
    "\n",
    "    global clicked, prompt_pts_list, prompt_labs_list\n",
    "    prompt_pts_list = []\n",
    "    prompt_labs_list = []\n",
    "    done = False\n",
    "    # Step 1-3. Show figure, clicks, labels\n",
    "\n",
    "    while (not done):\n",
    "        fig = plt.figure(figsize=(9,6))\n",
    "        image_path = os.path.join(clip_dir, clip_frames[0] + '.jpg')  # Adjust index if needed (may need + '.jpg')\n",
    "        image = mpimg.imread(image_path)\n",
    "        clicked = False\n",
    "\n",
    "\n",
    "        imgplot = plt.imshow(image)\n",
    "        if prompt_pts_list: #runs if point in list\n",
    "            show_points(prompt_pts, prompt_labs, plt.gca())\n",
    "            show_mask((out_mask_logits[0] > 0.0).cpu().numpy(), plt.gca(), obj_id=out_obj_ids[0])\n",
    "        plt.show()\n",
    "        plt.pause(1.0)\n",
    "\n",
    "        print(\"Waiting for a response...\")\n",
    "        undo_mask = False\n",
    "        if prompt_pts_list:\n",
    "            asked = False\n",
    "            while not asked:\n",
    "                plt.pause(0.1)\n",
    "                add_prompt = input(\"Do you want to remove mask? (y/n): \").strip().lower()\n",
    "                if(add_prompt not in ('y', 'n')): print('wrong input') #add stuf here if like\n",
    "                elif(add_prompt == 'n'):\n",
    "                    asked = True\n",
    "                elif(add_prompt == 'y'):\n",
    "                    prompt_pts_list = []\n",
    "                    prompt_labs_list = []\n",
    "                    plt.close()\n",
    "                    asked = True\n",
    "                    undo_mask = True\n",
    "        if undo_mask: continue\n",
    "\n",
    "        print(\"Waiting for a response...\")\n",
    "        asked = False\n",
    "        while not asked:\n",
    "            plt.pause(0.1)\n",
    "            add_prompt = input(\"Do you want to add a click? (y/n): \").strip().lower()\n",
    "            if(add_prompt not in ('y', 'n')): print('wrong input') #add stuf here if like\n",
    "            elif(add_prompt == 'n'):\n",
    "                asked = True\n",
    "                done = True #probably don't need both\n",
    "                break\n",
    "            elif(add_prompt == 'y'):\n",
    "                asked = True\n",
    "        if(done): break\n",
    "        \n",
    "        clicked = False\n",
    "        cid = fig.canvas.mpl_connect('button_press_event', onclick)\n",
    "        print(\"Waiting for a click...\")\n",
    "        while not clicked:\n",
    "            plt.pause(0.1)\n",
    "        plt.close()\n",
    "        # Interactive wait for the click\n",
    "        # Small pause to prevent blocking\n",
    "        \n",
    "        print(\"Click registered. Generating mask...\")\n",
    "\n",
    "        prompt_pts = np.array(prompt_pts_list,  dtype=np.int32)\n",
    "        prompt_labs = np.array(prompt_labs_list,  dtype=np.int32)\n",
    "        # Step 4. Use prompt to make mask\n",
    "        _, out_obj_ids, out_mask_logits = predictor.add_new_points_or_box(\n",
    "        inference_state=inference_state,\n",
    "        frame_idx=0,\n",
    "        obj_id=obj_id,\n",
    "        points=prompt_pts, \n",
    "        labels=prompt_labs,\n",
    "        )\n",
    "\n",
    "    print(\"Mask generation complete.\")\n",
    "    return prompt_pts, prompt_labs\n"
   ]
  },
  {
   "cell_type": "code",
   "execution_count": null,
   "id": "17910976",
   "metadata": {},
   "outputs": [],
   "source": [
    "#### Testing it out\n",
    "\n",
    "clip_dir = \"/mnt/d/Flora project/Mask_Test/Frames/Botia_lohachata_1_C_1\"\n",
    "prompt_idx = 0\n",
    "clip_frames = [os.path.join(clip_dir, f) for f in sorted(os.listdir(clip_dir)) if os.path.isfile(os.path.join(clip_dir, f))]\n",
    "inference_state = predictor.init_state(video_path=clip_dir)\n"
   ]
  },
  {
   "cell_type": "code",
   "execution_count": null,
   "id": "d3d2150f",
   "metadata": {},
   "outputs": [],
   "source": [
    "# /testing it out \n",
    "%matplotlib tk\n",
    "\n",
    "### Step 2: Give Prompt on First Frame\n",
    "prompt_pts, prompt_labs = give_prompt(\n",
    "    clip_dir=clip_dir,\n",
    "    frame_name=clip_frames[0],\n",
    "    predictor=predictor,\n",
    "    inference_state=inference_state,\n",
    "    obj_id=1\n",
    ")\n",
    "print(f\"Clip 1 / Check 3: Prompt given - points: {prompt_pts}, labels: {prompt_labs}\")\n"
   ]
  },
  {
   "cell_type": "markdown",
   "id": "f22aa751-b7cd-451e-9ded-fb98bf4bdfad",
   "metadata": {},
   "source": [
    "### 1c. Trial set up\n",
    "* Set video directory\n",
    "* Set thresholds: clip length, skipped frame tolerance, mask area, and plotting frequency\n",
    "* Make empty objects called video_segments, clip_directories, and clip_frames\n",
    "* Standardise and order frame names (i.e. could remove 'frame_' and .jpg extension)\n",
    "\n",
    "n.b. could also set first prompt here if worked out separately - idx, pts, labs (i.e. frame number, points and labels). This would be useful if, later down the line, I want the for loop to run, not only through clips of a single trial but also, through trials of the same species in the same treatment and beyond. At that point, I may want to import the prompts as a matrix or csv file. \n",
    "\n",
    "n.b. would also be better if higher resolution PNG or TIF files were accepted and not just jpg but I might have to change the source code to allow that. "
   ]
  },
  {
   "cell_type": "code",
   "execution_count": 4,
   "id": "bbbceb75",
   "metadata": {},
   "outputs": [
    {
     "name": "stdout",
     "output_type": "stream",
     "text": [
      "['Botia_lohachata_10_C_R_1_D', 'Botia_lohachata_10_C_R_2_D', 'Botia_lohachata_10_C_R_3_D', 'Botia_lohachata_10_P_L_3_D', 'Botia_lohachata_10_P_L_6_D', 'Botia_lohachata_10_P_R_1_D', 'Botia_lohachata_11_C_L_1_D', 'Botia_lohachata_11_C_L_3_D', 'Botia_lohachata_11_C_L_4_D', 'Botia_lohachata_11_C_L_5_D', 'Botia_lohachata_11_C_R_2_D', 'Botia_lohachata_11_P_L_1_D', 'Botia_lohachata_11_P_R_2_D', 'Botia_lohachata_11_P_R_3_D', 'Botia_lohachata_11_P_R_4_D', 'Botia_lohachata_11_P_R_5_D', 'Botia_lohachata_12_C_23_D', 'Botia_lohachata_12_C_L_10_D', 'Botia_lohachata_12_C_L_11_D', 'Botia_lohachata_12_C_L_12_D', 'Botia_lohachata_12_C_L_17_D', 'Botia_lohachata_12_C_L_19_D', 'Botia_lohachata_12_C_L_1_D', 'Botia_lohachata_12_C_L_3_D', 'Botia_lohachata_12_C_L_4_D', 'Botia_lohachata_12_C_L_5_D', 'Botia_lohachata_12_C_L_7_D', 'Botia_lohachata_12_C_R_14_D', 'Botia_lohachata_12_C_R_16_D', 'Botia_lohachata_12_C_R_18_D', 'Botia_lohachata_12_C_R_20_D', 'Botia_lohachata_12_C_R_22_D', 'Botia_lohachata_12_C_R_24_D', 'Botia_lohachata_12_C_R_6_D', 'Botia_lohachata_12_C_R_8_D', 'Botia_lohachata_12_C_R_9_D', 'Botia_lohachata_12_P_L_4_D', 'Botia_lohachata_12_P_L_6_D', 'Botia_lohachata_12_P_R_1_D', 'Botia_lohachata_12_P_R_5_D', 'Botia_lohachata_13_C_L_2_D', 'Botia_lohachata_13_C_L_3_D', 'Botia_lohachata_13_C_L_4_D', 'Botia_lohachata_13_P_L_1_D', 'Botia_lohachata_13_P_L_2_D', 'Botia_lohachata_13_P_R_3_D', 'Botia_lohachata_14_P_L_2_D', 'Botia_lohachata_14_P_R_1_D', 'Botia_lohachata_14_P_R_3_D', 'Botia_lohachata_15_P_L_2_D', 'Botia_lohachata_1_C_L_3_D', 'Botia_lohachata_1_C_R_1_D', 'Botia_lohachata_1_C_R_2_D', 'Botia_lohachata_1_P_L_10_D', 'Botia_lohachata_1_P_L_1_D', 'Botia_lohachata_1_P_L_4_D', 'Botia_lohachata_1_P_L_8_D', 'Botia_lohachata_1_P_L_9_D', 'Botia_lohachata_1_P_R_2_D', 'Botia_lohachata_1_P_R_3_D', 'Botia_lohachata_1_P_R_5_D', 'Botia_lohachata_1_P_R_6_D', 'Botia_lohachata_1_P_R_7_D', 'Botia_lohachata_2_C_L_1_D', 'Botia_lohachata_2_C_L_3_D', 'Botia_lohachata_2_C_R_2_D', 'Botia_lohachata_2_P_L_11_D', 'Botia_lohachata_2_P_L_13_D', 'Botia_lohachata_2_P_L_1_D', 'Botia_lohachata_2_P_L_4_D', 'Botia_lohachata_2_P_L_6_D', 'Botia_lohachata_2_P_L_7_D', 'Botia_lohachata_2_P_L_9_D', 'Botia_lohachata_2_P_R_10_D', 'Botia_lohachata_2_P_R_12_D', 'Botia_lohachata_2_P_R_2_D', 'Botia_lohachata_2_P_R_3_D', 'Botia_lohachata_2_P_R_5_D', 'Botia_lohachata_2_P_R_8_D', 'Botia_lohachata_3_C_L_1_D', 'Botia_lohachata_3_C_R_2_D', 'Botia_lohachata_3_P_L_1_D', 'Botia_lohachata_3_P_L_4_D', 'Botia_lohachata_3_P_R_2_D', 'Botia_lohachata_3_P_R_3_D', 'Botia_lohachata_3_P_R_5_D', 'Botia_lohachata_4_C_L_2_D', 'Botia_lohachata_4_C_R_1_D', 'Botia_lohachata_4_C_R_3_D', 'Botia_lohachata_4_P_R_7_D', 'Botia_lohachata_5_C_L_1_D', 'Botia_lohachata_5_P_R_1_D', 'Botia_lohachata_6_P_L_11_D', 'Botia_lohachata_6_P_L_2_D', 'Botia_lohachata_6_P_L_3_D', 'Botia_lohachata_6_P_L_7_D', 'Botia_lohachata_6_P_R_10_D', 'Botia_lohachata_7_C_R_1_D', 'Botia_lohachata_7_C_R_2_D', 'Botia_lohachata_7_P_L_10_D', 'Botia_lohachata_7_P_L_11_D', 'Botia_lohachata_7_P_L_12_D', 'Botia_lohachata_7_P_L_3_D', 'Botia_lohachata_7_P_L_5_D', 'Botia_lohachata_7_P_L_7_D', 'Botia_lohachata_7_P_L_9_D', 'Botia_lohachata_7_P_R_1_D', 'Botia_lohachata_8_C_R_1_D', 'Botia_lohachata_8_P_L_1_D', 'Botia_lohachata_8_P_L_5_D', 'Botia_lohachata_8_P_L_8_D', 'Botia_lohachata_8_P_R_2_D', 'Botia_lohachata_8_P_R_6_D', 'Botia_lohachata_9_P_L_1_D', 'Yasuhikotakia_modesta_10_P_L_4_D', 'Yasuhikotakia_modesta_10_P_R_1_D', 'Yasuhikotakia_modesta_10_P_R_5_D', 'Yasuhikotakia_modesta_1_C_R_1_D', 'Yasuhikotakia_modesta_1_C_R_2_D', 'Yasuhikotakia_modesta_1_P_L_2_D', 'Yasuhikotakia_modesta_2_C_L_2_D', 'Yasuhikotakia_modesta_2_C_L_4_D', 'Yasuhikotakia_modesta_2_C_R_1_D', 'Yasuhikotakia_modesta_2_C_R_3_D', 'Yasuhikotakia_modesta_3_C_L_3_D', 'Yasuhikotakia_modesta_3_C_R_1_D', 'Yasuhikotakia_modesta_3_C_R_2_D', 'Yasuhikotakia_modesta_3_C_R_4_D', 'Yasuhikotakia_modesta_3_P_L_3_D', 'Yasuhikotakia_modesta_3_P_R_1_D', 'Yasuhikotakia_modesta_3_P_R_2_D', 'Yasuhikotakia_modesta_3_P_R_4_D', 'Yasuhikotakia_modesta_4_C_L_3_D', 'Yasuhikotakia_modesta_4_C_L_4_D', 'Yasuhikotakia_modesta_4_C_L_6_D', 'Yasuhikotakia_modesta_4_C_R_1_D', 'Yasuhikotakia_modesta_4_C_R_2_D', 'Yasuhikotakia_modesta_4_C_R_5_D', 'Yasuhikotakia_modesta_4_P_R_2_D', 'Yasuhikotakia_modesta_4_P_R_5_D', 'Yasuhikotakia_modesta_5_C_L_1_D', 'Yasuhikotakia_modesta_5_C_L_2_D', 'Yasuhikotakia_modesta_5_C_R_3_D', 'Yasuhikotakia_modesta_5_P_R_1_D', 'Yasuhikotakia_modesta_5_P_R_3_D', 'Yasuhikotakia_modesta_5_P_R_6_D', 'Yasuhikotakia_modesta_5_P_R_7_D', 'Yasuhikotakia_modesta_6_C_R_3_D', 'Yasuhikotakia_modesta_6_P_L_2_D', 'Yasuhikotakia_modesta_6_P_L_6_D', 'Yasuhikotakia_modesta_6_P_R_3_D', 'Yasuhikotakia_modesta_6_P_R_5_D', 'Yasuhikotakia_modesta_7_C_L_1_D', 'Yasuhikotakia_modesta_7_P_L_2_D', 'Yasuhikotakia_modesta_7_P_L_4_D', 'Yasuhikotakia_modesta_7_P_R_1_D', 'Yasuhikotakia_modesta_7_P_R_3_D', 'Yasuhikotakia_modesta_8_C_L_4_D', 'Yasuhikotakia_modesta_8_C_L_6_D', 'Yasuhikotakia_modesta_8_C_R_3_D', 'Yasuhikotakia_modesta_8_P_L_2_D', 'Yasuhikotakia_modesta_8_P_L_5_D', 'Yasuhikotakia_modesta_8_P_L_8_D', 'Yasuhikotakia_modesta_8_P_R_7_D', 'Yasuhikotakia_modesta_8_P_R_9_D', 'Yasuhikotakia_modesta_9_P_L_4_D']\n",
      "['/mnt/d/Flora project/Clips/Dorsal_clips/Frames/Botia_lohachata_10_C_R_1_D', '/mnt/d/Flora project/Clips/Dorsal_clips/Frames/Botia_lohachata_10_C_R_2_D', '/mnt/d/Flora project/Clips/Dorsal_clips/Frames/Botia_lohachata_10_C_R_3_D', '/mnt/d/Flora project/Clips/Dorsal_clips/Frames/Botia_lohachata_10_P_L_3_D', '/mnt/d/Flora project/Clips/Dorsal_clips/Frames/Botia_lohachata_10_P_L_6_D', '/mnt/d/Flora project/Clips/Dorsal_clips/Frames/Botia_lohachata_10_P_R_1_D', '/mnt/d/Flora project/Clips/Dorsal_clips/Frames/Botia_lohachata_11_C_L_1_D', '/mnt/d/Flora project/Clips/Dorsal_clips/Frames/Botia_lohachata_11_C_L_3_D', '/mnt/d/Flora project/Clips/Dorsal_clips/Frames/Botia_lohachata_11_C_L_4_D', '/mnt/d/Flora project/Clips/Dorsal_clips/Frames/Botia_lohachata_11_C_L_5_D', '/mnt/d/Flora project/Clips/Dorsal_clips/Frames/Botia_lohachata_11_C_R_2_D', '/mnt/d/Flora project/Clips/Dorsal_clips/Frames/Botia_lohachata_11_P_L_1_D', '/mnt/d/Flora project/Clips/Dorsal_clips/Frames/Botia_lohachata_11_P_R_2_D', '/mnt/d/Flora project/Clips/Dorsal_clips/Frames/Botia_lohachata_11_P_R_3_D', '/mnt/d/Flora project/Clips/Dorsal_clips/Frames/Botia_lohachata_11_P_R_4_D', '/mnt/d/Flora project/Clips/Dorsal_clips/Frames/Botia_lohachata_11_P_R_5_D', '/mnt/d/Flora project/Clips/Dorsal_clips/Frames/Botia_lohachata_12_C_23_D', '/mnt/d/Flora project/Clips/Dorsal_clips/Frames/Botia_lohachata_12_C_L_10_D', '/mnt/d/Flora project/Clips/Dorsal_clips/Frames/Botia_lohachata_12_C_L_11_D', '/mnt/d/Flora project/Clips/Dorsal_clips/Frames/Botia_lohachata_12_C_L_12_D', '/mnt/d/Flora project/Clips/Dorsal_clips/Frames/Botia_lohachata_12_C_L_17_D', '/mnt/d/Flora project/Clips/Dorsal_clips/Frames/Botia_lohachata_12_C_L_19_D', '/mnt/d/Flora project/Clips/Dorsal_clips/Frames/Botia_lohachata_12_C_L_1_D', '/mnt/d/Flora project/Clips/Dorsal_clips/Frames/Botia_lohachata_12_C_L_3_D', '/mnt/d/Flora project/Clips/Dorsal_clips/Frames/Botia_lohachata_12_C_L_4_D', '/mnt/d/Flora project/Clips/Dorsal_clips/Frames/Botia_lohachata_12_C_L_5_D', '/mnt/d/Flora project/Clips/Dorsal_clips/Frames/Botia_lohachata_12_C_L_7_D', '/mnt/d/Flora project/Clips/Dorsal_clips/Frames/Botia_lohachata_12_C_R_14_D', '/mnt/d/Flora project/Clips/Dorsal_clips/Frames/Botia_lohachata_12_C_R_16_D', '/mnt/d/Flora project/Clips/Dorsal_clips/Frames/Botia_lohachata_12_C_R_18_D', '/mnt/d/Flora project/Clips/Dorsal_clips/Frames/Botia_lohachata_12_C_R_20_D', '/mnt/d/Flora project/Clips/Dorsal_clips/Frames/Botia_lohachata_12_C_R_22_D', '/mnt/d/Flora project/Clips/Dorsal_clips/Frames/Botia_lohachata_12_C_R_24_D', '/mnt/d/Flora project/Clips/Dorsal_clips/Frames/Botia_lohachata_12_C_R_6_D', '/mnt/d/Flora project/Clips/Dorsal_clips/Frames/Botia_lohachata_12_C_R_8_D', '/mnt/d/Flora project/Clips/Dorsal_clips/Frames/Botia_lohachata_12_C_R_9_D', '/mnt/d/Flora project/Clips/Dorsal_clips/Frames/Botia_lohachata_12_P_L_4_D', '/mnt/d/Flora project/Clips/Dorsal_clips/Frames/Botia_lohachata_12_P_L_6_D', '/mnt/d/Flora project/Clips/Dorsal_clips/Frames/Botia_lohachata_12_P_R_1_D', '/mnt/d/Flora project/Clips/Dorsal_clips/Frames/Botia_lohachata_12_P_R_5_D', '/mnt/d/Flora project/Clips/Dorsal_clips/Frames/Botia_lohachata_13_C_L_2_D', '/mnt/d/Flora project/Clips/Dorsal_clips/Frames/Botia_lohachata_13_C_L_3_D', '/mnt/d/Flora project/Clips/Dorsal_clips/Frames/Botia_lohachata_13_C_L_4_D', '/mnt/d/Flora project/Clips/Dorsal_clips/Frames/Botia_lohachata_13_P_L_1_D', '/mnt/d/Flora project/Clips/Dorsal_clips/Frames/Botia_lohachata_13_P_L_2_D', '/mnt/d/Flora project/Clips/Dorsal_clips/Frames/Botia_lohachata_13_P_R_3_D', '/mnt/d/Flora project/Clips/Dorsal_clips/Frames/Botia_lohachata_14_P_L_2_D', '/mnt/d/Flora project/Clips/Dorsal_clips/Frames/Botia_lohachata_14_P_R_1_D', '/mnt/d/Flora project/Clips/Dorsal_clips/Frames/Botia_lohachata_14_P_R_3_D', '/mnt/d/Flora project/Clips/Dorsal_clips/Frames/Botia_lohachata_15_P_L_2_D', '/mnt/d/Flora project/Clips/Dorsal_clips/Frames/Botia_lohachata_1_C_L_3_D', '/mnt/d/Flora project/Clips/Dorsal_clips/Frames/Botia_lohachata_1_C_R_1_D', '/mnt/d/Flora project/Clips/Dorsal_clips/Frames/Botia_lohachata_1_C_R_2_D', '/mnt/d/Flora project/Clips/Dorsal_clips/Frames/Botia_lohachata_1_P_L_10_D', '/mnt/d/Flora project/Clips/Dorsal_clips/Frames/Botia_lohachata_1_P_L_1_D', '/mnt/d/Flora project/Clips/Dorsal_clips/Frames/Botia_lohachata_1_P_L_4_D', '/mnt/d/Flora project/Clips/Dorsal_clips/Frames/Botia_lohachata_1_P_L_8_D', '/mnt/d/Flora project/Clips/Dorsal_clips/Frames/Botia_lohachata_1_P_L_9_D', '/mnt/d/Flora project/Clips/Dorsal_clips/Frames/Botia_lohachata_1_P_R_2_D', '/mnt/d/Flora project/Clips/Dorsal_clips/Frames/Botia_lohachata_1_P_R_3_D', '/mnt/d/Flora project/Clips/Dorsal_clips/Frames/Botia_lohachata_1_P_R_5_D', '/mnt/d/Flora project/Clips/Dorsal_clips/Frames/Botia_lohachata_1_P_R_6_D', '/mnt/d/Flora project/Clips/Dorsal_clips/Frames/Botia_lohachata_1_P_R_7_D', '/mnt/d/Flora project/Clips/Dorsal_clips/Frames/Botia_lohachata_2_C_L_1_D', '/mnt/d/Flora project/Clips/Dorsal_clips/Frames/Botia_lohachata_2_C_L_3_D', '/mnt/d/Flora project/Clips/Dorsal_clips/Frames/Botia_lohachata_2_C_R_2_D', '/mnt/d/Flora project/Clips/Dorsal_clips/Frames/Botia_lohachata_2_P_L_11_D', '/mnt/d/Flora project/Clips/Dorsal_clips/Frames/Botia_lohachata_2_P_L_13_D', '/mnt/d/Flora project/Clips/Dorsal_clips/Frames/Botia_lohachata_2_P_L_1_D', '/mnt/d/Flora project/Clips/Dorsal_clips/Frames/Botia_lohachata_2_P_L_4_D', '/mnt/d/Flora project/Clips/Dorsal_clips/Frames/Botia_lohachata_2_P_L_6_D', '/mnt/d/Flora project/Clips/Dorsal_clips/Frames/Botia_lohachata_2_P_L_7_D', '/mnt/d/Flora project/Clips/Dorsal_clips/Frames/Botia_lohachata_2_P_L_9_D', '/mnt/d/Flora project/Clips/Dorsal_clips/Frames/Botia_lohachata_2_P_R_10_D', '/mnt/d/Flora project/Clips/Dorsal_clips/Frames/Botia_lohachata_2_P_R_12_D', '/mnt/d/Flora project/Clips/Dorsal_clips/Frames/Botia_lohachata_2_P_R_2_D', '/mnt/d/Flora project/Clips/Dorsal_clips/Frames/Botia_lohachata_2_P_R_3_D', '/mnt/d/Flora project/Clips/Dorsal_clips/Frames/Botia_lohachata_2_P_R_5_D', '/mnt/d/Flora project/Clips/Dorsal_clips/Frames/Botia_lohachata_2_P_R_8_D', '/mnt/d/Flora project/Clips/Dorsal_clips/Frames/Botia_lohachata_3_C_L_1_D', '/mnt/d/Flora project/Clips/Dorsal_clips/Frames/Botia_lohachata_3_C_R_2_D', '/mnt/d/Flora project/Clips/Dorsal_clips/Frames/Botia_lohachata_3_P_L_1_D', '/mnt/d/Flora project/Clips/Dorsal_clips/Frames/Botia_lohachata_3_P_L_4_D', '/mnt/d/Flora project/Clips/Dorsal_clips/Frames/Botia_lohachata_3_P_R_2_D', '/mnt/d/Flora project/Clips/Dorsal_clips/Frames/Botia_lohachata_3_P_R_3_D', '/mnt/d/Flora project/Clips/Dorsal_clips/Frames/Botia_lohachata_3_P_R_5_D', '/mnt/d/Flora project/Clips/Dorsal_clips/Frames/Botia_lohachata_4_C_L_2_D', '/mnt/d/Flora project/Clips/Dorsal_clips/Frames/Botia_lohachata_4_C_R_1_D', '/mnt/d/Flora project/Clips/Dorsal_clips/Frames/Botia_lohachata_4_C_R_3_D', '/mnt/d/Flora project/Clips/Dorsal_clips/Frames/Botia_lohachata_4_P_R_7_D', '/mnt/d/Flora project/Clips/Dorsal_clips/Frames/Botia_lohachata_5_C_L_1_D', '/mnt/d/Flora project/Clips/Dorsal_clips/Frames/Botia_lohachata_5_P_R_1_D', '/mnt/d/Flora project/Clips/Dorsal_clips/Frames/Botia_lohachata_6_P_L_11_D', '/mnt/d/Flora project/Clips/Dorsal_clips/Frames/Botia_lohachata_6_P_L_2_D', '/mnt/d/Flora project/Clips/Dorsal_clips/Frames/Botia_lohachata_6_P_L_3_D', '/mnt/d/Flora project/Clips/Dorsal_clips/Frames/Botia_lohachata_6_P_L_7_D', '/mnt/d/Flora project/Clips/Dorsal_clips/Frames/Botia_lohachata_6_P_R_10_D', '/mnt/d/Flora project/Clips/Dorsal_clips/Frames/Botia_lohachata_7_C_R_1_D', '/mnt/d/Flora project/Clips/Dorsal_clips/Frames/Botia_lohachata_7_C_R_2_D', '/mnt/d/Flora project/Clips/Dorsal_clips/Frames/Botia_lohachata_7_P_L_10_D', '/mnt/d/Flora project/Clips/Dorsal_clips/Frames/Botia_lohachata_7_P_L_11_D', '/mnt/d/Flora project/Clips/Dorsal_clips/Frames/Botia_lohachata_7_P_L_12_D', '/mnt/d/Flora project/Clips/Dorsal_clips/Frames/Botia_lohachata_7_P_L_3_D', '/mnt/d/Flora project/Clips/Dorsal_clips/Frames/Botia_lohachata_7_P_L_5_D', '/mnt/d/Flora project/Clips/Dorsal_clips/Frames/Botia_lohachata_7_P_L_7_D', '/mnt/d/Flora project/Clips/Dorsal_clips/Frames/Botia_lohachata_7_P_L_9_D', '/mnt/d/Flora project/Clips/Dorsal_clips/Frames/Botia_lohachata_7_P_R_1_D', '/mnt/d/Flora project/Clips/Dorsal_clips/Frames/Botia_lohachata_8_C_R_1_D', '/mnt/d/Flora project/Clips/Dorsal_clips/Frames/Botia_lohachata_8_P_L_1_D', '/mnt/d/Flora project/Clips/Dorsal_clips/Frames/Botia_lohachata_8_P_L_5_D', '/mnt/d/Flora project/Clips/Dorsal_clips/Frames/Botia_lohachata_8_P_L_8_D', '/mnt/d/Flora project/Clips/Dorsal_clips/Frames/Botia_lohachata_8_P_R_2_D', '/mnt/d/Flora project/Clips/Dorsal_clips/Frames/Botia_lohachata_8_P_R_6_D', '/mnt/d/Flora project/Clips/Dorsal_clips/Frames/Botia_lohachata_9_P_L_1_D', '/mnt/d/Flora project/Clips/Dorsal_clips/Frames/Yasuhikotakia_modesta_10_P_L_4_D', '/mnt/d/Flora project/Clips/Dorsal_clips/Frames/Yasuhikotakia_modesta_10_P_R_1_D', '/mnt/d/Flora project/Clips/Dorsal_clips/Frames/Yasuhikotakia_modesta_10_P_R_5_D', '/mnt/d/Flora project/Clips/Dorsal_clips/Frames/Yasuhikotakia_modesta_1_C_R_1_D', '/mnt/d/Flora project/Clips/Dorsal_clips/Frames/Yasuhikotakia_modesta_1_C_R_2_D', '/mnt/d/Flora project/Clips/Dorsal_clips/Frames/Yasuhikotakia_modesta_1_P_L_2_D', '/mnt/d/Flora project/Clips/Dorsal_clips/Frames/Yasuhikotakia_modesta_2_C_L_2_D', '/mnt/d/Flora project/Clips/Dorsal_clips/Frames/Yasuhikotakia_modesta_2_C_L_4_D', '/mnt/d/Flora project/Clips/Dorsal_clips/Frames/Yasuhikotakia_modesta_2_C_R_1_D', '/mnt/d/Flora project/Clips/Dorsal_clips/Frames/Yasuhikotakia_modesta_2_C_R_3_D', '/mnt/d/Flora project/Clips/Dorsal_clips/Frames/Yasuhikotakia_modesta_3_C_L_3_D', '/mnt/d/Flora project/Clips/Dorsal_clips/Frames/Yasuhikotakia_modesta_3_C_R_1_D', '/mnt/d/Flora project/Clips/Dorsal_clips/Frames/Yasuhikotakia_modesta_3_C_R_2_D', '/mnt/d/Flora project/Clips/Dorsal_clips/Frames/Yasuhikotakia_modesta_3_C_R_4_D', '/mnt/d/Flora project/Clips/Dorsal_clips/Frames/Yasuhikotakia_modesta_3_P_L_3_D', '/mnt/d/Flora project/Clips/Dorsal_clips/Frames/Yasuhikotakia_modesta_3_P_R_1_D', '/mnt/d/Flora project/Clips/Dorsal_clips/Frames/Yasuhikotakia_modesta_3_P_R_2_D', '/mnt/d/Flora project/Clips/Dorsal_clips/Frames/Yasuhikotakia_modesta_3_P_R_4_D', '/mnt/d/Flora project/Clips/Dorsal_clips/Frames/Yasuhikotakia_modesta_4_C_L_3_D', '/mnt/d/Flora project/Clips/Dorsal_clips/Frames/Yasuhikotakia_modesta_4_C_L_4_D', '/mnt/d/Flora project/Clips/Dorsal_clips/Frames/Yasuhikotakia_modesta_4_C_L_6_D', '/mnt/d/Flora project/Clips/Dorsal_clips/Frames/Yasuhikotakia_modesta_4_C_R_1_D', '/mnt/d/Flora project/Clips/Dorsal_clips/Frames/Yasuhikotakia_modesta_4_C_R_2_D', '/mnt/d/Flora project/Clips/Dorsal_clips/Frames/Yasuhikotakia_modesta_4_C_R_5_D', '/mnt/d/Flora project/Clips/Dorsal_clips/Frames/Yasuhikotakia_modesta_4_P_R_2_D', '/mnt/d/Flora project/Clips/Dorsal_clips/Frames/Yasuhikotakia_modesta_4_P_R_5_D', '/mnt/d/Flora project/Clips/Dorsal_clips/Frames/Yasuhikotakia_modesta_5_C_L_1_D', '/mnt/d/Flora project/Clips/Dorsal_clips/Frames/Yasuhikotakia_modesta_5_C_L_2_D', '/mnt/d/Flora project/Clips/Dorsal_clips/Frames/Yasuhikotakia_modesta_5_C_R_3_D', '/mnt/d/Flora project/Clips/Dorsal_clips/Frames/Yasuhikotakia_modesta_5_P_R_1_D', '/mnt/d/Flora project/Clips/Dorsal_clips/Frames/Yasuhikotakia_modesta_5_P_R_3_D', '/mnt/d/Flora project/Clips/Dorsal_clips/Frames/Yasuhikotakia_modesta_5_P_R_6_D', '/mnt/d/Flora project/Clips/Dorsal_clips/Frames/Yasuhikotakia_modesta_5_P_R_7_D', '/mnt/d/Flora project/Clips/Dorsal_clips/Frames/Yasuhikotakia_modesta_6_C_R_3_D', '/mnt/d/Flora project/Clips/Dorsal_clips/Frames/Yasuhikotakia_modesta_6_P_L_2_D', '/mnt/d/Flora project/Clips/Dorsal_clips/Frames/Yasuhikotakia_modesta_6_P_L_6_D', '/mnt/d/Flora project/Clips/Dorsal_clips/Frames/Yasuhikotakia_modesta_6_P_R_3_D', '/mnt/d/Flora project/Clips/Dorsal_clips/Frames/Yasuhikotakia_modesta_6_P_R_5_D', '/mnt/d/Flora project/Clips/Dorsal_clips/Frames/Yasuhikotakia_modesta_7_C_L_1_D', '/mnt/d/Flora project/Clips/Dorsal_clips/Frames/Yasuhikotakia_modesta_7_P_L_2_D', '/mnt/d/Flora project/Clips/Dorsal_clips/Frames/Yasuhikotakia_modesta_7_P_L_4_D', '/mnt/d/Flora project/Clips/Dorsal_clips/Frames/Yasuhikotakia_modesta_7_P_R_1_D', '/mnt/d/Flora project/Clips/Dorsal_clips/Frames/Yasuhikotakia_modesta_7_P_R_3_D', '/mnt/d/Flora project/Clips/Dorsal_clips/Frames/Yasuhikotakia_modesta_8_C_L_4_D', '/mnt/d/Flora project/Clips/Dorsal_clips/Frames/Yasuhikotakia_modesta_8_C_L_6_D', '/mnt/d/Flora project/Clips/Dorsal_clips/Frames/Yasuhikotakia_modesta_8_C_R_3_D', '/mnt/d/Flora project/Clips/Dorsal_clips/Frames/Yasuhikotakia_modesta_8_P_L_2_D', '/mnt/d/Flora project/Clips/Dorsal_clips/Frames/Yasuhikotakia_modesta_8_P_L_5_D', '/mnt/d/Flora project/Clips/Dorsal_clips/Frames/Yasuhikotakia_modesta_8_P_L_8_D', '/mnt/d/Flora project/Clips/Dorsal_clips/Frames/Yasuhikotakia_modesta_8_P_R_7_D', '/mnt/d/Flora project/Clips/Dorsal_clips/Frames/Yasuhikotakia_modesta_8_P_R_9_D', '/mnt/d/Flora project/Clips/Dorsal_clips/Frames/Yasuhikotakia_modesta_9_P_L_4_D']\n",
      "['/mnt/d/Flora project/Clips/Dorsal_clips/Output/Botia_lohachata_10_C_R_1_D', '/mnt/d/Flora project/Clips/Dorsal_clips/Output/Botia_lohachata_10_C_R_2_D', '/mnt/d/Flora project/Clips/Dorsal_clips/Output/Botia_lohachata_10_C_R_3_D', '/mnt/d/Flora project/Clips/Dorsal_clips/Output/Botia_lohachata_10_P_L_3_D', '/mnt/d/Flora project/Clips/Dorsal_clips/Output/Botia_lohachata_10_P_L_6_D', '/mnt/d/Flora project/Clips/Dorsal_clips/Output/Botia_lohachata_10_P_R_1_D', '/mnt/d/Flora project/Clips/Dorsal_clips/Output/Botia_lohachata_11_C_L_1_D', '/mnt/d/Flora project/Clips/Dorsal_clips/Output/Botia_lohachata_11_C_L_3_D', '/mnt/d/Flora project/Clips/Dorsal_clips/Output/Botia_lohachata_11_C_L_4_D', '/mnt/d/Flora project/Clips/Dorsal_clips/Output/Botia_lohachata_11_C_L_5_D', '/mnt/d/Flora project/Clips/Dorsal_clips/Output/Botia_lohachata_11_C_R_2_D', '/mnt/d/Flora project/Clips/Dorsal_clips/Output/Botia_lohachata_11_P_L_1_D', '/mnt/d/Flora project/Clips/Dorsal_clips/Output/Botia_lohachata_11_P_R_2_D', '/mnt/d/Flora project/Clips/Dorsal_clips/Output/Botia_lohachata_11_P_R_3_D', '/mnt/d/Flora project/Clips/Dorsal_clips/Output/Botia_lohachata_11_P_R_4_D', '/mnt/d/Flora project/Clips/Dorsal_clips/Output/Botia_lohachata_11_P_R_5_D', '/mnt/d/Flora project/Clips/Dorsal_clips/Output/Botia_lohachata_12_C_23_D', '/mnt/d/Flora project/Clips/Dorsal_clips/Output/Botia_lohachata_12_C_L_10_D', '/mnt/d/Flora project/Clips/Dorsal_clips/Output/Botia_lohachata_12_C_L_11_D', '/mnt/d/Flora project/Clips/Dorsal_clips/Output/Botia_lohachata_12_C_L_12_D', '/mnt/d/Flora project/Clips/Dorsal_clips/Output/Botia_lohachata_12_C_L_17_D', '/mnt/d/Flora project/Clips/Dorsal_clips/Output/Botia_lohachata_12_C_L_19_D', '/mnt/d/Flora project/Clips/Dorsal_clips/Output/Botia_lohachata_12_C_L_1_D', '/mnt/d/Flora project/Clips/Dorsal_clips/Output/Botia_lohachata_12_C_L_3_D', '/mnt/d/Flora project/Clips/Dorsal_clips/Output/Botia_lohachata_12_C_L_4_D', '/mnt/d/Flora project/Clips/Dorsal_clips/Output/Botia_lohachata_12_C_L_5_D', '/mnt/d/Flora project/Clips/Dorsal_clips/Output/Botia_lohachata_12_C_L_7_D', '/mnt/d/Flora project/Clips/Dorsal_clips/Output/Botia_lohachata_12_C_R_14_D', '/mnt/d/Flora project/Clips/Dorsal_clips/Output/Botia_lohachata_12_C_R_16_D', '/mnt/d/Flora project/Clips/Dorsal_clips/Output/Botia_lohachata_12_C_R_18_D', '/mnt/d/Flora project/Clips/Dorsal_clips/Output/Botia_lohachata_12_C_R_20_D', '/mnt/d/Flora project/Clips/Dorsal_clips/Output/Botia_lohachata_12_C_R_22_D', '/mnt/d/Flora project/Clips/Dorsal_clips/Output/Botia_lohachata_12_C_R_24_D', '/mnt/d/Flora project/Clips/Dorsal_clips/Output/Botia_lohachata_12_C_R_6_D', '/mnt/d/Flora project/Clips/Dorsal_clips/Output/Botia_lohachata_12_C_R_8_D', '/mnt/d/Flora project/Clips/Dorsal_clips/Output/Botia_lohachata_12_C_R_9_D', '/mnt/d/Flora project/Clips/Dorsal_clips/Output/Botia_lohachata_12_P_L_4_D', '/mnt/d/Flora project/Clips/Dorsal_clips/Output/Botia_lohachata_12_P_L_6_D', '/mnt/d/Flora project/Clips/Dorsal_clips/Output/Botia_lohachata_12_P_R_1_D', '/mnt/d/Flora project/Clips/Dorsal_clips/Output/Botia_lohachata_12_P_R_5_D', '/mnt/d/Flora project/Clips/Dorsal_clips/Output/Botia_lohachata_13_C_L_2_D', '/mnt/d/Flora project/Clips/Dorsal_clips/Output/Botia_lohachata_13_C_L_3_D', '/mnt/d/Flora project/Clips/Dorsal_clips/Output/Botia_lohachata_13_C_L_4_D', '/mnt/d/Flora project/Clips/Dorsal_clips/Output/Botia_lohachata_13_P_L_1_D', '/mnt/d/Flora project/Clips/Dorsal_clips/Output/Botia_lohachata_13_P_L_2_D', '/mnt/d/Flora project/Clips/Dorsal_clips/Output/Botia_lohachata_13_P_R_3_D', '/mnt/d/Flora project/Clips/Dorsal_clips/Output/Botia_lohachata_14_P_L_2_D', '/mnt/d/Flora project/Clips/Dorsal_clips/Output/Botia_lohachata_14_P_R_1_D', '/mnt/d/Flora project/Clips/Dorsal_clips/Output/Botia_lohachata_14_P_R_3_D', '/mnt/d/Flora project/Clips/Dorsal_clips/Output/Botia_lohachata_15_P_L_2_D', '/mnt/d/Flora project/Clips/Dorsal_clips/Output/Botia_lohachata_1_C_L_3_D', '/mnt/d/Flora project/Clips/Dorsal_clips/Output/Botia_lohachata_1_C_R_1_D', '/mnt/d/Flora project/Clips/Dorsal_clips/Output/Botia_lohachata_1_C_R_2_D', '/mnt/d/Flora project/Clips/Dorsal_clips/Output/Botia_lohachata_1_P_L_10_D', '/mnt/d/Flora project/Clips/Dorsal_clips/Output/Botia_lohachata_1_P_L_1_D', '/mnt/d/Flora project/Clips/Dorsal_clips/Output/Botia_lohachata_1_P_L_4_D', '/mnt/d/Flora project/Clips/Dorsal_clips/Output/Botia_lohachata_1_P_L_8_D', '/mnt/d/Flora project/Clips/Dorsal_clips/Output/Botia_lohachata_1_P_L_9_D', '/mnt/d/Flora project/Clips/Dorsal_clips/Output/Botia_lohachata_1_P_R_2_D', '/mnt/d/Flora project/Clips/Dorsal_clips/Output/Botia_lohachata_1_P_R_3_D', '/mnt/d/Flora project/Clips/Dorsal_clips/Output/Botia_lohachata_1_P_R_5_D', '/mnt/d/Flora project/Clips/Dorsal_clips/Output/Botia_lohachata_1_P_R_6_D', '/mnt/d/Flora project/Clips/Dorsal_clips/Output/Botia_lohachata_1_P_R_7_D', '/mnt/d/Flora project/Clips/Dorsal_clips/Output/Botia_lohachata_2_C_L_1_D', '/mnt/d/Flora project/Clips/Dorsal_clips/Output/Botia_lohachata_2_C_L_3_D', '/mnt/d/Flora project/Clips/Dorsal_clips/Output/Botia_lohachata_2_C_R_2_D', '/mnt/d/Flora project/Clips/Dorsal_clips/Output/Botia_lohachata_2_P_L_11_D', '/mnt/d/Flora project/Clips/Dorsal_clips/Output/Botia_lohachata_2_P_L_13_D', '/mnt/d/Flora project/Clips/Dorsal_clips/Output/Botia_lohachata_2_P_L_1_D', '/mnt/d/Flora project/Clips/Dorsal_clips/Output/Botia_lohachata_2_P_L_4_D', '/mnt/d/Flora project/Clips/Dorsal_clips/Output/Botia_lohachata_2_P_L_6_D', '/mnt/d/Flora project/Clips/Dorsal_clips/Output/Botia_lohachata_2_P_L_7_D', '/mnt/d/Flora project/Clips/Dorsal_clips/Output/Botia_lohachata_2_P_L_9_D', '/mnt/d/Flora project/Clips/Dorsal_clips/Output/Botia_lohachata_2_P_R_10_D', '/mnt/d/Flora project/Clips/Dorsal_clips/Output/Botia_lohachata_2_P_R_12_D', '/mnt/d/Flora project/Clips/Dorsal_clips/Output/Botia_lohachata_2_P_R_2_D', '/mnt/d/Flora project/Clips/Dorsal_clips/Output/Botia_lohachata_2_P_R_3_D', '/mnt/d/Flora project/Clips/Dorsal_clips/Output/Botia_lohachata_2_P_R_5_D', '/mnt/d/Flora project/Clips/Dorsal_clips/Output/Botia_lohachata_2_P_R_8_D', '/mnt/d/Flora project/Clips/Dorsal_clips/Output/Botia_lohachata_3_C_L_1_D', '/mnt/d/Flora project/Clips/Dorsal_clips/Output/Botia_lohachata_3_C_R_2_D', '/mnt/d/Flora project/Clips/Dorsal_clips/Output/Botia_lohachata_3_P_L_1_D', '/mnt/d/Flora project/Clips/Dorsal_clips/Output/Botia_lohachata_3_P_L_4_D', '/mnt/d/Flora project/Clips/Dorsal_clips/Output/Botia_lohachata_3_P_R_2_D', '/mnt/d/Flora project/Clips/Dorsal_clips/Output/Botia_lohachata_3_P_R_3_D', '/mnt/d/Flora project/Clips/Dorsal_clips/Output/Botia_lohachata_3_P_R_5_D', '/mnt/d/Flora project/Clips/Dorsal_clips/Output/Botia_lohachata_4_C_L_2_D', '/mnt/d/Flora project/Clips/Dorsal_clips/Output/Botia_lohachata_4_C_R_1_D', '/mnt/d/Flora project/Clips/Dorsal_clips/Output/Botia_lohachata_4_C_R_3_D', '/mnt/d/Flora project/Clips/Dorsal_clips/Output/Botia_lohachata_4_P_R_7_D', '/mnt/d/Flora project/Clips/Dorsal_clips/Output/Botia_lohachata_5_C_L_1_D', '/mnt/d/Flora project/Clips/Dorsal_clips/Output/Botia_lohachata_5_P_R_1_D', '/mnt/d/Flora project/Clips/Dorsal_clips/Output/Botia_lohachata_6_P_L_11_D', '/mnt/d/Flora project/Clips/Dorsal_clips/Output/Botia_lohachata_6_P_L_2_D', '/mnt/d/Flora project/Clips/Dorsal_clips/Output/Botia_lohachata_6_P_L_3_D', '/mnt/d/Flora project/Clips/Dorsal_clips/Output/Botia_lohachata_6_P_L_7_D', '/mnt/d/Flora project/Clips/Dorsal_clips/Output/Botia_lohachata_6_P_R_10_D', '/mnt/d/Flora project/Clips/Dorsal_clips/Output/Botia_lohachata_7_C_R_1_D', '/mnt/d/Flora project/Clips/Dorsal_clips/Output/Botia_lohachata_7_C_R_2_D', '/mnt/d/Flora project/Clips/Dorsal_clips/Output/Botia_lohachata_7_P_L_10_D', '/mnt/d/Flora project/Clips/Dorsal_clips/Output/Botia_lohachata_7_P_L_11_D', '/mnt/d/Flora project/Clips/Dorsal_clips/Output/Botia_lohachata_7_P_L_12_D', '/mnt/d/Flora project/Clips/Dorsal_clips/Output/Botia_lohachata_7_P_L_3_D', '/mnt/d/Flora project/Clips/Dorsal_clips/Output/Botia_lohachata_7_P_L_5_D', '/mnt/d/Flora project/Clips/Dorsal_clips/Output/Botia_lohachata_7_P_L_7_D', '/mnt/d/Flora project/Clips/Dorsal_clips/Output/Botia_lohachata_7_P_L_9_D', '/mnt/d/Flora project/Clips/Dorsal_clips/Output/Botia_lohachata_7_P_R_1_D', '/mnt/d/Flora project/Clips/Dorsal_clips/Output/Botia_lohachata_8_C_R_1_D', '/mnt/d/Flora project/Clips/Dorsal_clips/Output/Botia_lohachata_8_P_L_1_D', '/mnt/d/Flora project/Clips/Dorsal_clips/Output/Botia_lohachata_8_P_L_5_D', '/mnt/d/Flora project/Clips/Dorsal_clips/Output/Botia_lohachata_8_P_L_8_D', '/mnt/d/Flora project/Clips/Dorsal_clips/Output/Botia_lohachata_8_P_R_2_D', '/mnt/d/Flora project/Clips/Dorsal_clips/Output/Botia_lohachata_8_P_R_6_D', '/mnt/d/Flora project/Clips/Dorsal_clips/Output/Botia_lohachata_9_P_L_1_D', '/mnt/d/Flora project/Clips/Dorsal_clips/Output/Yasuhikotakia_modesta_10_P_L_4_D', '/mnt/d/Flora project/Clips/Dorsal_clips/Output/Yasuhikotakia_modesta_10_P_R_1_D', '/mnt/d/Flora project/Clips/Dorsal_clips/Output/Yasuhikotakia_modesta_10_P_R_5_D', '/mnt/d/Flora project/Clips/Dorsal_clips/Output/Yasuhikotakia_modesta_1_C_R_1_D', '/mnt/d/Flora project/Clips/Dorsal_clips/Output/Yasuhikotakia_modesta_1_C_R_2_D', '/mnt/d/Flora project/Clips/Dorsal_clips/Output/Yasuhikotakia_modesta_1_P_L_2_D', '/mnt/d/Flora project/Clips/Dorsal_clips/Output/Yasuhikotakia_modesta_2_C_L_2_D', '/mnt/d/Flora project/Clips/Dorsal_clips/Output/Yasuhikotakia_modesta_2_C_L_4_D', '/mnt/d/Flora project/Clips/Dorsal_clips/Output/Yasuhikotakia_modesta_2_C_R_1_D', '/mnt/d/Flora project/Clips/Dorsal_clips/Output/Yasuhikotakia_modesta_2_C_R_3_D', '/mnt/d/Flora project/Clips/Dorsal_clips/Output/Yasuhikotakia_modesta_3_C_L_3_D', '/mnt/d/Flora project/Clips/Dorsal_clips/Output/Yasuhikotakia_modesta_3_C_R_1_D', '/mnt/d/Flora project/Clips/Dorsal_clips/Output/Yasuhikotakia_modesta_3_C_R_2_D', '/mnt/d/Flora project/Clips/Dorsal_clips/Output/Yasuhikotakia_modesta_3_C_R_4_D', '/mnt/d/Flora project/Clips/Dorsal_clips/Output/Yasuhikotakia_modesta_3_P_L_3_D', '/mnt/d/Flora project/Clips/Dorsal_clips/Output/Yasuhikotakia_modesta_3_P_R_1_D', '/mnt/d/Flora project/Clips/Dorsal_clips/Output/Yasuhikotakia_modesta_3_P_R_2_D', '/mnt/d/Flora project/Clips/Dorsal_clips/Output/Yasuhikotakia_modesta_3_P_R_4_D', '/mnt/d/Flora project/Clips/Dorsal_clips/Output/Yasuhikotakia_modesta_4_C_L_3_D', '/mnt/d/Flora project/Clips/Dorsal_clips/Output/Yasuhikotakia_modesta_4_C_L_4_D', '/mnt/d/Flora project/Clips/Dorsal_clips/Output/Yasuhikotakia_modesta_4_C_L_6_D', '/mnt/d/Flora project/Clips/Dorsal_clips/Output/Yasuhikotakia_modesta_4_C_R_1_D', '/mnt/d/Flora project/Clips/Dorsal_clips/Output/Yasuhikotakia_modesta_4_C_R_2_D', '/mnt/d/Flora project/Clips/Dorsal_clips/Output/Yasuhikotakia_modesta_4_C_R_5_D', '/mnt/d/Flora project/Clips/Dorsal_clips/Output/Yasuhikotakia_modesta_4_P_R_2_D', '/mnt/d/Flora project/Clips/Dorsal_clips/Output/Yasuhikotakia_modesta_4_P_R_5_D', '/mnt/d/Flora project/Clips/Dorsal_clips/Output/Yasuhikotakia_modesta_5_C_L_1_D', '/mnt/d/Flora project/Clips/Dorsal_clips/Output/Yasuhikotakia_modesta_5_C_L_2_D', '/mnt/d/Flora project/Clips/Dorsal_clips/Output/Yasuhikotakia_modesta_5_C_R_3_D', '/mnt/d/Flora project/Clips/Dorsal_clips/Output/Yasuhikotakia_modesta_5_P_R_1_D', '/mnt/d/Flora project/Clips/Dorsal_clips/Output/Yasuhikotakia_modesta_5_P_R_3_D', '/mnt/d/Flora project/Clips/Dorsal_clips/Output/Yasuhikotakia_modesta_5_P_R_6_D', '/mnt/d/Flora project/Clips/Dorsal_clips/Output/Yasuhikotakia_modesta_5_P_R_7_D', '/mnt/d/Flora project/Clips/Dorsal_clips/Output/Yasuhikotakia_modesta_6_C_R_3_D', '/mnt/d/Flora project/Clips/Dorsal_clips/Output/Yasuhikotakia_modesta_6_P_L_2_D', '/mnt/d/Flora project/Clips/Dorsal_clips/Output/Yasuhikotakia_modesta_6_P_L_6_D', '/mnt/d/Flora project/Clips/Dorsal_clips/Output/Yasuhikotakia_modesta_6_P_R_3_D', '/mnt/d/Flora project/Clips/Dorsal_clips/Output/Yasuhikotakia_modesta_6_P_R_5_D', '/mnt/d/Flora project/Clips/Dorsal_clips/Output/Yasuhikotakia_modesta_7_C_L_1_D', '/mnt/d/Flora project/Clips/Dorsal_clips/Output/Yasuhikotakia_modesta_7_P_L_2_D', '/mnt/d/Flora project/Clips/Dorsal_clips/Output/Yasuhikotakia_modesta_7_P_L_4_D', '/mnt/d/Flora project/Clips/Dorsal_clips/Output/Yasuhikotakia_modesta_7_P_R_1_D', '/mnt/d/Flora project/Clips/Dorsal_clips/Output/Yasuhikotakia_modesta_7_P_R_3_D', '/mnt/d/Flora project/Clips/Dorsal_clips/Output/Yasuhikotakia_modesta_8_C_L_4_D', '/mnt/d/Flora project/Clips/Dorsal_clips/Output/Yasuhikotakia_modesta_8_C_L_6_D', '/mnt/d/Flora project/Clips/Dorsal_clips/Output/Yasuhikotakia_modesta_8_C_R_3_D', '/mnt/d/Flora project/Clips/Dorsal_clips/Output/Yasuhikotakia_modesta_8_P_L_2_D', '/mnt/d/Flora project/Clips/Dorsal_clips/Output/Yasuhikotakia_modesta_8_P_L_5_D', '/mnt/d/Flora project/Clips/Dorsal_clips/Output/Yasuhikotakia_modesta_8_P_L_8_D', '/mnt/d/Flora project/Clips/Dorsal_clips/Output/Yasuhikotakia_modesta_8_P_R_7_D', '/mnt/d/Flora project/Clips/Dorsal_clips/Output/Yasuhikotakia_modesta_8_P_R_9_D', '/mnt/d/Flora project/Clips/Dorsal_clips/Output/Yasuhikotakia_modesta_9_P_L_4_D']\n",
      "[['00001', '00002', '00003', '00004', '00005', '00006', '00007', '00008', '00009', '00010', '00011', '00012', '00013', '00014', '00015', '00016', '00017', '00018', '00019', '00020', '00021', '00022', '00023', '00024', '00025', '00026', '00027', '00028', '00029', '00030', '00031', '00032', '00033', '00034', '00035', '00036', '00037', '00038', '00039', '00040', '00041', '00042', '00043', '00044', '00045', '00046', '00047', '00048', '00049', '00050', '00051', '00052', '00053', '00054', '00055', '00056', '00057', '00058', '00059', '00060', '00061', '00062', '00063', '00064', '00065', '00066', '00067', '00068', '00069', '00070', '00071', '00072', '00073', '00074', '00075', '00076', '00077', '00078', '00079', '00080', '00081', '00082', '00083', '00084', '00085', '00086', '00087', '00088', '00089', '00090', '00091', '00092', '00093', '00094', '00095', '00096', '00097', '00098', '00099', '00100', '00101', '00102', '00103', '00104', '00105', '00106', '00107', '00108', '00109', '00110', '00111', '00112', '00113', '00114', '00115', '00116', '00117', '00118', '00119', '00120', '00121', '00122', '00123', '00124', '00125', '00126', '00127', '00128', '00129', '00130', '00131', '00132', '00133', '00134', '00135', '00136', '00137', '00138', '00139', '00140', '00141', '00142', '00143', '00144', '00145', '00146', '00147', '00148', '00149', '00150', '00151', '00152', '00153', '00154', '00155', '00156', '00157', '00158', '00159', '00160', '00161', '00162', '00163', '00164', '00165', '00166', '00167', '00168', '00169', '00170', '00171', '00172', '00173', '00174', '00175', '00176', '00177', '00178', '00179', '00180', '00181', '00182', '00183', '00184', '00185', '00186', '00187', '00188', '00189', '00190', '00191', '00192', '00193', '00194', '00195', '00196', '00197', '00198', '00199', '00200', '00201', '00202', '00203', '00204', '00205', '00206', '00207', '00208', '00209', '00210', '00211', '00212', '00213', '00214'], ['00001', '00002', '00003', '00004', '00005', '00006', '00007', '00008', '00009', '00010', '00011', '00012', '00013', '00014', '00015', '00016', '00017', '00018', '00019', '00020', '00021', '00022', '00023', '00024', '00025', '00026', '00027', '00028', '00029', '00030', '00031', '00032', '00033', '00034', '00035', '00036', '00037', '00038', '00039', '00040', '00041', '00042', '00043', '00044', '00045', '00046', '00047', '00048', '00049', '00050', '00051', '00052', '00053', '00054', '00055', '00056', '00057', '00058', '00059', '00060', '00061', '00062', '00063', '00064', '00065', '00066', '00067', '00068', '00069', '00070', '00071', '00072', '00073', '00074', '00075', '00076', '00077', '00078', '00079', '00080', '00081', '00082', '00083', '00084', '00085', '00086', '00087', '00088', '00089', '00090', '00091', '00092', '00093', '00094', '00095', '00096', '00097', '00098', '00099', '00100', '00101', '00102', '00103', '00104', '00105', '00106', '00107', '00108', '00109', '00110', '00111', '00112', '00113', '00114', '00115', '00116', '00117', '00118', '00119', '00120', '00121', '00122', '00123', '00124', '00125', '00126', '00127', '00128', '00129', '00130', '00131', '00132', '00133', '00134', '00135', '00136', '00137', '00138', '00139', '00140', '00141', '00142', '00143', '00144', '00145', '00146', '00147', '00148', '00149', '00150', '00151', '00152', '00153', '00154', '00155', '00156', '00157', '00158', '00159', '00160', '00161', '00162', '00163', '00164', '00165', '00166', '00167', '00168', '00169', '00170', '00171', '00172', '00173', '00174', '00175', '00176', '00177'], ['00001', '00002', '00003', '00004', '00005', '00006', '00007', '00008', '00009', '00010', '00011', '00012', '00013', '00014', '00015', '00016', '00017', '00018', '00019', '00020', '00021', '00022', '00023', '00024', '00025', '00026', '00027', '00028', '00029', '00030', '00031', '00032', '00033', '00034', '00035', '00036', '00037', '00038', '00039', '00040', '00041', '00042', '00043', '00044', '00045', '00046', '00047', '00048', '00049', '00050', '00051', '00052', '00053', '00054', '00055', '00056', '00057', '00058', '00059', '00060', '00061', '00062', '00063', '00064', '00065', '00066', '00067', '00068', '00069', '00070', '00071', '00072', '00073', '00074', '00075', '00076', '00077', '00078', '00079', '00080', '00081', '00082', '00083', '00084', '00085', '00086', '00087', '00088', '00089', '00090', '00091', '00092', '00093', '00094', '00095', '00096', '00097', '00098', '00099', '00100', '00101', '00102', '00103', '00104', '00105', '00106', '00107', '00108', '00109', '00110', '00111', '00112', '00113', '00114', '00115', '00116', '00117', '00118', '00119', '00120', '00121', '00122', '00123', '00124', '00125', '00126', '00127', '00128', '00129', '00130', '00131', '00132', '00133', '00134', '00135', '00136', '00137', '00138', '00139', '00140', '00141', '00142', '00143', '00144', '00145', '00146', '00147', '00148', '00149', '00150', '00151', '00152', '00153', '00154', '00155', '00156', '00157', '00158', '00159', '00160', '00161', '00162', '00163', '00164', '00165', '00166', '00167', '00168', '00169', '00170', '00171', '00172', '00173', '00174', '00175', '00176', '00177', '00178', '00179', '00180', '00181', '00182', '00183', '00184', '00185', '00186', '00187', '00188', '00189', '00190', '00191', '00192', '00193', '00194'], ['00001', '00002', '00003', '00004', '00005', '00006', '00007', '00008', '00009', '00010', '00011', '00012', '00013', '00014', '00015', '00016', '00017', '00018', '00019', '00020', '00021', '00022', '00023', '00024', '00025', '00026', '00027', '00028', '00029', '00030', '00031', '00032', '00033', '00034', '00035', '00036', '00037', '00038', '00039', '00040', '00041', '00042', '00043', '00044', '00045', '00046', '00047', '00048', '00049', '00050', '00051', '00052', '00053', '00054', '00055', '00056', '00057', '00058', '00059', '00060', '00061', '00062', '00063', '00064', '00065', '00066', '00067', '00068', '00069', '00070', '00071', '00072', '00073', '00074', '00075', '00076', '00077', '00078', '00079', '00080', '00081', '00082', '00083', '00084', '00085', '00086', '00087', '00088', '00089', '00090', '00091', '00092', '00093', '00094', '00095', '00096', '00097', '00098', '00099', '00100', '00101', '00102', '00103', '00104', '00105', '00106', '00107', '00108', '00109', '00110', '00111', '00112', '00113', '00114'], ['00001', '00002', '00003', '00004', '00005', '00006', '00007', '00008', '00009', '00010', '00011', '00012', '00013', '00014', '00015', '00016', '00017', '00018', '00019', '00020', '00021', '00022', '00023', '00024', '00025', '00026', '00027', '00028', '00029', '00030', '00031', '00032', '00033', '00034', '00035', '00036', '00037', '00038', '00039', '00040', '00041', '00042', '00043', '00044', '00045', '00046', '00047', '00048', '00049', '00050', '00051', '00052', '00053', '00054', '00055', '00056', '00057', '00058', '00059', '00060', '00061', '00062', '00063', '00064', '00065', '00066', '00067', '00068', '00069', '00070', '00071', '00072', '00073', '00074', '00075', '00076', '00077', '00078', '00079', '00080', '00081', '00082', '00083', '00084', '00085', '00086', '00087', '00088', '00089', '00090', '00091', '00092', '00093', '00094', '00095', '00096', '00097', '00098', '00099', '00100', '00101', '00102', '00103', '00104', '00105', '00106', '00107', '00108', '00109', '00110', '00111', '00112', '00113', '00114', '00115', '00116', '00117', '00118', '00119', '00120', '00121', '00122', '00123', '00124', '00125', '00126', '00127', '00128', '00129', '00130', '00131', '00132', '00133', '00134', '00135', '00136', '00137', '00138', '00139', '00140', '00141'], ['00001', '00002', '00003', '00004', '00005', '00006', '00007', '00008', '00009', '00010', '00011', '00012', '00013', '00014', '00015', '00016', '00017', '00018', '00019', '00020', '00021', '00022', '00023', '00024', '00025', '00026', '00027', '00028', '00029', '00030', '00031', '00032', '00033', '00034', '00035', '00036', '00037', '00038', '00039', '00040', '00041', '00042', '00043', '00044', '00045', '00046', '00047', '00048', '00049', '00050', '00051', '00052', '00053', '00054', '00055', '00056', '00057', '00058', '00059', '00060', '00061', '00062', '00063', '00064', '00065', '00066', '00067', '00068', '00069', '00070', '00071', '00072', '00073', '00074', '00075', '00076', '00077', '00078', '00079', '00080', '00081', '00082', '00083', '00084', '00085', '00086', '00087', '00088', '00089', '00090', '00091', '00092', '00093', '00094', '00095', '00096', '00097', '00098', '00099', '00100', '00101', '00102', '00103', '00104', '00105', '00106', '00107', '00108', '00109', '00110', '00111', '00112', '00113', '00114', '00115', '00116', '00117', '00118', '00119', '00120', '00121', '00122', '00123', '00124', '00125', '00126', '00127', '00128', '00129', '00130', '00131', '00132', '00133', '00134', '00135', '00136', '00137', '00138'], ['00001', '00002', '00003', '00004', '00005', '00006', '00007', '00008', '00009', '00010', '00011', '00012', '00013', '00014', '00015', '00016', '00017', '00018', '00019', '00020', '00021', '00022', '00023', '00024', '00025', '00026', '00027', '00028', '00029', '00030', '00031', '00032', '00033', '00034', '00035', '00036', '00037', '00038', '00039', '00040', '00041', '00042', '00043', '00044', '00045', '00046', '00047', '00048', '00049', '00050', '00051', '00052', '00053', '00054', '00055', '00056', '00057', '00058', '00059', '00060', '00061', '00062', '00063', '00064', '00065', '00066'], ['00001', '00002', '00003', '00004', '00005', '00006', '00007', '00008', '00009', '00010', '00011', '00012', '00013', '00014', '00015', '00016', '00017', '00018', '00019', '00020', '00021', '00022', '00023', '00024', '00025', '00026', '00027'], ['00001', '00002', '00003', '00004', '00005', '00006', '00007', '00008', '00009', '00010', '00011', '00012', '00013', '00014', '00015', '00016', '00017', '00018', '00019', '00020', '00021', '00022', '00023', '00024', '00025', '00026', '00027', '00028', '00029', '00030', '00031', '00032', '00033', '00034', '00035', '00036', '00037', '00038', '00039', '00040', '00041', '00042', '00043', '00044', '00045', '00046', '00047', '00048', '00049', '00050', '00051', '00052', '00053', '00054', '00055', '00056', '00057', '00058', '00059', '00060', '00061', '00062', '00063', '00064', '00065', '00066', '00067', '00068', '00069', '00070', '00071', '00072', '00073', '00074', '00075', '00076', '00077', '00078', '00079', '00080', '00081', '00082', '00083'], ['00001', '00002', '00003', '00004', '00005', '00006', '00007', '00008', '00009', '00010', '00011', '00012', '00013', '00014', '00015', '00016', '00017', '00018', '00019', '00020', '00021', '00022', '00023', '00024', '00025', '00026', '00027', '00028', '00029', '00030', '00031', '00032', '00033', '00034', '00035', '00036', '00037', '00038', '00039'], ['00001', '00002', '00003', '00004', '00005', '00006', '00007', '00008', '00009', '00010', '00011', '00012', '00013', '00014', '00015', '00016', '00017', '00018', '00019', '00020', '00021', '00022', '00023', '00024', '00025', '00026', '00027', '00028', '00029', '00030', '00031', '00032', '00033', '00034', '00035', '00036', '00037', '00038', '00039'], ['00001', '00002', '00003', '00004', '00005', '00006', '00007', '00008', '00009', '00010', '00011', '00012', '00013', '00014', '00015', '00016', '00017', '00018', '00019', '00020', '00021', '00022', '00023', '00024', '00025', '00026', '00027', '00028', '00029', '00030', '00031', '00032', '00033', '00034', '00035', '00036', '00037', '00038', '00039', '00040', '00041', '00042', '00043', '00044', '00045', '00046', '00047', '00048', '00049', '00050', '00051', '00052', '00053', '00054', '00055', '00056', '00057', '00058', '00059', '00060', '00061', '00062', '00063', '00064', '00065', '00066', '00067', '00068', '00069', '00070', '00071', '00072', '00073', '00074', '00075', '00076', '00077', '00078', '00079', '00080', '00081', '00082', '00083', '00084', '00085', '00086', '00087', '00088', '00089', '00090', '00091', '00092', '00093', '00094', '00095', '00096', '00097', '00098', '00099', '00100', '00101', '00102', '00103', '00104', '00105', '00106', '00107', '00108', '00109', '00110', '00111', '00112', '00113', '00114', '00115', '00116', '00117', '00118', '00119', '00120', '00121', '00122', '00123', '00124', '00125', '00126', '00127', '00128', '00129', '00130', '00131', '00132', '00133', '00134', '00135', '00136', '00137', '00138', '00139', '00140', '00141', '00142', '00143', '00144', '00145', '00146', '00147', '00148', '00149'], ['00001', '00002', '00003', '00004', '00005', '00006', '00007', '00008', '00009', '00010', '00011', '00012', '00013', '00014', '00015', '00016', '00017', '00018', '00019', '00020', '00021', '00022', '00023', '00024', '00025', '00026', '00027', '00028', '00029', '00030', '00031', '00032', '00033', '00034', '00035', '00036', '00037', '00038', '00039', '00040', '00041', '00042', '00043', '00044', '00045', '00046', '00047', '00048', '00049', '00050', '00051', '00052', '00053', '00054', '00055', '00056', '00057', '00058', '00059', '00060', '00061', '00062', '00063', '00064', '00065', '00066', '00067', '00068', '00069', '00070', '00071', '00072', '00073', '00074', '00075', '00076', '00077', '00078', '00079', '00080', '00081', '00082', '00083', '00084', '00085', '00086', '00087', '00088', '00089', '00090', '00091', '00092', '00093', '00094', '00095', '00096', '00097', '00098', '00099', '00100', '00101', '00102', '00103', '00104', '00105', '00106', '00107', '00108', '00109'], ['00001', '00002', '00003', '00004', '00005', '00006', '00007', '00008', '00009', '00010', '00011', '00012', '00013', '00014', '00015', '00016', '00017', '00018', '00019', '00020', '00021', '00022', '00023', '00024', '00025', '00026', '00027', '00028', '00029', '00030', '00031', '00032', '00033', '00034', '00035', '00036', '00037', '00038', '00039', '00040', '00041', '00042', '00043', '00044', '00045', '00046', '00047', '00048', '00049', '00050', '00051', '00052', '00053', '00054', '00055', '00056', '00057', '00058', '00059', '00060', '00061', '00062', '00063', '00064', '00065', '00066', '00067', '00068', '00069', '00070', '00071', '00072', '00073', '00074', '00075', '00076', '00077', '00078', '00079', '00080', '00081', '00082', '00083', '00084', '00085', '00086', '00087', '00088', '00089', '00090', '00091', '00092', '00093', '00094', '00095', '00096', '00097', '00098', '00099', '00100', '00101', '00102', '00103', '00104', '00105', '00106', '00107', '00108', '00109', '00110', '00111', '00112', '00113', '00114', '00115', '00116', '00117', '00118', '00119', '00120', '00121', '00122', '00123', '00124', '00125', '00126', '00127', '00128', '00129', '00130', '00131', '00132', '00133'], ['00001', '00002', '00003', '00004', '00005', '00006', '00007', '00008', '00009', '00010', '00011', '00012', '00013', '00014', '00015', '00016', '00017', '00018', '00019', '00020', '00021', '00022', '00023', '00024', '00025', '00026', '00027', '00028', '00029', '00030', '00031', '00032', '00033', '00034', '00035', '00036', '00037', '00038', '00039', '00040', '00041', '00042', '00043', '00044', '00045', '00046', '00047', '00048', '00049', '00050', '00051', '00052', '00053', '00054', '00055', '00056', '00057', '00058', '00059', '00060', '00061', '00062', '00063', '00064', '00065', '00066', '00067', '00068', '00069', '00070', '00071', '00072', '00073', '00074', '00075', '00076', '00077', '00078', '00079', '00080', '00081', '00082', '00083', '00084', '00085', '00086', '00087', '00088', '00089', '00090', '00091', '00092', '00093', '00094', '00095', '00096', '00097', '00098', '00099', '00100', '00101', '00102', '00103', '00104', '00105', '00106', '00107', '00108', '00109', '00110', '00111', '00112', '00113', '00114', '00115', '00116', '00117', '00118', '00119', '00120', '00121', '00122', '00123', '00124', '00125', '00126', '00127', '00128', '00129', '00130', '00131', '00132', '00133', '00134', '00135', '00136', '00137', '00138', '00139', '00140', '00141', '00142', '00143', '00144', '00145', '00146', '00147', '00148', '00149', '00150', '00151', '00152', '00153', '00154', '00155', '00156', '00157', '00158', '00159', '00160', '00161'], ['00001', '00002', '00003', '00004', '00005', '00006', '00007', '00008', '00009', '00010', '00011', '00012', '00013', '00014', '00015', '00016', '00017', '00018', '00019', '00020', '00021', '00022', '00023', '00024', '00025', '00026', '00027', '00028', '00029', '00030', '00031', '00032', '00033', '00034', '00035', '00036', '00037', '00038', '00039', '00040', '00041', '00042', '00043', '00044', '00045', '00046', '00047', '00048', '00049', '00050', '00051', '00052', '00053', '00054', '00055', '00056', '00057', '00058', '00059', '00060', '00061', '00062', '00063', '00064', '00065', '00066', '00067', '00068', '00069', '00070', '00071', '00072', '00073', '00074', '00075', '00076', '00077', '00078', '00079', '00080', '00081', '00082', '00083', '00084', '00085', '00086', '00087', '00088', '00089', '00090', '00091', '00092', '00093', '00094', '00095', '00096', '00097', '00098', '00099', '00100', '00101', '00102', '00103', '00104', '00105', '00106', '00107', '00108', '00109', '00110'], ['00001', '00002', '00003', '00004', '00005', '00006', '00007', '00008', '00009', '00010', '00011', '00012', '00013', '00014', '00015', '00016', '00017', '00018', '00019', '00020', '00021', '00022', '00023', '00024', '00025', '00026', '00027', '00028', '00029', '00030', '00031', '00032', '00033', '00034', '00035', '00036', '00037', '00038', '00039', '00040', '00041', '00042', '00043', '00044', '00045', '00046', '00047', '00048', '00049', '00050', '00051', '00052', '00053', '00054', '00055', '00056', '00057', '00058', '00059', '00060', '00061', '00062', '00063', '00064', '00065', '00066', '00067', '00068', '00069', '00070', '00071', '00072', '00073', '00074', '00075', '00076', '00077', '00078', '00079', '00080', '00081', '00082', '00083', '00084', '00085', '00086', '00087', '00088', '00089', '00090', '00091', '00092', '00093', '00094', '00095', '00096', '00097', '00098', '00099', '00100', '00101'], ['00001', '00002', '00003', '00004', '00005', '00006', '00007', '00008', '00009', '00010', '00011', '00012', '00013', '00014', '00015', '00016', '00017', '00018', '00019', '00020', '00021', '00022', '00023', '00024', '00025', '00026', '00027', '00028', '00029', '00030', '00031', '00032', '00033', '00034', '00035', '00036', '00037', '00038', '00039', '00040', '00041', '00042', '00043', '00044', '00045', '00046', '00047', '00048', '00049', '00050', '00051', '00052', '00053', '00054', '00055', '00056', '00057', '00058', '00059', '00060', '00061', '00062', '00063', '00064', '00065', '00066', '00067', '00068', '00069', '00070', '00071', '00072', '00073', '00074', '00075', '00076', '00077', '00078', '00079', '00080', '00081', '00082', '00083', '00084', '00085', '00086', '00087', '00088', '00089', '00090', '00091', '00092', '00093', '00094', '00095', '00096', '00097', '00098', '00099', '00100', '00101', '00102', '00103', '00104', '00105', '00106', '00107', '00108', '00109', '00110', '00111', '00112', '00113', '00114', '00115', '00116', '00117', '00118', '00119', '00120', '00121', '00122', '00123', '00124', '00125', '00126', '00127', '00128', '00129', '00130'], ['00001', '00002', '00003', '00004', '00005', '00006', '00007', '00008', '00009', '00010', '00011', '00012', '00013', '00014', '00015', '00016', '00017', '00018', '00019', '00020', '00021', '00022', '00023', '00024', '00025', '00026', '00027', '00028', '00029', '00030', '00031', '00032', '00033', '00034', '00035', '00036', '00037', '00038', '00039', '00040', '00041', '00042', '00043', '00044', '00045', '00046', '00047', '00048', '00049', '00050', '00051', '00052', '00053', '00054', '00055', '00056', '00057', '00058', '00059', '00060', '00061', '00062', '00063', '00064', '00065', '00066', '00067', '00068', '00069', '00070', '00071', '00072', '00073', '00074', '00075', '00076', '00077', '00078', '00079', '00080', '00081', '00082', '00083', '00084', '00085', '00086', '00087', '00088', '00089', '00090', '00091', '00092', '00093', '00094', '00095', '00096', '00097', '00098', '00099', '00100', '00101', '00102', '00103', '00104', '00105', '00106', '00107', '00108', '00109', '00110', '00111', '00112', '00113', '00114', '00115', '00116', '00117', '00118', '00119', '00120', '00121', '00122', '00123', '00124', '00125', '00126', '00127', '00128', '00129', '00130', '00131', '00132', '00133', '00134', '00135', '00136', '00137', '00138', '00139', '00140', '00141', '00142', '00143', '00144', '00145', '00146', '00147', '00148', '00149', '00150', '00151', '00152', '00153'], ['00001', '00002', '00003', '00004', '00005', '00006', '00007', '00008', '00009', '00010', '00011', '00012', '00013', '00014', '00015', '00016', '00017', '00018', '00019', '00020', '00021', '00022', '00023', '00024', '00025', '00026', '00027', '00028', '00029', '00030', '00031', '00032', '00033', '00034', '00035', '00036', '00037', '00038', '00039', '00040', '00041', '00042', '00043', '00044', '00045', '00046', '00047', '00048', '00049', '00050', '00051', '00052', '00053', '00054', '00055', '00056', '00057', '00058', '00059', '00060', '00061', '00062', '00063', '00064', '00065', '00066', '00067', '00068', '00069', '00070', '00071', '00072', '00073', '00074', '00075', '00076', '00077', '00078', '00079', '00080', '00081', '00082', '00083', '00084', '00085', '00086', '00087', '00088', '00089', '00090', '00091', '00092', '00093', '00094', '00095', '00096', '00097', '00098', '00099', '00100', '00101', '00102', '00103', '00104', '00105', '00106', '00107', '00108', '00109', '00110', '00111', '00112', '00113', '00114', '00115', '00116', '00117', '00118', '00119', '00120', '00121', '00122', '00123', '00124', '00125', '00126'], ['00001', '00002', '00003', '00004', '00005', '00006', '00007', '00008', '00009', '00010', '00011', '00012', '00013', '00014', '00015', '00016', '00017', '00018', '00019', '00020', '00021', '00022', '00023', '00024', '00025', '00026', '00027', '00028', '00029', '00030', '00031', '00032', '00033', '00034', '00035', '00036', '00037', '00038', '00039', '00040', '00041', '00042', '00043', '00044', '00045', '00046', '00047', '00048', '00049', '00050', '00051', '00052', '00053', '00054', '00055', '00056', '00057', '00058', '00059', '00060', '00061', '00062', '00063', '00064', '00065', '00066', '00067', '00068', '00069', '00070', '00071', '00072', '00073', '00074', '00075', '00076', '00077', '00078', '00079', '00080', '00081', '00082', '00083', '00084', '00085', '00086', '00087', '00088', '00089', '00090', '00091', '00092', '00093', '00094', '00095', '00096', '00097', '00098', '00099', '00100', '00101', '00102', '00103', '00104', '00105', '00106', '00107', '00108', '00109', '00110', '00111', '00112', '00113', '00114', '00115', '00116', '00117', '00118', '00119', '00120', '00121', '00122', '00123', '00124', '00125', '00126', '00127', '00128', '00129', '00130', '00131', '00132', '00133', '00134', '00135', '00136', '00137', '00138', '00139', '00140', '00141', '00142', '00143', '00144', '00145', '00146', '00147', '00148', '00149', '00150', '00151', '00152', '00153', '00154', '00155', '00156', '00157', '00158', '00159', '00160', '00161', '00162', '00163', '00164', '00165', '00166', '00167', '00168', '00169', '00170', '00171', '00172', '00173', '00174', '00175', '00176', '00177', '00178', '00179', '00180', '00181', '00182', '00183', '00184', '00185', '00186', '00187', '00188', '00189', '00190', '00191', '00192', '00193', '00194', '00195', '00196', '00197', '00198', '00199', '00200', '00201', '00202', '00203', '00204', '00205', '00206', '00207', '00208', '00209', '00210', '00211', '00212', '00213', '00214', '00215', '00216', '00217', '00218', '00219', '00220', '00221', '00222', '00223', '00224', '00225', '00226', '00227', '00228', '00229', '00230', '00231', '00232', '00233', '00234', '00235', '00236', '00237', '00238', '00239', '00240', '00241'], ['00001', '00002', '00003', '00004', '00005', '00006', '00007', '00008', '00009', '00010', '00011', '00012', '00013', '00014', '00015', '00016', '00017', '00018', '00019', '00020', '00021', '00022', '00023', '00024', '00025', '00026', '00027', '00028', '00029', '00030', '00031', '00032', '00033', '00034', '00035', '00036', '00037', '00038', '00039', '00040', '00041', '00042', '00043', '00044', '00045', '00046', '00047', '00048', '00049', '00050', '00051', '00052', '00053', '00054', '00055', '00056', '00057', '00058', '00059', '00060', '00061', '00062', '00063', '00064', '00065', '00066', '00067', '00068', '00069', '00070', '00071', '00072', '00073', '00074', '00075', '00076', '00077', '00078', '00079', '00080', '00081', '00082', '00083', '00084', '00085', '00086', '00087', '00088', '00089', '00090', '00091', '00092', '00093', '00094', '00095', '00096', '00097', '00098', '00099', '00100', '00101', '00102', '00103', '00104', '00105', '00106', '00107', '00108', '00109', '00110', '00111', '00112', '00113', '00114', '00115', '00116', '00117', '00118', '00119', '00120', '00121', '00122', '00123', '00124', '00125', '00126', '00127', '00128', '00129', '00130', '00131'], ['00001', '00002', '00003', '00004', '00005', '00006', '00007', '00008', '00009', '00010', '00011', '00012', '00013', '00014', '00015', '00016', '00017', '00018', '00019', '00020', '00021', '00022', '00023', '00024', '00025', '00026', '00027', '00028', '00029', '00030', '00031', '00032', '00033', '00034', '00035', '00036', '00037', '00038', '00039', '00040', '00041', '00042', '00043', '00044', '00045', '00046', '00047', '00048', '00049', '00050', '00051', '00052', '00053', '00054', '00055', '00056', '00057', '00058', '00059', '00060', '00061', '00062', '00063', '00064', '00065', '00066', '00067', '00068', '00069', '00070', '00071', '00072', '00073', '00074', '00075', '00076', '00077', '00078', '00079', '00080', '00081', '00082', '00083', '00084', '00085', '00086', '00087', '00088', '00089', '00090', '00091', '00092', '00093', '00094', '00095', '00096', '00097', '00098', '00099', '00100', '00101', '00102', '00103', '00104', '00105', '00106', '00107', '00108', '00109', '00110', '00111', '00112', '00113', '00114', '00115', '00116', '00117', '00118', '00119', '00120', '00121', '00122', '00123', '00124', '00125', '00126', '00127', '00128', '00129', '00130', '00131', '00132', '00133', '00134', '00135', '00136', '00137', '00138', '00139', '00140', '00141', '00142', '00143', '00144', '00145', '00146', '00147', '00148', '00149', '00150', '00151', '00152', '00153', '00154', '00155', '00156', '00157', '00158', '00159', '00160', '00161', '00162', '00163', '00164', '00165', '00166', '00167', '00168', '00169', '00170', '00171', '00172', '00173', '00174', '00175', '00176', '00177', '00178', '00179', '00180', '00181', '00182', '00183', '00184', '00185', '00186', '00187'], ['00001', '00002', '00003', '00004', '00005', '00006', '00007', '00008', '00009', '00010', '00011', '00012', '00013', '00014', '00015', '00016', '00017', '00018', '00019', '00020', '00021', '00022', '00023', '00024', '00025', '00026', '00027', '00028', '00029', '00030', '00031', '00032', '00033', '00034', '00035', '00036', '00037', '00038', '00039', '00040', '00041', '00042', '00043', '00044', '00045', '00046', '00047', '00048', '00049', '00050', '00051', '00052', '00053', '00054', '00055', '00056', '00057', '00058', '00059', '00060', '00061', '00062', '00063', '00064', '00065', '00066', '00067', '00068', '00069', '00070', '00071', '00072', '00073', '00074', '00075', '00076', '00077', '00078', '00079', '00080', '00081', '00082', '00083', '00084', '00085', '00086', '00087', '00088', '00089', '00090', '00091', '00092', '00093', '00094', '00095', '00096', '00097', '00098', '00099', '00100', '00101', '00102', '00103', '00104', '00105', '00106', '00107', '00108', '00109', '00110', '00111', '00112', '00113', '00114', '00115', '00116', '00117', '00118', '00119', '00120', '00121', '00122', '00123', '00124', '00125', '00126', '00127', '00128', '00129', '00130', '00131', '00132', '00133', '00134', '00135', '00136', '00137', '00138', '00139', '00140', '00141', '00142', '00143', '00144', '00145', '00146', '00147', '00148', '00149', '00150', '00151', '00152', '00153', '00154', '00155', '00156', '00157', '00158', '00159', '00160', '00161', '00162', '00163', '00164', '00165', '00166', '00167', '00168', '00169', '00170', '00171', '00172', '00173', '00174', '00175', '00176', '00177', '00178', '00179', '00180', '00181', '00182', '00183', '00184', '00185', '00186', '00187', '00188', '00189', '00190', '00191', '00192', '00193', '00194', '00195', '00196', '00197', '00198', '00199', '00200', '00201', '00202', '00203', '00204', '00205', '00206', '00207', '00208', '00209', '00210', '00211', '00212', '00213', '00214', '00215', '00216', '00217', '00218', '00219', '00220', '00221', '00222', '00223', '00224', '00225', '00226', '00227', '00228', '00229', '00230', '00231', '00232', '00233', '00234', '00235', '00236', '00237', '00238', '00239', '00240', '00241', '00242', '00243', '00244', '00245', '00246', '00247', '00248', '00249', '00250', '00251', '00252', '00253', '00254', '00255', '00256', '00257', '00258', '00259', '00260', '00261', '00262', '00263', '00264', '00265', '00266', '00267', '00268', '00269', '00270', '00271', '00272', '00273', '00274', '00275', '00276', '00277', '00278', '00279', '00280', '00281', '00282', '00283', '00284', '00285', '00286', '00287', '00288', '00289', '00290', '00291', '00292', '00293', '00294', '00295', '00296', '00297', '00298', '00299', '00300', '00301', '00302', '00303', '00304', '00305', '00306', '00307', '00308', '00309', '00310', '00311', '00312', '00313', '00314', '00315', '00316', '00317', '00318', '00319', '00320', '00321', '00322', '00323', '00324', '00325', '00326', '00327', '00328', '00329', '00330', '00331', '00332', '00333', '00334', '00335', '00336', '00337', '00338', '00339', '00340', '00341', '00342', '00343', '00344', '00345', '00346', '00347', '00348', '00349', '00350', '00351', '00352', '00353', '00354', '00355', '00356', '00357', '00358', '00359', '00360', '00361', '00362', '00363', '00364', '00365', '00366', '00367', '00368', '00369', '00370', '00371', '00372', '00373', '00374', '00375', '00376', '00377', '00378', '00379', '00380', '00381', '00382', '00383', '00384', '00385', '00386', '00387', '00388', '00389', '00390', '00391', '00392', '00393', '00394', '00395', '00396', '00397', '00398', '00399', '00400', '00401', '00402', '00403', '00404', '00405', '00406', '00407', '00408', '00409', '00410', '00411', '00412', '00413', '00414', '00415', '00416', '00417', '00418', '00419', '00420', '00421', '00422', '00423', '00424', '00425', '00426', '00427', '00428', '00429', '00430', '00431', '00432', '00433', '00434', '00435', '00436', '00437', '00438', '00439', '00440', '00441', '00442', '00443', '00444', '00445', '00446', '00447'], ['00001', '00002', '00003', '00004', '00005', '00006', '00007', '00008', '00009', '00010', '00011', '00012', '00013', '00014', '00015', '00016', '00017', '00018', '00019', '00020', '00021', '00022', '00023', '00024', '00025', '00026', '00027', '00028', '00029', '00030', '00031', '00032', '00033', '00034', '00035', '00036', '00037', '00038', '00039', '00040', '00041', '00042', '00043', '00044', '00045', '00046', '00047'], ['00001', '00002', '00003', '00004', '00005', '00006', '00007', '00008', '00009', '00010', '00011', '00012', '00013', '00014', '00015', '00016', '00017', '00018', '00019', '00020', '00021', '00022', '00023', '00024', '00025', '00026', '00027', '00028', '00029', '00030', '00031', '00032', '00033', '00034', '00035', '00036', '00037', '00038', '00039', '00040', '00041', '00042', '00043', '00044', '00045', '00046', '00047', '00048', '00049', '00050', '00051', '00052', '00053', '00054', '00055', '00056', '00057', '00058', '00059', '00060', '00061', '00062', '00063', '00064', '00065', '00066', '00067', '00068', '00069', '00070', '00071', '00072', '00073', '00074', '00075', '00076', '00077', '00078', '00079', '00080', '00081', '00082', '00083', '00084', '00085', '00086', '00087', '00088', '00089', '00090', '00091', '00092', '00093', '00094', '00095', '00096', '00097', '00098', '00099', '00100', '00101', '00102', '00103', '00104', '00105', '00106', '00107', '00108', '00109', '00110', '00111', '00112', '00113', '00114', '00115', '00116', '00117', '00118', '00119', '00120', '00121', '00122', '00123', '00124', '00125', '00126', '00127', '00128', '00129', '00130', '00131', '00132', '00133', '00134', '00135', '00136', '00137', '00138', '00139', '00140', '00141', '00142', '00143', '00144', '00145', '00146', '00147', '00148', '00149', '00150', '00151', '00152', '00153', '00154', '00155', '00156', '00157', '00158', '00159', '00160', '00161', '00162', '00163', '00164', '00165', '00166', '00167', '00168', '00169', '00170', '00171', '00172', '00173', '00174', '00175', '00176', '00177', '00178', '00179', '00180', '00181', '00182', '00183', '00184', '00185'], ['00001', '00002', '00003', '00004', '00005', '00006', '00007', '00008', '00009', '00010', '00011', '00012', '00013', '00014', '00015', '00016', '00017', '00018', '00019', '00020', '00021', '00022', '00023', '00024', '00025', '00026', '00027', '00028', '00029', '00030', '00031', '00032', '00033', '00034', '00035', '00036', '00037', '00038', '00039', '00040', '00041', '00042', '00043', '00044', '00045', '00046', '00047', '00048', '00049', '00050', '00051', '00052', '00053', '00054', '00055', '00056', '00057', '00058', '00059', '00060', '00061', '00062', '00063', '00064', '00065', '00066', '00067', '00068', '00069', '00070', '00071', '00072', '00073', '00074', '00075', '00076', '00077', '00078', '00079', '00080', '00081', '00082', '00083', '00084', '00085', '00086', '00087', '00088', '00089', '00090', '00091', '00092', '00093', '00094', '00095', '00096', '00097', '00098', '00099', '00100', '00101', '00102', '00103', '00104', '00105', '00106', '00107', '00108', '00109', '00110', '00111', '00112', '00113', '00114', '00115', '00116', '00117', '00118', '00119'], ['00001', '00002', '00003', '00004', '00005', '00006', '00007', '00008', '00009', '00010', '00011', '00012', '00013', '00014', '00015', '00016', '00017', '00018', '00019', '00020', '00021', '00022', '00023', '00024', '00025', '00026', '00027', '00028', '00029', '00030', '00031', '00032', '00033', '00034', '00035', '00036', '00037', '00038', '00039', '00040', '00041', '00042', '00043', '00044', '00045', '00046', '00047', '00048', '00049', '00050', '00051', '00052', '00053', '00054', '00055', '00056', '00057', '00058', '00059', '00060', '00061', '00062', '00063', '00064', '00065', '00066', '00067', '00068', '00069', '00070', '00071', '00072', '00073', '00074', '00075', '00076', '00077', '00078', '00079', '00080', '00081', '00082', '00083', '00084', '00085', '00086', '00087', '00088', '00089', '00090', '00091', '00092', '00093', '00094', '00095', '00096', '00097', '00098', '00099', '00100', '00101', '00102', '00103', '00104', '00105', '00106', '00107', '00108', '00109', '00110', '00111', '00112', '00113', '00114', '00115', '00116', '00117', '00118', '00119', '00120', '00121', '00122', '00123', '00124', '00125', '00126', '00127', '00128', '00129', '00130', '00131', '00132', '00133', '00134', '00135', '00136', '00137', '00138', '00139', '00140', '00141', '00142', '00143', '00144', '00145', '00146', '00147', '00148', '00149', '00150', '00151', '00152', '00153', '00154', '00155', '00156', '00157', '00158', '00159', '00160', '00161', '00162', '00163', '00164', '00165', '00166', '00167', '00168', '00169', '00170', '00171', '00172', '00173', '00174', '00175', '00176', '00177', '00178', '00179', '00180', '00181', '00182', '00183', '00184', '00185', '00186', '00187', '00188', '00189', '00190', '00191', '00192', '00193', '00194', '00195', '00196', '00197', '00198', '00199', '00200', '00201', '00202', '00203', '00204', '00205', '00206', '00207', '00208', '00209', '00210', '00211', '00212', '00213', '00214', '00215', '00216', '00217', '00218', '00219', '00220', '00221', '00222', '00223', '00224', '00225', '00226', '00227', '00228', '00229', '00230', '00231', '00232', '00233', '00234', '00235', '00236', '00237', '00238', '00239', '00240', '00241', '00242', '00243', '00244', '00245', '00246', '00247', '00248', '00249', '00250', '00251', '00252', '00253', '00254', '00255', '00256', '00257', '00258', '00259', '00260', '00261', '00262', '00263', '00264', '00265', '00266', '00267', '00268', '00269', '00270', '00271', '00272', '00273', '00274', '00275', '00276', '00277', '00278', '00279', '00280', '00281', '00282', '00283', '00284', '00285', '00286', '00287', '00288', '00289', '00290', '00291', '00292', '00293', '00294', '00295', '00296', '00297', '00298', '00299', '00300', '00301', '00302', '00303', '00304', '00305', '00306', '00307', '00308', '00309', '00310', '00311', '00312', '00313', '00314', '00315', '00316', '00317', '00318', '00319', '00320', '00321', '00322', '00323', '00324', '00325', '00326', '00327', '00328', '00329', '00330', '00331', '00332', '00333', '00334', '00335', '00336', '00337', '00338', '00339', '00340', '00341', '00342', '00343', '00344', '00345', '00346', '00347', '00348', '00349', '00350', '00351', '00352', '00353', '00354', '00355', '00356', '00357', '00358', '00359', '00360', '00361', '00362', '00363', '00364', '00365', '00366', '00367', '00368', '00369', '00370', '00371', '00372', '00373', '00374', '00375', '00376', '00377', '00378', '00379', '00380', '00381', '00382', '00383', '00384', '00385', '00386', '00387', '00388', '00389', '00390', '00391', '00392', '00393', '00394', '00395', '00396', '00397', '00398', '00399', '00400', '00401', '00402', '00403', '00404', '00405', '00406', '00407', '00408', '00409', '00410', '00411', '00412', '00413', '00414', '00415', '00416', '00417', '00418', '00419', '00420', '00421', '00422', '00423', '00424', '00425', '00426', '00427', '00428', '00429', '00430', '00431', '00432', '00433', '00434', '00435', '00436', '00437', '00438', '00439', '00440', '00441', '00442', '00443', '00444', '00445', '00446', '00447', '00448', '00449', '00450', '00451', '00452', '00453', '00454', '00455', '00456', '00457', '00458', '00459', '00460', '00461', '00462', '00463', '00464', '00465', '00466', '00467', '00468', '00469', '00470', '00471', '00472', '00473', '00474', '00475', '00476', '00477', '00478', '00479', '00480', '00481', '00482', '00483', '00484', '00485', '00486', '00487', '00488', '00489', '00490', '00491', '00492', '00493', '00494', '00495', '00496', '00497', '00498', '00499', '00500', '00501', '00502', '00503', '00504', '00505', '00506', '00507', '00508', '00509', '00510', '00511', '00512', '00513', '00514', '00515', '00516', '00517', '00518', '00519', '00520', '00521', '00522', '00523', '00524', '00525', '00526', '00527', '00528', '00529', '00530', '00531', '00532', '00533', '00534', '00535', '00536', '00537', '00538', '00539', '00540', '00541', '00542', '00543', '00544', '00545', '00546', '00547', '00548', '00549', '00550', '00551', '00552', '00553', '00554', '00555', '00556', '00557', '00558', '00559', '00560', '00561', '00562', '00563', '00564', '00565', '00566', '00567', '00568', '00569', '00570', '00571', '00572', '00573', '00574', '00575', '00576', '00577', '00578', '00579', '00580', '00581', '00582', '00583', '00584', '00585', '00586', '00587', '00588', '00589', '00590', '00591', '00592', '00593', '00594', '00595', '00596', '00597', '00598', '00599', '00600', '00601', '00602', '00603', '00604', '00605', '00606', '00607', '00608', '00609', '00610', '00611', '00612', '00613', '00614', '00615', '00616', '00617', '00618', '00619', '00620', '00621', '00622', '00623', '00624', '00625', '00626', '00627', '00628', '00629', '00630', '00631', '00632', '00633', '00634', '00635', '00636', '00637', '00638', '00639', '00640', '00641', '00642', '00643', '00644', '00645'], ['00001', '00002', '00003', '00004', '00005', '00006', '00007', '00008', '00009', '00010', '00011', '00012', '00013', '00014', '00015', '00016', '00017', '00018', '00019', '00020', '00021', '00022', '00023', '00024', '00025', '00026', '00027', '00028', '00029', '00030', '00031', '00032', '00033', '00034', '00035', '00036', '00037', '00038', '00039', '00040', '00041', '00042', '00043', '00044', '00045', '00046', '00047', '00048', '00049', '00050', '00051', '00052', '00053', '00054', '00055', '00056', '00057', '00058', '00059', '00060', '00061', '00062', '00063', '00064', '00065', '00066', '00067', '00068', '00069', '00070', '00071', '00072', '00073', '00074', '00075', '00076', '00077', '00078', '00079', '00080', '00081', '00082', '00083', '00084', '00085', '00086', '00087', '00088', '00089', '00090', '00091', '00092', '00093', '00094', '00095', '00096', '00097', '00098', '00099', '00100', '00101', '00102', '00103', '00104', '00105', '00106', '00107', '00108', '00109', '00110', '00111', '00112', '00113', '00114', '00115', '00116', '00117', '00118', '00119', '00120', '00121', '00122', '00123', '00124', '00125', '00126', '00127', '00128', '00129', '00130', '00131', '00132', '00133', '00134', '00135', '00136', '00137', '00138', '00139', '00140', '00141', '00142', '00143', '00144', '00145', '00146', '00147', '00148', '00149', '00150', '00151', '00152', '00153', '00154', '00155', '00156', '00157', '00158', '00159', '00160', '00161', '00162', '00163', '00164', '00165', '00166', '00167', '00168', '00169', '00170', '00171', '00172', '00173', '00174', '00175', '00176', '00177', '00178', '00179', '00180', '00181', '00182', '00183', '00184', '00185', '00186', '00187', '00188', '00189', '00190', '00191', '00192', '00193', '00194', '00195', '00196', '00197', '00198', '00199', '00200', '00201', '00202', '00203', '00204', '00205'], ['00001', '00002', '00003', '00004', '00005', '00006', '00007', '00008', '00009', '00010', '00011', '00012', '00013', '00014', '00015', '00016', '00017', '00018', '00019', '00020', '00021', '00022', '00023', '00024', '00025', '00026', '00027', '00028', '00029', '00030', '00031', '00032', '00033', '00034', '00035', '00036', '00037', '00038', '00039', '00040', '00041', '00042', '00043'], ['00001', '00002', '00003', '00004', '00005', '00006', '00007', '00008', '00009', '00010', '00011', '00012', '00013', '00014', '00015', '00016', '00017', '00018', '00019', '00020', '00021', '00022', '00023', '00024', '00025', '00026', '00027', '00028', '00029', '00030', '00031', '00032', '00033', '00034', '00035', '00036', '00037', '00038', '00039', '00040', '00041', '00042', '00043', '00044', '00045', '00046', '00047', '00048', '00049', '00050', '00051', '00052', '00053', '00054', '00055', '00056', '00057', '00058', '00059', '00060', '00061', '00062', '00063', '00064', '00065', '00066', '00067', '00068', '00069', '00070', '00071', '00072', '00073', '00074', '00075', '00076', '00077', '00078', '00079', '00080', '00081', '00082', '00083', '00084', '00085', '00086', '00087', '00088', '00089', '00090', '00091', '00092', '00093', '00094', '00095', '00096', '00097', '00098', '00099', '00100', '00101', '00102', '00103', '00104', '00105', '00106', '00107', '00108', '00109', '00110', '00111', '00112', '00113', '00114', '00115', '00116', '00117', '00118', '00119', '00120', '00121', '00122', '00123', '00124', '00125', '00126', '00127', '00128', '00129', '00130', '00131', '00132', '00133', '00134', '00135', '00136', '00137', '00138', '00139', '00140', '00141', '00142', '00143', '00144', '00145', '00146', '00147', '00148', '00149', '00150', '00151', '00152', '00153', '00154', '00155', '00156', '00157', '00158', '00159', '00160', '00161', '00162', '00163', '00164', '00165', '00166', '00167', '00168', '00169'], ['00001', '00002', '00003', '00004', '00005', '00006', '00007', '00008', '00009', '00010', '00011', '00012', '00013', '00014', '00015', '00016', '00017', '00018', '00019', '00020', '00021', '00022', '00023', '00024', '00025', '00026', '00027', '00028', '00029', '00030', '00031', '00032', '00033', '00034', '00035', '00036', '00037', '00038', '00039', '00040', '00041', '00042', '00043', '00044', '00045', '00046', '00047', '00048', '00049'], ['00001', '00002', '00003', '00004', '00005', '00006', '00007', '00008', '00009', '00010', '00011', '00012', '00013', '00014', '00015', '00016', '00017', '00018', '00019', '00020', '00021', '00022', '00023', '00024', '00025', '00026', '00027', '00028', '00029', '00030', '00031', '00032', '00033', '00034', '00035', '00036', '00037', '00038', '00039', '00040', '00041', '00042', '00043', '00044', '00045', '00046', '00047', '00048', '00049', '00050', '00051', '00052'], ['00001', '00002', '00003', '00004', '00005', '00006', '00007', '00008', '00009', '00010', '00011', '00012', '00013', '00014', '00015', '00016', '00017', '00018', '00019', '00020', '00021', '00022', '00023', '00024', '00025', '00026', '00027', '00028', '00029', '00030', '00031', '00032', '00033', '00034', '00035', '00036', '00037', '00038', '00039', '00040', '00041', '00042', '00043', '00044', '00045', '00046', '00047', '00048', '00049', '00050', '00051', '00052', '00053', '00054', '00055', '00056', '00057', '00058', '00059', '00060', '00061', '00062', '00063', '00064', '00065', '00066', '00067', '00068', '00069', '00070', '00071', '00072', '00073', '00074', '00075', '00076', '00077', '00078', '00079', '00080', '00081', '00082', '00083', '00084', '00085', '00086', '00087', '00088', '00089', '00090', '00091', '00092', '00093', '00094', '00095', '00096', '00097', '00098', '00099', '00100', '00101', '00102', '00103', '00104', '00105', '00106', '00107', '00108', '00109', '00110', '00111', '00112', '00113', '00114', '00115', '00116', '00117', '00118', '00119', '00120', '00121', '00122', '00123', '00124', '00125', '00126', '00127', '00128', '00129', '00130', '00131', '00132', '00133', '00134', '00135', '00136', '00137', '00138', '00139', '00140', '00141', '00142', '00143', '00144', '00145', '00146', '00147', '00148', '00149', '00150', '00151', '00152', '00153', '00154'], ['00001', '00002', '00003', '00004', '00005', '00006', '00007', '00008', '00009', '00010', '00011', '00012', '00013', '00014', '00015', '00016', '00017', '00018', '00019', '00020', '00021', '00022', '00023', '00024', '00025', '00026', '00027', '00028', '00029', '00030', '00031', '00032', '00033', '00034', '00035', '00036', '00037', '00038', '00039', '00040', '00041', '00042', '00043', '00044', '00045', '00046', '00047', '00048', '00049', '00050', '00051', '00052', '00053', '00054', '00055', '00056', '00057', '00058', '00059', '00060', '00061', '00062', '00063', '00064', '00065', '00066'], ['00001', '00002', '00003', '00004', '00005', '00006', '00007', '00008', '00009', '00010', '00011', '00012', '00013', '00014', '00015', '00016', '00017', '00018', '00019', '00020', '00021', '00022', '00023', '00024', '00025', '00026', '00027', '00028', '00029', '00030', '00031', '00032', '00033', '00034', '00035', '00036', '00037', '00038', '00039', '00040', '00041', '00042', '00043', '00044', '00045', '00046', '00047', '00048', '00049', '00050', '00051', '00052', '00053', '00054', '00055', '00056', '00057', '00058', '00059', '00060', '00061', '00062', '00063', '00064', '00065', '00066', '00067', '00068', '00069', '00070', '00071', '00072', '00073', '00074', '00075'], ['00001', '00002', '00003', '00004', '00005', '00006', '00007', '00008', '00009', '00010', '00011', '00012', '00013', '00014', '00015', '00016', '00017', '00018', '00019', '00020', '00021', '00022', '00023', '00024', '00025', '00026', '00027', '00028', '00029', '00030', '00031', '00032', '00033', '00034', '00035', '00036', '00037', '00038', '00039', '00040', '00041', '00042', '00043', '00044', '00045', '00046', '00047', '00048', '00049', '00050', '00051', '00052', '00053', '00054', '00055', '00056', '00057', '00058', '00059', '00060', '00061', '00062', '00063', '00064', '00065', '00066', '00067', '00068', '00069', '00070', '00071', '00072', '00073', '00074', '00075', '00076', '00077', '00078', '00079', '00080', '00081', '00082', '00083', '00084', '00085', '00086', '00087', '00088', '00089', '00090', '00091', '00092', '00093', '00094', '00095', '00096', '00097', '00098', '00099', '00100', '00101', '00102', '00103', '00104', '00105', '00106', '00107', '00108', '00109', '00110', '00111', '00112', '00113', '00114', '00115', '00116', '00117', '00118', '00119', '00120', '00121', '00122', '00123', '00124', '00125', '00126', '00127', '00128', '00129', '00130', '00131', '00132', '00133', '00134', '00135', '00136', '00137', '00138', '00139', '00140', '00141', '00142', '00143', '00144', '00145', '00146', '00147', '00148', '00149', '00150', '00151', '00152', '00153', '00154', '00155', '00156', '00157', '00158', '00159', '00160', '00161', '00162', '00163', '00164', '00165', '00166', '00167', '00168', '00169', '00170', '00171', '00172', '00173', '00174', '00175', '00176', '00177', '00178', '00179', '00180', '00181', '00182', '00183', '00184', '00185', '00186', '00187', '00188', '00189', '00190', '00191', '00192', '00193', '00194', '00195', '00196', '00197', '00198', '00199', '00200', '00201', '00202', '00203', '00204', '00205', '00206', '00207', '00208', '00209', '00210', '00211', '00212', '00213', '00214', '00215', '00216', '00217', '00218', '00219', '00220', '00221', '00222', '00223', '00224', '00225', '00226', '00227', '00228', '00229', '00230', '00231', '00232', '00233', '00234', '00235', '00236', '00237', '00238', '00239', '00240', '00241', '00242', '00243', '00244', '00245', '00246', '00247', '00248', '00249', '00250', '00251', '00252', '00253', '00254', '00255', '00256', '00257', '00258', '00259', '00260', '00261', '00262', '00263', '00264', '00265', '00266', '00267', '00268', '00269', '00270', '00271', '00272', '00273', '00274', '00275', '00276', '00277', '00278', '00279', '00280', '00281', '00282', '00283', '00284', '00285', '00286', '00287', '00288', '00289', '00290', '00291', '00292', '00293', '00294', '00295', '00296', '00297', '00298', '00299', '00300', '00301', '00302', '00303', '00304', '00305', '00306', '00307', '00308', '00309', '00310', '00311', '00312', '00313', '00314', '00315', '00316', '00317', '00318', '00319', '00320', '00321', '00322', '00323', '00324', '00325', '00326', '00327', '00328', '00329', '00330', '00331', '00332', '00333', '00334', '00335', '00336', '00337', '00338', '00339', '00340', '00341', '00342', '00343', '00344', '00345', '00346', '00347', '00348', '00349', '00350', '00351', '00352', '00353', '00354', '00355', '00356', '00357', '00358', '00359', '00360', '00361', '00362', '00363', '00364', '00365', '00366', '00367', '00368', '00369', '00370', '00371', '00372', '00373', '00374', '00375', '00376', '00377', '00378', '00379', '00380', '00381', '00382', '00383', '00384', '00385', '00386', '00387', '00388', '00389', '00390', '00391', '00392', '00393', '00394', '00395', '00396', '00397', '00398', '00399', '00400', '00401', '00402', '00403', '00404', '00405', '00406', '00407', '00408', '00409', '00410', '00411', '00412', '00413', '00414', '00415', '00416', '00417', '00418', '00419', '00420', '00421', '00422', '00423', '00424', '00425', '00426', '00427', '00428', '00429', '00430', '00431', '00432', '00433', '00434', '00435', '00436', '00437', '00438', '00439', '00440', '00441', '00442', '00443', '00444', '00445', '00446', '00447', '00448', '00449', '00450', '00451', '00452', '00453', '00454'], ['00001', '00002', '00003', '00004', '00005', '00006', '00007', '00008', '00009', '00010', '00011', '00012', '00013', '00014', '00015', '00016', '00017', '00018', '00019', '00020', '00021', '00022', '00023', '00024', '00025', '00026', '00027', '00028', '00029', '00030', '00031', '00032', '00033', '00034', '00035', '00036', '00037', '00038', '00039', '00040', '00041', '00042', '00043', '00044', '00045', '00046', '00047', '00048', '00049', '00050', '00051', '00052', '00053', '00054', '00055', '00056', '00057', '00058', '00059', '00060'], ['00001', '00002', '00003', '00004', '00005', '00006', '00007', '00008', '00009', '00010', '00011', '00012', '00013', '00014', '00015', '00016', '00017', '00018', '00019', '00020', '00021', '00022', '00023', '00024', '00025', '00026', '00027', '00028', '00029', '00030', '00031', '00032', '00033', '00034', '00035', '00036', '00037', '00038', '00039', '00040', '00041', '00042', '00043', '00044', '00045', '00046', '00047', '00048', '00049', '00050', '00051', '00052', '00053', '00054', '00055', '00056', '00057', '00058', '00059', '00060', '00061', '00062', '00063', '00064', '00065', '00066', '00067', '00068', '00069', '00070', '00071', '00072', '00073', '00074', '00075', '00076', '00077', '00078', '00079', '00080', '00081', '00082', '00083', '00084', '00085', '00086', '00087', '00088', '00089', '00090', '00091', '00092', '00093', '00094', '00095', '00096', '00097', '00098', '00099', '00100', '00101', '00102', '00103', '00104', '00105'], ['00001', '00002', '00003', '00004', '00005', '00006', '00007', '00008', '00009', '00010', '00011', '00012', '00013', '00014', '00015', '00016', '00017', '00018', '00019', '00020', '00021', '00022', '00023', '00024', '00025', '00026', '00027', '00028', '00029', '00030', '00031', '00032', '00033', '00034', '00035', '00036', '00037', '00038', '00039', '00040', '00041', '00042', '00043', '00044', '00045', '00046', '00047', '00048', '00049', '00050', '00051', '00052', '00053', '00054', '00055', '00056', '00057', '00058', '00059', '00060', '00061', '00062', '00063', '00064', '00065', '00066', '00067', '00068', '00069', '00070', '00071', '00072', '00073', '00074', '00075', '00076', '00077', '00078', '00079', '00080', '00081', '00082', '00083', '00084', '00085', '00086', '00087', '00088', '00089', '00090', '00091', '00092', '00093', '00094', '00095', '00096', '00097'], ['00001', '00002', '00003', '00004', '00005', '00006', '00007', '00008', '00009', '00010', '00011', '00012', '00013', '00014', '00015', '00016', '00017', '00018', '00019', '00020', '00021', '00022', '00023', '00024', '00025', '00026', '00027', '00028', '00029', '00030', '00031', '00032', '00033', '00034', '00035', '00036', '00037', '00038', '00039', '00040', '00041', '00042', '00043', '00044', '00045', '00046', '00047', '00048', '00049', '00050', '00051', '00052', '00053', '00054', '00055', '00056', '00057', '00058', '00059', '00060', '00061', '00062', '00063', '00064', '00065', '00066', '00067', '00068', '00069', '00070', '00071', '00072', '00073', '00074', '00075', '00076', '00077', '00078'], ['00001', '00002', '00003', '00004', '00005', '00006', '00007', '00008', '00009', '00010', '00011', '00012', '00013', '00014', '00015', '00016', '00017', '00018', '00019', '00020', '00021', '00022', '00023', '00024', '00025', '00026', '00027', '00028', '00029', '00030', '00031', '00032', '00033', '00034', '00035', '00036', '00037', '00038', '00039', '00040', '00041', '00042', '00043', '00044', '00045', '00046', '00047', '00048', '00049', '00050', '00051', '00052', '00053', '00054', '00055', '00056', '00057', '00058', '00059', '00060', '00061', '00062', '00063', '00064', '00065', '00066', '00067', '00068', '00069', '00070', '00071', '00072', '00073', '00074', '00075', '00076', '00077', '00078', '00079', '00080', '00081', '00082', '00083', '00084', '00085', '00086', '00087', '00088', '00089', '00090', '00091', '00092', '00093', '00094', '00095', '00096', '00097', '00098', '00099', '00100', '00101', '00102', '00103', '00104', '00105', '00106', '00107', '00108', '00109', '00110', '00111', '00112', '00113', '00114', '00115', '00116', '00117', '00118', '00119', '00120', '00121', '00122', '00123', '00124', '00125', '00126', '00127', '00128', '00129', '00130', '00131', '00132', '00133', '00134', '00135', '00136', '00137', '00138', '00139', '00140', '00141', '00142', '00143', '00144', '00145', '00146', '00147', '00148', '00149', '00150', '00151', '00152', '00153', '00154', '00155', '00156', '00157', '00158', '00159', '00160', '00161', '00162', '00163', '00164', '00165', '00166', '00167', '00168', '00169', '00170', '00171', '00172'], ['00001', '00002', '00003', '00004', '00005', '00006', '00007', '00008', '00009', '00010', '00011', '00012', '00013', '00014', '00015', '00016', '00017', '00018', '00019', '00020', '00021', '00022', '00023', '00024', '00025', '00026', '00027', '00028', '00029', '00030', '00031', '00032', '00033', '00034', '00035', '00036', '00037', '00038', '00039', '00040', '00041', '00042', '00043', '00044', '00045', '00046'], ['00001', '00002', '00003', '00004', '00005', '00006', '00007', '00008', '00009', '00010', '00011', '00012', '00013', '00014', '00015', '00016', '00017', '00018', '00019', '00020', '00021', '00022', '00023', '00024', '00025', '00026', '00027', '00028', '00029', '00030', '00031', '00032', '00033', '00034', '00035', '00036', '00037', '00038', '00039', '00040', '00041', '00042', '00043', '00044', '00045', '00046', '00047', '00048', '00049', '00050', '00051', '00052', '00053', '00054', '00055', '00056', '00057', '00058', '00059', '00060', '00061', '00062', '00063', '00064', '00065', '00066', '00067', '00068', '00069', '00070', '00071', '00072', '00073', '00074', '00075', '00076', '00077', '00078', '00079', '00080', '00081', '00082', '00083', '00084', '00085', '00086', '00087', '00088', '00089', '00090', '00091', '00092', '00093', '00094', '00095', '00096', '00097', '00098', '00099', '00100', '00101', '00102', '00103', '00104', '00105', '00106', '00107', '00108', '00109', '00110', '00111', '00112', '00113', '00114', '00115', '00116', '00117', '00118', '00119', '00120', '00121', '00122', '00123', '00124', '00125', '00126', '00127', '00128', '00129', '00130', '00131', '00132', '00133', '00134', '00135', '00136', '00137', '00138', '00139', '00140', '00141', '00142', '00143', '00144', '00145', '00146', '00147', '00148', '00149', '00150', '00151', '00152', '00153', '00154', '00155', '00156', '00157', '00158', '00159', '00160', '00161', '00162', '00163', '00164', '00165', '00166'], ['00001', '00002', '00003', '00004', '00005', '00006', '00007', '00008', '00009', '00010', '00011', '00012', '00013', '00014', '00015', '00016', '00017', '00018', '00019', '00020', '00021', '00022', '00023', '00024', '00025', '00026', '00027', '00028', '00029', '00030', '00031', '00032', '00033', '00034', '00035', '00036', '00037', '00038', '00039', '00040', '00041', '00042', '00043', '00044', '00045', '00046', '00047', '00048', '00049', '00050', '00051', '00052', '00053', '00054', '00055', '00056', '00057', '00058', '00059', '00060', '00061', '00062', '00063', '00064', '00065', '00066', '00067', '00068', '00069', '00070', '00071', '00072', '00073', '00074', '00075', '00076', '00077', '00078', '00079', '00080', '00081', '00082', '00083', '00084', '00085', '00086', '00087', '00088', '00089', '00090', '00091', '00092', '00093', '00094', '00095', '00096', '00097', '00098', '00099', '00100', '00101', '00102', '00103', '00104', '00105', '00106', '00107', '00108', '00109', '00110', '00111', '00112', '00113', '00114', '00115', '00116', '00117', '00118', '00119', '00120', '00121', '00122', '00123', '00124', '00125', '00126', '00127', '00128', '00129', '00130', '00131', '00132', '00133', '00134', '00135', '00136', '00137', '00138', '00139', '00140', '00141', '00142', '00143', '00144', '00145', '00146', '00147', '00148', '00149', '00150', '00151', '00152', '00153', '00154', '00155', '00156', '00157', '00158', '00159', '00160', '00161', '00162', '00163', '00164', '00165', '00166', '00167', '00168', '00169', '00170', '00171', '00172', '00173', '00174', '00175', '00176', '00177', '00178', '00179', '00180', '00181', '00182', '00183', '00184', '00185', '00186', '00187', '00188', '00189', '00190', '00191', '00192', '00193', '00194', '00195', '00196', '00197', '00198', '00199', '00200', '00201', '00202', '00203', '00204', '00205'], ['00001', '00002', '00003', '00004', '00005', '00006', '00007', '00008', '00009', '00010', '00011', '00012', '00013', '00014', '00015', '00016', '00017', '00018', '00019', '00020', '00021', '00022', '00023', '00024', '00025', '00026', '00027', '00028', '00029', '00030', '00031', '00032', '00033', '00034', '00035', '00036', '00037', '00038', '00039', '00040', '00041', '00042', '00043', '00044', '00045', '00046', '00047', '00048', '00049', '00050', '00051', '00052', '00053', '00054', '00055', '00056', '00057', '00058', '00059', '00060', '00061', '00062', '00063', '00064', '00065', '00066', '00067', '00068', '00069', '00070', '00071', '00072', '00073', '00074', '00075', '00076', '00077', '00078', '00079', '00080', '00081', '00082', '00083', '00084', '00085', '00086', '00087', '00088', '00089', '00090', '00091', '00092', '00093', '00094', '00095', '00096', '00097', '00098', '00099', '00100', '00101', '00102', '00103', '00104', '00105', '00106', '00107'], ['00001', '00002', '00003', '00004', '00005', '00006', '00007', '00008', '00009', '00010', '00011', '00012', '00013', '00014', '00015', '00016', '00017', '00018', '00019', '00020', '00021', '00022', '00023', '00024', '00025', '00026', '00027', '00028', '00029', '00030', '00031', '00032', '00033', '00034', '00035', '00036', '00037', '00038', '00039', '00040', '00041', '00042', '00043', '00044', '00045', '00046', '00047', '00048', '00049', '00050', '00051', '00052', '00053', '00054', '00055', '00056', '00057', '00058', '00059', '00060', '00061', '00062', '00063', '00064', '00065', '00066', '00067', '00068', '00069', '00070', '00071', '00072', '00073', '00074', '00075', '00076', '00077', '00078', '00079', '00080', '00081', '00082', '00083', '00084', '00085', '00086', '00087', '00088', '00089', '00090', '00091', '00092', '00093', '00094'], ['00001', '00002', '00003', '00004', '00005', '00006', '00007', '00008', '00009', '00010', '00011', '00012', '00013', '00014', '00015', '00016', '00017', '00018', '00019', '00020', '00021', '00022', '00023', '00024', '00025', '00026', '00027', '00028', '00029', '00030', '00031', '00032', '00033', '00034', '00035', '00036', '00037', '00038', '00039', '00040', '00041', '00042', '00043', '00044', '00045', '00046', '00047', '00048', '00049', '00050', '00051', '00052', '00053', '00054', '00055', '00056', '00057', '00058', '00059', '00060', '00061', '00062', '00063', '00064', '00065', '00066', '00067', '00068', '00069', '00070', '00071', '00072', '00073', '00074', '00075', '00076', '00077', '00078', '00079', '00080', '00081', '00082', '00083', '00084', '00085', '00086', '00087', '00088', '00089', '00090', '00091', '00092', '00093', '00094', '00095', '00096', '00097', '00098', '00099', '00100', '00101', '00102', '00103', '00104', '00105', '00106', '00107', '00108', '00109', '00110', '00111', '00112', '00113', '00114', '00115', '00116', '00117', '00118', '00119', '00120', '00121', '00122', '00123', '00124', '00125', '00126', '00127', '00128', '00129', '00130', '00131', '00132', '00133', '00134', '00135', '00136', '00137', '00138', '00139', '00140', '00141', '00142', '00143', '00144'], ['00001', '00002', '00003', '00004', '00005', '00006', '00007', '00008', '00009', '00010', '00011', '00012', '00013', '00014', '00015', '00016', '00017', '00018', '00019', '00020', '00021', '00022', '00023', '00024', '00025', '00026', '00027', '00028', '00029', '00030', '00031', '00032', '00033', '00034', '00035', '00036', '00037', '00038', '00039', '00040', '00041', '00042', '00043', '00044', '00045', '00046', '00047', '00048', '00049', '00050', '00051', '00052', '00053', '00054', '00055', '00056', '00057', '00058', '00059', '00060', '00061', '00062', '00063', '00064', '00065', '00066', '00067', '00068', '00069', '00070', '00071', '00072', '00073', '00074', '00075', '00076', '00077', '00078', '00079', '00080', '00081', '00082', '00083', '00084', '00085', '00086', '00087', '00088', '00089', '00090', '00091', '00092', '00093', '00094', '00095', '00096', '00097', '00098', '00099', '00100', '00101', '00102', '00103', '00104', '00105', '00106', '00107', '00108', '00109', '00110', '00111', '00112', '00113', '00114', '00115', '00116', '00117', '00118', '00119', '00120', '00121', '00122', '00123', '00124', '00125', '00126', '00127', '00128', '00129', '00130', '00131', '00132', '00133', '00134', '00135', '00136', '00137', '00138', '00139', '00140', '00141', '00142', '00143', '00144', '00145', '00146', '00147', '00148', '00149', '00150', '00151', '00152', '00153', '00154', '00155', '00156', '00157', '00158', '00159', '00160', '00161', '00162', '00163', '00164', '00165', '00166', '00167', '00168', '00169', '00170'], ['00001', '00002', '00003', '00004', '00005', '00006', '00007', '00008', '00009', '00010', '00011', '00012', '00013', '00014', '00015', '00016', '00017', '00018', '00019', '00020', '00021', '00022', '00023', '00024', '00025', '00026', '00027', '00028', '00029', '00030', '00031', '00032', '00033', '00034', '00035', '00036', '00037', '00038', '00039', '00040', '00041', '00042', '00043', '00044', '00045', '00046', '00047', '00048', '00049', '00050', '00051', '00052', '00053', '00054', '00055', '00056', '00057', '00058', '00059', '00060', '00061', '00062', '00063', '00064', '00065', '00066', '00067', '00068', '00069', '00070', '00071', '00072', '00073', '00074', '00075', '00076', '00077', '00078', '00079', '00080', '00081', '00082', '00083', '00084', '00085', '00086', '00087', '00088', '00089', '00090', '00091', '00092', '00093', '00094', '00095', '00096', '00097', '00098', '00099', '00100', '00101', '00102', '00103', '00104', '00105', '00106', '00107', '00108', '00109', '00110', '00111', '00112', '00113', '00114', '00115', '00116', '00117', '00118', '00119', '00120', '00121', '00122', '00123', '00124', '00125', '00126', '00127', '00128', '00129', '00130', '00131', '00132', '00133', '00134', '00135', '00136', '00137', '00138', '00139', '00140', '00141', '00142', '00143', '00144', '00145', '00146', '00147', '00148', '00149', '00150', '00151', '00152', '00153', '00154', '00155', '00156', '00157', '00158', '00159', '00160', '00161', '00162', '00163', '00164', '00165', '00166'], ['00001', '00002', '00003', '00004', '00005', '00006', '00007', '00008', '00009', '00010', '00011', '00012', '00013', '00014', '00015', '00016', '00017', '00018', '00019', '00020', '00021', '00022', '00023', '00024', '00025', '00026', '00027', '00028', '00029', '00030', '00031', '00032', '00033', '00034', '00035', '00036', '00037', '00038', '00039', '00040', '00041', '00042', '00043', '00044', '00045', '00046', '00047', '00048', '00049', '00050', '00051', '00052', '00053', '00054', '00055', '00056', '00057', '00058', '00059', '00060', '00061', '00062', '00063', '00064', '00065', '00066', '00067', '00068'], ['00001', '00002', '00003', '00004', '00005', '00006', '00007', '00008', '00009', '00010', '00011', '00012', '00013', '00014', '00015', '00016', '00017', '00018', '00019', '00020', '00021', '00022', '00023', '00024', '00025', '00026', '00027', '00028', '00029', '00030', '00031', '00032', '00033', '00034', '00035', '00036', '00037', '00038', '00039', '00040', '00041', '00042', '00043', '00044', '00045', '00046', '00047', '00048', '00049', '00050', '00051', '00052', '00053', '00054', '00055', '00056', '00057', '00058', '00059', '00060', '00061', '00062', '00063', '00064', '00065', '00066', '00067', '00068', '00069', '00070', '00071', '00072', '00073', '00074', '00075', '00076', '00077', '00078', '00079', '00080', '00081', '00082', '00083', '00084', '00085', '00086', '00087', '00088', '00089', '00090', '00091', '00092', '00093', '00094', '00095', '00096', '00097', '00098', '00099', '00100', '00101', '00102', '00103', '00104', '00105', '00106', '00107', '00108', '00109', '00110', '00111', '00112', '00113', '00114', '00115', '00116', '00117', '00118', '00119', '00120', '00121', '00122', '00123', '00124', '00125', '00126', '00127', '00128', '00129', '00130', '00131', '00132', '00133', '00134', '00135', '00136', '00137', '00138', '00139', '00140', '00141', '00142', '00143', '00144', '00145', '00146', '00147', '00148', '00149', '00150', '00151', '00152', '00153', '00154'], ['00001', '00002', '00003', '00004', '00005', '00006', '00007', '00008', '00009', '00010', '00011', '00012', '00013', '00014', '00015', '00016', '00017', '00018', '00019', '00020', '00021', '00022', '00023', '00024', '00025', '00026', '00027', '00028', '00029', '00030', '00031', '00032', '00033', '00034', '00035', '00036', '00037', '00038', '00039', '00040', '00041', '00042', '00043', '00044', '00045', '00046', '00047', '00048', '00049', '00050', '00051', '00052', '00053', '00054', '00055', '00056', '00057', '00058', '00059', '00060', '00061', '00062', '00063', '00064', '00065', '00066', '00067', '00068', '00069', '00070', '00071', '00072', '00073', '00074', '00075', '00076', '00077', '00078', '00079', '00080', '00081', '00082', '00083', '00084', '00085', '00086', '00087', '00088', '00089', '00090', '00091', '00092', '00093', '00094', '00095', '00096', '00097', '00098', '00099', '00100', '00101', '00102', '00103', '00104', '00105', '00106', '00107', '00108', '00109', '00110', '00111', '00112', '00113', '00114', '00115', '00116', '00117', '00118', '00119', '00120', '00121', '00122', '00123', '00124', '00125', '00126', '00127', '00128', '00129', '00130'], ['00001', '00002', '00003', '00004', '00005', '00006', '00007', '00008', '00009', '00010', '00011', '00012', '00013', '00014', '00015', '00016', '00017', '00018', '00019', '00020', '00021', '00022', '00023', '00024', '00025', '00026', '00027', '00028', '00029', '00030', '00031', '00032', '00033', '00034', '00035', '00036', '00037', '00038', '00039', '00040', '00041', '00042', '00043', '00044', '00045', '00046', '00047', '00048', '00049', '00050', '00051', '00052', '00053', '00054', '00055', '00056', '00057', '00058', '00059', '00060', '00061', '00062', '00063', '00064', '00065', '00066', '00067', '00068', '00069', '00070', '00071', '00072', '00073', '00074', '00075', '00076', '00077', '00078', '00079', '00080', '00081', '00082', '00083', '00084', '00085', '00086', '00087', '00088', '00089', '00090', '00091', '00092', '00093', '00094'], ['00001', '00002', '00003', '00004', '00005', '00006', '00007', '00008', '00009', '00010', '00011', '00012', '00013', '00014', '00015', '00016', '00017', '00018', '00019', '00020', '00021', '00022', '00023', '00024', '00025', '00026', '00027', '00028', '00029', '00030', '00031', '00032', '00033', '00034', '00035', '00036', '00037', '00038', '00039', '00040', '00041', '00042', '00043', '00044', '00045', '00046', '00047', '00048', '00049', '00050', '00051', '00052', '00053', '00054', '00055', '00056', '00057', '00058', '00059', '00060', '00061', '00062', '00063', '00064', '00065', '00066', '00067', '00068', '00069', '00070', '00071', '00072', '00073', '00074', '00075', '00076'], ['00001', '00002', '00003', '00004', '00005', '00006', '00007', '00008', '00009', '00010', '00011', '00012', '00013', '00014', '00015', '00016', '00017', '00018', '00019', '00020', '00021', '00022', '00023', '00024', '00025', '00026', '00027', '00028', '00029', '00030', '00031', '00032', '00033', '00034', '00035', '00036', '00037', '00038', '00039', '00040', '00041', '00042', '00043', '00044', '00045', '00046', '00047', '00048', '00049', '00050', '00051', '00052', '00053', '00054', '00055', '00056', '00057', '00058', '00059', '00060', '00061', '00062', '00063', '00064', '00065', '00066', '00067', '00068', '00069', '00070', '00071', '00072', '00073', '00074', '00075', '00076', '00077', '00078', '00079', '00080', '00081', '00082', '00083', '00084', '00085', '00086', '00087', '00088', '00089', '00090', '00091', '00092', '00093', '00094', '00095', '00096', '00097', '00098', '00099', '00100', '00101', '00102', '00103', '00104', '00105', '00106', '00107', '00108', '00109', '00110', '00111', '00112', '00113', '00114', '00115', '00116', '00117', '00118', '00119', '00120', '00121', '00122', '00123', '00124', '00125', '00126', '00127', '00128', '00129', '00130', '00131', '00132', '00133', '00134', '00135', '00136', '00137', '00138', '00139', '00140', '00141', '00142', '00143', '00144', '00145', '00146', '00147', '00148', '00149', '00150', '00151', '00152', '00153', '00154', '00155', '00156', '00157', '00158', '00159', '00160', '00161', '00162', '00163', '00164', '00165'], ['00001', '00002', '00003', '00004', '00005', '00006', '00007', '00008', '00009', '00010', '00011', '00012', '00013', '00014', '00015', '00016', '00017', '00018', '00019', '00020', '00021', '00022', '00023', '00024', '00025', '00026', '00027', '00028', '00029', '00030', '00031', '00032', '00033', '00034', '00035', '00036', '00037', '00038', '00039', '00040', '00041', '00042', '00043', '00044', '00045', '00046', '00047', '00048', '00049', '00050', '00051', '00052', '00053', '00054', '00055', '00056', '00057', '00058', '00059', '00060', '00061', '00062', '00063', '00064', '00065', '00066', '00067', '00068', '00069', '00070', '00071', '00072', '00073', '00074', '00075', '00076', '00077', '00078', '00079', '00080', '00081', '00082', '00083', '00084', '00085', '00086', '00087', '00088', '00089', '00090', '00091', '00092', '00093', '00094', '00095', '00096', '00097', '00098', '00099', '00100', '00101', '00102', '00103', '00104', '00105', '00106', '00107', '00108'], ['00001', '00002', '00003', '00004', '00005', '00006', '00007', '00008', '00009', '00010', '00011', '00012', '00013', '00014', '00015', '00016', '00017', '00018', '00019', '00020', '00021', '00022', '00023', '00024', '00025', '00026', '00027', '00028', '00029', '00030', '00031', '00032', '00033', '00034', '00035', '00036', '00037', '00038', '00039', '00040', '00041', '00042', '00043', '00044', '00045', '00046', '00047', '00048', '00049', '00050', '00051', '00052', '00053', '00054', '00055', '00056', '00057', '00058', '00059', '00060', '00061', '00062', '00063', '00064', '00065', '00066', '00067', '00068', '00069', '00070', '00071', '00072', '00073', '00074', '00075', '00076', '00077', '00078', '00079', '00080', '00081', '00082', '00083', '00084', '00085'], ['00001', '00002', '00003', '00004', '00005', '00006', '00007', '00008', '00009', '00010', '00011', '00012', '00013', '00014', '00015', '00016', '00017', '00018', '00019', '00020', '00021', '00022', '00023', '00024', '00025', '00026', '00027', '00028', '00029', '00030', '00031', '00032', '00033', '00034', '00035', '00036', '00037', '00038', '00039', '00040', '00041', '00042', '00043', '00044', '00045', '00046', '00047', '00048', '00049', '00050', '00051', '00052', '00053', '00054', '00055', '00056', '00057', '00058', '00059', '00060', '00061', '00062', '00063', '00064', '00065', '00066', '00067', '00068', '00069', '00070', '00071', '00072', '00073', '00074', '00075', '00076', '00077', '00078', '00079', '00080', '00081', '00082', '00083', '00084', '00085', '00086', '00087', '00088', '00089', '00090', '00091', '00092', '00093', '00094', '00095', '00096', '00097', '00098', '00099', '00100', '00101', '00102', '00103', '00104', '00105', '00106', '00107', '00108', '00109', '00110', '00111', '00112', '00113', '00114', '00115', '00116', '00117', '00118', '00119', '00120', '00121', '00122', '00123', '00124', '00125', '00126', '00127', '00128', '00129', '00130', '00131', '00132', '00133', '00134', '00135', '00136', '00137', '00138', '00139', '00140', '00141', '00142', '00143', '00144', '00145', '00146', '00147', '00148'], ['00001', '00002', '00003', '00004', '00005', '00006', '00007', '00008', '00009', '00010', '00011', '00012', '00013', '00014', '00015', '00016', '00017', '00018', '00019', '00020', '00021', '00022', '00023', '00024', '00025', '00026', '00027', '00028', '00029', '00030', '00031', '00032', '00033', '00034', '00035', '00036', '00037', '00038', '00039', '00040', '00041', '00042', '00043', '00044', '00045', '00046', '00047', '00048', '00049', '00050', '00051', '00052', '00053', '00054', '00055', '00056', '00057', '00058', '00059', '00060', '00061', '00062', '00063', '00064', '00065', '00066', '00067', '00068', '00069', '00070', '00071', '00072', '00073', '00074'], ['00001', '00002', '00003', '00004', '00005', '00006', '00007', '00008', '00009', '00010', '00011', '00012', '00013', '00014', '00015', '00016', '00017', '00018', '00019', '00020', '00021', '00022', '00023', '00024', '00025', '00026', '00027', '00028', '00029', '00030', '00031', '00032', '00033', '00034', '00035', '00036', '00037', '00038', '00039', '00040', '00041', '00042', '00043', '00044', '00045', '00046', '00047', '00048', '00049', '00050', '00051', '00052', '00053', '00054', '00055', '00056', '00057', '00058', '00059', '00060', '00061', '00062', '00063', '00064', '00065', '00066', '00067', '00068', '00069', '00070', '00071', '00072', '00073', '00074', '00075', '00076', '00077', '00078', '00079', '00080', '00081', '00082', '00083', '00084', '00085', '00086', '00087', '00088', '00089', '00090', '00091', '00092', '00093', '00094', '00095', '00096', '00097', '00098', '00099', '00100', '00101', '00102', '00103', '00104', '00105', '00106', '00107', '00108', '00109', '00110', '00111', '00112', '00113', '00114', '00115', '00116', '00117', '00118', '00119', '00120', '00121', '00122', '00123', '00124', '00125', '00126', '00127', '00128', '00129', '00130', '00131', '00132', '00133', '00134', '00135', '00136', '00137', '00138', '00139', '00140', '00141', '00142', '00143', '00144', '00145', '00146', '00147', '00148', '00149', '00150', '00151', '00152', '00153', '00154', '00155', '00156', '00157', '00158', '00159', '00160', '00161', '00162', '00163', '00164', '00165', '00166', '00167', '00168', '00169', '00170', '00171', '00172', '00173', '00174', '00175', '00176', '00177', '00178', '00179', '00180', '00181', '00182', '00183'], ['00001', '00002', '00003', '00004', '00005', '00006', '00007', '00008', '00009', '00010', '00011', '00012', '00013', '00014', '00015', '00016', '00017', '00018', '00019', '00020', '00021', '00022', '00023', '00024', '00025', '00026', '00027', '00028', '00029', '00030', '00031', '00032', '00033', '00034', '00035', '00036', '00037', '00038', '00039', '00040', '00041', '00042', '00043', '00044', '00045', '00046', '00047', '00048', '00049', '00050', '00051', '00052', '00053', '00054', '00055', '00056', '00057', '00058', '00059', '00060', '00061', '00062', '00063', '00064', '00065', '00066', '00067', '00068', '00069', '00070', '00071', '00072', '00073', '00074', '00075', '00076', '00077', '00078', '00079', '00080', '00081', '00082', '00083', '00084', '00085', '00086', '00087', '00088', '00089', '00090', '00091', '00092', '00093', '00094', '00095', '00096', '00097', '00098', '00099', '00100', '00101', '00102', '00103', '00104', '00105', '00106', '00107', '00108', '00109', '00110', '00111', '00112', '00113', '00114', '00115', '00116', '00117', '00118', '00119', '00120', '00121', '00122', '00123', '00124', '00125', '00126', '00127', '00128', '00129', '00130', '00131', '00132', '00133'], ['00001', '00002', '00003', '00004', '00005', '00006', '00007', '00008', '00009', '00010', '00011', '00012', '00013', '00014', '00015', '00016', '00017', '00018', '00019', '00020', '00021', '00022', '00023', '00024', '00025', '00026', '00027', '00028', '00029', '00030', '00031', '00032', '00033', '00034', '00035', '00036', '00037', '00038', '00039', '00040', '00041', '00042', '00043', '00044', '00045', '00046', '00047', '00048', '00049', '00050', '00051', '00052', '00053', '00054', '00055', '00056', '00057', '00058', '00059', '00060', '00061', '00062', '00063', '00064', '00065', '00066', '00067', '00068', '00069', '00070', '00071', '00072', '00073', '00074', '00075', '00076', '00077', '00078', '00079', '00080', '00081', '00082', '00083', '00084', '00085', '00086', '00087', '00088', '00089', '00090', '00091', '00092', '00093', '00094', '00095'], ['00001', '00002', '00003', '00004', '00005', '00006', '00007', '00008', '00009', '00010', '00011', '00012', '00013', '00014', '00015', '00016', '00017', '00018', '00019', '00020', '00021', '00022', '00023', '00024', '00025', '00026', '00027', '00028', '00029', '00030', '00031', '00032', '00033', '00034', '00035', '00036', '00037', '00038', '00039', '00040', '00041', '00042', '00043', '00044', '00045', '00046', '00047', '00048', '00049', '00050', '00051', '00052', '00053', '00054', '00055', '00056', '00057', '00058', '00059', '00060', '00061', '00062', '00063', '00064', '00065', '00066', '00067', '00068', '00069', '00070', '00071', '00072', '00073', '00074', '00075', '00076', '00077'], ['00001', '00002', '00003', '00004', '00005', '00006', '00007', '00008', '00009', '00010', '00011', '00012', '00013', '00014', '00015', '00016', '00017', '00018', '00019', '00020', '00021', '00022', '00023', '00024', '00025', '00026', '00027', '00028', '00029', '00030', '00031', '00032', '00033', '00034', '00035', '00036', '00037', '00038', '00039', '00040', '00041', '00042', '00043', '00044', '00045', '00046', '00047', '00048', '00049', '00050', '00051', '00052', '00053', '00054', '00055', '00056', '00057', '00058', '00059', '00060', '00061', '00062', '00063', '00064', '00065', '00066', '00067', '00068', '00069', '00070', '00071', '00072', '00073', '00074', '00075', '00076', '00077', '00078', '00079', '00080', '00081', '00082', '00083', '00084', '00085', '00086', '00087', '00088', '00089', '00090', '00091', '00092', '00093', '00094', '00095', '00096', '00097', '00098', '00099', '00100', '00101', '00102', '00103', '00104', '00105'], ['00001', '00002', '00003', '00004', '00005', '00006', '00007', '00008', '00009', '00010', '00011', '00012', '00013', '00014', '00015', '00016', '00017', '00018', '00019', '00020', '00021', '00022', '00023', '00024', '00025', '00026', '00027', '00028', '00029'], ['00001', '00002', '00003', '00004', '00005', '00006', '00007', '00008', '00009', '00010', '00011', '00012', '00013', '00014', '00015', '00016', '00017', '00018', '00019', '00020', '00021', '00022', '00023', '00024', '00025', '00026', '00027', '00028', '00029', '00030', '00031', '00032', '00033', '00034', '00035', '00036', '00037', '00038', '00039', '00040', '00041', '00042', '00043', '00044', '00045', '00046', '00047', '00048', '00049', '00050', '00051', '00052', '00053', '00054', '00055', '00056', '00057', '00058', '00059', '00060', '00061', '00062', '00063', '00064', '00065', '00066', '00067', '00068', '00069', '00070', '00071', '00072', '00073', '00074', '00075', '00076', '00077', '00078', '00079', '00080', '00081', '00082', '00083', '00084', '00085', '00086', '00087', '00088', '00089', '00090', '00091', '00092', '00093', '00094', '00095', '00096', '00097', '00098', '00099', '00100', '00101', '00102', '00103', '00104', '00105', '00106', '00107', '00108', '00109', '00110', '00111', '00112', '00113', '00114', '00115', '00116', '00117', '00118', '00119', '00120', '00121', '00122', '00123', '00124', '00125', '00126', '00127', '00128', '00129', '00130', '00131', '00132', '00133', '00134'], ['00001', '00002', '00003', '00004', '00005', '00006', '00007', '00008', '00009', '00010', '00011', '00012', '00013', '00014', '00015', '00016', '00017', '00018', '00019', '00020', '00021', '00022', '00023', '00024', '00025', '00026', '00027', '00028', '00029', '00030', '00031'], ['00001', '00002', '00003', '00004', '00005', '00006', '00007', '00008', '00009', '00010', '00011', '00012', '00013', '00014', '00015', '00016', '00017', '00018', '00019', '00020', '00021', '00022', '00023', '00024', '00025', '00026', '00027', '00028', '00029', '00030', '00031', '00032', '00033', '00034', '00035', '00036', '00037', '00038', '00039', '00040', '00041', '00042', '00043', '00044', '00045', '00046', '00047', '00048', '00049', '00050', '00051', '00052', '00053', '00054', '00055', '00056', '00057', '00058', '00059', '00060', '00061', '00062', '00063', '00064', '00065', '00066', '00067', '00068', '00069', '00070', '00071', '00072', '00073', '00074', '00075', '00076', '00077', '00078', '00079', '00080', '00081', '00082', '00083', '00084', '00085', '00086', '00087', '00088', '00089', '00090', '00091', '00092', '00093', '00094', '00095', '00096', '00097', '00098', '00099', '00100', '00101', '00102', '00103', '00104', '00105', '00106', '00107', '00108', '00109', '00110', '00111', '00112', '00113', '00114', '00115', '00116', '00117', '00118', '00119', '00120', '00121', '00122', '00123', '00124', '00125', '00126', '00127', '00128', '00129'], ['00001', '00002', '00003', '00004', '00005', '00006', '00007', '00008', '00009', '00010', '00011', '00012', '00013', '00014', '00015', '00016', '00017', '00018', '00019', '00020', '00021', '00022', '00023', '00024', '00025', '00026', '00027', '00028', '00029', '00030', '00031', '00032', '00033', '00034', '00035', '00036', '00037', '00038', '00039', '00040', '00041', '00042', '00043', '00044', '00045', '00046', '00047', '00048', '00049', '00050', '00051', '00052', '00053', '00054', '00055', '00056', '00057', '00058', '00059', '00060', '00061', '00062', '00063', '00064', '00065', '00066', '00067', '00068', '00069', '00070', '00071', '00072', '00073', '00074', '00075', '00076', '00077', '00078', '00079', '00080', '00081', '00082', '00083', '00084', '00085', '00086', '00087', '00088', '00089', '00090', '00091', '00092', '00093', '00094', '00095', '00096', '00097', '00098', '00099', '00100', '00101', '00102', '00103', '00104', '00105', '00106', '00107', '00108', '00109', '00110', '00111', '00112', '00113'], ['00001', '00002', '00003', '00004', '00005', '00006', '00007', '00008', '00009', '00010', '00011', '00012', '00013', '00014', '00015', '00016', '00017', '00018', '00019', '00020', '00021', '00022', '00023', '00024', '00025', '00026', '00027', '00028', '00029', '00030', '00031', '00032', '00033', '00034', '00035', '00036', '00037', '00038', '00039', '00040', '00041', '00042', '00043', '00044', '00045', '00046', '00047', '00048'], ['00001', '00002', '00003', '00004', '00005', '00006', '00007', '00008', '00009', '00010', '00011', '00012', '00013', '00014', '00015', '00016', '00017', '00018', '00019', '00020', '00021', '00022', '00023', '00024', '00025', '00026', '00027', '00028', '00029', '00030', '00031', '00032', '00033', '00034', '00035', '00036', '00037', '00038', '00039', '00040', '00041', '00042', '00043', '00044'], ['00001', '00002', '00003', '00004', '00005', '00006', '00007', '00008', '00009', '00010', '00011', '00012', '00013', '00014', '00015', '00016', '00017', '00018', '00019', '00020', '00021', '00022', '00023', '00024', '00025', '00026', '00027', '00028', '00029', '00030', '00031', '00032', '00033', '00034', '00035', '00036', '00037', '00038', '00039', '00040', '00041', '00042', '00043', '00044', '00045', '00046', '00047', '00048', '00049', '00050', '00051', '00052', '00053', '00054', '00055', '00056', '00057', '00058', '00059', '00060', '00061', '00062', '00063', '00064', '00065', '00066', '00067', '00068', '00069'], ['00001', '00002', '00003', '00004', '00005', '00006', '00007', '00008', '00009', '00010', '00011', '00012', '00013', '00014', '00015', '00016', '00017', '00018', '00019', '00020', '00021', '00022', '00023', '00024', '00025', '00026', '00027', '00028', '00029', '00030', '00031', '00032', '00033', '00034', '00035', '00036', '00037', '00038', '00039', '00040', '00041', '00042', '00043', '00044', '00045', '00046', '00047', '00048', '00049', '00050', '00051', '00052', '00053', '00054', '00055', '00056', '00057', '00058', '00059', '00060', '00061', '00062', '00063', '00064', '00065', '00066', '00067', '00068'], ['00001', '00002', '00003', '00004', '00005', '00006', '00007', '00008', '00009', '00010', '00011', '00012', '00013', '00014', '00015', '00016', '00017', '00018', '00019', '00020', '00021', '00022', '00023', '00024', '00025', '00026', '00027', '00028', '00029', '00030', '00031', '00032', '00033', '00034', '00035', '00036', '00037', '00038', '00039', '00040', '00041', '00042', '00043', '00044', '00045', '00046', '00047', '00048', '00049', '00050', '00051', '00052', '00053', '00054', '00055', '00056', '00057', '00058', '00059', '00060', '00061', '00062', '00063', '00064', '00065', '00066', '00067', '00068', '00069', '00070', '00071', '00072', '00073', '00074', '00075', '00076', '00077', '00078', '00079', '00080', '00081', '00082', '00083', '00084', '00085', '00086', '00087', '00088', '00089', '00090', '00091', '00092', '00093', '00094', '00095', '00096', '00097', '00098', '00099', '00100', '00101', '00102', '00103', '00104', '00105', '00106', '00107', '00108', '00109', '00110', '00111', '00112', '00113', '00114', '00115', '00116', '00117', '00118', '00119', '00120', '00121', '00122', '00123', '00124', '00125', '00126', '00127', '00128', '00129', '00130', '00131', '00132', '00133', '00134', '00135', '00136', '00137', '00138', '00139', '00140', '00141', '00142', '00143', '00144', '00145', '00146'], ['00001', '00002', '00003', '00004', '00005', '00006', '00007', '00008', '00009', '00010', '00011', '00012', '00013', '00014', '00015', '00016', '00017', '00018', '00019', '00020', '00021', '00022', '00023', '00024', '00025', '00026', '00027', '00028', '00029', '00030', '00031', '00032', '00033', '00034', '00035', '00036', '00037', '00038', '00039', '00040', '00041', '00042', '00043', '00044', '00045', '00046', '00047', '00048', '00049', '00050', '00051', '00052', '00053', '00054', '00055', '00056', '00057', '00058', '00059', '00060', '00061', '00062', '00063', '00064', '00065', '00066', '00067', '00068', '00069', '00070', '00071', '00072', '00073', '00074', '00075', '00076', '00077', '00078', '00079', '00080', '00081', '00082', '00083', '00084', '00085', '00086', '00087', '00088', '00089', '00090', '00091', '00092', '00093', '00094', '00095', '00096'], ['00001', '00002', '00003', '00004', '00005', '00006', '00007', '00008', '00009', '00010', '00011', '00012', '00013', '00014', '00015', '00016', '00017', '00018', '00019', '00020', '00021', '00022', '00023', '00024', '00025', '00026', '00027', '00028', '00029', '00030', '00031', '00032', '00033', '00034', '00035', '00036', '00037', '00038', '00039', '00040', '00041', '00042', '00043', '00044', '00045', '00046', '00047', '00048', '00049', '00050', '00051', '00052', '00053', '00054', '00055', '00056', '00057', '00058', '00059', '00060', '00061', '00062', '00063', '00064', '00065', '00066', '00067', '00068', '00069', '00070', '00071', '00072', '00073', '00074', '00075', '00076', '00077', '00078', '00079', '00080', '00081', '00082', '00083', '00084', '00085', '00086', '00087', '00088', '00089', '00090', '00091', '00092', '00093', '00094', '00095', '00096', '00097', '00098', '00099', '00100', '00101', '00102', '00103', '00104', '00105', '00106', '00107', '00108', '00109', '00110', '00111', '00112', '00113', '00114', '00115', '00116', '00117', '00118', '00119', '00120'], ['00001', '00002', '00003', '00004', '00005', '00006', '00007', '00008', '00009', '00010', '00011', '00012', '00013', '00014', '00015', '00016', '00017', '00018', '00019', '00020', '00021', '00022', '00023', '00024', '00025', '00026', '00027', '00028', '00029', '00030', '00031', '00032', '00033', '00034', '00035', '00036', '00037', '00038', '00039', '00040', '00041', '00042', '00043', '00044', '00045', '00046', '00047', '00048', '00049', '00050', '00051', '00052', '00053', '00054', '00055', '00056', '00057', '00058', '00059', '00060', '00061', '00062', '00063', '00064', '00065', '00066', '00067', '00068', '00069', '00070', '00071', '00072', '00073', '00074', '00075', '00076', '00077', '00078', '00079', '00080', '00081', '00082', '00083', '00084', '00085'], ['00001', '00002', '00003', '00004', '00005', '00006', '00007', '00008', '00009', '00010', '00011', '00012', '00013', '00014', '00015', '00016', '00017', '00018', '00019', '00020', '00021', '00022', '00023', '00024', '00025', '00026', '00027', '00028', '00029', '00030', '00031', '00032', '00033', '00034', '00035', '00036', '00037', '00038', '00039', '00040', '00041', '00042', '00043', '00044', '00045', '00046', '00047', '00048', '00049', '00050', '00051', '00052', '00053', '00054', '00055', '00056', '00057', '00058', '00059', '00060', '00061', '00062', '00063', '00064', '00065', '00066', '00067', '00068', '00069', '00070', '00071', '00072', '00073', '00074', '00075', '00076', '00077', '00078', '00079', '00080', '00081', '00082', '00083', '00084', '00085', '00086', '00087', '00088', '00089', '00090', '00091', '00092', '00093', '00094', '00095', '00096', '00097', '00098', '00099', '00100', '00101', '00102', '00103', '00104', '00105'], ['00001', '00002', '00003', '00004', '00005', '00006', '00007', '00008', '00009', '00010', '00011', '00012', '00013', '00014', '00015', '00016', '00017', '00018', '00019', '00020', '00021', '00022', '00023', '00024', '00025', '00026', '00027', '00028', '00029', '00030', '00031', '00032', '00033', '00034', '00035', '00036', '00037', '00038', '00039', '00040', '00041', '00042', '00043', '00044', '00045', '00046', '00047', '00048', '00049', '00050', '00051', '00052', '00053', '00054', '00055', '00056', '00057', '00058', '00059', '00060', '00061', '00062', '00063', '00064', '00065', '00066', '00067', '00068', '00069', '00070', '00071', '00072', '00073', '00074', '00075', '00076', '00077', '00078', '00079', '00080', '00081', '00082', '00083', '00084', '00085', '00086', '00087', '00088', '00089', '00090', '00091', '00092', '00093', '00094', '00095', '00096', '00097', '00098', '00099', '00100', '00101', '00102', '00103', '00104', '00105', '00106', '00107', '00108', '00109', '00110', '00111', '00112', '00113', '00114', '00115', '00116'], ['00001', '00002', '00003', '00004', '00005', '00006', '00007', '00008', '00009', '00010', '00011', '00012', '00013', '00014', '00015', '00016', '00017', '00018', '00019', '00020', '00021', '00022', '00023', '00024', '00025', '00026', '00027', '00028', '00029', '00030', '00031', '00032', '00033', '00034', '00035', '00036', '00037', '00038', '00039', '00040', '00041', '00042', '00043', '00044', '00045', '00046', '00047', '00048', '00049', '00050', '00051', '00052', '00053', '00054', '00055', '00056', '00057', '00058', '00059', '00060', '00061', '00062', '00063', '00064', '00065', '00066', '00067', '00068', '00069', '00070', '00071', '00072', '00073', '00074', '00075', '00076', '00077', '00078', '00079', '00080', '00081', '00082', '00083', '00084', '00085', '00086', '00087', '00088'], ['00001', '00002', '00003', '00004', '00005', '00006', '00007', '00008', '00009', '00010', '00011', '00012', '00013', '00014', '00015', '00016', '00017', '00018', '00019', '00020', '00021', '00022', '00023', '00024', '00025', '00026', '00027', '00028', '00029', '00030', '00031', '00032', '00033', '00034', '00035', '00036', '00037', '00038', '00039', '00040', '00041', '00042', '00043', '00044', '00045', '00046', '00047', '00048', '00049', '00050', '00051', '00052', '00053', '00054', '00055', '00056', '00057', '00058', '00059', '00060', '00061', '00062', '00063', '00064', '00065', '00066', '00067', '00068', '00069', '00070', '00071', '00072', '00073', '00074', '00075', '00076', '00077', '00078', '00079', '00080', '00081', '00082', '00083', '00084', '00085', '00086', '00087', '00088', '00089', '00090', '00091', '00092', '00093'], ['00001', '00002', '00003', '00004', '00005', '00006', '00007', '00008', '00009', '00010', '00011', '00012', '00013', '00014', '00015', '00016', '00017', '00018', '00019', '00020', '00021', '00022', '00023', '00024', '00025', '00026', '00027', '00028', '00029', '00030', '00031', '00032', '00033', '00034', '00035', '00036', '00037', '00038', '00039', '00040', '00041', '00042', '00043', '00044', '00045', '00046', '00047', '00048', '00049', '00050', '00051', '00052', '00053', '00054', '00055', '00056', '00057', '00058', '00059', '00060', '00061', '00062', '00063', '00064', '00065', '00066', '00067', '00068', '00069', '00070', '00071', '00072', '00073', '00074', '00075', '00076', '00077', '00078', '00079', '00080', '00081', '00082', '00083', '00084', '00085', '00086', '00087', '00088', '00089', '00090', '00091', '00092', '00093', '00094', '00095', '00096', '00097', '00098', '00099', '00100', '00101', '00102', '00103', '00104'], ['00001', '00002', '00003', '00004', '00005', '00006', '00007', '00008', '00009', '00010', '00011', '00012', '00013', '00014', '00015', '00016', '00017', '00018', '00019', '00020', '00021', '00022', '00023', '00024', '00025', '00026', '00027', '00028', '00029', '00030', '00031', '00032', '00033', '00034', '00035', '00036', '00037', '00038', '00039', '00040', '00041', '00042', '00043', '00044', '00045', '00046', '00047', '00048', '00049', '00050', '00051', '00052', '00053', '00054', '00055', '00056', '00057', '00058', '00059', '00060', '00061', '00062', '00063', '00064', '00065', '00066', '00067'], ['00001', '00002', '00003', '00004', '00005', '00006', '00007', '00008', '00009', '00010', '00011', '00012', '00013', '00014', '00015', '00016', '00017', '00018', '00019', '00020', '00021', '00022', '00023', '00024', '00025', '00026', '00027', '00028', '00029', '00030', '00031', '00032', '00033', '00034', '00035', '00036', '00037', '00038', '00039', '00040', '00041', '00042', '00043', '00044', '00045', '00046', '00047', '00048', '00049', '00050', '00051', '00052', '00053', '00054', '00055', '00056', '00057', '00058', '00059', '00060', '00061', '00062', '00063', '00064', '00065', '00066', '00067', '00068', '00069', '00070', '00071', '00072', '00073', '00074', '00075', '00076', '00077', '00078', '00079', '00080', '00081', '00082', '00083', '00084', '00085', '00086', '00087', '00088', '00089', '00090', '00091', '00092', '00093', '00094', '00095', '00096', '00097', '00098', '00099', '00100', '00101', '00102', '00103', '00104', '00105', '00106', '00107', '00108', '00109', '00110', '00111', '00112', '00113', '00114', '00115', '00116', '00117', '00118', '00119', '00120', '00121', '00122', '00123', '00124', '00125', '00126', '00127', '00128', '00129', '00130', '00131', '00132', '00133', '00134', '00135', '00136', '00137', '00138', '00139', '00140', '00141', '00142', '00143', '00144', '00145', '00146', '00147', '00148', '00149', '00150', '00151', '00152', '00153', '00154', '00155', '00156', '00157', '00158', '00159', '00160', '00161', '00162', '00163', '00164', '00165', '00166', '00167', '00168', '00169', '00170', '00171', '00172', '00173', '00174', '00175', '00176', '00177', '00178', '00179', '00180', '00181', '00182', '00183', '00184', '00185'], ['00001', '00002', '00003', '00004', '00005', '00006', '00007', '00008', '00009', '00010', '00011', '00012', '00013', '00014', '00015', '00016', '00017', '00018', '00019', '00020', '00021', '00022', '00023', '00024', '00025', '00026', '00027', '00028', '00029', '00030', '00031', '00032', '00033', '00034', '00035', '00036', '00037', '00038', '00039', '00040', '00041', '00042', '00043', '00044', '00045', '00046', '00047', '00048', '00049', '00050', '00051', '00052', '00053', '00054', '00055', '00056', '00057', '00058', '00059', '00060', '00061', '00062', '00063', '00064', '00065', '00066', '00067', '00068', '00069', '00070', '00071', '00072', '00073', '00074', '00075', '00076', '00077', '00078', '00079', '00080', '00081', '00082', '00083', '00084', '00085', '00086', '00087', '00088', '00089', '00090', '00091', '00092', '00093', '00094'], ['00001', '00002', '00003', '00004', '00005', '00006', '00007', '00008', '00009', '00010', '00011', '00012', '00013', '00014', '00015', '00016', '00017', '00018', '00019', '00020', '00021', '00022', '00023', '00024', '00025', '00026', '00027', '00028', '00029', '00030', '00031', '00032', '00033', '00034', '00035', '00036', '00037', '00038', '00039', '00040', '00041', '00042', '00043', '00044', '00045', '00046', '00047', '00048', '00049', '00050', '00051', '00052', '00053', '00054', '00055', '00056', '00057', '00058', '00059', '00060', '00061', '00062', '00063', '00064', '00065', '00066', '00067', '00068', '00069', '00070', '00071', '00072', '00073', '00074', '00075', '00076', '00077', '00078', '00079', '00080', '00081', '00082', '00083', '00084', '00085', '00086', '00087', '00088', '00089', '00090', '00091', '00092', '00093', '00094', '00095', '00096', '00097', '00098', '00099', '00100', '00101', '00102', '00103', '00104', '00105', '00106', '00107', '00108', '00109', '00110', '00111', '00112', '00113', '00114', '00115', '00116', '00117', '00118', '00119', '00120', '00121', '00122', '00123', '00124', '00125', '00126', '00127', '00128', '00129', '00130', '00131', '00132', '00133', '00134', '00135', '00136', '00137', '00138', '00139', '00140', '00141', '00142', '00143', '00144', '00145', '00146', '00147', '00148', '00149', '00150', '00151', '00152', '00153', '00154', '00155', '00156', '00157', '00158', '00159', '00160', '00161', '00162', '00163', '00164', '00165', '00166', '00167', '00168', '00169', '00170', '00171', '00172', '00173', '00174', '00175', '00176', '00177', '00178', '00179', '00180', '00181', '00182', '00183', '00184', '00185', '00186', '00187', '00188', '00189', '00190', '00191', '00192', '00193', '00194', '00195', '00196', '00197', '00198', '00199', '00200', '00201', '00202', '00203', '00204', '00205', '00206', '00207', '00208', '00209', '00210', '00211', '00212', '00213', '00214', '00215', '00216', '00217', '00218', '00219', '00220', '00221'], ['00001', '00002', '00003', '00004', '00005', '00006', '00007', '00008', '00009', '00010', '00011', '00012', '00013', '00014', '00015', '00016', '00017', '00018', '00019', '00020', '00021', '00022', '00023', '00024', '00025', '00026', '00027', '00028', '00029', '00030', '00031', '00032', '00033', '00034', '00035', '00036', '00037', '00038', '00039', '00040', '00041', '00042', '00043', '00044', '00045', '00046', '00047', '00048', '00049', '00050', '00051', '00052', '00053', '00054', '00055', '00056', '00057', '00058', '00059', '00060', '00061', '00062', '00063', '00064', '00065', '00066', '00067', '00068', '00069', '00070', '00071', '00072', '00073', '00074', '00075', '00076', '00077', '00078', '00079', '00080', '00081', '00082', '00083', '00084', '00085', '00086', '00087', '00088', '00089', '00090', '00091', '00092', '00093', '00094', '00095', '00096', '00097', '00098', '00099', '00100', '00101', '00102', '00103', '00104', '00105', '00106', '00107', '00108', '00109', '00110', '00111', '00112', '00113', '00114', '00115', '00116', '00117', '00118', '00119', '00120', '00121', '00122', '00123', '00124', '00125', '00126', '00127', '00128', '00129', '00130', '00131', '00132', '00133', '00134', '00135', '00136', '00137', '00138', '00139', '00140', '00141', '00142', '00143', '00144', '00145', '00146', '00147', '00148'], ['00001', '00002', '00003', '00004', '00005', '00006', '00007', '00008', '00009', '00010', '00011', '00012', '00013', '00014', '00015', '00016', '00017', '00018', '00019', '00020', '00021', '00022', '00023', '00024', '00025', '00026', '00027', '00028', '00029', '00030', '00031', '00032', '00033', '00034', '00035', '00036', '00037', '00038', '00039', '00040', '00041', '00042', '00043', '00044', '00045', '00046', '00047', '00048', '00049', '00050', '00051', '00052', '00053', '00054', '00055', '00056', '00057', '00058', '00059', '00060', '00061', '00062', '00063', '00064', '00065', '00066', '00067', '00068', '00069', '00070', '00071', '00072', '00073', '00074', '00075', '00076', '00077', '00078', '00079', '00080', '00081', '00082', '00083', '00084', '00085', '00086', '00087', '00088', '00089', '00090', '00091', '00092', '00093', '00094', '00095', '00096', '00097', '00098', '00099', '00100', '00101', '00102', '00103', '00104', '00105', '00106', '00107', '00108', '00109', '00110', '00111', '00112', '00113', '00114', '00115', '00116', '00117', '00118', '00119', '00120', '00121', '00122', '00123', '00124', '00125', '00126', '00127', '00128', '00129', '00130', '00131'], ['00001', '00002', '00003', '00004', '00005', '00006', '00007', '00008', '00009', '00010', '00011', '00012', '00013', '00014', '00015', '00016', '00017', '00018', '00019', '00020', '00021', '00022', '00023', '00024', '00025', '00026', '00027', '00028', '00029', '00030', '00031', '00032', '00033', '00034', '00035', '00036', '00037', '00038', '00039', '00040', '00041', '00042', '00043', '00044', '00045', '00046', '00047', '00048', '00049', '00050', '00051', '00052', '00053', '00054', '00055', '00056', '00057', '00058', '00059', '00060', '00061', '00062', '00063', '00064', '00065', '00066', '00067', '00068', '00069', '00070', '00071', '00072', '00073', '00074', '00075', '00076', '00077', '00078', '00079', '00080', '00081', '00082', '00083', '00084', '00085', '00086', '00087', '00088', '00089', '00090', '00091', '00092', '00093', '00094', '00095', '00096', '00097', '00098', '00099', '00100', '00101', '00102', '00103', '00104', '00105', '00106', '00107', '00108', '00109', '00110', '00111', '00112', '00113', '00114', '00115', '00116', '00117', '00118', '00119', '00120', '00121', '00122', '00123', '00124', '00125', '00126', '00127', '00128', '00129', '00130', '00131', '00132', '00133', '00134', '00135', '00136', '00137', '00138', '00139', '00140', '00141'], ['00001', '00002', '00003', '00004', '00005', '00006', '00007', '00008', '00009', '00010', '00011', '00012', '00013', '00014', '00015', '00016', '00017', '00018', '00019', '00020', '00021', '00022', '00023', '00024', '00025', '00026', '00027', '00028', '00029', '00030', '00031', '00032', '00033', '00034', '00035', '00036', '00037', '00038', '00039', '00040', '00041', '00042', '00043', '00044', '00045', '00046', '00047', '00048', '00049', '00050', '00051', '00052', '00053', '00054', '00055', '00056', '00057', '00058', '00059', '00060', '00061', '00062', '00063', '00064', '00065', '00066', '00067', '00068', '00069', '00070', '00071', '00072', '00073', '00074', '00075', '00076', '00077', '00078', '00079', '00080', '00081', '00082', '00083', '00084', '00085', '00086', '00087', '00088', '00089', '00090', '00091', '00092', '00093', '00094', '00095', '00096', '00097', '00098', '00099', '00100', '00101', '00102', '00103', '00104', '00105', '00106', '00107', '00108', '00109', '00110', '00111', '00112', '00113', '00114', '00115', '00116', '00117', '00118', '00119', '00120', '00121', '00122', '00123', '00124', '00125', '00126', '00127', '00128', '00129', '00130', '00131', '00132', '00133', '00134', '00135', '00136', '00137', '00138', '00139', '00140', '00141', '00142', '00143', '00144', '00145', '00146', '00147', '00148', '00149', '00150', '00151', '00152', '00153', '00154', '00155', '00156', '00157', '00158', '00159', '00160', '00161', '00162', '00163', '00164', '00165', '00166', '00167', '00168', '00169', '00170', '00171', '00172', '00173', '00174', '00175', '00176', '00177', '00178', '00179', '00180', '00181', '00182', '00183', '00184', '00185', '00186', '00187', '00188', '00189', '00190', '00191', '00192', '00193', '00194', '00195', '00196', '00197', '00198', '00199', '00200', '00201', '00202', '00203', '00204', '00205', '00206', '00207', '00208', '00209', '00210', '00211', '00212', '00213', '00214', '00215', '00216', '00217', '00218', '00219', '00220', '00221', '00222', '00223', '00224', '00225', '00226', '00227', '00228', '00229', '00230', '00231', '00232', '00233', '00234', '00235', '00236', '00237', '00238', '00239', '00240', '00241', '00242', '00243', '00244', '00245', '00246', '00247', '00248', '00249', '00250', '00251', '00252', '00253', '00254', '00255', '00256', '00257', '00258', '00259', '00260', '00261', '00262', '00263', '00264', '00265', '00266', '00267', '00268', '00269', '00270', '00271'], ['00001', '00002', '00003', '00004', '00005', '00006', '00007', '00008', '00009', '00010', '00011', '00012', '00013', '00014', '00015', '00016', '00017', '00018', '00019', '00020', '00021', '00022', '00023', '00024', '00025', '00026', '00027', '00028', '00029', '00030', '00031', '00032', '00033', '00034', '00035', '00036', '00037', '00038', '00039', '00040', '00041', '00042', '00043', '00044', '00045', '00046', '00047', '00048', '00049', '00050', '00051', '00052', '00053', '00054', '00055', '00056', '00057', '00058', '00059', '00060', '00061', '00062', '00063', '00064', '00065', '00066', '00067', '00068', '00069', '00070', '00071', '00072', '00073', '00074', '00075', '00076', '00077', '00078', '00079', '00080', '00081', '00082', '00083', '00084', '00085', '00086', '00087', '00088', '00089', '00090', '00091', '00092', '00093', '00094', '00095', '00096', '00097', '00098', '00099', '00100', '00101', '00102', '00103', '00104', '00105', '00106', '00107', '00108', '00109', '00110', '00111', '00112', '00113', '00114', '00115', '00116', '00117', '00118', '00119', '00120', '00121', '00122', '00123', '00124', '00125', '00126', '00127', '00128', '00129', '00130', '00131', '00132', '00133', '00134', '00135', '00136', '00137', '00138', '00139', '00140', '00141', '00142', '00143', '00144', '00145', '00146', '00147', '00148', '00149', '00150', '00151', '00152', '00153', '00154', '00155', '00156', '00157', '00158', '00159', '00160', '00161', '00162', '00163', '00164', '00165', '00166', '00167', '00168', '00169', '00170', '00171', '00172', '00173', '00174', '00175', '00176', '00177', '00178', '00179', '00180', '00181', '00182', '00183', '00184', '00185', '00186', '00187', '00188', '00189', '00190', '00191', '00192', '00193', '00194', '00195', '00196', '00197', '00198', '00199', '00200', '00201', '00202', '00203', '00204', '00205', '00206', '00207', '00208', '00209', '00210', '00211', '00212', '00213', '00214', '00215', '00216', '00217', '00218', '00219', '00220', '00221', '00222', '00223', '00224', '00225', '00226', '00227', '00228', '00229', '00230', '00231', '00232', '00233', '00234', '00235', '00236', '00237', '00238', '00239', '00240', '00241', '00242', '00243', '00244', '00245', '00246', '00247', '00248', '00249', '00250', '00251', '00252', '00253', '00254', '00255', '00256', '00257', '00258', '00259', '00260', '00261', '00262', '00263', '00264', '00265', '00266', '00267', '00268', '00269', '00270', '00271', '00272', '00273', '00274', '00275', '00276', '00277', '00278', '00279', '00280', '00281', '00282', '00283', '00284', '00285', '00286', '00287', '00288', '00289', '00290', '00291', '00292', '00293', '00294', '00295', '00296', '00297', '00298', '00299', '00300', '00301', '00302', '00303', '00304', '00305', '00306', '00307', '00308', '00309', '00310', '00311', '00312', '00313', '00314', '00315', '00316', '00317', '00318', '00319', '00320', '00321', '00322', '00323', '00324', '00325', '00326', '00327', '00328', '00329', '00330', '00331', '00332', '00333', '00334', '00335', '00336', '00337', '00338', '00339', '00340', '00341', '00342', '00343', '00344', '00345', '00346', '00347', '00348', '00349', '00350', '00351'], ['00001', '00002', '00003', '00004', '00005', '00006', '00007', '00008', '00009', '00010', '00011', '00012', '00013', '00014', '00015', '00016', '00017', '00018', '00019', '00020', '00021', '00022', '00023', '00024', '00025', '00026', '00027', '00028', '00029', '00030', '00031', '00032', '00033', '00034', '00035', '00036', '00037', '00038', '00039', '00040', '00041', '00042', '00043', '00044', '00045', '00046', '00047', '00048', '00049', '00050', '00051', '00052', '00053', '00054', '00055', '00056', '00057', '00058', '00059', '00060', '00061', '00062', '00063', '00064', '00065', '00066', '00067', '00068', '00069', '00070', '00071', '00072', '00073', '00074', '00075', '00076', '00077', '00078', '00079', '00080', '00081', '00082', '00083', '00084', '00085', '00086', '00087', '00088', '00089', '00090', '00091', '00092', '00093', '00094', '00095', '00096', '00097', '00098', '00099', '00100', '00101', '00102', '00103', '00104', '00105', '00106', '00107', '00108', '00109', '00110', '00111', '00112', '00113', '00114', '00115', '00116', '00117', '00118', '00119', '00120', '00121', '00122', '00123', '00124', '00125', '00126', '00127', '00128', '00129', '00130', '00131', '00132', '00133', '00134', '00135', '00136', '00137', '00138', '00139', '00140', '00141', '00142', '00143', '00144', '00145', '00146', '00147'], ['00001', '00002', '00003', '00004', '00005', '00006', '00007', '00008', '00009', '00010', '00011', '00012', '00013', '00014', '00015', '00016', '00017', '00018', '00019', '00020', '00021', '00022', '00023', '00024', '00025', '00026', '00027', '00028', '00029', '00030', '00031', '00032', '00033', '00034', '00035', '00036', '00037', '00038', '00039', '00040', '00041', '00042', '00043', '00044', '00045', '00046', '00047', '00048', '00049', '00050', '00051', '00052', '00053', '00054', '00055', '00056', '00057', '00058', '00059', '00060', '00061', '00062', '00063', '00064', '00065', '00066', '00067', '00068', '00069', '00070', '00071', '00072', '00073', '00074', '00075', '00076', '00077', '00078', '00079', '00080', '00081', '00082', '00083', '00084', '00085', '00086', '00087', '00088', '00089', '00090', '00091', '00092', '00093', '00094', '00095', '00096', '00097', '00098', '00099', '00100', '00101', '00102', '00103', '00104', '00105', '00106', '00107', '00108', '00109', '00110', '00111', '00112', '00113', '00114', '00115', '00116', '00117', '00118', '00119', '00120', '00121', '00122', '00123', '00124', '00125', '00126', '00127', '00128', '00129', '00130', '00131', '00132', '00133', '00134', '00135', '00136', '00137', '00138', '00139', '00140', '00141', '00142', '00143', '00144', '00145', '00146', '00147', '00148', '00149', '00150', '00151', '00152', '00153', '00154', '00155', '00156', '00157', '00158', '00159', '00160', '00161', '00162', '00163', '00164', '00165', '00166', '00167', '00168', '00169', '00170', '00171', '00172', '00173', '00174', '00175', '00176', '00177', '00178', '00179', '00180', '00181', '00182', '00183', '00184', '00185', '00186', '00187', '00188', '00189', '00190', '00191', '00192', '00193', '00194', '00195', '00196', '00197', '00198', '00199', '00200', '00201', '00202', '00203', '00204', '00205', '00206', '00207', '00208', '00209', '00210', '00211', '00212', '00213', '00214', '00215', '00216', '00217', '00218', '00219', '00220', '00221', '00222', '00223', '00224', '00225', '00226', '00227', '00228', '00229', '00230', '00231', '00232', '00233', '00234', '00235', '00236', '00237', '00238', '00239', '00240', '00241', '00242', '00243', '00244', '00245', '00246', '00247', '00248', '00249', '00250', '00251', '00252', '00253', '00254', '00255', '00256', '00257', '00258', '00259', '00260', '00261', '00262', '00263', '00264', '00265', '00266', '00267', '00268', '00269', '00270', '00271', '00272', '00273', '00274', '00275', '00276', '00277', '00278', '00279', '00280', '00281', '00282', '00283', '00284', '00285', '00286', '00287', '00288', '00289', '00290', '00291', '00292', '00293', '00294', '00295', '00296'], ['00001', '00002', '00003', '00004', '00005', '00006', '00007', '00008', '00009', '00010', '00011', '00012', '00013', '00014', '00015', '00016', '00017', '00018', '00019', '00020', '00021', '00022', '00023', '00024', '00025', '00026', '00027', '00028', '00029', '00030', '00031', '00032', '00033', '00034', '00035', '00036', '00037', '00038', '00039', '00040', '00041', '00042', '00043', '00044', '00045', '00046', '00047', '00048', '00049', '00050', '00051', '00052', '00053', '00054', '00055', '00056', '00057', '00058', '00059', '00060', '00061', '00062', '00063', '00064', '00065', '00066', '00067', '00068', '00069', '00070', '00071', '00072', '00073', '00074', '00075', '00076', '00077', '00078', '00079', '00080', '00081', '00082', '00083', '00084', '00085', '00086', '00087', '00088', '00089', '00090', '00091', '00092', '00093', '00094', '00095', '00096', '00097', '00098', '00099', '00100', '00101', '00102', '00103', '00104', '00105', '00106', '00107', '00108', '00109', '00110', '00111', '00112', '00113', '00114', '00115', '00116', '00117', '00118', '00119', '00120', '00121', '00122', '00123', '00124', '00125', '00126', '00127', '00128', '00129', '00130', '00131', '00132', '00133', '00134', '00135', '00136', '00137', '00138', '00139', '00140', '00141', '00142'], ['00001', '00002', '00003', '00004', '00005', '00006', '00007', '00008', '00009', '00010', '00011', '00012', '00013', '00014', '00015', '00016', '00017', '00018', '00019', '00020', '00021', '00022', '00023', '00024', '00025', '00026', '00027', '00028', '00029', '00030', '00031', '00032', '00033', '00034', '00035', '00036', '00037', '00038', '00039', '00040', '00041', '00042', '00043', '00044', '00045', '00046', '00047', '00048', '00049', '00050', '00051', '00052', '00053', '00054', '00055', '00056', '00057', '00058', '00059', '00060', '00061', '00062', '00063', '00064', '00065', '00066', '00067', '00068', '00069', '00070', '00071', '00072', '00073', '00074', '00075', '00076', '00077', '00078', '00079', '00080', '00081', '00082', '00083', '00084', '00085', '00086', '00087', '00088', '00089', '00090', '00091', '00092', '00093', '00094', '00095', '00096', '00097', '00098', '00099', '00100', '00101', '00102', '00103', '00104', '00105', '00106', '00107', '00108', '00109', '00110', '00111', '00112', '00113', '00114', '00115', '00116', '00117', '00118', '00119', '00120', '00121', '00122', '00123', '00124', '00125', '00126', '00127', '00128', '00129', '00130', '00131', '00132', '00133', '00134', '00135', '00136', '00137', '00138', '00139', '00140', '00141', '00142', '00143', '00144', '00145', '00146', '00147', '00148', '00149'], ['00001', '00002', '00003', '00004', '00005', '00006', '00007', '00008', '00009', '00010', '00011', '00012', '00013', '00014', '00015', '00016', '00017', '00018', '00019', '00020', '00021', '00022', '00023', '00024', '00025', '00026', '00027', '00028', '00029', '00030', '00031', '00032', '00033', '00034', '00035', '00036', '00037', '00038', '00039', '00040', '00041', '00042', '00043', '00044', '00045', '00046', '00047', '00048', '00049', '00050', '00051', '00052', '00053', '00054', '00055', '00056', '00057', '00058', '00059', '00060', '00061', '00062', '00063', '00064', '00065', '00066', '00067', '00068', '00069', '00070', '00071', '00072', '00073', '00074', '00075', '00076', '00077', '00078', '00079', '00080', '00081', '00082', '00083', '00084', '00085', '00086', '00087', '00088', '00089', '00090', '00091', '00092', '00093', '00094', '00095', '00096', '00097', '00098', '00099', '00100', '00101', '00102', '00103', '00104', '00105', '00106', '00107', '00108', '00109', '00110', '00111', '00112', '00113', '00114', '00115', '00116', '00117', '00118', '00119', '00120', '00121', '00122', '00123', '00124', '00125', '00126', '00127', '00128', '00129', '00130', '00131', '00132', '00133', '00134', '00135', '00136', '00137', '00138', '00139', '00140', '00141', '00142', '00143', '00144', '00145', '00146', '00147', '00148', '00149', '00150', '00151', '00152', '00153', '00154', '00155', '00156', '00157', '00158', '00159', '00160', '00161', '00162', '00163', '00164', '00165', '00166', '00167', '00168', '00169', '00170', '00171', '00172', '00173', '00174', '00175', '00176', '00177', '00178', '00179', '00180', '00181', '00182', '00183', '00184', '00185', '00186', '00187', '00188', '00189', '00190', '00191', '00192', '00193', '00194', '00195', '00196', '00197', '00198', '00199', '00200', '00201', '00202', '00203', '00204', '00205', '00206', '00207', '00208', '00209', '00210', '00211', '00212', '00213', '00214', '00215', '00216', '00217', '00218', '00219', '00220', '00221', '00222', '00223', '00224', '00225', '00226', '00227', '00228', '00229', '00230', '00231', '00232', '00233', '00234', '00235', '00236', '00237', '00238', '00239', '00240', '00241', '00242', '00243', '00244', '00245', '00246', '00247', '00248', '00249', '00250', '00251', '00252', '00253', '00254', '00255', '00256', '00257', '00258', '00259', '00260', '00261', '00262', '00263', '00264', '00265', '00266', '00267', '00268', '00269', '00270', '00271', '00272', '00273', '00274', '00275', '00276', '00277', '00278', '00279', '00280', '00281', '00282', '00283', '00284', '00285', '00286', '00287', '00288', '00289', '00290', '00291', '00292', '00293', '00294', '00295', '00296', '00297', '00298', '00299', '00300', '00301', '00302', '00303', '00304', '00305', '00306', '00307', '00308', '00309', '00310', '00311', '00312', '00313', '00314', '00315', '00316', '00317', '00318', '00319', '00320', '00321', '00322', '00323', '00324', '00325', '00326', '00327', '00328', '00329', '00330', '00331', '00332', '00333', '00334', '00335', '00336', '00337', '00338', '00339', '00340', '00341', '00342', '00343', '00344', '00345', '00346', '00347', '00348', '00349', '00350', '00351', '00352', '00353', '00354', '00355', '00356', '00357', '00358', '00359', '00360', '00361', '00362', '00363', '00364', '00365', '00366', '00367', '00368', '00369', '00370', '00371', '00372', '00373', '00374', '00375'], ['00001', '00002', '00003', '00004', '00005', '00006', '00007', '00008', '00009', '00010', '00011', '00012', '00013', '00014', '00015', '00016', '00017', '00018', '00019', '00020', '00021', '00022'], ['00001', '00002', '00003', '00004', '00005', '00006', '00007', '00008', '00009', '00010', '00011', '00012', '00013', '00014', '00015', '00016', '00017', '00018', '00019', '00020', '00021', '00022', '00023', '00024', '00025', '00026', '00027', '00028', '00029', '00030', '00031', '00032', '00033', '00034', '00035', '00036', '00037', '00038', '00039', '00040', '00041', '00042', '00043', '00044', '00045', '00046', '00047', '00048', '00049', '00050', '00051', '00052', '00053', '00054', '00055', '00056', '00057', '00058', '00059', '00060', '00061', '00062', '00063', '00064', '00065', '00066', '00067', '00068', '00069', '00070', '00071', '00072', '00073', '00074', '00075', '00076', '00077', '00078', '00079', '00080', '00081', '00082', '00083', '00084', '00085', '00086', '00087', '00088', '00089', '00090', '00091', '00092', '00093', '00094', '00095', '00096', '00097', '00098', '00099', '00100', '00101', '00102', '00103', '00104', '00105', '00106', '00107', '00108', '00109', '00110', '00111', '00112', '00113', '00114', '00115', '00116', '00117', '00118', '00119', '00120', '00121', '00122', '00123', '00124', '00125', '00126', '00127', '00128', '00129', '00130', '00131', '00132', '00133', '00134', '00135', '00136', '00137', '00138', '00139', '00140', '00141', '00142', '00143', '00144', '00145', '00146', '00147', '00148', '00149', '00150', '00151', '00152', '00153', '00154', '00155', '00156', '00157', '00158', '00159', '00160', '00161', '00162', '00163', '00164', '00165', '00166', '00167', '00168', '00169', '00170', '00171', '00172', '00173', '00174', '00175', '00176', '00177', '00178', '00179', '00180', '00181', '00182', '00183', '00184', '00185', '00186', '00187', '00188', '00189', '00190', '00191', '00192', '00193', '00194', '00195', '00196', '00197', '00198', '00199', '00200'], ['00001', '00002', '00003', '00004', '00005', '00006', '00007', '00008', '00009', '00010', '00011', '00012', '00013', '00014', '00015', '00016', '00017', '00018', '00019', '00020', '00021', '00022', '00023', '00024', '00025', '00026', '00027', '00028', '00029', '00030', '00031', '00032', '00033', '00034', '00035', '00036', '00037', '00038', '00039', '00040', '00041', '00042', '00043', '00044', '00045', '00046', '00047', '00048', '00049', '00050', '00051', '00052', '00053', '00054', '00055', '00056', '00057', '00058', '00059', '00060', '00061', '00062', '00063', '00064', '00065', '00066', '00067', '00068', '00069', '00070', '00071', '00072', '00073', '00074', '00075', '00076', '00077', '00078', '00079', '00080', '00081', '00082', '00083', '00084', '00085', '00086', '00087', '00088', '00089', '00090', '00091', '00092', '00093', '00094', '00095', '00096', '00097', '00098', '00099', '00100', '00101', '00102', '00103', '00104', '00105', '00106', '00107', '00108', '00109', '00110', '00111', '00112', '00113', '00114', '00115', '00116', '00117', '00118', '00119', '00120', '00121', '00122', '00123', '00124', '00125', '00126', '00127', '00128', '00129', '00130', '00131', '00132', '00133', '00134', '00135', '00136', '00137', '00138', '00139', '00140', '00141', '00142', '00143', '00144', '00145', '00146', '00147', '00148', '00149', '00150', '00151', '00152', '00153', '00154', '00155', '00156', '00157', '00158', '00159', '00160', '00161', '00162', '00163', '00164', '00165', '00166', '00167', '00168'], ['00001', '00002', '00003', '00004', '00005', '00006', '00007', '00008', '00009', '00010', '00011', '00012', '00013', '00014', '00015', '00016', '00017', '00018', '00019', '00020', '00021', '00022', '00023', '00024', '00025', '00026', '00027', '00028', '00029', '00030', '00031', '00032', '00033', '00034', '00035', '00036', '00037', '00038', '00039', '00040', '00041', '00042', '00043', '00044', '00045', '00046', '00047', '00048', '00049', '00050', '00051', '00052', '00053', '00054', '00055', '00056', '00057', '00058', '00059', '00060', '00061', '00062', '00063', '00064', '00065', '00066', '00067', '00068', '00069', '00070', '00071', '00072', '00073', '00074', '00075', '00076', '00077', '00078', '00079', '00080', '00081', '00082', '00083', '00084', '00085', '00086', '00087', '00088', '00089', '00090', '00091', '00092', '00093', '00094', '00095', '00096', '00097', '00098', '00099', '00100', '00101', '00102', '00103', '00104', '00105', '00106', '00107', '00108', '00109', '00110', '00111', '00112', '00113', '00114', '00115', '00116', '00117', '00118', '00119', '00120', '00121', '00122', '00123', '00124', '00125', '00126', '00127', '00128', '00129', '00130', '00131', '00132', '00133', '00134'], ['00001', '00002', '00003', '00004', '00005', '00006', '00007', '00008', '00009', '00010', '00011', '00012', '00013', '00014', '00015', '00016', '00017', '00018', '00019', '00020', '00021', '00022', '00023', '00024', '00025', '00026', '00027', '00028', '00029', '00030', '00031', '00032', '00033', '00034', '00035', '00036', '00037', '00038', '00039', '00040', '00041', '00042', '00043', '00044', '00045', '00046', '00047', '00048', '00049', '00050', '00051', '00052', '00053', '00054', '00055', '00056', '00057', '00058', '00059', '00060', '00061', '00062', '00063', '00064', '00065', '00066', '00067', '00068', '00069', '00070', '00071', '00072', '00073', '00074', '00075', '00076', '00077', '00078', '00079', '00080', '00081', '00082', '00083', '00084', '00085', '00086', '00087', '00088', '00089', '00090', '00091', '00092', '00093', '00094', '00095', '00096', '00097', '00098', '00099', '00100', '00101', '00102', '00103', '00104', '00105', '00106', '00107', '00108', '00109', '00110', '00111', '00112', '00113', '00114', '00115', '00116', '00117', '00118', '00119', '00120', '00121', '00122', '00123', '00124', '00125', '00126', '00127', '00128', '00129', '00130', '00131', '00132', '00133', '00134', '00135', '00136', '00137', '00138', '00139', '00140', '00141', '00142', '00143', '00144', '00145', '00146', '00147', '00148', '00149', '00150', '00151', '00152', '00153', '00154', '00155', '00156', '00157', '00158', '00159', '00160', '00161', '00162'], ['00001', '00002', '00003', '00004', '00005', '00006', '00007', '00008', '00009', '00010', '00011', '00012', '00013', '00014', '00015', '00016', '00017', '00018', '00019', '00020', '00021', '00022', '00023', '00024', '00025', '00026', '00027', '00028', '00029', '00030', '00031', '00032', '00033', '00034', '00035', '00036', '00037', '00038', '00039', '00040', '00041', '00042', '00043', '00044', '00045', '00046', '00047', '00048', '00049', '00050', '00051', '00052', '00053', '00054', '00055', '00056', '00057', '00058', '00059', '00060', '00061', '00062', '00063', '00064', '00065', '00066', '00067', '00068', '00069', '00070', '00071', '00072', '00073', '00074', '00075', '00076', '00077', '00078', '00079', '00080', '00081', '00082', '00083', '00084', '00085', '00086', '00087', '00088', '00089', '00090', '00091', '00092', '00093', '00094', '00095', '00096', '00097', '00098', '00099', '00100', '00101', '00102', '00103', '00104', '00105', '00106', '00107', '00108', '00109', '00110', '00111', '00112', '00113', '00114', '00115', '00116', '00117', '00118', '00119', '00120', '00121', '00122', '00123', '00124', '00125', '00126', '00127', '00128', '00129', '00130', '00131', '00132', '00133', '00134', '00135', '00136', '00137', '00138', '00139', '00140', '00141', '00142', '00143', '00144', '00145', '00146', '00147', '00148', '00149', '00150', '00151', '00152', '00153', '00154', '00155', '00156'], ['00001', '00002', '00003', '00004', '00005', '00006', '00007', '00008', '00009', '00010', '00011', '00012', '00013', '00014', '00015', '00016', '00017', '00018', '00019', '00020', '00021', '00022', '00023', '00024', '00025', '00026', '00027', '00028', '00029', '00030', '00031', '00032', '00033', '00034', '00035', '00036', '00037', '00038', '00039', '00040', '00041', '00042', '00043', '00044', '00045', '00046', '00047', '00048', '00049', '00050', '00051', '00052', '00053', '00054', '00055', '00056', '00057', '00058', '00059', '00060', '00061', '00062', '00063', '00064', '00065', '00066', '00067', '00068', '00069', '00070', '00071', '00072', '00073', '00074', '00075', '00076', '00077', '00078', '00079', '00080', '00081', '00082', '00083', '00084', '00085', '00086', '00087', '00088', '00089', '00090', '00091', '00092', '00093', '00094', '00095', '00096', '00097', '00098', '00099', '00100', '00101', '00102', '00103', '00104', '00105', '00106', '00107', '00108', '00109', '00110', '00111', '00112', '00113', '00114', '00115', '00116', '00117', '00118', '00119', '00120', '00121', '00122', '00123', '00124', '00125', '00126', '00127', '00128', '00129', '00130', '00131', '00132', '00133', '00134', '00135', '00136', '00137', '00138', '00139', '00140', '00141', '00142', '00143', '00144', '00145', '00146', '00147', '00148', '00149', '00150', '00151', '00152', '00153', '00154', '00155', '00156', '00157', '00158', '00159', '00160', '00161', '00162', '00163', '00164', '00165', '00166', '00167', '00168', '00169', '00170', '00171', '00172', '00173', '00174', '00175', '00176', '00177', '00178', '00179', '00180', '00181', '00182', '00183'], ['00001', '00002', '00003', '00004', '00005', '00006', '00007', '00008', '00009', '00010', '00011', '00012', '00013', '00014', '00015', '00016', '00017', '00018', '00019', '00020', '00021', '00022', '00023', '00024', '00025', '00026', '00027', '00028', '00029', '00030', '00031', '00032', '00033', '00034', '00035', '00036', '00037', '00038', '00039', '00040', '00041', '00042', '00043', '00044', '00045', '00046', '00047', '00048', '00049', '00050', '00051', '00052', '00053', '00054', '00055', '00056', '00057', '00058', '00059', '00060', '00061', '00062', '00063', '00064', '00065', '00066', '00067', '00068', '00069', '00070', '00071', '00072', '00073', '00074', '00075', '00076', '00077', '00078', '00079', '00080', '00081', '00082', '00083', '00084', '00085'], ['00001', '00002', '00003', '00004', '00005', '00006', '00007', '00008', '00009', '00010', '00011', '00012', '00013', '00014', '00015', '00016', '00017', '00018', '00019', '00020', '00021', '00022', '00023', '00024', '00025', '00026', '00027', '00028', '00029', '00030', '00031', '00032', '00033', '00034', '00035', '00036', '00037', '00038', '00039', '00040', '00041', '00042', '00043', '00044', '00045', '00046', '00047', '00048', '00049', '00050', '00051', '00052', '00053', '00054', '00055', '00056', '00057', '00058', '00059', '00060', '00061', '00062', '00063', '00064', '00065', '00066', '00067', '00068', '00069', '00070', '00071', '00072', '00073', '00074', '00075', '00076', '00077', '00078', '00079', '00080', '00081', '00082', '00083', '00084', '00085', '00086', '00087', '00088', '00089', '00090', '00091', '00092', '00093', '00094', '00095', '00096', '00097', '00098', '00099', '00100', '00101', '00102', '00103', '00104', '00105', '00106', '00107', '00108', '00109', '00110', '00111', '00112', '00113', '00114', '00115'], ['00001', '00002', '00003', '00004', '00005', '00006', '00007', '00008', '00009', '00010', '00011', '00012', '00013', '00014', '00015', '00016', '00017', '00018', '00019', '00020', '00021', '00022', '00023', '00024', '00025', '00026'], ['00001', '00002', '00003', '00004', '00005', '00006', '00007', '00008', '00009', '00010', '00011', '00012', '00013', '00014', '00015', '00016', '00017', '00018', '00019', '00020', '00021', '00022', '00023', '00024', '00025', '00026', '00027', '00028', '00029', '00030', '00031', '00032', '00033', '00034', '00035', '00036', '00037', '00038', '00039', '00040', '00041', '00042', '00043', '00044', '00045', '00046', '00047', '00048', '00049', '00050', '00051', '00052', '00053', '00054', '00055', '00056', '00057', '00058', '00059', '00060', '00061', '00062', '00063', '00064', '00065', '00066', '00067', '00068', '00069', '00070', '00071', '00072', '00073', '00074', '00075', '00076', '00077', '00078', '00079', '00080', '00081', '00082', '00083', '00084', '00085', '00086', '00087', '00088', '00089', '00090', '00091', '00092', '00093', '00094', '00095', '00096', '00097', '00098', '00099', '00100', '00101', '00102', '00103', '00104', '00105', '00106', '00107', '00108', '00109', '00110', '00111', '00112', '00113', '00114', '00115', '00116', '00117', '00118', '00119', '00120', '00121', '00122', '00123', '00124', '00125', '00126', '00127', '00128', '00129', '00130', '00131', '00132', '00133', '00134', '00135', '00136', '00137', '00138', '00139', '00140', '00141', '00142', '00143', '00144'], ['00001', '00002', '00003', '00004', '00005', '00006', '00007', '00008', '00009', '00010', '00011', '00012', '00013', '00014', '00015', '00016', '00017', '00018', '00019', '00020', '00021', '00022', '00023', '00024', '00025', '00026', '00027', '00028', '00029', '00030', '00031', '00032', '00033', '00034', '00035', '00036', '00037', '00038', '00039', '00040', '00041', '00042', '00043', '00044', '00045', '00046', '00047', '00048', '00049', '00050', '00051', '00052', '00053', '00054', '00055', '00056', '00057', '00058', '00059', '00060', '00061', '00062', '00063', '00064', '00065', '00066', '00067', '00068', '00069', '00070', '00071', '00072', '00073', '00074'], ['00001', '00002', '00003', '00004', '00005', '00006', '00007', '00008', '00009', '00010', '00011', '00012', '00013', '00014', '00015', '00016', '00017', '00018', '00019', '00020', '00021', '00022', '00023', '00024', '00025', '00026', '00027', '00028', '00029', '00030', '00031', '00032', '00033', '00034', '00035', '00036', '00037', '00038', '00039', '00040', '00041', '00042', '00043', '00044', '00045', '00046', '00047', '00048', '00049', '00050', '00051', '00052', '00053', '00054', '00055', '00056', '00057', '00058', '00059', '00060', '00061', '00062', '00063', '00064', '00065', '00066', '00067', '00068', '00069', '00070', '00071', '00072', '00073', '00074', '00075', '00076', '00077', '00078', '00079', '00080', '00081', '00082', '00083', '00084', '00085', '00086', '00087', '00088', '00089', '00090', '00091', '00092', '00093', '00094', '00095', '00096', '00097', '00098', '00099', '00100', '00101', '00102', '00103', '00104', '00105', '00106'], ['00001', '00002', '00003', '00004', '00005', '00006', '00007', '00008', '00009', '00010', '00011', '00012', '00013', '00014', '00015', '00016', '00017', '00018', '00019', '00020', '00021', '00022', '00023', '00024', '00025', '00026', '00027', '00028', '00029', '00030', '00031', '00032', '00033', '00034', '00035', '00036', '00037', '00038', '00039', '00040', '00041', '00042', '00043', '00044', '00045', '00046', '00047', '00048', '00049', '00050', '00051', '00052', '00053', '00054', '00055', '00056', '00057', '00058', '00059', '00060', '00061', '00062', '00063', '00064', '00065', '00066', '00067', '00068', '00069', '00070', '00071', '00072', '00073', '00074', '00075', '00076', '00077', '00078', '00079', '00080', '00081', '00082', '00083', '00084', '00085', '00086', '00087', '00088', '00089', '00090', '00091', '00092', '00093', '00094', '00095', '00096', '00097', '00098', '00099', '00100', '00101', '00102', '00103', '00104'], ['00001', '00002', '00003', '00004', '00005', '00006', '00007', '00008', '00009', '00010', '00011', '00012', '00013', '00014', '00015', '00016', '00017', '00018', '00019', '00020', '00021', '00022', '00023', '00024', '00025', '00026', '00027', '00028', '00029', '00030', '00031', '00032', '00033', '00034', '00035', '00036', '00037', '00038', '00039', '00040', '00041', '00042', '00043', '00044', '00045', '00046', '00047', '00048', '00049', '00050', '00051', '00052', '00053', '00054', '00055', '00056', '00057', '00058', '00059', '00060', '00061', '00062', '00063', '00064', '00065', '00066', '00067', '00068', '00069', '00070', '00071', '00072', '00073', '00074', '00075', '00076', '00077', '00078', '00079', '00080', '00081', '00082', '00083', '00084', '00085', '00086', '00087', '00088', '00089', '00090', '00091', '00092', '00093', '00094', '00095', '00096', '00097', '00098', '00099', '00100', '00101', '00102', '00103', '00104', '00105', '00106', '00107', '00108', '00109', '00110', '00111', '00112', '00113', '00114'], ['00001', '00002', '00003', '00004', '00005', '00006', '00007', '00008', '00009', '00010', '00011', '00012', '00013', '00014', '00015', '00016', '00017', '00018', '00019', '00020', '00021', '00022', '00023', '00024', '00025', '00026', '00027', '00028', '00029', '00030', '00031', '00032', '00033', '00034', '00035', '00036', '00037', '00038', '00039', '00040', '00041', '00042', '00043', '00044', '00045', '00046', '00047', '00048', '00049', '00050', '00051', '00052', '00053', '00054', '00055', '00056', '00057', '00058', '00059', '00060', '00061', '00062', '00063', '00064', '00065', '00066', '00067', '00068', '00069', '00070', '00071', '00072', '00073', '00074', '00075', '00076', '00077', '00078', '00079', '00080', '00081', '00082', '00083', '00084', '00085', '00086', '00087', '00088', '00089', '00090', '00091', '00092', '00093', '00094', '00095', '00096', '00097', '00098', '00099', '00100', '00101', '00102', '00103', '00104', '00105', '00106', '00107', '00108', '00109', '00110', '00111', '00112', '00113', '00114', '00115', '00116', '00117', '00118', '00119', '00120', '00121', '00122', '00123', '00124', '00125', '00126', '00127', '00128', '00129', '00130', '00131', '00132', '00133', '00134', '00135', '00136', '00137', '00138', '00139', '00140', '00141', '00142', '00143', '00144', '00145', '00146', '00147', '00148', '00149', '00150', '00151'], ['00001', '00002', '00003', '00004', '00005', '00006', '00007', '00008', '00009', '00010', '00011', '00012', '00013', '00014', '00015', '00016', '00017', '00018', '00019', '00020', '00021', '00022', '00023', '00024', '00025', '00026', '00027', '00028', '00029', '00030', '00031', '00032', '00033', '00034', '00035', '00036', '00037', '00038', '00039', '00040', '00041', '00042', '00043', '00044', '00045', '00046', '00047', '00048', '00049', '00050', '00051', '00052', '00053', '00054', '00055', '00056', '00057', '00058', '00059', '00060', '00061', '00062', '00063', '00064', '00065', '00066', '00067', '00068', '00069', '00070', '00071', '00072', '00073', '00074', '00075', '00076', '00077', '00078', '00079', '00080', '00081', '00082', '00083', '00084', '00085', '00086', '00087', '00088', '00089', '00090', '00091', '00092', '00093', '00094', '00095', '00096', '00097', '00098', '00099'], ['00001', '00002', '00003', '00004', '00005', '00006', '00007', '00008', '00009', '00010', '00011', '00012', '00013', '00014', '00015', '00016', '00017', '00018', '00019', '00020', '00021', '00022', '00023', '00024', '00025', '00026', '00027', '00028', '00029', '00030', '00031', '00032', '00033', '00034', '00035'], ['00001', '00002', '00003', '00004', '00005', '00006', '00007', '00008', '00009', '00010', '00011', '00012', '00013', '00014', '00015', '00016', '00017', '00018', '00019', '00020', '00021', '00022', '00023', '00024', '00025', '00026', '00027', '00028', '00029', '00030', '00031', '00032', '00033', '00034', '00035', '00036', '00037', '00038', '00039', '00040', '00041', '00042', '00043', '00044', '00045', '00046', '00047', '00048', '00049', '00050', '00051', '00052', '00053', '00054', '00055', '00056', '00057', '00058', '00059', '00060', '00061', '00062', '00063', '00064', '00065', '00066', '00067', '00068', '00069', '00070', '00071', '00072', '00073', '00074', '00075', '00076', '00077'], ['00001', '00002', '00003', '00004', '00005', '00006', '00007', '00008', '00009', '00010', '00011', '00012', '00013', '00014', '00015', '00016', '00017', '00018', '00019'], ['00001', '00002', '00003', '00004', '00005', '00006', '00007', '00008', '00009', '00010', '00011', '00012', '00013', '00014', '00015', '00016', '00017', '00018', '00019', '00020', '00021', '00022', '00023', '00024', '00025', '00026', '00027', '00028', '00029', '00030', '00031', '00032', '00033', '00034', '00035', '00036', '00037', '00038', '00039', '00040', '00041', '00042', '00043', '00044', '00045', '00046', '00047', '00048', '00049', '00050', '00051', '00052', '00053', '00054', '00055', '00056', '00057', '00058', '00059', '00060', '00061', '00062', '00063', '00064', '00065', '00066', '00067', '00068', '00069', '00070', '00071'], ['00001', '00002', '00003', '00004', '00005', '00006', '00007', '00008', '00009', '00010', '00011', '00012', '00013', '00014', '00015', '00016', '00017', '00018', '00019', '00020', '00021', '00022', '00023', '00024', '00025', '00026', '00027', '00028', '00029', '00030', '00031', '00032', '00033', '00034', '00035', '00036', '00037', '00038', '00039', '00040', '00041', '00042', '00043', '00044', '00045', '00046', '00047', '00048', '00049', '00050', '00051', '00052', '00053', '00054', '00055', '00056', '00057', '00058', '00059', '00060', '00061', '00062', '00063', '00064', '00065', '00066', '00067', '00068', '00069', '00070', '00071', '00072', '00073', '00074', '00075', '00076', '00077', '00078', '00079', '00080', '00081', '00082', '00083', '00084', '00085', '00086', '00087', '00088', '00089', '00090', '00091', '00092', '00093', '00094', '00095', '00096', '00097', '00098', '00099', '00100', '00101', '00102', '00103', '00104', '00105', '00106', '00107', '00108', '00109', '00110', '00111', '00112', '00113', '00114', '00115', '00116', '00117', '00118', '00119', '00120', '00121', '00122', '00123', '00124', '00125', '00126', '00127', '00128', '00129', '00130', '00131', '00132', '00133', '00134', '00135', '00136', '00137', '00138', '00139', '00140'], ['00001', '00002', '00003', '00004', '00005', '00006', '00007', '00008', '00009', '00010', '00011', '00012', '00013', '00014', '00015', '00016', '00017', '00018', '00019', '00020', '00021', '00022', '00023', '00024', '00025', '00026', '00027', '00028', '00029', '00030', '00031', '00032', '00033', '00034', '00035', '00036', '00037', '00038', '00039', '00040', '00041', '00042', '00043', '00044', '00045', '00046', '00047', '00048', '00049', '00050', '00051', '00052', '00053', '00054', '00055', '00056', '00057', '00058', '00059', '00060', '00061', '00062', '00063', '00064', '00065', '00066', '00067', '00068', '00069', '00070', '00071', '00072', '00073', '00074', '00075', '00076', '00077', '00078', '00079', '00080', '00081', '00082', '00083', '00084', '00085', '00086', '00087', '00088', '00089', '00090', '00091', '00092', '00093', '00094', '00095', '00096', '00097', '00098', '00099', '00100', '00101', '00102', '00103', '00104', '00105', '00106', '00107', '00108', '00109', '00110', '00111', '00112', '00113', '00114', '00115', '00116', '00117', '00118', '00119', '00120', '00121', '00122', '00123', '00124', '00125', '00126', '00127', '00128', '00129', '00130', '00131', '00132', '00133', '00134', '00135', '00136', '00137', '00138', '00139', '00140', '00141', '00142', '00143', '00144', '00145', '00146', '00147', '00148', '00149', '00150', '00151', '00152', '00153', '00154', '00155', '00156', '00157', '00158', '00159', '00160', '00161', '00162', '00163', '00164', '00165', '00166', '00167', '00168', '00169', '00170', '00171', '00172', '00173', '00174', '00175', '00176', '00177', '00178', '00179', '00180', '00181', '00182', '00183', '00184', '00185', '00186', '00187', '00188', '00189', '00190', '00191', '00192', '00193', '00194', '00195', '00196', '00197', '00198', '00199', '00200', '00201', '00202', '00203', '00204', '00205', '00206', '00207', '00208', '00209', '00210', '00211', '00212', '00213', '00214', '00215', '00216', '00217'], ['00001', '00002', '00003', '00004', '00005', '00006', '00007', '00008', '00009', '00010', '00011', '00012', '00013', '00014', '00015', '00016', '00017', '00018', '00019', '00020', '00021', '00022', '00023', '00024', '00025', '00026', '00027', '00028', '00029', '00030', '00031', '00032', '00033', '00034', '00035', '00036', '00037', '00038', '00039', '00040', '00041', '00042', '00043', '00044', '00045', '00046', '00047', '00048', '00049', '00050', '00051', '00052', '00053', '00054', '00055', '00056', '00057', '00058', '00059', '00060', '00061', '00062', '00063', '00064', '00065', '00066', '00067', '00068', '00069', '00070', '00071', '00072', '00073', '00074', '00075', '00076', '00077', '00078', '00079', '00080', '00081', '00082', '00083', '00084'], ['00001', '00002', '00003', '00004', '00005', '00006', '00007', '00008', '00009', '00010', '00011', '00012', '00013', '00014', '00015', '00016', '00017', '00018', '00019', '00020', '00021', '00022', '00023', '00024', '00025', '00026', '00027', '00028', '00029', '00030', '00031', '00032', '00033', '00034', '00035', '00036', '00037', '00038', '00039', '00040', '00041', '00042', '00043', '00044', '00045', '00046', '00047', '00048', '00049', '00050', '00051', '00052', '00053', '00054', '00055', '00056', '00057', '00058', '00059', '00060', '00061', '00062', '00063', '00064', '00065', '00066', '00067', '00068', '00069', '00070', '00071', '00072', '00073', '00074', '00075', '00076', '00077', '00078', '00079', '00080', '00081', '00082', '00083', '00084', '00085', '00086', '00087', '00088', '00089', '00090', '00091', '00092', '00093', '00094', '00095', '00096', '00097', '00098', '00099', '00100', '00101', '00102', '00103', '00104', '00105', '00106', '00107', '00108', '00109', '00110', '00111'], ['00001', '00002', '00003', '00004', '00005', '00006', '00007', '00008', '00009', '00010', '00011', '00012', '00013', '00014', '00015', '00016', '00017', '00018', '00019', '00020', '00021', '00022', '00023', '00024', '00025', '00026', '00027', '00028', '00029', '00030', '00031', '00032', '00033', '00034', '00035', '00036', '00037', '00038', '00039', '00040', '00041', '00042', '00043', '00044', '00045', '00046', '00047', '00048', '00049', '00050', '00051', '00052'], ['00001', '00002', '00003', '00004', '00005', '00006', '00007', '00008', '00009', '00010', '00011', '00012', '00013', '00014', '00015', '00016', '00017', '00018', '00019', '00020', '00021', '00022', '00023', '00024', '00025', '00026', '00027', '00028', '00029', '00030', '00031', '00032', '00033', '00034', '00035', '00036', '00037', '00038', '00039', '00040', '00041', '00042', '00043', '00044', '00045', '00046', '00047', '00048', '00049', '00050', '00051', '00052', '00053', '00054', '00055', '00056', '00057', '00058', '00059', '00060', '00061', '00062', '00063', '00064', '00065', '00066', '00067', '00068', '00069', '00070', '00071', '00072', '00073', '00074', '00075', '00076', '00077', '00078', '00079', '00080', '00081', '00082', '00083', '00084', '00085', '00086', '00087', '00088', '00089', '00090', '00091', '00092', '00093', '00094', '00095', '00096', '00097', '00098', '00099', '00100', '00101', '00102', '00103', '00104', '00105', '00106', '00107', '00108', '00109', '00110', '00111', '00112', '00113', '00114', '00115', '00116', '00117', '00118', '00119', '00120', '00121', '00122', '00123', '00124', '00125', '00126', '00127'], ['00001', '00002', '00003', '00004', '00005', '00006', '00007', '00008', '00009', '00010', '00011', '00012', '00013', '00014', '00015', '00016', '00017', '00018', '00019', '00020', '00021', '00022', '00023', '00024', '00025', '00026', '00027', '00028', '00029', '00030', '00031', '00032', '00033', '00034', '00035', '00036', '00037', '00038', '00039', '00040', '00041', '00042', '00043', '00044', '00045', '00046', '00047', '00048', '00049', '00050', '00051', '00052', '00053', '00054', '00055', '00056', '00057', '00058', '00059', '00060', '00061', '00062', '00063', '00064', '00065', '00066', '00067', '00068', '00069', '00070', '00071', '00072', '00073'], ['00001', '00002', '00003', '00004', '00005', '00006', '00007', '00008', '00009', '00010', '00011', '00012', '00013', '00014', '00015', '00016', '00017', '00018', '00019', '00020', '00021', '00022', '00023', '00024', '00025', '00026', '00027', '00028', '00029', '00030', '00031', '00032', '00033', '00034', '00035', '00036', '00037', '00038', '00039', '00040', '00041', '00042', '00043', '00044', '00045', '00046', '00047', '00048', '00049', '00050', '00051', '00052', '00053', '00054', '00055', '00056', '00057', '00058', '00059', '00060', '00061', '00062', '00063', '00064', '00065', '00066', '00067', '00068', '00069', '00070', '00071', '00072', '00073', '00074', '00075', '00076', '00077', '00078', '00079', '00080', '00081', '00082', '00083', '00084', '00085', '00086', '00087', '00088', '00089', '00090', '00091', '00092', '00093', '00094', '00095', '00096', '00097', '00098', '00099', '00100', '00101', '00102', '00103', '00104', '00105', '00106', '00107', '00108', '00109', '00110', '00111', '00112', '00113', '00114', '00115', '00116', '00117', '00118', '00119', '00120', '00121', '00122', '00123', '00124', '00125', '00126', '00127', '00128', '00129', '00130', '00131', '00132', '00133', '00134', '00135', '00136', '00137', '00138', '00139', '00140', '00141', '00142', '00143', '00144', '00145', '00146', '00147', '00148', '00149', '00150', '00151', '00152', '00153', '00154', '00155', '00156', '00157', '00158', '00159', '00160', '00161', '00162', '00163', '00164', '00165', '00166', '00167', '00168', '00169', '00170', '00171', '00172', '00173', '00174', '00175', '00176', '00177', '00178', '00179', '00180', '00181', '00182', '00183', '00184', '00185', '00186', '00187', '00188', '00189', '00190', '00191', '00192', '00193', '00194', '00195', '00196', '00197', '00198', '00199', '00200', '00201', '00202', '00203', '00204', '00205', '00206', '00207', '00208', '00209', '00210'], ['00001', '00002', '00003', '00004', '00005', '00006', '00007', '00008', '00009', '00010', '00011', '00012', '00013', '00014', '00015', '00016', '00017', '00018', '00019', '00020', '00021', '00022', '00023', '00024', '00025', '00026', '00027', '00028', '00029', '00030', '00031', '00032', '00033', '00034', '00035', '00036', '00037', '00038', '00039', '00040', '00041', '00042', '00043', '00044', '00045', '00046', '00047', '00048', '00049', '00050', '00051', '00052', '00053', '00054', '00055', '00056', '00057', '00058', '00059', '00060', '00061', '00062', '00063', '00064', '00065', '00066', '00067', '00068', '00069', '00070', '00071', '00072', '00073', '00074', '00075', '00076', '00077', '00078', '00079', '00080', '00081', '00082', '00083', '00084', '00085', '00086', '00087', '00088', '00089', '00090', '00091', '00092', '00093', '00094', '00095', '00096', '00097', '00098', '00099', '00100', '00101', '00102', '00103', '00104', '00105', '00106', '00107', '00108', '00109', '00110', '00111', '00112', '00113', '00114', '00115', '00116', '00117', '00118', '00119', '00120', '00121', '00122', '00123', '00124', '00125', '00126', '00127', '00128', '00129', '00130', '00131', '00132', '00133', '00134', '00135', '00136', '00137', '00138', '00139', '00140', '00141', '00142', '00143', '00144', '00145', '00146', '00147', '00148', '00149', '00150', '00151', '00152', '00153', '00154', '00155', '00156', '00157', '00158', '00159', '00160', '00161', '00162', '00163', '00164', '00165', '00166', '00167', '00168', '00169', '00170', '00171', '00172', '00173', '00174', '00175', '00176', '00177', '00178', '00179', '00180', '00181', '00182', '00183', '00184', '00185', '00186', '00187', '00188', '00189', '00190', '00191', '00192', '00193', '00194', '00195', '00196', '00197', '00198', '00199'], ['00001', '00002', '00003', '00004', '00005', '00006', '00007', '00008', '00009', '00010', '00011', '00012', '00013', '00014', '00015', '00016', '00017', '00018', '00019', '00020', '00021', '00022', '00023', '00024', '00025', '00026', '00027', '00028', '00029', '00030', '00031', '00032', '00033', '00034', '00035', '00036', '00037', '00038', '00039', '00040', '00041', '00042', '00043', '00044', '00045', '00046', '00047', '00048', '00049', '00050', '00051', '00052', '00053', '00054', '00055', '00056', '00057', '00058', '00059', '00060', '00061', '00062', '00063', '00064', '00065', '00066', '00067', '00068', '00069', '00070', '00071', '00072', '00073', '00074', '00075', '00076', '00077', '00078', '00079', '00080', '00081', '00082', '00083', '00084', '00085', '00086', '00087', '00088', '00089', '00090', '00091', '00092', '00093', '00094', '00095', '00096', '00097', '00098', '00099', '00100', '00101', '00102', '00103', '00104', '00105', '00106', '00107', '00108', '00109', '00110', '00111', '00112', '00113', '00114', '00115', '00116', '00117', '00118', '00119', '00120', '00121', '00122', '00123', '00124', '00125', '00126', '00127', '00128', '00129', '00130', '00131', '00132', '00133', '00134', '00135', '00136', '00137', '00138', '00139', '00140'], ['00001', '00002', '00003', '00004', '00005', '00006', '00007', '00008', '00009', '00010', '00011', '00012', '00013', '00014', '00015', '00016', '00017', '00018', '00019', '00020', '00021', '00022', '00023', '00024', '00025', '00026', '00027', '00028', '00029', '00030', '00031', '00032', '00033', '00034', '00035', '00036', '00037', '00038', '00039', '00040', '00041', '00042', '00043', '00044', '00045', '00046', '00047', '00048', '00049', '00050', '00051', '00052', '00053', '00054', '00055', '00056', '00057', '00058', '00059', '00060', '00061', '00062', '00063', '00064', '00065', '00066', '00067', '00068', '00069', '00070', '00071', '00072', '00073', '00074', '00075', '00076', '00077', '00078', '00079', '00080', '00081', '00082', '00083', '00084', '00085', '00086', '00087', '00088', '00089', '00090', '00091', '00092', '00093', '00094', '00095', '00096', '00097', '00098', '00099', '00100', '00101', '00102', '00103', '00104', '00105'], ['00001', '00002', '00003', '00004', '00005', '00006', '00007', '00008', '00009', '00010', '00011', '00012', '00013', '00014', '00015', '00016', '00017', '00018', '00019', '00020', '00021', '00022', '00023', '00024', '00025', '00026', '00027', '00028', '00029', '00030', '00031', '00032', '00033', '00034', '00035', '00036', '00037', '00038', '00039', '00040', '00041', '00042', '00043', '00044', '00045', '00046', '00047', '00048', '00049', '00050', '00051', '00052', '00053', '00054', '00055', '00056', '00057', '00058', '00059', '00060', '00061', '00062', '00063', '00064', '00065', '00066', '00067', '00068', '00069', '00070', '00071', '00072', '00073', '00074', '00075', '00076', '00077', '00078', '00079', '00080', '00081', '00082', '00083', '00084', '00085', '00086', '00087', '00088', '00089', '00090', '00091', '00092', '00093', '00094', '00095', '00096', '00097', '00098', '00099', '00100', '00101', '00102', '00103', '00104', '00105', '00106', '00107', '00108', '00109', '00110', '00111', '00112', '00113', '00114', '00115', '00116', '00117', '00118', '00119', '00120', '00121', '00122', '00123', '00124', '00125', '00126', '00127', '00128', '00129', '00130', '00131', '00132', '00133', '00134', '00135', '00136', '00137', '00138', '00139', '00140', '00141', '00142', '00143', '00144', '00145', '00146', '00147', '00148', '00149', '00150', '00151', '00152', '00153', '00154', '00155', '00156', '00157', '00158', '00159', '00160', '00161', '00162', '00163', '00164', '00165', '00166', '00167', '00168', '00169', '00170', '00171', '00172', '00173', '00174', '00175', '00176', '00177', '00178', '00179', '00180', '00181', '00182', '00183', '00184', '00185', '00186', '00187'], ['00001', '00002', '00003', '00004', '00005', '00006', '00007', '00008', '00009', '00010', '00011', '00012', '00013', '00014', '00015', '00016', '00017', '00018', '00019', '00020', '00021', '00022', '00023', '00024', '00025', '00026', '00027', '00028', '00029', '00030', '00031', '00032', '00033', '00034', '00035', '00036', '00037', '00038', '00039', '00040', '00041', '00042', '00043', '00044', '00045', '00046', '00047', '00048', '00049', '00050', '00051', '00052', '00053', '00054', '00055', '00056', '00057', '00058', '00059', '00060', '00061', '00062', '00063', '00064', '00065', '00066', '00067', '00068', '00069', '00070', '00071', '00072', '00073', '00074', '00075', '00076', '00077', '00078', '00079', '00080', '00081', '00082', '00083', '00084', '00085', '00086', '00087', '00088', '00089', '00090', '00091', '00092', '00093', '00094', '00095', '00096', '00097', '00098', '00099', '00100', '00101', '00102', '00103', '00104', '00105', '00106', '00107', '00108', '00109', '00110', '00111', '00112', '00113', '00114', '00115', '00116', '00117', '00118', '00119', '00120', '00121', '00122', '00123', '00124', '00125', '00126'], ['00001', '00002', '00003', '00004', '00005', '00006', '00007', '00008', '00009', '00010', '00011', '00012', '00013', '00014', '00015', '00016', '00017', '00018', '00019', '00020', '00021', '00022', '00023', '00024', '00025', '00026', '00027', '00028', '00029', '00030', '00031', '00032', '00033', '00034', '00035', '00036', '00037', '00038', '00039', '00040', '00041', '00042', '00043', '00044', '00045', '00046', '00047', '00048', '00049', '00050', '00051', '00052', '00053', '00054', '00055', '00056', '00057', '00058', '00059', '00060', '00061', '00062', '00063', '00064', '00065', '00066', '00067', '00068', '00069', '00070', '00071', '00072', '00073', '00074', '00075', '00076', '00077', '00078', '00079', '00080', '00081', '00082', '00083', '00084', '00085', '00086', '00087', '00088', '00089', '00090', '00091', '00092', '00093', '00094', '00095', '00096', '00097', '00098', '00099', '00100', '00101', '00102', '00103', '00104', '00105', '00106', '00107', '00108', '00109', '00110', '00111', '00112', '00113', '00114', '00115', '00116', '00117', '00118', '00119', '00120', '00121', '00122', '00123', '00124', '00125', '00126', '00127', '00128', '00129', '00130', '00131', '00132', '00133', '00134', '00135', '00136', '00137', '00138', '00139', '00140', '00141', '00142', '00143', '00144', '00145', '00146', '00147', '00148', '00149', '00150', '00151', '00152', '00153', '00154', '00155', '00156', '00157', '00158', '00159', '00160', '00161', '00162', '00163', '00164', '00165', '00166', '00167', '00168', '00169', '00170', '00171', '00172', '00173', '00174', '00175', '00176', '00177', '00178', '00179', '00180', '00181', '00182', '00183', '00184', '00185', '00186'], ['00001', '00002', '00003', '00004', '00005', '00006', '00007', '00008', '00009', '00010', '00011', '00012', '00013', '00014', '00015', '00016', '00017', '00018', '00019', '00020', '00021', '00022', '00023', '00024', '00025', '00026', '00027', '00028', '00029', '00030', '00031', '00032', '00033', '00034', '00035', '00036', '00037', '00038', '00039', '00040', '00041', '00042', '00043', '00044', '00045', '00046', '00047', '00048', '00049', '00050', '00051', '00052', '00053', '00054', '00055', '00056', '00057', '00058', '00059', '00060', '00061', '00062', '00063', '00064', '00065', '00066', '00067', '00068', '00069', '00070', '00071', '00072', '00073', '00074', '00075', '00076', '00077', '00078', '00079', '00080', '00081', '00082', '00083', '00084', '00085', '00086', '00087', '00088', '00089', '00090', '00091', '00092', '00093', '00094', '00095', '00096', '00097', '00098', '00099', '00100', '00101', '00102', '00103', '00104', '00105', '00106', '00107', '00108', '00109', '00110', '00111', '00112', '00113', '00114', '00115', '00116', '00117', '00118', '00119', '00120', '00121', '00122', '00123', '00124', '00125', '00126', '00127', '00128', '00129', '00130', '00131', '00132', '00133', '00134', '00135', '00136', '00137', '00138', '00139', '00140', '00141', '00142', '00143', '00144', '00145', '00146', '00147', '00148', '00149', '00150', '00151', '00152', '00153', '00154', '00155', '00156', '00157', '00158', '00159', '00160', '00161', '00162', '00163', '00164', '00165', '00166', '00167', '00168', '00169', '00170', '00171', '00172', '00173', '00174', '00175', '00176', '00177', '00178', '00179', '00180', '00181', '00182', '00183', '00184', '00185', '00186', '00187', '00188', '00189', '00190', '00191', '00192', '00193', '00194', '00195', '00196', '00197', '00198', '00199', '00200', '00201', '00202', '00203', '00204', '00205', '00206', '00207', '00208', '00209', '00210', '00211', '00212', '00213', '00214', '00215', '00216', '00217', '00218', '00219', '00220', '00221'], ['00001', '00002', '00003', '00004', '00005', '00006', '00007', '00008', '00009', '00010', '00011', '00012', '00013', '00014', '00015', '00016', '00017', '00018', '00019', '00020', '00021', '00022', '00023', '00024', '00025', '00026', '00027', '00028', '00029', '00030', '00031', '00032', '00033', '00034', '00035', '00036', '00037', '00038', '00039', '00040', '00041', '00042', '00043', '00044', '00045', '00046', '00047', '00048', '00049', '00050', '00051', '00052', '00053', '00054', '00055', '00056', '00057', '00058', '00059'], ['00001', '00002', '00003', '00004', '00005', '00006', '00007', '00008', '00009', '00010', '00011', '00012', '00013', '00014', '00015', '00016', '00017', '00018', '00019', '00020', '00021', '00022', '00023', '00024', '00025', '00026', '00027', '00028', '00029', '00030', '00031', '00032', '00033', '00034', '00035', '00036', '00037', '00038', '00039', '00040', '00041', '00042', '00043', '00044', '00045', '00046', '00047', '00048', '00049', '00050', '00051', '00052', '00053', '00054', '00055', '00056', '00057', '00058', '00059', '00060', '00061', '00062', '00063', '00064', '00065', '00066', '00067', '00068', '00069', '00070', '00071', '00072', '00073', '00074', '00075', '00076', '00077', '00078', '00079', '00080', '00081', '00082', '00083', '00084', '00085', '00086', '00087', '00088', '00089', '00090', '00091', '00092', '00093', '00094', '00095', '00096', '00097', '00098', '00099', '00100', '00101', '00102', '00103', '00104', '00105', '00106', '00107', '00108', '00109', '00110', '00111', '00112', '00113', '00114', '00115', '00116', '00117', '00118', '00119', '00120', '00121', '00122', '00123', '00124', '00125', '00126', '00127', '00128', '00129', '00130', '00131', '00132', '00133', '00134', '00135', '00136', '00137', '00138', '00139', '00140', '00141', '00142', '00143', '00144', '00145', '00146', '00147', '00148', '00149', '00150', '00151', '00152', '00153', '00154', '00155', '00156', '00157', '00158', '00159', '00160', '00161', '00162', '00163'], ['00001', '00002', '00003', '00004', '00005', '00006', '00007', '00008', '00009', '00010', '00011', '00012', '00013', '00014', '00015', '00016', '00017', '00018', '00019', '00020', '00021', '00022', '00023', '00024', '00025', '00026', '00027', '00028', '00029', '00030', '00031', '00032', '00033', '00034', '00035', '00036', '00037', '00038', '00039', '00040', '00041', '00042', '00043', '00044', '00045', '00046', '00047', '00048', '00049', '00050', '00051', '00052', '00053', '00054', '00055', '00056', '00057', '00058', '00059', '00060', '00061', '00062', '00063', '00064', '00065', '00066', '00067', '00068', '00069', '00070', '00071', '00072', '00073', '00074', '00075', '00076', '00077', '00078', '00079', '00080', '00081', '00082', '00083', '00084', '00085', '00086', '00087', '00088', '00089', '00090', '00091', '00092', '00093', '00094', '00095', '00096', '00097', '00098', '00099', '00100', '00101', '00102', '00103', '00104', '00105', '00106', '00107'], ['00001', '00002', '00003', '00004', '00005', '00006', '00007', '00008', '00009', '00010', '00011', '00012', '00013', '00014', '00015', '00016', '00017', '00018', '00019', '00020', '00021', '00022', '00023', '00024', '00025', '00026', '00027', '00028', '00029', '00030', '00031', '00032', '00033', '00034', '00035', '00036', '00037', '00038', '00039', '00040', '00041', '00042', '00043', '00044', '00045', '00046', '00047', '00048', '00049', '00050', '00051', '00052', '00053', '00054', '00055', '00056', '00057', '00058', '00059', '00060', '00061', '00062', '00063', '00064', '00065', '00066', '00067', '00068', '00069', '00070', '00071', '00072', '00073', '00074', '00075', '00076', '00077', '00078', '00079', '00080', '00081', '00082', '00083', '00084', '00085', '00086', '00087', '00088', '00089', '00090', '00091', '00092', '00093', '00094', '00095', '00096', '00097', '00098', '00099', '00100', '00101', '00102', '00103', '00104', '00105', '00106', '00107', '00108', '00109', '00110', '00111', '00112', '00113', '00114', '00115', '00116', '00117', '00118', '00119', '00120', '00121', '00122', '00123', '00124', '00125', '00126', '00127', '00128', '00129', '00130', '00131', '00132', '00133', '00134', '00135', '00136', '00137', '00138', '00139', '00140', '00141'], ['00001', '00002', '00003', '00004', '00005', '00006', '00007', '00008', '00009', '00010', '00011', '00012', '00013', '00014', '00015', '00016', '00017', '00018', '00019', '00020', '00021', '00022', '00023', '00024', '00025', '00026', '00027', '00028', '00029', '00030', '00031', '00032', '00033', '00034', '00035', '00036', '00037', '00038', '00039', '00040', '00041', '00042', '00043', '00044', '00045', '00046', '00047', '00048', '00049', '00050', '00051', '00052', '00053', '00054', '00055', '00056', '00057', '00058', '00059', '00060', '00061', '00062', '00063', '00064', '00065', '00066', '00067', '00068', '00069', '00070', '00071', '00072', '00073', '00074', '00075', '00076', '00077', '00078', '00079', '00080', '00081', '00082', '00083', '00084', '00085', '00086', '00087', '00088', '00089', '00090', '00091', '00092', '00093', '00094', '00095', '00096', '00097', '00098', '00099', '00100', '00101', '00102', '00103', '00104', '00105', '00106', '00107', '00108', '00109', '00110', '00111', '00112', '00113', '00114', '00115', '00116', '00117', '00118', '00119', '00120', '00121', '00122', '00123', '00124', '00125', '00126', '00127', '00128', '00129', '00130', '00131', '00132', '00133', '00134', '00135', '00136', '00137', '00138', '00139', '00140', '00141', '00142', '00143', '00144', '00145', '00146', '00147', '00148', '00149', '00150', '00151', '00152', '00153', '00154', '00155', '00156', '00157', '00158', '00159', '00160', '00161', '00162', '00163', '00164', '00165', '00166', '00167', '00168', '00169', '00170', '00171', '00172', '00173', '00174', '00175', '00176', '00177', '00178', '00179', '00180', '00181', '00182', '00183', '00184', '00185', '00186', '00187', '00188', '00189', '00190', '00191', '00192', '00193', '00194', '00195', '00196', '00197', '00198', '00199', '00200', '00201', '00202', '00203', '00204', '00205', '00206', '00207', '00208', '00209', '00210', '00211', '00212', '00213', '00214', '00215', '00216', '00217', '00218', '00219', '00220', '00221', '00222', '00223', '00224', '00225', '00226', '00227', '00228', '00229', '00230', '00231', '00232', '00233', '00234', '00235', '00236', '00237', '00238', '00239', '00240', '00241', '00242', '00243', '00244', '00245', '00246', '00247', '00248', '00249', '00250', '00251', '00252', '00253', '00254', '00255', '00256', '00257', '00258', '00259', '00260', '00261', '00262', '00263', '00264', '00265', '00266', '00267', '00268', '00269', '00270', '00271', '00272', '00273', '00274', '00275', '00276', '00277', '00278', '00279', '00280', '00281', '00282', '00283', '00284', '00285', '00286', '00287', '00288', '00289', '00290', '00291', '00292', '00293', '00294', '00295', '00296', '00297', '00298', '00299', '00300', '00301', '00302', '00303', '00304', '00305', '00306', '00307', '00308', '00309', '00310', '00311', '00312', '00313', '00314', '00315', '00316', '00317', '00318', '00319', '00320', '00321', '00322', '00323', '00324', '00325', '00326', '00327', '00328', '00329', '00330', '00331', '00332', '00333', '00334', '00335', '00336', '00337', '00338', '00339', '00340', '00341', '00342', '00343', '00344', '00345', '00346', '00347', '00348', '00349', '00350', '00351', '00352', '00353', '00354', '00355', '00356', '00357', '00358', '00359', '00360', '00361', '00362', '00363', '00364', '00365', '00366', '00367', '00368', '00369', '00370', '00371', '00372', '00373', '00374', '00375', '00376', '00377', '00378', '00379', '00380', '00381', '00382', '00383'], ['00001', '00002', '00003', '00004', '00005', '00006', '00007', '00008', '00009', '00010', '00011', '00012', '00013', '00014', '00015', '00016', '00017', '00018', '00019', '00020', '00021', '00022', '00023', '00024', '00025', '00026', '00027', '00028', '00029', '00030', '00031', '00032', '00033', '00034', '00035', '00036', '00037', '00038', '00039', '00040', '00041', '00042', '00043', '00044', '00045', '00046', '00047', '00048', '00049', '00050', '00051', '00052', '00053', '00054', '00055', '00056', '00057', '00058', '00059', '00060', '00061', '00062', '00063', '00064', '00065', '00066', '00067', '00068', '00069', '00070', '00071', '00072', '00073', '00074', '00075', '00076', '00077', '00078', '00079', '00080', '00081', '00082', '00083', '00084', '00085', '00086', '00087', '00088', '00089', '00090', '00091', '00092', '00093', '00094', '00095', '00096', '00097', '00098', '00099', '00100', '00101', '00102', '00103', '00104', '00105', '00106', '00107', '00108', '00109', '00110', '00111', '00112', '00113', '00114', '00115', '00116', '00117', '00118', '00119', '00120', '00121', '00122', '00123', '00124', '00125', '00126', '00127', '00128', '00129', '00130', '00131', '00132', '00133', '00134', '00135', '00136', '00137', '00138', '00139', '00140', '00141', '00142', '00143', '00144', '00145', '00146', '00147', '00148', '00149', '00150', '00151', '00152', '00153', '00154', '00155', '00156', '00157', '00158', '00159', '00160', '00161', '00162', '00163', '00164', '00165', '00166', '00167', '00168', '00169', '00170', '00171', '00172', '00173', '00174', '00175', '00176', '00177', '00178', '00179', '00180', '00181', '00182', '00183', '00184', '00185', '00186', '00187', '00188', '00189', '00190', '00191', '00192', '00193', '00194', '00195', '00196', '00197', '00198', '00199', '00200', '00201', '00202', '00203', '00204', '00205', '00206', '00207', '00208', '00209', '00210', '00211', '00212', '00213', '00214', '00215', '00216', '00217'], ['00001', '00002', '00003', '00004', '00005', '00006', '00007', '00008', '00009', '00010', '00011', '00012', '00013', '00014', '00015', '00016', '00017', '00018', '00019', '00020', '00021', '00022', '00023', '00024', '00025', '00026', '00027', '00028', '00029', '00030', '00031', '00032', '00033', '00034', '00035', '00036', '00037', '00038', '00039', '00040', '00041', '00042', '00043', '00044', '00045', '00046', '00047', '00048', '00049', '00050', '00051', '00052', '00053', '00054', '00055', '00056', '00057', '00058', '00059', '00060', '00061', '00062', '00063', '00064', '00065', '00066', '00067', '00068', '00069', '00070', '00071', '00072', '00073', '00074', '00075', '00076', '00077', '00078', '00079', '00080', '00081', '00082', '00083', '00084', '00085', '00086', '00087', '00088', '00089', '00090'], ['00001', '00002', '00003', '00004', '00005', '00006', '00007', '00008', '00009', '00010', '00011', '00012', '00013', '00014', '00015', '00016', '00017', '00018', '00019', '00020', '00021', '00022', '00023', '00024', '00025', '00026', '00027', '00028', '00029', '00030', '00031', '00032', '00033', '00034', '00035', '00036', '00037', '00038', '00039', '00040', '00041', '00042', '00043', '00044', '00045', '00046', '00047', '00048', '00049', '00050', '00051', '00052', '00053', '00054', '00055', '00056', '00057', '00058', '00059', '00060', '00061', '00062', '00063'], ['00001', '00002', '00003', '00004', '00005', '00006', '00007', '00008', '00009', '00010', '00011', '00012', '00013', '00014', '00015', '00016', '00017', '00018', '00019', '00020', '00021', '00022', '00023', '00024', '00025', '00026', '00027', '00028', '00029', '00030', '00031', '00032', '00033', '00034', '00035', '00036', '00037', '00038', '00039', '00040', '00041', '00042', '00043', '00044', '00045', '00046', '00047', '00048', '00049', '00050', '00051', '00052', '00053', '00054', '00055', '00056', '00057', '00058', '00059', '00060', '00061', '00062', '00063', '00064', '00065', '00066', '00067', '00068', '00069', '00070', '00071', '00072', '00073', '00074', '00075', '00076', '00077', '00078', '00079', '00080', '00081', '00082', '00083', '00084', '00085', '00086', '00087', '00088', '00089', '00090', '00091', '00092', '00093', '00094', '00095', '00096', '00097', '00098', '00099', '00100', '00101', '00102', '00103', '00104', '00105', '00106', '00107', '00108', '00109', '00110', '00111', '00112', '00113', '00114', '00115', '00116', '00117', '00118', '00119', '00120', '00121', '00122', '00123', '00124', '00125', '00126', '00127', '00128', '00129', '00130', '00131', '00132', '00133', '00134', '00135', '00136', '00137', '00138', '00139', '00140', '00141', '00142', '00143', '00144', '00145', '00146', '00147', '00148', '00149', '00150', '00151', '00152', '00153', '00154', '00155', '00156', '00157', '00158', '00159', '00160', '00161', '00162', '00163', '00164', '00165', '00166', '00167', '00168', '00169', '00170', '00171', '00172', '00173', '00174', '00175', '00176', '00177', '00178', '00179', '00180', '00181', '00182', '00183', '00184', '00185', '00186', '00187', '00188', '00189', '00190', '00191', '00192', '00193', '00194', '00195', '00196', '00197', '00198', '00199', '00200', '00201', '00202', '00203', '00204', '00205', '00206', '00207', '00208', '00209', '00210', '00211', '00212', '00213', '00214', '00215', '00216', '00217', '00218', '00219', '00220', '00221', '00222', '00223', '00224', '00225', '00226', '00227', '00228', '00229', '00230', '00231', '00232', '00233', '00234', '00235', '00236', '00237', '00238', '00239', '00240', '00241', '00242', '00243', '00244', '00245', '00246', '00247', '00248', '00249', '00250', '00251', '00252', '00253', '00254', '00255', '00256', '00257', '00258', '00259', '00260', '00261', '00262', '00263', '00264', '00265', '00266', '00267', '00268', '00269', '00270', '00271', '00272', '00273', '00274', '00275', '00276', '00277', '00278', '00279', '00280', '00281', '00282', '00283', '00284', '00285', '00286', '00287', '00288', '00289', '00290', '00291', '00292', '00293', '00294', '00295', '00296', '00297', '00298', '00299', '00300', '00301', '00302', '00303', '00304', '00305', '00306', '00307', '00308', '00309', '00310', '00311', '00312', '00313', '00314', '00315', '00316', '00317', '00318', '00319', '00320', '00321', '00322', '00323', '00324', '00325', '00326', '00327', '00328', '00329', '00330', '00331', '00332', '00333', '00334', '00335', '00336', '00337', '00338', '00339', '00340', '00341', '00342', '00343', '00344', '00345', '00346', '00347', '00348', '00349', '00350', '00351', '00352', '00353', '00354', '00355', '00356', '00357', '00358', '00359', '00360', '00361', '00362', '00363', '00364', '00365', '00366', '00367', '00368', '00369', '00370', '00371', '00372', '00373', '00374', '00375', '00376', '00377', '00378', '00379', '00380', '00381', '00382', '00383', '00384', '00385', '00386', '00387', '00388', '00389', '00390', '00391', '00392', '00393', '00394', '00395', '00396', '00397', '00398', '00399', '00400'], ['00001', '00002', '00003', '00004', '00005', '00006', '00007', '00008', '00009', '00010', '00011', '00012', '00013', '00014', '00015', '00016', '00017', '00018', '00019', '00020', '00021', '00022', '00023', '00024', '00025', '00026', '00027', '00028', '00029', '00030', '00031', '00032', '00033', '00034', '00035', '00036', '00037', '00038', '00039', '00040', '00041', '00042', '00043', '00044', '00045', '00046', '00047', '00048', '00049', '00050', '00051', '00052', '00053', '00054', '00055', '00056', '00057', '00058', '00059', '00060', '00061', '00062', '00063', '00064', '00065', '00066', '00067', '00068', '00069', '00070', '00071', '00072', '00073', '00074', '00075', '00076', '00077', '00078', '00079', '00080', '00081', '00082', '00083', '00084', '00085', '00086', '00087', '00088', '00089', '00090', '00091', '00092', '00093', '00094'], ['00001', '00002', '00003', '00004', '00005', '00006', '00007', '00008', '00009', '00010', '00011', '00012', '00013', '00014', '00015', '00016', '00017', '00018', '00019', '00020', '00021', '00022', '00023', '00024', '00025', '00026', '00027', '00028', '00029', '00030', '00031', '00032', '00033', '00034', '00035', '00036', '00037', '00038', '00039', '00040', '00041', '00042', '00043', '00044', '00045', '00046', '00047', '00048', '00049', '00050', '00051', '00052', '00053', '00054', '00055', '00056', '00057', '00058', '00059', '00060', '00061', '00062', '00063', '00064', '00065', '00066', '00067', '00068', '00069', '00070', '00071', '00072', '00073', '00074', '00075', '00076', '00077', '00078', '00079', '00080', '00081', '00082', '00083', '00084', '00085', '00086', '00087', '00088', '00089', '00090', '00091', '00092', '00093', '00094', '00095', '00096', '00097', '00098', '00099', '00100', '00101', '00102', '00103', '00104', '00105', '00106', '00107', '00108', '00109', '00110', '00111', '00112', '00113', '00114', '00115', '00116', '00117', '00118', '00119', '00120', '00121', '00122', '00123', '00124', '00125', '00126', '00127', '00128', '00129', '00130', '00131', '00132', '00133', '00134', '00135', '00136', '00137', '00138', '00139', '00140', '00141', '00142', '00143', '00144', '00145', '00146', '00147', '00148', '00149', '00150', '00151', '00152'], ['00001', '00002', '00003', '00004', '00005', '00006', '00007', '00008', '00009', '00010', '00011', '00012', '00013', '00014', '00015', '00016', '00017', '00018', '00019', '00020', '00021', '00022', '00023', '00024', '00025', '00026', '00027', '00028', '00029', '00030', '00031', '00032', '00033', '00034', '00035', '00036', '00037', '00038', '00039', '00040', '00041', '00042', '00043', '00044', '00045', '00046', '00047', '00048', '00049', '00050', '00051', '00052', '00053', '00054', '00055', '00056', '00057', '00058', '00059', '00060', '00061', '00062', '00063', '00064', '00065', '00066', '00067', '00068', '00069', '00070', '00071', '00072', '00073', '00074', '00075', '00076', '00077', '00078', '00079', '00080', '00081', '00082', '00083', '00084', '00085', '00086', '00087', '00088', '00089', '00090', '00091', '00092', '00093', '00094', '00095', '00096', '00097', '00098', '00099', '00100', '00101', '00102', '00103', '00104', '00105', '00106', '00107', '00108', '00109', '00110', '00111', '00112', '00113'], ['00001', '00002', '00003', '00004', '00005', '00006', '00007', '00008', '00009', '00010', '00011', '00012', '00013', '00014', '00015', '00016', '00017', '00018', '00019', '00020', '00021', '00022', '00023', '00024', '00025', '00026', '00027', '00028', '00029', '00030', '00031', '00032', '00033', '00034', '00035', '00036', '00037', '00038', '00039', '00040', '00041', '00042', '00043', '00044', '00045', '00046', '00047', '00048', '00049', '00050', '00051', '00052', '00053', '00054', '00055', '00056', '00057', '00058', '00059', '00060', '00061', '00062', '00063', '00064', '00065', '00066', '00067', '00068', '00069', '00070', '00071', '00072', '00073', '00074', '00075', '00076', '00077', '00078', '00079', '00080', '00081', '00082', '00083', '00084', '00085', '00086', '00087', '00088', '00089', '00090', '00091', '00092', '00093', '00094', '00095', '00096', '00097', '00098', '00099', '00100', '00101', '00102', '00103', '00104', '00105', '00106', '00107', '00108', '00109', '00110', '00111', '00112', '00113', '00114', '00115', '00116', '00117', '00118', '00119', '00120', '00121', '00122', '00123', '00124', '00125', '00126'], ['00001', '00002', '00003', '00004', '00005', '00006', '00007', '00008', '00009', '00010', '00011', '00012', '00013', '00014', '00015', '00016', '00017', '00018', '00019', '00020', '00021', '00022', '00023', '00024', '00025', '00026', '00027', '00028', '00029', '00030', '00031', '00032', '00033', '00034', '00035', '00036', '00037', '00038', '00039', '00040', '00041', '00042', '00043', '00044', '00045', '00046', '00047', '00048', '00049', '00050', '00051', '00052', '00053', '00054', '00055', '00056', '00057', '00058', '00059', '00060', '00061', '00062', '00063', '00064', '00065', '00066', '00067', '00068', '00069', '00070', '00071', '00072', '00073', '00074', '00075', '00076', '00077', '00078', '00079', '00080', '00081', '00082', '00083', '00084', '00085', '00086', '00087', '00088', '00089', '00090', '00091', '00092', '00093', '00094', '00095', '00096', '00097', '00098', '00099', '00100', '00101', '00102', '00103', '00104', '00105', '00106', '00107', '00108', '00109', '00110', '00111', '00112', '00113', '00114', '00115', '00116', '00117', '00118', '00119', '00120', '00121', '00122', '00123', '00124', '00125', '00126', '00127', '00128', '00129', '00130', '00131', '00132', '00133', '00134', '00135', '00136', '00137', '00138', '00139', '00140', '00141', '00142', '00143', '00144', '00145', '00146', '00147', '00148', '00149', '00150', '00151', '00152', '00153', '00154', '00155', '00156', '00157', '00158', '00159', '00160', '00161', '00162', '00163', '00164', '00165', '00166', '00167', '00168', '00169', '00170', '00171', '00172'], ['00001', '00002', '00003', '00004', '00005', '00006', '00007', '00008', '00009', '00010', '00011', '00012', '00013', '00014', '00015', '00016', '00017', '00018', '00019', '00020', '00021', '00022', '00023', '00024', '00025', '00026', '00027', '00028', '00029', '00030', '00031', '00032', '00033', '00034', '00035', '00036', '00037', '00038', '00039', '00040', '00041', '00042', '00043', '00044', '00045', '00046', '00047', '00048', '00049', '00050', '00051', '00052', '00053', '00054', '00055', '00056', '00057', '00058', '00059', '00060', '00061', '00062', '00063', '00064', '00065', '00066', '00067', '00068', '00069', '00070', '00071', '00072', '00073', '00074', '00075', '00076', '00077', '00078', '00079', '00080', '00081', '00082', '00083', '00084', '00085', '00086'], ['00001', '00002', '00003', '00004', '00005', '00006', '00007', '00008', '00009', '00010', '00011', '00012', '00013', '00014', '00015', '00016', '00017', '00018', '00019', '00020', '00021', '00022', '00023', '00024', '00025', '00026', '00027', '00028', '00029', '00030', '00031', '00032', '00033', '00034', '00035', '00036', '00037', '00038', '00039', '00040', '00041', '00042', '00043', '00044', '00045', '00046', '00047', '00048', '00049', '00050', '00051', '00052', '00053', '00054', '00055', '00056', '00057', '00058', '00059', '00060', '00061', '00062', '00063', '00064', '00065', '00066', '00067', '00068', '00069', '00070', '00071', '00072', '00073', '00074', '00075', '00076', '00077', '00078', '00079', '00080', '00081', '00082', '00083', '00084', '00085', '00086', '00087', '00088', '00089', '00090', '00091', '00092', '00093', '00094', '00095', '00096', '00097', '00098', '00099', '00100', '00101', '00102', '00103', '00104', '00105', '00106', '00107', '00108', '00109', '00110', '00111', '00112', '00113', '00114', '00115', '00116', '00117', '00118', '00119', '00120', '00121', '00122', '00123', '00124', '00125', '00126', '00127', '00128', '00129', '00130', '00131', '00132', '00133', '00134', '00135', '00136', '00137', '00138', '00139', '00140', '00141', '00142', '00143', '00144', '00145', '00146', '00147', '00148', '00149', '00150', '00151', '00152', '00153', '00154', '00155', '00156', '00157', '00158', '00159', '00160', '00161', '00162', '00163', '00164', '00165', '00166', '00167', '00168', '00169', '00170', '00171', '00172', '00173', '00174', '00175', '00176'], ['00001', '00002', '00003', '00004', '00005', '00006', '00007', '00008', '00009', '00010', '00011', '00012', '00013', '00014', '00015', '00016', '00017', '00018', '00019', '00020', '00021', '00022', '00023', '00024', '00025', '00026', '00027', '00028', '00029', '00030', '00031', '00032', '00033', '00034', '00035', '00036', '00037', '00038', '00039', '00040', '00041', '00042', '00043', '00044', '00045', '00046', '00047', '00048', '00049', '00050', '00051', '00052', '00053', '00054', '00055', '00056', '00057', '00058', '00059', '00060', '00061', '00062', '00063', '00064', '00065', '00066', '00067'], ['00001', '00002', '00003', '00004', '00005', '00006', '00007', '00008', '00009', '00010', '00011', '00012', '00013', '00014', '00015', '00016', '00017', '00018', '00019', '00020', '00021', '00022', '00023', '00024', '00025', '00026', '00027', '00028', '00029', '00030', '00031', '00032', '00033', '00034', '00035', '00036', '00037', '00038', '00039', '00040', '00041', '00042', '00043', '00044', '00045', '00046', '00047', '00048', '00049', '00050', '00051', '00052', '00053', '00054', '00055', '00056', '00057', '00058', '00059', '00060', '00061', '00062', '00063', '00064', '00065', '00066', '00067', '00068', '00069', '00070', '00071', '00072', '00073', '00074', '00075', '00076', '00077', '00078', '00079', '00080', '00081', '00082', '00083', '00084', '00085', '00086', '00087', '00088', '00089', '00090', '00091', '00092', '00093', '00094', '00095', '00096', '00097', '00098', '00099', '00100', '00101', '00102', '00103', '00104', '00105', '00106', '00107', '00108', '00109', '00110', '00111', '00112', '00113', '00114', '00115', '00116', '00117', '00118', '00119', '00120', '00121', '00122', '00123', '00124', '00125', '00126', '00127', '00128', '00129', '00130', '00131', '00132', '00133', '00134', '00135', '00136', '00137', '00138', '00139', '00140', '00141', '00142', '00143', '00144', '00145', '00146', '00147', '00148', '00149', '00150', '00151', '00152', '00153', '00154', '00155', '00156', '00157', '00158', '00159', '00160', '00161', '00162', '00163', '00164', '00165', '00166', '00167', '00168', '00169', '00170', '00171', '00172', '00173', '00174', '00175', '00176', '00177', '00178', '00179', '00180', '00181', '00182', '00183', '00184', '00185', '00186', '00187', '00188', '00189', '00190', '00191', '00192', '00193', '00194'], ['00001', '00002', '00003', '00004', '00005', '00006', '00007', '00008', '00009', '00010', '00011', '00012', '00013', '00014', '00015', '00016', '00017', '00018', '00019', '00020', '00021', '00022', '00023', '00024', '00025', '00026', '00027', '00028', '00029', '00030', '00031', '00032', '00033', '00034', '00035', '00036', '00037', '00038', '00039', '00040', '00041', '00042', '00043', '00044', '00045', '00046', '00047', '00048', '00049', '00050', '00051', '00052', '00053', '00054', '00055', '00056', '00057', '00058', '00059', '00060', '00061', '00062', '00063', '00064', '00065', '00066', '00067', '00068', '00069', '00070', '00071', '00072', '00073', '00074', '00075', '00076', '00077'], ['00001', '00002', '00003', '00004', '00005', '00006', '00007', '00008', '00009', '00010', '00011', '00012', '00013', '00014', '00015', '00016', '00017', '00018', '00019', '00020', '00021', '00022', '00023', '00024', '00025', '00026', '00027', '00028', '00029', '00030', '00031', '00032', '00033', '00034', '00035', '00036', '00037', '00038', '00039', '00040', '00041', '00042', '00043', '00044', '00045', '00046', '00047', '00048', '00049', '00050', '00051', '00052', '00053', '00054', '00055', '00056', '00057', '00058', '00059', '00060', '00061', '00062', '00063', '00064', '00065', '00066', '00067', '00068', '00069', '00070', '00071', '00072', '00073', '00074', '00075', '00076', '00077', '00078', '00079', '00080', '00081', '00082', '00083', '00084', '00085', '00086', '00087', '00088', '00089', '00090', '00091', '00092', '00093', '00094', '00095', '00096', '00097', '00098', '00099', '00100', '00101', '00102', '00103', '00104', '00105', '00106', '00107', '00108', '00109', '00110', '00111', '00112', '00113', '00114', '00115', '00116', '00117', '00118', '00119', '00120', '00121', '00122', '00123', '00124', '00125', '00126', '00127', '00128', '00129', '00130', '00131', '00132', '00133', '00134', '00135', '00136', '00137', '00138'], ['00001', '00002', '00003', '00004', '00005', '00006', '00007', '00008', '00009', '00010', '00011', '00012', '00013', '00014', '00015', '00016', '00017', '00018', '00019', '00020', '00021', '00022', '00023', '00024', '00025', '00026', '00027', '00028', '00029', '00030', '00031', '00032', '00033', '00034', '00035', '00036', '00037', '00038', '00039', '00040', '00041', '00042', '00043', '00044', '00045', '00046', '00047', '00048', '00049', '00050', '00051', '00052', '00053', '00054', '00055', '00056', '00057', '00058', '00059', '00060', '00061', '00062', '00063', '00064', '00065', '00066', '00067', '00068', '00069', '00070', '00071', '00072', '00073', '00074', '00075', '00076', '00077', '00078', '00079', '00080', '00081', '00082', '00083', '00084', '00085', '00086', '00087', '00088', '00089', '00090', '00091', '00092', '00093', '00094', '00095', '00096', '00097', '00098', '00099', '00100', '00101', '00102', '00103', '00104', '00105', '00106', '00107', '00108', '00109', '00110', '00111', '00112', '00113'], ['00001', '00002', '00003', '00004', '00005', '00006', '00007', '00008', '00009', '00010', '00011', '00012', '00013', '00014', '00015', '00016', '00017', '00018', '00019', '00020', '00021', '00022', '00023', '00024', '00025', '00026', '00027', '00028', '00029', '00030', '00031', '00032', '00033', '00034', '00035', '00036', '00037', '00038', '00039', '00040', '00041', '00042', '00043', '00044', '00045', '00046', '00047', '00048', '00049', '00050', '00051', '00052', '00053', '00054', '00055', '00056', '00057', '00058', '00059', '00060', '00061', '00062', '00063', '00064', '00065', '00066', '00067', '00068', '00069', '00070', '00071', '00072', '00073', '00074', '00075', '00076', '00077', '00078', '00079', '00080', '00081', '00082', '00083', '00084', '00085', '00086', '00087', '00088', '00089', '00090', '00091', '00092', '00093', '00094', '00095', '00096', '00097', '00098', '00099', '00100', '00101', '00102', '00103', '00104', '00105', '00106', '00107', '00108', '00109', '00110', '00111', '00112', '00113', '00114', '00115', '00116', '00117', '00118', '00119', '00120', '00121', '00122', '00123', '00124', '00125', '00126', '00127', '00128', '00129', '00130', '00131', '00132', '00133', '00134', '00135', '00136', '00137', '00138', '00139', '00140', '00141', '00142', '00143', '00144', '00145', '00146', '00147', '00148', '00149', '00150', '00151', '00152', '00153', '00154', '00155', '00156', '00157', '00158', '00159', '00160', '00161', '00162', '00163', '00164', '00165', '00166', '00167', '00168', '00169', '00170', '00171', '00172'], ['00001', '00002', '00003', '00004', '00005', '00006', '00007', '00008', '00009', '00010', '00011', '00012', '00013', '00014', '00015', '00016', '00017', '00018', '00019', '00020', '00021', '00022', '00023', '00024', '00025', '00026', '00027', '00028', '00029', '00030', '00031', '00032', '00033', '00034', '00035', '00036', '00037', '00038', '00039', '00040'], ['00001', '00002', '00003', '00004', '00005', '00006', '00007', '00008', '00009', '00010', '00011', '00012', '00013', '00014', '00015', '00016', '00017', '00018', '00019', '00020', '00021', '00022', '00023', '00024', '00025', '00026', '00027', '00028', '00029', '00030', '00031', '00032', '00033', '00034', '00035', '00036', '00037', '00038', '00039', '00040', '00041', '00042', '00043', '00044', '00045', '00046', '00047', '00048', '00049', '00050', '00051', '00052', '00053', '00054', '00055', '00056', '00057', '00058', '00059', '00060', '00061', '00062', '00063', '00064', '00065', '00066', '00067'], ['00001', '00002', '00003', '00004', '00005', '00006', '00007', '00008', '00009', '00010', '00011', '00012', '00013', '00014', '00015', '00016', '00017', '00018', '00019', '00020', '00021', '00022', '00023', '00024', '00025', '00026', '00027', '00028', '00029', '00030', '00031', '00032', '00033', '00034', '00035', '00036', '00037', '00038', '00039', '00040', '00041', '00042', '00043', '00044', '00045', '00046', '00047', '00048', '00049', '00050', '00051', '00052', '00053', '00054', '00055', '00056', '00057', '00058', '00059', '00060', '00061', '00062', '00063', '00064', '00065', '00066', '00067', '00068', '00069', '00070', '00071', '00072', '00073', '00074', '00075', '00076', '00077', '00078', '00079', '00080', '00081', '00082', '00083', '00084', '00085', '00086', '00087', '00088', '00089', '00090', '00091', '00092', '00093', '00094', '00095', '00096', '00097', '00098', '00099', '00100', '00101', '00102', '00103', '00104', '00105', '00106', '00107', '00108', '00109', '00110', '00111', '00112', '00113', '00114', '00115', '00116', '00117', '00118', '00119', '00120', '00121', '00122', '00123', '00124', '00125', '00126', '00127', '00128', '00129', '00130', '00131', '00132', '00133', '00134', '00135', '00136', '00137', '00138', '00139', '00140', '00141', '00142', '00143', '00144'], ['00001', '00002', '00003', '00004', '00005', '00006', '00007', '00008', '00009', '00010', '00011', '00012', '00013', '00014', '00015', '00016', '00017', '00018', '00019', '00020', '00021', '00022', '00023', '00024', '00025', '00026', '00027', '00028', '00029', '00030', '00031', '00032', '00033', '00034', '00035', '00036', '00037', '00038', '00039', '00040', '00041', '00042', '00043', '00044', '00045', '00046', '00047', '00048', '00049', '00050', '00051', '00052', '00053', '00054', '00055', '00056', '00057', '00058', '00059', '00060', '00061', '00062', '00063', '00064', '00065', '00066', '00067', '00068', '00069', '00070', '00071', '00072', '00073', '00074', '00075', '00076', '00077', '00078', '00079', '00080', '00081', '00082', '00083', '00084', '00085', '00086', '00087', '00088', '00089', '00090', '00091', '00092', '00093', '00094', '00095', '00096', '00097', '00098', '00099', '00100', '00101', '00102', '00103', '00104', '00105', '00106', '00107', '00108', '00109', '00110', '00111', '00112', '00113', '00114', '00115', '00116', '00117', '00118', '00119', '00120', '00121', '00122', '00123', '00124', '00125', '00126', '00127', '00128', '00129', '00130', '00131', '00132', '00133', '00134', '00135', '00136', '00137', '00138', '00139', '00140', '00141', '00142', '00143', '00144', '00145', '00146', '00147', '00148', '00149', '00150', '00151', '00152', '00153', '00154', '00155', '00156', '00157', '00158', '00159', '00160', '00161', '00162', '00163', '00164', '00165', '00166', '00167', '00168', '00169', '00170', '00171', '00172', '00173', '00174', '00175', '00176', '00177', '00178', '00179', '00180', '00181', '00182', '00183'], ['00001', '00002', '00003', '00004', '00005', '00006', '00007', '00008', '00009', '00010', '00011', '00012', '00013', '00014', '00015', '00016', '00017', '00018', '00019', '00020', '00021', '00022', '00023', '00024', '00025', '00026', '00027', '00028', '00029', '00030', '00031', '00032', '00033', '00034', '00035', '00036', '00037', '00038', '00039', '00040', '00041', '00042', '00043', '00044', '00045', '00046', '00047', '00048', '00049', '00050', '00051', '00052', '00053', '00054', '00055', '00056', '00057', '00058', '00059', '00060', '00061', '00062', '00063', '00064', '00065', '00066', '00067', '00068', '00069', '00070', '00071', '00072', '00073', '00074', '00075', '00076', '00077', '00078', '00079', '00080', '00081', '00082', '00083', '00084', '00085', '00086', '00087', '00088', '00089', '00090', '00091', '00092', '00093', '00094', '00095', '00096', '00097', '00098', '00099'], ['00001', '00002', '00003', '00004', '00005', '00006', '00007', '00008', '00009', '00010', '00011', '00012', '00013', '00014', '00015', '00016', '00017', '00018', '00019', '00020', '00021', '00022', '00023', '00024', '00025', '00026', '00027', '00028', '00029', '00030', '00031', '00032', '00033', '00034', '00035', '00036', '00037', '00038', '00039', '00040', '00041', '00042', '00043', '00044', '00045', '00046', '00047', '00048', '00049', '00050', '00051', '00052', '00053', '00054'], ['00001', '00002', '00003', '00004', '00005', '00006', '00007', '00008', '00009', '00010', '00011', '00012', '00013', '00014', '00015', '00016', '00017', '00018', '00019', '00020', '00021', '00022', '00023', '00024', '00025', '00026', '00027', '00028', '00029', '00030', '00031', '00032', '00033', '00034', '00035', '00036', '00037', '00038', '00039', '00040', '00041', '00042', '00043', '00044', '00045', '00046', '00047', '00048', '00049', '00050', '00051', '00052', '00053', '00054', '00055', '00056', '00057', '00058', '00059', '00060', '00061', '00062', '00063', '00064', '00065', '00066', '00067', '00068', '00069', '00070', '00071', '00072', '00073', '00074', '00075', '00076', '00077', '00078', '00079', '00080', '00081', '00082', '00083', '00084', '00085', '00086', '00087', '00088', '00089', '00090', '00091', '00092', '00093', '00094', '00095', '00096', '00097', '00098', '00099', '00100', '00101', '00102', '00103', '00104', '00105', '00106', '00107', '00108', '00109', '00110', '00111', '00112', '00113', '00114', '00115', '00116', '00117', '00118', '00119', '00120', '00121', '00122', '00123', '00124', '00125', '00126', '00127', '00128', '00129', '00130', '00131', '00132', '00133', '00134', '00135', '00136', '00137', '00138', '00139', '00140', '00141', '00142', '00143', '00144', '00145', '00146', '00147', '00148', '00149', '00150', '00151', '00152', '00153', '00154', '00155', '00156', '00157', '00158', '00159', '00160', '00161', '00162', '00163', '00164', '00165', '00166', '00167', '00168', '00169', '00170', '00171', '00172', '00173', '00174', '00175', '00176', '00177', '00178', '00179', '00180', '00181', '00182', '00183', '00184', '00185', '00186', '00187', '00188', '00189', '00190', '00191', '00192', '00193', '00194', '00195', '00196', '00197', '00198', '00199', '00200', '00201', '00202', '00203', '00204', '00205', '00206', '00207', '00208', '00209', '00210', '00211', '00212', '00213', '00214', '00215', '00216', '00217', '00218', '00219', '00220', '00221', '00222', '00223', '00224', '00225', '00226', '00227', '00228', '00229', '00230', '00231'], ['00001', '00002', '00003', '00004', '00005', '00006', '00007', '00008', '00009', '00010', '00011', '00012', '00013', '00014', '00015', '00016', '00017', '00018', '00019', '00020', '00021', '00022', '00023', '00024', '00025', '00026', '00027', '00028', '00029', '00030', '00031', '00032', '00033', '00034', '00035', '00036', '00037', '00038', '00039', '00040', '00041', '00042', '00043', '00044', '00045', '00046', '00047', '00048', '00049', '00050', '00051', '00052', '00053', '00054', '00055', '00056'], ['00001', '00002', '00003', '00004', '00005', '00006', '00007', '00008', '00009', '00010', '00011', '00012', '00013', '00014', '00015', '00016', '00017', '00018', '00019', '00020', '00021', '00022', '00023', '00024', '00025', '00026', '00027', '00028', '00029', '00030', '00031', '00032', '00033', '00034', '00035', '00036', '00037', '00038', '00039', '00040', '00041', '00042', '00043', '00044', '00045', '00046', '00047', '00048', '00049', '00050', '00051', '00052', '00053', '00054', '00055', '00056', '00057', '00058', '00059', '00060', '00061', '00062', '00063', '00064', '00065', '00066', '00067', '00068', '00069'], ['00001', '00002', '00003', '00004', '00005', '00006', '00007', '00008', '00009', '00010', '00011', '00012', '00013', '00014', '00015', '00016', '00017', '00018', '00019', '00020', '00021', '00022', '00023', '00024', '00025', '00026', '00027', '00028', '00029', '00030', '00031', '00032', '00033', '00034', '00035', '00036', '00037', '00038', '00039', '00040', '00041', '00042', '00043', '00044', '00045', '00046', '00047', '00048', '00049', '00050', '00051', '00052', '00053', '00054', '00055', '00056', '00057', '00058', '00059', '00060', '00061', '00062', '00063', '00064', '00065', '00066', '00067', '00068', '00069', '00070', '00071', '00072', '00073', '00074', '00075', '00076', '00077', '00078', '00079', '00080', '00081', '00082', '00083', '00084', '00085', '00086', '00087', '00088', '00089', '00090', '00091', '00092', '00093', '00094', '00095', '00096', '00097', '00098', '00099', '00100', '00101', '00102', '00103', '00104', '00105', '00106', '00107', '00108', '00109', '00110', '00111', '00112', '00113', '00114', '00115', '00116', '00117', '00118', '00119', '00120', '00121', '00122', '00123', '00124', '00125', '00126', '00127', '00128', '00129', '00130', '00131', '00132', '00133', '00134', '00135', '00136', '00137', '00138', '00139', '00140'], ['00001', '00002', '00003', '00004', '00005', '00006', '00007', '00008', '00009', '00010', '00011', '00012', '00013', '00014', '00015', '00016', '00017', '00018', '00019', '00020', '00021', '00022', '00023', '00024', '00025', '00026', '00027', '00028', '00029', '00030', '00031', '00032', '00033', '00034', '00035', '00036', '00037', '00038', '00039', '00040', '00041', '00042', '00043', '00044', '00045', '00046', '00047', '00048', '00049', '00050', '00051', '00052', '00053', '00054', '00055', '00056', '00057', '00058', '00059', '00060', '00061', '00062', '00063', '00064', '00065', '00066', '00067', '00068', '00069', '00070', '00071', '00072', '00073', '00074', '00075', '00076', '00077', '00078', '00079', '00080', '00081']]\n"
     ]
    }
   ],
   "source": [
    "## VIDEO DIRECTORY ##\n",
    "# # dorsal\n",
    "# srcdir = \"/mnt/d/Flora project/Clips/Dorsal_clips/Frames\" # source directory\n",
    "# dstdir = \"/mnt/d/Flora project/Clips/Dorsal_clips/Output\" # destination directory\n",
    "\n",
    "# lateral\n",
    "# srcdir = \"/mnt/d/Flora project/Mask_Test/Frames\" # source directory\n",
    "# dstdir = \"/mnt/d/Flora project/Mask_Test/Output\" # destination directory\n",
    "\n",
    "# Trial\n",
    "srcdir = \"/mnt/d/Flora project/Clips/Dorsal_clips/Frames\" # source directory\n",
    "dstdir = \"/mnt/d/Flora project/Clips/Dorsal_clips/Output\" # destination directory\n",
    "\n",
    "\n",
    "\n",
    "clips = [name for name in os.listdir(srcdir) if os.path.isdir(os.path.join(srcdir, name))]\n",
    "print(clips)\n",
    "\n",
    "\n",
    "clip_directories = [\n",
    "    os.path.join(srcdir, name)\n",
    "    for name in clips\n",
    "]\n",
    "print(clip_directories)\n",
    "\n",
    "out_directories = []\n",
    "for name in clips:\n",
    "    out_dir = os.path.join(dstdir, name)\n",
    "    \n",
    "    # Check if the output directory exists, and create it if not\n",
    "    if not os.path.exists(out_dir):\n",
    "        os.makedirs(out_dir)\n",
    "    \n",
    "    out_directories.append(out_dir)\n",
    "\n",
    "print(out_directories)\n",
    "\n",
    "\n",
    "\n",
    "frame_names = [\n",
    "    [os.path.splitext(file)[0].replace('frame_', '') for file in os.listdir(folder) if os.path.isfile(os.path.join(folder, file))]\n",
    "    for folder in clip_directories\n",
    "]\n",
    "\n",
    "# ^frame names is a nested list, sort each list/clip frame names separately. \n",
    "for frame_list in frame_names:\n",
    "    frame_list.sort(key=lambda p: int(p))  # Sort each inner list numerically\n",
    "\n",
    "# frame_names.sort(key=lambda p: int(p))  # Sorting the names by numeric value after removing 'frame_'\n",
    "\n",
    "print(frame_names)\n",
    "\n",
    "mask_shape = (1, 1520, 2704) # define mask (frame) dimensions so we can fill with false later\n",
    "fallback_mask = np.zeros(mask_shape, dtype=bool)\n"
   ]
  },
  {
   "cell_type": "markdown",
   "id": "1b0725e0",
   "metadata": {},
   "source": [
    "# 3. PROCESS CLIPS IN FOR LOOP\n",
    "* 1. Initiate inference_state for each clip referencing its clip_dir\n",
    "* 2. Add a prompt: for clip1, that will be the prompt_idx, prompt_pts & prompt_labs we estabished in Section 2 but for all successive clips it will be taken from the mask for the last frame of the previous clip. \n",
    "* 3. Propagate mask through clip\n",
    "    * Save to clip_segments{} \n",
    "* 4. Save things\n",
    "    * Append clip_segents to video_segments\n",
    "    * Save some point in the last mask to use as prompt for next clip - override prompt_pts and prompt_labs \n",
    "            note: negative points could be from a mapped out locations of the rocks \n",
    "* 5. Reset and delete\n",
    "    * Reset inference_state\n",
    "    * Delete subdirectory (or could leave this until the end - doesn't have to be in the for loop)\n",
    "* 6. Report Progress\n",
    "    * Render segmentation for the last frame of the clip so I can check where (if ever) the mask lost the fish and to check progress  "
   ]
  },
  {
   "cell_type": "markdown",
   "id": "49360b8e",
   "metadata": {},
   "source": [
    "## Big Loop for dorsal or lateral clips that allows you to do the prompts first \n",
    "\n",
    "I need the code to load in each clip, initiate the inference_state, do the give_prompt function and then save the prompt_pts and prompt_labs along with clip_name so I can refer back to them later. \n",
    "Then, I need it to loop through the clips again using those store prompt_pts and prompt_labs for the appropriate clip_name. In this section it should do the rest of the code like propagate through the clip saving the tracks. \n",
    "\n",
    "Loop modified so that it processes clips in two passes:\n",
    "First pass: Iterate through all clips, collect prompt_pts and prompt_labs, and save them with clip_name for future reference.\n",
    "Second pass: Reload prompt_pts and prompt_labs for each clip and use them for propagation and tracking.\n",
    "Updated Plan:\n",
    "Store the prompts in a dictionary {clip_name: (prompt_pts, prompt_labs)}.\n",
    "Save this dictionary as a JSON or .npz file after the first pass.\n",
    "Reload the stored prompts in the second pass."
   ]
  },
  {
   "cell_type": "code",
   "execution_count": 5,
   "id": "57851327",
   "metadata": {},
   "outputs": [
    {
     "name": "stdout",
     "output_type": "stream",
     "text": [
      "Clip 1 / Check 1: New Clip Started\n"
     ]
    },
    {
     "name": "stderr",
     "output_type": "stream",
     "text": [
      "frame loading (JPEG): 100%|██████████| 214/214 [00:10<00:00, 19.69it/s]\n"
     ]
    },
    {
     "name": "stdout",
     "output_type": "stream",
     "text": [
      "Clip 1 / Check 2: Inference State Initiated\n",
      "Waiting for a response...\n",
      "Waiting for a response...\n",
      "Waiting for a click...\n",
      "[(1210, 623)]\n",
      "[1]\n",
      "Click registered. Generating mask...\n"
     ]
    },
    {
     "name": "stderr",
     "output_type": "stream",
     "text": [
      "/tmp/ipykernel_532201/2740669543.py:23: UserWarning: You passed a edgecolor/edgecolors ('white') for an unfilled marker ('x').  Matplotlib is ignoring the edgecolor in favor of the facecolor.  This behavior may change in the future.\n",
      "  ax.scatter(pos_points[:, 0], pos_points[:, 1], color='green', marker='x', s=marker_size, edgecolor='white', linewidth=1.25) # marker shape can be * or x\n",
      "/tmp/ipykernel_532201/2740669543.py:24: UserWarning: You passed a edgecolor/edgecolors ('white') for an unfilled marker ('x').  Matplotlib is ignoring the edgecolor in favor of the facecolor.  This behavior may change in the future.\n",
      "  ax.scatter(neg_points[:, 0], neg_points[:, 1], color='red', marker='x', s=marker_size, edgecolor='white', linewidth=1.25)\n"
     ]
    },
    {
     "name": "stdout",
     "output_type": "stream",
     "text": [
      "Waiting for a response...\n",
      "Waiting for a response...\n",
      "Mask generation complete.\n",
      "Clip 1 / Check 3: Prompt saved - points: (1, 2), labels: (1,)\n",
      "Clip 2 / Check 1: New Clip Started\n"
     ]
    },
    {
     "name": "stderr",
     "output_type": "stream",
     "text": [
      "frame loading (JPEG): 100%|██████████| 177/177 [00:09<00:00, 19.29it/s]\n"
     ]
    },
    {
     "name": "stdout",
     "output_type": "stream",
     "text": [
      "Clip 2 / Check 2: Inference State Initiated\n",
      "Waiting for a response...\n",
      "Waiting for a response...\n",
      "Waiting for a click...\n",
      "[(1187, 647)]\n",
      "[1]\n",
      "Click registered. Generating mask...\n",
      "Waiting for a response...\n",
      "Waiting for a response...\n",
      "Mask generation complete.\n",
      "Clip 2 / Check 3: Prompt saved - points: (1, 2), labels: (1,)\n",
      "Clip 3 / Check 1: New Clip Started\n"
     ]
    },
    {
     "name": "stderr",
     "output_type": "stream",
     "text": [
      "frame loading (JPEG): 100%|██████████| 194/194 [00:09<00:00, 19.85it/s]\n"
     ]
    },
    {
     "name": "stdout",
     "output_type": "stream",
     "text": [
      "Clip 3 / Check 2: Inference State Initiated\n",
      "Waiting for a response...\n",
      "Waiting for a response...\n",
      "Waiting for a click...\n",
      "[(1238, 170)]\n",
      "[1]\n",
      "Click registered. Generating mask...\n",
      "Waiting for a response...\n",
      "Waiting for a response...\n",
      "Mask generation complete.\n",
      "Clip 3 / Check 3: Prompt saved - points: (1, 2), labels: (1,)\n",
      "Clip 4 / Check 1: New Clip Started\n"
     ]
    },
    {
     "name": "stderr",
     "output_type": "stream",
     "text": [
      "frame loading (JPEG): 100%|██████████| 114/114 [00:05<00:00, 19.60it/s]\n"
     ]
    },
    {
     "name": "stdout",
     "output_type": "stream",
     "text": [
      "Clip 4 / Check 2: Inference State Initiated\n",
      "Waiting for a response...\n",
      "Waiting for a response...\n",
      "Waiting for a click...\n",
      "[(1331, 631)]\n",
      "[1]\n",
      "Click registered. Generating mask...\n",
      "Waiting for a response...\n",
      "Waiting for a response...\n",
      "Mask generation complete.\n",
      "Clip 4 / Check 3: Prompt saved - points: (1, 2), labels: (1,)\n",
      "Clip 5 / Check 1: New Clip Started\n"
     ]
    },
    {
     "name": "stderr",
     "output_type": "stream",
     "text": [
      "frame loading (JPEG): 100%|██████████| 141/141 [00:08<00:00, 16.55it/s]\n"
     ]
    },
    {
     "name": "stdout",
     "output_type": "stream",
     "text": [
      "Clip 5 / Check 2: Inference State Initiated\n",
      "Waiting for a response...\n",
      "Waiting for a response...\n",
      "Waiting for a click...\n",
      "[(1272, 720)]\n",
      "[1]\n",
      "Click registered. Generating mask...\n",
      "Waiting for a response...\n",
      "Waiting for a response...\n",
      "Mask generation complete.\n",
      "Clip 5 / Check 3: Prompt saved - points: (1, 2), labels: (1,)\n",
      "Clip 6 / Check 1: New Clip Started\n"
     ]
    },
    {
     "name": "stderr",
     "output_type": "stream",
     "text": [
      "frame loading (JPEG): 100%|██████████| 138/138 [00:08<00:00, 16.69it/s]\n"
     ]
    },
    {
     "name": "stdout",
     "output_type": "stream",
     "text": [
      "Clip 6 / Check 2: Inference State Initiated\n",
      "Waiting for a response...\n",
      "Waiting for a response...\n",
      "Waiting for a click...\n",
      "[(1272, 658)]\n",
      "[1]\n",
      "Click registered. Generating mask...\n",
      "Waiting for a response...\n",
      "Waiting for a response...\n",
      "Mask generation complete.\n",
      "Clip 6 / Check 3: Prompt saved - points: (1, 2), labels: (1,)\n",
      "Clip 7 / Check 1: New Clip Started\n"
     ]
    },
    {
     "name": "stderr",
     "output_type": "stream",
     "text": [
      "frame loading (JPEG): 100%|██████████| 66/66 [00:04<00:00, 16.47it/s]\n"
     ]
    },
    {
     "name": "stdout",
     "output_type": "stream",
     "text": [
      "Clip 7 / Check 2: Inference State Initiated\n",
      "Waiting for a response...\n",
      "Waiting for a response...\n",
      "Waiting for a click...\n",
      "[(1269, 441)]\n",
      "[1]\n",
      "Click registered. Generating mask...\n",
      "Waiting for a response...\n",
      "Waiting for a response...\n",
      "Mask generation complete.\n",
      "Clip 7 / Check 3: Prompt saved - points: (1, 2), labels: (1,)\n",
      "Clip 8 / Check 1: New Clip Started\n"
     ]
    },
    {
     "name": "stderr",
     "output_type": "stream",
     "text": [
      "frame loading (JPEG): 100%|██████████| 27/27 [00:01<00:00, 16.96it/s]\n"
     ]
    },
    {
     "name": "stdout",
     "output_type": "stream",
     "text": [
      "Clip 8 / Check 2: Inference State Initiated\n",
      "Waiting for a response...\n",
      "Waiting for a response...\n",
      "Waiting for a click...\n",
      "[(1086, 154)]\n",
      "[1]\n",
      "Click registered. Generating mask...\n",
      "Waiting for a response...\n",
      "wrong input\n",
      "Waiting for a response...\n",
      "Mask generation complete.\n",
      "Clip 8 / Check 3: Prompt saved - points: (1, 2), labels: (1,)\n",
      "Clip 9 / Check 1: New Clip Started\n"
     ]
    },
    {
     "name": "stderr",
     "output_type": "stream",
     "text": [
      "frame loading (JPEG): 100%|██████████| 83/83 [00:05<00:00, 15.60it/s]\n"
     ]
    },
    {
     "name": "stdout",
     "output_type": "stream",
     "text": [
      "Clip 9 / Check 2: Inference State Initiated\n",
      "Waiting for a response...\n",
      "Waiting for a response...\n",
      "Waiting for a click...\n",
      "[(1187, 476)]\n",
      "[1]\n",
      "Click registered. Generating mask...\n",
      "Waiting for a response...\n",
      "Waiting for a response...\n",
      "Mask generation complete.\n",
      "Clip 9 / Check 3: Prompt saved - points: (1, 2), labels: (1,)\n",
      "Clip 10 / Check 1: New Clip Started\n"
     ]
    },
    {
     "name": "stderr",
     "output_type": "stream",
     "text": [
      "frame loading (JPEG): 100%|██████████| 39/39 [00:02<00:00, 16.68it/s]\n"
     ]
    },
    {
     "name": "stdout",
     "output_type": "stream",
     "text": [
      "Clip 10 / Check 2: Inference State Initiated\n",
      "Waiting for a response...\n",
      "Waiting for a response...\n",
      "Waiting for a click...\n",
      "[(1300, 232)]\n",
      "[1]\n",
      "Click registered. Generating mask...\n",
      "Waiting for a response...\n",
      "Waiting for a response...\n",
      "Mask generation complete.\n",
      "Clip 10 / Check 3: Prompt saved - points: (1, 2), labels: (1,)\n",
      "Clip 11 / Check 1: New Clip Started\n"
     ]
    },
    {
     "name": "stderr",
     "output_type": "stream",
     "text": [
      "frame loading (JPEG): 100%|██████████| 39/39 [00:02<00:00, 14.91it/s]\n"
     ]
    },
    {
     "name": "stdout",
     "output_type": "stream",
     "text": [
      "Clip 11 / Check 2: Inference State Initiated\n",
      "Waiting for a response...\n",
      "Waiting for a response...\n",
      "Waiting for a click...\n",
      "[(1222, 274)]\n",
      "[1]\n",
      "Click registered. Generating mask...\n",
      "Waiting for a response...\n",
      "Waiting for a response...\n",
      "Mask generation complete.\n",
      "Clip 11 / Check 3: Prompt saved - points: (1, 2), labels: (1,)\n",
      "Clip 12 / Check 1: New Clip Started\n"
     ]
    },
    {
     "name": "stderr",
     "output_type": "stream",
     "text": [
      "frame loading (JPEG): 100%|██████████| 149/149 [00:09<00:00, 15.31it/s]\n"
     ]
    },
    {
     "name": "stdout",
     "output_type": "stream",
     "text": [
      "Clip 12 / Check 2: Inference State Initiated\n",
      "Waiting for a response...\n",
      "Waiting for a response...\n",
      "Waiting for a click...\n",
      "[(1358, 492)]\n",
      "[1]\n",
      "Click registered. Generating mask...\n",
      "Waiting for a response...\n",
      "Waiting for a response...\n",
      "Mask generation complete.\n",
      "Clip 12 / Check 3: Prompt saved - points: (1, 2), labels: (1,)\n",
      "Clip 13 / Check 1: New Clip Started\n"
     ]
    },
    {
     "name": "stderr",
     "output_type": "stream",
     "text": [
      "frame loading (JPEG): 100%|██████████| 109/109 [00:06<00:00, 17.46it/s]\n"
     ]
    },
    {
     "name": "stdout",
     "output_type": "stream",
     "text": [
      "Clip 13 / Check 2: Inference State Initiated\n",
      "Waiting for a response...\n",
      "Waiting for a response...\n",
      "Waiting for a click...\n",
      "[(1048, 379)]\n",
      "[1]\n",
      "Click registered. Generating mask...\n",
      "Waiting for a response...\n",
      "Waiting for a response...\n",
      "Mask generation complete.\n",
      "Clip 13 / Check 3: Prompt saved - points: (1, 2), labels: (1,)\n",
      "Clip 14 / Check 1: New Clip Started\n"
     ]
    },
    {
     "name": "stderr",
     "output_type": "stream",
     "text": [
      "frame loading (JPEG): 100%|██████████| 133/133 [00:08<00:00, 15.66it/s]\n"
     ]
    },
    {
     "name": "stdout",
     "output_type": "stream",
     "text": [
      "Clip 14 / Check 2: Inference State Initiated\n",
      "Waiting for a response...\n",
      "Waiting for a response...\n",
      "Waiting for a click...\n",
      "[(1071, 608)]\n",
      "[1]\n",
      "Click registered. Generating mask...\n",
      "Waiting for a response...\n",
      "Waiting for a response...\n",
      "Mask generation complete.\n",
      "Clip 14 / Check 3: Prompt saved - points: (1, 2), labels: (1,)\n",
      "Clip 15 / Check 1: New Clip Started\n"
     ]
    },
    {
     "name": "stderr",
     "output_type": "stream",
     "text": [
      "frame loading (JPEG): 100%|██████████| 161/161 [00:10<00:00, 16.03it/s]\n"
     ]
    },
    {
     "name": "stdout",
     "output_type": "stream",
     "text": [
      "Clip 15 / Check 2: Inference State Initiated\n",
      "Waiting for a response...\n",
      "Waiting for a response...\n",
      "Waiting for a click...\n",
      "[(1397, 612)]\n",
      "[1]\n",
      "Click registered. Generating mask...\n",
      "Waiting for a response...\n",
      "Waiting for a response...\n",
      "Mask generation complete.\n",
      "Clip 15 / Check 3: Prompt saved - points: (1, 2), labels: (1,)\n",
      "Clip 16 / Check 1: New Clip Started\n"
     ]
    },
    {
     "name": "stderr",
     "output_type": "stream",
     "text": [
      "frame loading (JPEG): 100%|██████████| 110/110 [00:06<00:00, 16.01it/s]\n"
     ]
    },
    {
     "name": "stdout",
     "output_type": "stream",
     "text": [
      "Clip 16 / Check 2: Inference State Initiated\n",
      "Waiting for a response...\n",
      "Waiting for a response...\n",
      "Waiting for a click...\n",
      "[(1110, 290)]\n",
      "[1]\n",
      "Click registered. Generating mask...\n",
      "Waiting for a response...\n",
      "Waiting for a response...\n",
      "Mask generation complete.\n",
      "Clip 16 / Check 3: Prompt saved - points: (1, 2), labels: (1,)\n",
      "Clip 17 / Check 1: New Clip Started\n"
     ]
    },
    {
     "name": "stderr",
     "output_type": "stream",
     "text": [
      "frame loading (JPEG): 100%|██████████| 101/101 [00:06<00:00, 16.75it/s]\n"
     ]
    },
    {
     "name": "stdout",
     "output_type": "stream",
     "text": [
      "Clip 17 / Check 2: Inference State Initiated\n",
      "Waiting for a response...\n",
      "Waiting for a response...\n",
      "Waiting for a click...\n",
      "[(1230, 441)]\n",
      "[1]\n",
      "Click registered. Generating mask...\n",
      "Waiting for a response...\n",
      "Waiting for a response...\n",
      "Mask generation complete.\n",
      "Clip 17 / Check 3: Prompt saved - points: (1, 2), labels: (1,)\n",
      "Clip 18 / Check 1: New Clip Started\n"
     ]
    },
    {
     "name": "stderr",
     "output_type": "stream",
     "text": [
      "frame loading (JPEG): 100%|██████████| 130/130 [00:07<00:00, 16.64it/s]\n"
     ]
    },
    {
     "name": "stdout",
     "output_type": "stream",
     "text": [
      "Clip 18 / Check 2: Inference State Initiated\n",
      "Waiting for a response...\n",
      "Waiting for a response...\n",
      "Waiting for a click...\n",
      "[(1176, 236)]\n",
      "[1]\n",
      "Click registered. Generating mask...\n",
      "Waiting for a response...\n",
      "Waiting for a response...\n",
      "Mask generation complete.\n",
      "Clip 18 / Check 3: Prompt saved - points: (1, 2), labels: (1,)\n",
      "Clip 19 / Check 1: New Clip Started\n"
     ]
    },
    {
     "name": "stderr",
     "output_type": "stream",
     "text": [
      "frame loading (JPEG): 100%|██████████| 153/153 [00:09<00:00, 16.80it/s]\n"
     ]
    },
    {
     "name": "stdout",
     "output_type": "stream",
     "text": [
      "Clip 19 / Check 2: Inference State Initiated\n",
      "Waiting for a response...\n",
      "Waiting for a response...\n",
      "Waiting for a click...\n",
      "[(1307, 693)]\n",
      "[1]\n",
      "Click registered. Generating mask...\n",
      "Waiting for a response...\n",
      "Waiting for a response...\n",
      "Mask generation complete.\n",
      "Clip 19 / Check 3: Prompt saved - points: (1, 2), labels: (1,)\n",
      "Clip 20 / Check 1: New Clip Started\n"
     ]
    },
    {
     "name": "stderr",
     "output_type": "stream",
     "text": [
      "frame loading (JPEG): 100%|██████████| 126/126 [00:06<00:00, 18.71it/s]\n"
     ]
    },
    {
     "name": "stdout",
     "output_type": "stream",
     "text": [
      "Clip 20 / Check 2: Inference State Initiated\n",
      "Waiting for a response...\n",
      "Waiting for a response...\n",
      "Waiting for a click...\n",
      "[(1257, 538)]\n",
      "[1]\n",
      "Click registered. Generating mask...\n",
      "Waiting for a response...\n",
      "Waiting for a response...\n",
      "Mask generation complete.\n",
      "Clip 20 / Check 3: Prompt saved - points: (1, 2), labels: (1,)\n",
      "Clip 21 / Check 1: New Clip Started\n"
     ]
    },
    {
     "name": "stderr",
     "output_type": "stream",
     "text": [
      "frame loading (JPEG): 100%|██████████| 241/241 [00:13<00:00, 17.59it/s]\n"
     ]
    },
    {
     "name": "stdout",
     "output_type": "stream",
     "text": [
      "Clip 21 / Check 2: Inference State Initiated\n",
      "Waiting for a response...\n",
      "Waiting for a response...\n",
      "Waiting for a click...\n",
      "[(1354, 1085)]\n",
      "[1]\n",
      "Click registered. Generating mask...\n",
      "Waiting for a response...\n",
      "Waiting for a response...\n",
      "Mask generation complete.\n",
      "Clip 21 / Check 3: Prompt saved - points: (1, 2), labels: (1,)\n",
      "Clip 22 / Check 1: New Clip Started\n"
     ]
    },
    {
     "name": "stderr",
     "output_type": "stream",
     "text": [
      "frame loading (JPEG): 100%|██████████| 131/131 [00:07<00:00, 17.41it/s]\n"
     ]
    },
    {
     "name": "stdout",
     "output_type": "stream",
     "text": [
      "Clip 22 / Check 2: Inference State Initiated\n",
      "Waiting for a response...\n",
      "Waiting for a response...\n",
      "Waiting for a click...\n",
      "[(1276, 1069)]\n",
      "[1]\n",
      "Click registered. Generating mask...\n",
      "Waiting for a response...\n",
      "Waiting for a response...\n",
      "Mask generation complete.\n",
      "Clip 22 / Check 3: Prompt saved - points: (1, 2), labels: (1,)\n",
      "Clip 23 / Check 1: New Clip Started\n"
     ]
    },
    {
     "name": "stderr",
     "output_type": "stream",
     "text": [
      "frame loading (JPEG): 100%|██████████| 187/187 [00:11<00:00, 15.99it/s]\n"
     ]
    },
    {
     "name": "stdout",
     "output_type": "stream",
     "text": [
      "Clip 23 / Check 2: Inference State Initiated\n",
      "Waiting for a response...\n",
      "Waiting for a response...\n",
      "Waiting for a click...\n",
      "[(1307, 228)]\n",
      "[1]\n",
      "Click registered. Generating mask...\n",
      "Waiting for a response...\n",
      "Waiting for a response...\n",
      "Mask generation complete.\n",
      "Clip 23 / Check 3: Prompt saved - points: (1, 2), labels: (1,)\n",
      "Clip 24 / Check 1: New Clip Started\n"
     ]
    },
    {
     "name": "stderr",
     "output_type": "stream",
     "text": [
      "frame loading (JPEG): 100%|██████████| 447/447 [00:25<00:00, 17.33it/s]\n"
     ]
    },
    {
     "name": "stdout",
     "output_type": "stream",
     "text": [
      "Clip 24 / Check 2: Inference State Initiated\n",
      "Waiting for a response...\n",
      "Waiting for a response...\n",
      "Waiting for a click...\n",
      "[(1304, 530)]\n",
      "[1]\n",
      "Click registered. Generating mask...\n",
      "Waiting for a response...\n",
      "Waiting for a response...\n",
      "Mask generation complete.\n",
      "Clip 24 / Check 3: Prompt saved - points: (1, 2), labels: (1,)\n",
      "Clip 25 / Check 1: New Clip Started\n"
     ]
    },
    {
     "name": "stderr",
     "output_type": "stream",
     "text": [
      "frame loading (JPEG): 100%|██████████| 47/47 [00:02<00:00, 16.29it/s]\n"
     ]
    },
    {
     "name": "stdout",
     "output_type": "stream",
     "text": [
      "Clip 25 / Check 2: Inference State Initiated\n",
      "Waiting for a response...\n",
      "Waiting for a response...\n",
      "Waiting for a click...\n",
      "[(1168, 402)]\n",
      "[1]\n",
      "Click registered. Generating mask...\n",
      "Waiting for a response...\n",
      "Waiting for a response...\n",
      "Mask generation complete.\n",
      "Clip 25 / Check 3: Prompt saved - points: (1, 2), labels: (1,)\n",
      "Clip 26 / Check 1: New Clip Started\n"
     ]
    },
    {
     "name": "stderr",
     "output_type": "stream",
     "text": [
      "frame loading (JPEG): 100%|██████████| 185/185 [00:10<00:00, 17.60it/s]\n"
     ]
    },
    {
     "name": "stdout",
     "output_type": "stream",
     "text": [
      "Clip 26 / Check 2: Inference State Initiated\n",
      "Waiting for a response...\n",
      "Waiting for a response...\n",
      "Waiting for a click...\n",
      "[(1342, 926)]\n",
      "[1]\n",
      "Click registered. Generating mask...\n",
      "Waiting for a response...\n",
      "Waiting for a response...\n",
      "Mask generation complete.\n",
      "Clip 26 / Check 3: Prompt saved - points: (1, 2), labels: (1,)\n",
      "Clip 27 / Check 1: New Clip Started\n"
     ]
    },
    {
     "name": "stderr",
     "output_type": "stream",
     "text": [
      "frame loading (JPEG): 100%|██████████| 119/119 [00:06<00:00, 17.18it/s]\n"
     ]
    },
    {
     "name": "stdout",
     "output_type": "stream",
     "text": [
      "Clip 27 / Check 2: Inference State Initiated\n",
      "Waiting for a response...\n",
      "Waiting for a response...\n",
      "Waiting for a click...\n",
      "[(1338, 81)]\n",
      "[1]\n",
      "Click registered. Generating mask...\n",
      "Waiting for a response...\n",
      "Waiting for a response...\n",
      "Mask generation complete.\n",
      "Clip 27 / Check 3: Prompt saved - points: (1, 2), labels: (1,)\n",
      "Clip 28 / Check 1: New Clip Started\n"
     ]
    },
    {
     "name": "stderr",
     "output_type": "stream",
     "text": [
      "frame loading (JPEG): 100%|██████████| 645/645 [00:41<00:00, 15.49it/s]\n"
     ]
    },
    {
     "name": "stdout",
     "output_type": "stream",
     "text": [
      "Clip 28 / Check 2: Inference State Initiated\n",
      "Waiting for a response...\n",
      "Waiting for a response...\n",
      "Waiting for a click...\n",
      "[(1059, 1174)]\n",
      "[1]\n",
      "Click registered. Generating mask...\n",
      "Waiting for a response...\n",
      "Waiting for a response...\n",
      "Mask generation complete.\n",
      "Clip 28 / Check 3: Prompt saved - points: (1, 2), labels: (1,)\n",
      "Clip 29 / Check 1: New Clip Started\n"
     ]
    },
    {
     "name": "stderr",
     "output_type": "stream",
     "text": [
      "frame loading (JPEG): 100%|██████████| 205/205 [00:11<00:00, 17.96it/s]\n"
     ]
    },
    {
     "name": "stdout",
     "output_type": "stream",
     "text": [
      "Clip 29 / Check 2: Inference State Initiated\n",
      "Waiting for a response...\n",
      "Waiting for a response...\n",
      "Waiting for a click...\n",
      "[(1241, 546)]\n",
      "[1]\n",
      "Click registered. Generating mask...\n",
      "Waiting for a response...\n",
      "Waiting for a response...\n",
      "Mask generation complete.\n",
      "Clip 29 / Check 3: Prompt saved - points: (1, 2), labels: (1,)\n",
      "Clip 30 / Check 1: New Clip Started\n"
     ]
    },
    {
     "name": "stderr",
     "output_type": "stream",
     "text": [
      "frame loading (JPEG): 100%|██████████| 43/43 [00:02<00:00, 17.32it/s]\n"
     ]
    },
    {
     "name": "stdout",
     "output_type": "stream",
     "text": [
      "Clip 30 / Check 2: Inference State Initiated\n",
      "Waiting for a response...\n",
      "Waiting for a response...\n",
      "Waiting for a click...\n",
      "[(1490, 837)]\n",
      "[1]\n",
      "Click registered. Generating mask...\n",
      "Waiting for a response...\n",
      "Waiting for a response...\n",
      "Mask generation complete.\n",
      "Clip 30 / Check 3: Prompt saved - points: (1, 2), labels: (1,)\n",
      "Clip 31 / Check 1: New Clip Started\n"
     ]
    },
    {
     "name": "stderr",
     "output_type": "stream",
     "text": [
      "frame loading (JPEG): 100%|██████████| 169/169 [00:09<00:00, 17.34it/s]\n"
     ]
    },
    {
     "name": "stdout",
     "output_type": "stream",
     "text": [
      "Clip 31 / Check 2: Inference State Initiated\n",
      "Waiting for a response...\n",
      "Waiting for a response...\n",
      "Waiting for a click...\n",
      "[(1214, 1089)]\n",
      "[1]\n",
      "Click registered. Generating mask...\n",
      "Waiting for a response...\n",
      "Waiting for a response...\n",
      "Mask generation complete.\n",
      "Clip 31 / Check 3: Prompt saved - points: (1, 2), labels: (1,)\n",
      "Clip 32 / Check 1: New Clip Started\n"
     ]
    },
    {
     "name": "stderr",
     "output_type": "stream",
     "text": [
      "frame loading (JPEG): 100%|██████████| 49/49 [00:02<00:00, 16.49it/s]\n"
     ]
    },
    {
     "name": "stdout",
     "output_type": "stream",
     "text": [
      "Clip 32 / Check 2: Inference State Initiated\n",
      "Waiting for a response...\n",
      "Waiting for a response...\n",
      "Waiting for a click...\n",
      "[(1121, 449)]\n",
      "[1]\n",
      "Click registered. Generating mask...\n",
      "Waiting for a response...\n",
      "Waiting for a response...\n",
      "Mask generation complete.\n",
      "Clip 32 / Check 3: Prompt saved - points: (1, 2), labels: (1,)\n",
      "Clip 33 / Check 1: New Clip Started\n"
     ]
    },
    {
     "name": "stderr",
     "output_type": "stream",
     "text": [
      "frame loading (JPEG): 100%|██████████| 52/52 [00:02<00:00, 17.48it/s]\n"
     ]
    },
    {
     "name": "stdout",
     "output_type": "stream",
     "text": [
      "Clip 33 / Check 2: Inference State Initiated\n",
      "Waiting for a response...\n",
      "Waiting for a response...\n",
      "Waiting for a click...\n",
      "[(1156, 325)]\n",
      "[1]\n",
      "Click registered. Generating mask...\n",
      "Waiting for a response...\n",
      "Waiting for a response...\n",
      "Mask generation complete.\n",
      "Clip 33 / Check 3: Prompt saved - points: (1, 2), labels: (1,)\n",
      "Clip 34 / Check 1: New Clip Started\n"
     ]
    },
    {
     "name": "stderr",
     "output_type": "stream",
     "text": [
      "frame loading (JPEG): 100%|██████████| 154/154 [00:09<00:00, 16.78it/s]\n"
     ]
    },
    {
     "name": "stdout",
     "output_type": "stream",
     "text": [
      "Clip 34 / Check 2: Inference State Initiated\n",
      "Waiting for a response...\n",
      "Waiting for a response...\n",
      "Waiting for a click...\n",
      "[(1199, 88)]\n",
      "[1]\n",
      "Click registered. Generating mask...\n",
      "Waiting for a response...\n",
      "Waiting for a response...\n",
      "wrong input\n",
      "Waiting for a click...\n",
      "[(1199, 88), (1137, 123)]\n",
      "[1, 0]\n",
      "Click registered. Generating mask...\n",
      "Waiting for a response...\n",
      "Waiting for a response...\n",
      "Mask generation complete.\n",
      "Clip 34 / Check 3: Prompt saved - points: (2, 2), labels: (2,)\n",
      "Clip 35 / Check 1: New Clip Started\n"
     ]
    },
    {
     "name": "stderr",
     "output_type": "stream",
     "text": [
      "frame loading (JPEG): 100%|██████████| 66/66 [00:03<00:00, 17.48it/s]\n"
     ]
    },
    {
     "name": "stdout",
     "output_type": "stream",
     "text": [
      "Clip 35 / Check 2: Inference State Initiated\n",
      "Waiting for a response...\n",
      "Waiting for a response...\n",
      "Waiting for a click...\n",
      "[(1292, 104)]\n",
      "[1]\n",
      "Click registered. Generating mask...\n",
      "Waiting for a response...\n",
      "Waiting for a response...\n",
      "Mask generation complete.\n",
      "Clip 35 / Check 3: Prompt saved - points: (1, 2), labels: (1,)\n",
      "Clip 36 / Check 1: New Clip Started\n"
     ]
    },
    {
     "name": "stderr",
     "output_type": "stream",
     "text": [
      "frame loading (JPEG): 100%|██████████| 75/75 [00:04<00:00, 17.12it/s]\n"
     ]
    },
    {
     "name": "stdout",
     "output_type": "stream",
     "text": [
      "Clip 36 / Check 2: Inference State Initiated\n",
      "Waiting for a response...\n",
      "Waiting for a response...\n",
      "Waiting for a click...\n",
      "[(1230, 395)]\n",
      "[1]\n",
      "Click registered. Generating mask...\n",
      "Waiting for a response...\n",
      "Waiting for a response...\n",
      "Mask generation complete.\n",
      "Clip 36 / Check 3: Prompt saved - points: (1, 2), labels: (1,)\n",
      "Clip 37 / Check 1: New Clip Started\n"
     ]
    },
    {
     "name": "stderr",
     "output_type": "stream",
     "text": [
      "frame loading (JPEG): 100%|██████████| 454/454 [00:27<00:00, 16.54it/s]\n"
     ]
    },
    {
     "name": "stdout",
     "output_type": "stream",
     "text": [
      "Clip 37 / Check 2: Inference State Initiated\n",
      "Waiting for a response...\n",
      "Waiting for a response...\n",
      "Waiting for a click...\n",
      "[(1431, 356)]\n",
      "[1]\n",
      "Click registered. Generating mask...\n",
      "Waiting for a response...\n",
      "Waiting for a response...\n",
      "Mask generation complete.\n",
      "Clip 37 / Check 3: Prompt saved - points: (1, 2), labels: (1,)\n",
      "Clip 38 / Check 1: New Clip Started\n"
     ]
    },
    {
     "name": "stderr",
     "output_type": "stream",
     "text": [
      "frame loading (JPEG): 100%|██████████| 60/60 [00:03<00:00, 17.31it/s]\n"
     ]
    },
    {
     "name": "stdout",
     "output_type": "stream",
     "text": [
      "Clip 38 / Check 2: Inference State Initiated\n",
      "Waiting for a response...\n",
      "Waiting for a response...\n",
      "Waiting for a click...\n",
      "[(1296, 286)]\n",
      "[1]\n",
      "Click registered. Generating mask...\n",
      "Waiting for a response...\n",
      "Waiting for a response...\n",
      "Mask generation complete.\n",
      "Clip 38 / Check 3: Prompt saved - points: (1, 2), labels: (1,)\n",
      "Clip 39 / Check 1: New Clip Started\n"
     ]
    },
    {
     "name": "stderr",
     "output_type": "stream",
     "text": [
      "frame loading (JPEG): 100%|██████████| 105/105 [00:06<00:00, 17.38it/s]\n"
     ]
    },
    {
     "name": "stdout",
     "output_type": "stream",
     "text": [
      "Clip 39 / Check 2: Inference State Initiated\n",
      "Waiting for a response...\n",
      "Waiting for a response...\n",
      "Waiting for a click...\n",
      "[(1269, 302)]\n",
      "[1]\n",
      "Click registered. Generating mask...\n",
      "Waiting for a response...\n",
      "Waiting for a response...\n",
      "Mask generation complete.\n",
      "Clip 39 / Check 3: Prompt saved - points: (1, 2), labels: (1,)\n",
      "Clip 40 / Check 1: New Clip Started\n"
     ]
    },
    {
     "name": "stderr",
     "output_type": "stream",
     "text": [
      "frame loading (JPEG): 100%|██████████| 97/97 [00:05<00:00, 17.55it/s]\n"
     ]
    },
    {
     "name": "stdout",
     "output_type": "stream",
     "text": [
      "Clip 40 / Check 2: Inference State Initiated\n",
      "Waiting for a response...\n",
      "Waiting for a response...\n",
      "Waiting for a click...\n",
      "[(1226, 294)]\n",
      "[1]\n",
      "Click registered. Generating mask...\n",
      "Waiting for a response...\n",
      "Waiting for a response...\n",
      "Mask generation complete.\n",
      "Clip 40 / Check 3: Prompt saved - points: (1, 2), labels: (1,)\n",
      "Clip 41 / Check 1: New Clip Started\n"
     ]
    },
    {
     "name": "stderr",
     "output_type": "stream",
     "text": [
      "frame loading (JPEG): 100%|██████████| 78/78 [00:04<00:00, 18.83it/s]\n"
     ]
    },
    {
     "name": "stdout",
     "output_type": "stream",
     "text": [
      "Clip 41 / Check 2: Inference State Initiated\n",
      "Waiting for a response...\n",
      "Waiting for a response...\n",
      "Waiting for a click...\n",
      "[(1335, 631)]\n",
      "[1]\n",
      "Click registered. Generating mask...\n",
      "Waiting for a response...\n",
      "Waiting for a response...\n",
      "Mask generation complete.\n",
      "Clip 41 / Check 3: Prompt saved - points: (1, 2), labels: (1,)\n",
      "Clip 42 / Check 1: New Clip Started\n"
     ]
    },
    {
     "name": "stderr",
     "output_type": "stream",
     "text": [
      "frame loading (JPEG): 100%|██████████| 172/172 [00:10<00:00, 16.99it/s]\n"
     ]
    },
    {
     "name": "stdout",
     "output_type": "stream",
     "text": [
      "Clip 42 / Check 2: Inference State Initiated\n",
      "Waiting for a response...\n",
      "Waiting for a response...\n",
      "Waiting for a click...\n",
      "[(1195, 1127)]\n",
      "[1]\n",
      "[(1195, 1127), (1191, 1127)]\n",
      "[1, 1]\n",
      "Click registered. Generating mask...\n",
      "Waiting for a response...\n",
      "Waiting for a response...\n",
      "Mask generation complete.\n",
      "Clip 42 / Check 3: Prompt saved - points: (2, 2), labels: (2,)\n",
      "Clip 43 / Check 1: New Clip Started\n"
     ]
    },
    {
     "name": "stderr",
     "output_type": "stream",
     "text": [
      "frame loading (JPEG): 100%|██████████| 46/46 [00:02<00:00, 15.79it/s]\n"
     ]
    },
    {
     "name": "stdout",
     "output_type": "stream",
     "text": [
      "Clip 43 / Check 2: Inference State Initiated\n",
      "Waiting for a response...\n",
      "Waiting for a response...\n",
      "Waiting for a click...\n",
      "[(1110, 119)]\n",
      "[1]\n",
      "Click registered. Generating mask...\n",
      "Waiting for a response...\n",
      "Waiting for a response...\n",
      "Mask generation complete.\n",
      "Clip 43 / Check 3: Prompt saved - points: (1, 2), labels: (1,)\n",
      "Clip 44 / Check 1: New Clip Started\n"
     ]
    },
    {
     "name": "stderr",
     "output_type": "stream",
     "text": [
      "frame loading (JPEG): 100%|██████████| 166/166 [00:09<00:00, 16.89it/s]\n"
     ]
    },
    {
     "name": "stdout",
     "output_type": "stream",
     "text": [
      "Clip 44 / Check 2: Inference State Initiated\n",
      "Waiting for a response...\n",
      "Waiting for a response...\n",
      "Waiting for a click...\n",
      "[(1183, 96)]\n",
      "[1]\n",
      "Click registered. Generating mask...\n",
      "Waiting for a response...\n",
      "Waiting for a response...\n",
      "Waiting for a click...\n",
      "[(1183, 96), (1148, 112)]\n",
      "[1, 0]\n",
      "Click registered. Generating mask...\n",
      "Waiting for a response...\n",
      "Waiting for a response...\n",
      "Mask generation complete.\n",
      "Clip 44 / Check 3: Prompt saved - points: (2, 2), labels: (2,)\n",
      "Clip 45 / Check 1: New Clip Started\n"
     ]
    },
    {
     "name": "stderr",
     "output_type": "stream",
     "text": [
      "frame loading (JPEG): 100%|██████████| 205/205 [00:12<00:00, 15.91it/s]\n"
     ]
    },
    {
     "name": "stdout",
     "output_type": "stream",
     "text": [
      "Clip 45 / Check 2: Inference State Initiated\n",
      "Waiting for a response...\n",
      "Waiting for a response...\n",
      "Waiting for a click...\n",
      "[(1172, 73)]\n",
      "[1]\n",
      "Click registered. Generating mask...\n",
      "Waiting for a response...\n",
      "Waiting for a response...\n",
      "Mask generation complete.\n",
      "Clip 45 / Check 3: Prompt saved - points: (1, 2), labels: (1,)\n",
      "Clip 46 / Check 1: New Clip Started\n"
     ]
    },
    {
     "name": "stderr",
     "output_type": "stream",
     "text": [
      "frame loading (JPEG): 100%|██████████| 107/107 [00:06<00:00, 17.34it/s]\n"
     ]
    },
    {
     "name": "stdout",
     "output_type": "stream",
     "text": [
      "Clip 46 / Check 2: Inference State Initiated\n",
      "Waiting for a response...\n",
      "Waiting for a response...\n",
      "Waiting for a click...\n",
      "[(1296, 639)]\n",
      "[1]\n",
      "Click registered. Generating mask...\n",
      "Waiting for a response...\n",
      "Waiting for a response...\n",
      "Mask generation complete.\n",
      "Clip 46 / Check 3: Prompt saved - points: (1, 2), labels: (1,)\n",
      "Clip 47 / Check 1: New Clip Started\n"
     ]
    },
    {
     "name": "stderr",
     "output_type": "stream",
     "text": [
      "frame loading (JPEG): 100%|██████████| 94/94 [00:05<00:00, 17.31it/s]\n"
     ]
    },
    {
     "name": "stdout",
     "output_type": "stream",
     "text": [
      "Clip 47 / Check 2: Inference State Initiated\n",
      "Waiting for a response...\n",
      "Waiting for a response...\n",
      "Waiting for a click...\n",
      "[(1265, 181)]\n",
      "[1]\n",
      "Click registered. Generating mask...\n",
      "Waiting for a response...\n",
      "Waiting for a response...\n",
      "Mask generation complete.\n",
      "Clip 47 / Check 3: Prompt saved - points: (1, 2), labels: (1,)\n",
      "Clip 48 / Check 1: New Clip Started\n"
     ]
    },
    {
     "name": "stderr",
     "output_type": "stream",
     "text": [
      "frame loading (JPEG): 100%|██████████| 144/144 [00:08<00:00, 17.30it/s]\n"
     ]
    },
    {
     "name": "stdout",
     "output_type": "stream",
     "text": [
      "Clip 48 / Check 2: Inference State Initiated\n",
      "Waiting for a response...\n",
      "Waiting for a response...\n",
      "Waiting for a click...\n",
      "[(1304, 426)]\n",
      "[1]\n",
      "Click registered. Generating mask...\n",
      "Waiting for a response...\n",
      "Waiting for a response...\n",
      "Mask generation complete.\n",
      "Clip 48 / Check 3: Prompt saved - points: (1, 2), labels: (1,)\n",
      "Clip 49 / Check 1: New Clip Started\n"
     ]
    },
    {
     "name": "stderr",
     "output_type": "stream",
     "text": [
      "frame loading (JPEG): 100%|██████████| 170/170 [00:10<00:00, 16.60it/s]\n"
     ]
    },
    {
     "name": "stdout",
     "output_type": "stream",
     "text": [
      "Clip 49 / Check 2: Inference State Initiated\n",
      "Waiting for a response...\n",
      "Waiting for a response...\n",
      "Waiting for a click...\n",
      "[(1083, 220)]\n",
      "[1]\n",
      "Click registered. Generating mask...\n",
      "Waiting for a response...\n",
      "Waiting for a response...\n",
      "Mask generation complete.\n",
      "Clip 49 / Check 3: Prompt saved - points: (1, 2), labels: (1,)\n",
      "Clip 50 / Check 1: New Clip Started\n"
     ]
    },
    {
     "name": "stderr",
     "output_type": "stream",
     "text": [
      "frame loading (JPEG): 100%|██████████| 166/166 [00:10<00:00, 15.93it/s]\n"
     ]
    },
    {
     "name": "stdout",
     "output_type": "stream",
     "text": [
      "Clip 50 / Check 2: Inference State Initiated\n",
      "Waiting for a response...\n",
      "Waiting for a response...\n",
      "Waiting for a click...\n",
      "[(1183, 294)]\n",
      "[1]\n",
      "Click registered. Generating mask...\n",
      "Waiting for a response...\n",
      "Waiting for a response...\n",
      "Mask generation complete.\n",
      "Clip 50 / Check 3: Prompt saved - points: (1, 2), labels: (1,)\n",
      "Clip 51 / Check 1: New Clip Started\n"
     ]
    },
    {
     "name": "stderr",
     "output_type": "stream",
     "text": [
      "frame loading (JPEG): 100%|██████████| 68/68 [00:03<00:00, 19.10it/s]\n"
     ]
    },
    {
     "name": "stdout",
     "output_type": "stream",
     "text": [
      "Clip 51 / Check 2: Inference State Initiated\n",
      "Waiting for a response...\n",
      "Waiting for a response...\n",
      "Waiting for a click...\n",
      "[(1230, 499)]\n",
      "[1]\n",
      "Click registered. Generating mask...\n",
      "Waiting for a response...\n",
      "Waiting for a response...\n",
      "Mask generation complete.\n",
      "Clip 51 / Check 3: Prompt saved - points: (1, 2), labels: (1,)\n",
      "Clip 52 / Check 1: New Clip Started\n"
     ]
    },
    {
     "name": "stderr",
     "output_type": "stream",
     "text": [
      "frame loading (JPEG): 100%|██████████| 154/154 [00:09<00:00, 15.82it/s]\n"
     ]
    },
    {
     "name": "stdout",
     "output_type": "stream",
     "text": [
      "Clip 52 / Check 2: Inference State Initiated\n",
      "Waiting for a response...\n",
      "Waiting for a response...\n",
      "Waiting for a click...\n",
      "[(1338, 806)]\n",
      "[1]\n",
      "Click registered. Generating mask...\n",
      "Waiting for a response...\n",
      "Waiting for a response...\n",
      "Mask generation complete.\n",
      "Clip 52 / Check 3: Prompt saved - points: (1, 2), labels: (1,)\n",
      "Clip 53 / Check 1: New Clip Started\n"
     ]
    },
    {
     "name": "stderr",
     "output_type": "stream",
     "text": [
      "frame loading (JPEG): 100%|██████████| 130/130 [00:07<00:00, 16.87it/s]\n"
     ]
    },
    {
     "name": "stdout",
     "output_type": "stream",
     "text": [
      "Clip 53 / Check 2: Inference State Initiated\n",
      "Waiting for a response...\n",
      "Waiting for a response...\n",
      "Waiting for a click...\n",
      "[(1238, 635)]\n",
      "[1]\n",
      "Click registered. Generating mask...\n",
      "Waiting for a response...\n",
      "Waiting for a response...\n",
      "Mask generation complete.\n",
      "Clip 53 / Check 3: Prompt saved - points: (1, 2), labels: (1,)\n",
      "Clip 54 / Check 1: New Clip Started\n"
     ]
    },
    {
     "name": "stderr",
     "output_type": "stream",
     "text": [
      "frame loading (JPEG): 100%|██████████| 94/94 [00:05<00:00, 16.14it/s]\n"
     ]
    },
    {
     "name": "stdout",
     "output_type": "stream",
     "text": [
      "Clip 54 / Check 2: Inference State Initiated\n",
      "Waiting for a response...\n",
      "Waiting for a response...\n",
      "Waiting for a click...\n",
      "[(1331, 616)]\n",
      "[1]\n",
      "Click registered. Generating mask...\n",
      "Waiting for a response...\n",
      "Waiting for a response...\n",
      "Mask generation complete.\n",
      "Clip 54 / Check 3: Prompt saved - points: (1, 2), labels: (1,)\n",
      "Clip 55 / Check 1: New Clip Started\n"
     ]
    },
    {
     "name": "stderr",
     "output_type": "stream",
     "text": [
      "frame loading (JPEG): 100%|██████████| 76/76 [00:04<00:00, 18.63it/s]\n"
     ]
    },
    {
     "name": "stdout",
     "output_type": "stream",
     "text": [
      "Clip 55 / Check 2: Inference State Initiated\n",
      "Waiting for a response...\n",
      "Waiting for a response...\n",
      "Waiting for a click...\n",
      "[(1307, 495)]\n",
      "[1]\n",
      "Click registered. Generating mask...\n",
      "Waiting for a response...\n",
      "Waiting for a response...\n",
      "Mask generation complete.\n",
      "Clip 55 / Check 3: Prompt saved - points: (1, 2), labels: (1,)\n",
      "Clip 56 / Check 1: New Clip Started\n"
     ]
    },
    {
     "name": "stderr",
     "output_type": "stream",
     "text": [
      "frame loading (JPEG): 100%|██████████| 165/165 [00:10<00:00, 15.15it/s]\n"
     ]
    },
    {
     "name": "stdout",
     "output_type": "stream",
     "text": [
      "Clip 56 / Check 2: Inference State Initiated\n",
      "Waiting for a response...\n",
      "Waiting for a response...\n",
      "Waiting for a click...\n",
      "[(1102, 631)]\n",
      "[1]\n",
      "Click registered. Generating mask...\n",
      "Waiting for a response...\n",
      "Waiting for a response...\n",
      "Mask generation complete.\n",
      "Clip 56 / Check 3: Prompt saved - points: (1, 2), labels: (1,)\n",
      "Clip 57 / Check 1: New Clip Started\n"
     ]
    },
    {
     "name": "stderr",
     "output_type": "stream",
     "text": [
      "frame loading (JPEG): 100%|██████████| 108/108 [00:06<00:00, 17.46it/s]\n"
     ]
    },
    {
     "name": "stdout",
     "output_type": "stream",
     "text": [
      "Clip 57 / Check 2: Inference State Initiated\n",
      "Waiting for a response...\n",
      "Waiting for a response...\n",
      "Waiting for a click...\n",
      "[(1160, 573)]\n",
      "[1]\n",
      "Click registered. Generating mask...\n",
      "Waiting for a response...\n",
      "Waiting for a response...\n",
      "Mask generation complete.\n",
      "Clip 57 / Check 3: Prompt saved - points: (1, 2), labels: (1,)\n",
      "Clip 58 / Check 1: New Clip Started\n"
     ]
    },
    {
     "name": "stderr",
     "output_type": "stream",
     "text": [
      "frame loading (JPEG): 100%|██████████| 85/85 [00:04<00:00, 17.32it/s]\n"
     ]
    },
    {
     "name": "stdout",
     "output_type": "stream",
     "text": [
      "Clip 58 / Check 2: Inference State Initiated\n",
      "Waiting for a response...\n",
      "Waiting for a response...\n",
      "Waiting for a click...\n",
      "[(1354, 569)]\n",
      "[1]\n",
      "Click registered. Generating mask...\n",
      "Waiting for a response...\n",
      "Waiting for a response...\n",
      "Mask generation complete.\n",
      "Clip 58 / Check 3: Prompt saved - points: (1, 2), labels: (1,)\n",
      "Clip 59 / Check 1: New Clip Started\n"
     ]
    },
    {
     "name": "stderr",
     "output_type": "stream",
     "text": [
      "frame loading (JPEG): 100%|██████████| 148/148 [00:09<00:00, 15.14it/s]\n"
     ]
    },
    {
     "name": "stdout",
     "output_type": "stream",
     "text": [
      "Clip 59 / Check 2: Inference State Initiated\n",
      "Waiting for a response...\n",
      "Waiting for a response...\n",
      "Waiting for a click...\n",
      "[(1168, 619)]\n",
      "[1]\n",
      "Click registered. Generating mask...\n",
      "Waiting for a response...\n",
      "Waiting for a response...\n",
      "Mask generation complete.\n",
      "Clip 59 / Check 3: Prompt saved - points: (1, 2), labels: (1,)\n",
      "Clip 60 / Check 1: New Clip Started\n"
     ]
    },
    {
     "name": "stderr",
     "output_type": "stream",
     "text": [
      "frame loading (JPEG): 100%|██████████| 74/74 [00:04<00:00, 16.99it/s]\n"
     ]
    },
    {
     "name": "stdout",
     "output_type": "stream",
     "text": [
      "Clip 60 / Check 2: Inference State Initiated\n",
      "Waiting for a response...\n",
      "Waiting for a response...\n",
      "Waiting for a click...\n",
      "[(1338, 115)]\n",
      "[1]\n",
      "Click registered. Generating mask...\n",
      "Waiting for a response...\n",
      "Waiting for a response...\n",
      "Waiting for a click...\n",
      "[(1338, 115), (1323, 154)]\n",
      "[1, 0]\n",
      "Click registered. Generating mask...\n",
      "Waiting for a response...\n",
      "Waiting for a response...\n",
      "Mask generation complete.\n",
      "Clip 60 / Check 3: Prompt saved - points: (2, 2), labels: (2,)\n",
      "Clip 61 / Check 1: New Clip Started\n"
     ]
    },
    {
     "name": "stderr",
     "output_type": "stream",
     "text": [
      "frame loading (JPEG): 100%|██████████| 183/183 [00:12<00:00, 14.91it/s]\n"
     ]
    },
    {
     "name": "stdout",
     "output_type": "stream",
     "text": [
      "Clip 61 / Check 2: Inference State Initiated\n",
      "Waiting for a response...\n",
      "Waiting for a response...\n",
      "Waiting for a click...\n",
      "[(1114, 650)]\n",
      "[1]\n",
      "Click registered. Generating mask...\n",
      "Waiting for a response...\n",
      "Waiting for a response...\n",
      "Mask generation complete.\n",
      "Clip 61 / Check 3: Prompt saved - points: (1, 2), labels: (1,)\n",
      "Clip 62 / Check 1: New Clip Started\n"
     ]
    },
    {
     "name": "stderr",
     "output_type": "stream",
     "text": [
      "frame loading (JPEG): 100%|██████████| 133/133 [00:08<00:00, 15.63it/s]\n"
     ]
    },
    {
     "name": "stdout",
     "output_type": "stream",
     "text": [
      "Clip 62 / Check 2: Inference State Initiated\n",
      "Waiting for a response...\n",
      "Waiting for a response...\n",
      "Waiting for a click...\n",
      "[(1102, 647)]\n",
      "[1]\n",
      "Click registered. Generating mask...\n",
      "Waiting for a response...\n",
      "Waiting for a response...\n",
      "Mask generation complete.\n",
      "Clip 62 / Check 3: Prompt saved - points: (1, 2), labels: (1,)\n",
      "Clip 63 / Check 1: New Clip Started\n"
     ]
    },
    {
     "name": "stderr",
     "output_type": "stream",
     "text": [
      "frame loading (JPEG): 100%|██████████| 95/95 [00:05<00:00, 16.13it/s]\n"
     ]
    },
    {
     "name": "stdout",
     "output_type": "stream",
     "text": [
      "Clip 63 / Check 2: Inference State Initiated\n",
      "Waiting for a response...\n",
      "Waiting for a response...\n",
      "Waiting for a click...\n",
      "[(1366, 495)]\n",
      "[1]\n",
      "Click registered. Generating mask...\n",
      "Waiting for a response...\n",
      "Waiting for a response...\n",
      "Mask generation complete.\n",
      "Clip 63 / Check 3: Prompt saved - points: (1, 2), labels: (1,)\n",
      "Clip 64 / Check 1: New Clip Started\n"
     ]
    },
    {
     "name": "stderr",
     "output_type": "stream",
     "text": [
      "frame loading (JPEG): 100%|██████████| 77/77 [00:04<00:00, 15.98it/s]\n"
     ]
    },
    {
     "name": "stdout",
     "output_type": "stream",
     "text": [
      "Clip 64 / Check 2: Inference State Initiated\n",
      "Waiting for a response...\n",
      "Waiting for a response...\n",
      "Waiting for a click...\n",
      "[(1373, 240)]\n",
      "[1]\n",
      "Click registered. Generating mask...\n",
      "Waiting for a response...\n",
      "Waiting for a response...\n",
      "Mask generation complete.\n",
      "Clip 64 / Check 3: Prompt saved - points: (1, 2), labels: (1,)\n",
      "Clip 65 / Check 1: New Clip Started\n"
     ]
    },
    {
     "name": "stderr",
     "output_type": "stream",
     "text": [
      "frame loading (JPEG): 100%|██████████| 105/105 [00:06<00:00, 15.60it/s]\n"
     ]
    },
    {
     "name": "stdout",
     "output_type": "stream",
     "text": [
      "Clip 65 / Check 2: Inference State Initiated\n",
      "Waiting for a response...\n",
      "Waiting for a response...\n",
      "Waiting for a click...\n",
      "[(1214, 670)]\n",
      "[1]\n",
      "Click registered. Generating mask...\n",
      "Waiting for a response...\n",
      "Waiting for a response...\n",
      "Mask generation complete.\n",
      "Clip 65 / Check 3: Prompt saved - points: (1, 2), labels: (1,)\n",
      "Clip 66 / Check 1: New Clip Started\n"
     ]
    },
    {
     "name": "stderr",
     "output_type": "stream",
     "text": [
      "frame loading (JPEG): 100%|██████████| 29/29 [00:01<00:00, 16.36it/s]\n"
     ]
    },
    {
     "name": "stdout",
     "output_type": "stream",
     "text": [
      "Clip 66 / Check 2: Inference State Initiated\n",
      "Waiting for a response...\n",
      "Waiting for a response...\n",
      "Waiting for a click...\n",
      "[(1315, 267)]\n",
      "[1]\n",
      "Click registered. Generating mask...\n",
      "Waiting for a response...\n",
      "Waiting for a response...\n",
      "Waiting for a click...\n",
      "[(1315, 267), (1284, 267)]\n",
      "[1, 1]\n",
      "Click registered. Generating mask...\n",
      "Waiting for a response...\n",
      "Waiting for a response...\n",
      "Waiting for a click...\n",
      "[(1315, 267), (1284, 267), (1300, 240)]\n",
      "[1, 1, 0]\n",
      "Click registered. Generating mask...\n",
      "Waiting for a response...\n",
      "Waiting for a response...\n",
      "Mask generation complete.\n",
      "Clip 66 / Check 3: Prompt saved - points: (3, 2), labels: (3,)\n",
      "Clip 67 / Check 1: New Clip Started\n"
     ]
    },
    {
     "name": "stderr",
     "output_type": "stream",
     "text": [
      "frame loading (JPEG): 100%|██████████| 134/134 [00:07<00:00, 18.40it/s]\n"
     ]
    },
    {
     "name": "stdout",
     "output_type": "stream",
     "text": [
      "Clip 67 / Check 2: Inference State Initiated\n",
      "Waiting for a response...\n",
      "Waiting for a response...\n",
      "Waiting for a click...\n",
      "[(1428, 740)]\n",
      "[1]\n",
      "Click registered. Generating mask...\n",
      "Waiting for a response...\n",
      "Waiting for a response...\n",
      "Mask generation complete.\n",
      "Clip 67 / Check 3: Prompt saved - points: (1, 2), labels: (1,)\n",
      "Clip 68 / Check 1: New Clip Started\n"
     ]
    },
    {
     "name": "stderr",
     "output_type": "stream",
     "text": [
      "frame loading (JPEG): 100%|██████████| 31/31 [00:01<00:00, 17.53it/s]\n"
     ]
    },
    {
     "name": "stdout",
     "output_type": "stream",
     "text": [
      "Clip 68 / Check 2: Inference State Initiated\n",
      "Waiting for a response...\n",
      "Waiting for a response...\n",
      "Waiting for a click...\n",
      "[(1366, 395)]\n",
      "[1]\n",
      "Click registered. Generating mask...\n",
      "Waiting for a response...\n",
      "Waiting for a response...\n",
      "Mask generation complete.\n",
      "Clip 68 / Check 3: Prompt saved - points: (1, 2), labels: (1,)\n",
      "Clip 69 / Check 1: New Clip Started\n"
     ]
    },
    {
     "name": "stderr",
     "output_type": "stream",
     "text": [
      "frame loading (JPEG): 100%|██████████| 129/129 [00:07<00:00, 16.41it/s]\n"
     ]
    },
    {
     "name": "stdout",
     "output_type": "stream",
     "text": [
      "Clip 69 / Check 2: Inference State Initiated\n",
      "Waiting for a response...\n",
      "Waiting for a response...\n",
      "Waiting for a click...\n",
      "[(1129, 503)]\n",
      "[1]\n",
      "Click registered. Generating mask...\n",
      "Waiting for a response...\n",
      "Waiting for a response...\n",
      "Mask generation complete.\n",
      "Clip 69 / Check 3: Prompt saved - points: (1, 2), labels: (1,)\n",
      "Clip 70 / Check 1: New Clip Started\n"
     ]
    },
    {
     "name": "stderr",
     "output_type": "stream",
     "text": [
      "frame loading (JPEG): 100%|██████████| 113/113 [00:06<00:00, 16.42it/s]\n"
     ]
    },
    {
     "name": "stdout",
     "output_type": "stream",
     "text": [
      "Clip 70 / Check 2: Inference State Initiated\n",
      "Waiting for a response...\n",
      "Waiting for a response...\n",
      "Waiting for a click...\n",
      "[(1366, 472)]\n",
      "[1]\n",
      "Click registered. Generating mask...\n",
      "Waiting for a response...\n",
      "Waiting for a response...\n",
      "Mask generation complete.\n",
      "Clip 70 / Check 3: Prompt saved - points: (1, 2), labels: (1,)\n",
      "Clip 71 / Check 1: New Clip Started\n"
     ]
    },
    {
     "name": "stderr",
     "output_type": "stream",
     "text": [
      "frame loading (JPEG): 100%|██████████| 48/48 [00:03<00:00, 14.43it/s]\n"
     ]
    },
    {
     "name": "stdout",
     "output_type": "stream",
     "text": [
      "Clip 71 / Check 2: Inference State Initiated\n",
      "Waiting for a response...\n",
      "Waiting for a response...\n",
      "Waiting for a click...\n",
      "[(1125, 453)]\n",
      "[1]\n",
      "Click registered. Generating mask...\n",
      "Waiting for a response...\n",
      "Waiting for a response...\n",
      "Mask generation complete.\n",
      "Clip 71 / Check 3: Prompt saved - points: (1, 2), labels: (1,)\n",
      "Clip 72 / Check 1: New Clip Started\n"
     ]
    },
    {
     "name": "stderr",
     "output_type": "stream",
     "text": [
      "frame loading (JPEG): 100%|██████████| 44/44 [00:02<00:00, 17.93it/s]\n"
     ]
    },
    {
     "name": "stdout",
     "output_type": "stream",
     "text": [
      "Clip 72 / Check 2: Inference State Initiated\n",
      "Waiting for a response...\n",
      "Waiting for a response...\n",
      "Waiting for a click...\n",
      "[(1362, 441)]\n",
      "[1]\n",
      "Click registered. Generating mask...\n",
      "Waiting for a response...\n",
      "Waiting for a response...\n",
      "Mask generation complete.\n",
      "Clip 72 / Check 3: Prompt saved - points: (1, 2), labels: (1,)\n",
      "Clip 73 / Check 1: New Clip Started\n"
     ]
    },
    {
     "name": "stderr",
     "output_type": "stream",
     "text": [
      "frame loading (JPEG): 100%|██████████| 69/69 [00:04<00:00, 14.99it/s]\n"
     ]
    },
    {
     "name": "stdout",
     "output_type": "stream",
     "text": [
      "Clip 73 / Check 2: Inference State Initiated\n",
      "Waiting for a response...\n",
      "Waiting for a response...\n",
      "Waiting for a click...\n",
      "[(1381, 472)]\n",
      "[1]\n",
      "Click registered. Generating mask...\n",
      "Waiting for a response...\n",
      "Waiting for a response...\n",
      "Mask generation complete.\n",
      "Clip 73 / Check 3: Prompt saved - points: (1, 2), labels: (1,)\n",
      "Clip 74 / Check 1: New Clip Started\n"
     ]
    },
    {
     "name": "stderr",
     "output_type": "stream",
     "text": [
      "frame loading (JPEG): 100%|██████████| 68/68 [00:04<00:00, 15.95it/s]\n"
     ]
    },
    {
     "name": "stdout",
     "output_type": "stream",
     "text": [
      "Clip 74 / Check 2: Inference State Initiated\n",
      "Waiting for a response...\n",
      "Waiting for a response...\n",
      "Waiting for a click...\n",
      "[(1145, 503)]\n",
      "[1]\n",
      "Click registered. Generating mask...\n",
      "Waiting for a response...\n",
      "Waiting for a response...\n",
      "Mask generation complete.\n",
      "Clip 74 / Check 3: Prompt saved - points: (1, 2), labels: (1,)\n",
      "Clip 75 / Check 1: New Clip Started\n"
     ]
    },
    {
     "name": "stderr",
     "output_type": "stream",
     "text": [
      "frame loading (JPEG): 100%|██████████| 146/146 [00:09<00:00, 14.93it/s]\n"
     ]
    },
    {
     "name": "stdout",
     "output_type": "stream",
     "text": [
      "Clip 75 / Check 2: Inference State Initiated\n",
      "Waiting for a response...\n",
      "Waiting for a response...\n",
      "Waiting for a click...\n",
      "[(1013, 1003)]\n",
      "[1]\n",
      "Click registered. Generating mask...\n",
      "Waiting for a response...\n",
      "Waiting for a response...\n",
      "Mask generation complete.\n",
      "Clip 75 / Check 3: Prompt saved - points: (1, 2), labels: (1,)\n",
      "Clip 76 / Check 1: New Clip Started\n"
     ]
    },
    {
     "name": "stderr",
     "output_type": "stream",
     "text": [
      "frame loading (JPEG): 100%|██████████| 96/96 [00:05<00:00, 17.22it/s]\n"
     ]
    },
    {
     "name": "stdout",
     "output_type": "stream",
     "text": [
      "Clip 76 / Check 2: Inference State Initiated\n",
      "Waiting for a response...\n",
      "Waiting for a response...\n",
      "Waiting for a click...\n",
      "[(1114, 468)]\n",
      "[1]\n",
      "Click registered. Generating mask...\n",
      "Waiting for a response...\n",
      "Waiting for a response...\n",
      "Mask generation complete.\n",
      "Clip 76 / Check 3: Prompt saved - points: (1, 2), labels: (1,)\n",
      "Clip 77 / Check 1: New Clip Started\n"
     ]
    },
    {
     "name": "stderr",
     "output_type": "stream",
     "text": [
      "frame loading (JPEG): 100%|██████████| 120/120 [00:07<00:00, 16.63it/s]\n"
     ]
    },
    {
     "name": "stdout",
     "output_type": "stream",
     "text": [
      "Clip 77 / Check 2: Inference State Initiated\n",
      "Waiting for a response...\n",
      "Waiting for a response...\n",
      "Waiting for a click...\n",
      "[(1137, 495)]\n",
      "[1]\n",
      "Click registered. Generating mask...\n",
      "Waiting for a response...\n",
      "Waiting for a response...\n",
      "Mask generation complete.\n",
      "Clip 77 / Check 3: Prompt saved - points: (1, 2), labels: (1,)\n",
      "Clip 78 / Check 1: New Clip Started\n"
     ]
    },
    {
     "name": "stderr",
     "output_type": "stream",
     "text": [
      "frame loading (JPEG): 100%|██████████| 85/85 [00:05<00:00, 16.36it/s]\n"
     ]
    },
    {
     "name": "stdout",
     "output_type": "stream",
     "text": [
      "Clip 78 / Check 2: Inference State Initiated\n",
      "Waiting for a response...\n",
      "Waiting for a response...\n",
      "Waiting for a click...\n",
      "[(1346, 538)]\n",
      "[1]\n",
      "Click registered. Generating mask...\n",
      "Waiting for a response...\n",
      "Waiting for a response...\n",
      "Mask generation complete.\n",
      "Clip 78 / Check 3: Prompt saved - points: (1, 2), labels: (1,)\n",
      "Clip 79 / Check 1: New Clip Started\n"
     ]
    },
    {
     "name": "stderr",
     "output_type": "stream",
     "text": [
      "frame loading (JPEG): 100%|██████████| 105/105 [00:06<00:00, 16.37it/s]\n"
     ]
    },
    {
     "name": "stdout",
     "output_type": "stream",
     "text": [
      "Clip 79 / Check 2: Inference State Initiated\n",
      "Waiting for a response...\n",
      "Waiting for a response...\n",
      "Waiting for a click...\n",
      "[(1125, 476)]\n",
      "[1]\n",
      "Click registered. Generating mask...\n",
      "Waiting for a response...\n",
      "Waiting for a response...\n",
      "Mask generation complete.\n",
      "Clip 79 / Check 3: Prompt saved - points: (1, 2), labels: (1,)\n",
      "Clip 80 / Check 1: New Clip Started\n"
     ]
    },
    {
     "name": "stderr",
     "output_type": "stream",
     "text": [
      "frame loading (JPEG): 100%|██████████| 116/116 [00:06<00:00, 17.70it/s]\n"
     ]
    },
    {
     "name": "stdout",
     "output_type": "stream",
     "text": [
      "Clip 80 / Check 2: Inference State Initiated\n",
      "Waiting for a response...\n",
      "Waiting for a response...\n",
      "Waiting for a click...\n",
      "[(1238, 643)]\n",
      "[1]\n",
      "Click registered. Generating mask...\n",
      "Waiting for a response...\n",
      "Waiting for a response...\n",
      "Mask generation complete.\n",
      "Clip 80 / Check 3: Prompt saved - points: (1, 2), labels: (1,)\n",
      "Clip 81 / Check 1: New Clip Started\n"
     ]
    },
    {
     "name": "stderr",
     "output_type": "stream",
     "text": [
      "frame loading (JPEG): 100%|██████████| 88/88 [00:05<00:00, 15.62it/s]\n"
     ]
    },
    {
     "name": "stdout",
     "output_type": "stream",
     "text": [
      "Clip 81 / Check 2: Inference State Initiated\n",
      "Waiting for a response...\n",
      "Waiting for a response...\n",
      "Waiting for a click...\n",
      "[(1234, 395)]\n",
      "[1]\n",
      "Click registered. Generating mask...\n",
      "Waiting for a response...\n",
      "Waiting for a response...\n",
      "Mask generation complete.\n",
      "Clip 81 / Check 3: Prompt saved - points: (1, 2), labels: (1,)\n",
      "Clip 82 / Check 1: New Clip Started\n"
     ]
    },
    {
     "name": "stderr",
     "output_type": "stream",
     "text": [
      "frame loading (JPEG): 100%|██████████| 93/93 [00:05<00:00, 15.69it/s]\n"
     ]
    },
    {
     "name": "stdout",
     "output_type": "stream",
     "text": [
      "Clip 82 / Check 2: Inference State Initiated\n",
      "Waiting for a response...\n",
      "Waiting for a response...\n",
      "Waiting for a click...\n",
      "[(1125, 480)]\n",
      "[1]\n",
      "Click registered. Generating mask...\n",
      "Waiting for a response...\n",
      "Waiting for a response...\n",
      "Mask generation complete.\n",
      "Clip 82 / Check 3: Prompt saved - points: (1, 2), labels: (1,)\n",
      "Clip 83 / Check 1: New Clip Started\n"
     ]
    },
    {
     "name": "stderr",
     "output_type": "stream",
     "text": [
      "frame loading (JPEG): 100%|██████████| 104/104 [00:06<00:00, 15.74it/s]\n"
     ]
    },
    {
     "name": "stdout",
     "output_type": "stream",
     "text": [
      "Clip 83 / Check 2: Inference State Initiated\n",
      "Waiting for a response...\n",
      "Waiting for a response...\n",
      "Waiting for a click...\n",
      "[(1257, 592)]\n",
      "[1]\n",
      "Click registered. Generating mask...\n",
      "Waiting for a response...\n",
      "Waiting for a response...\n",
      "Mask generation complete.\n",
      "Clip 83 / Check 3: Prompt saved - points: (1, 2), labels: (1,)\n",
      "Clip 84 / Check 1: New Clip Started\n"
     ]
    },
    {
     "name": "stderr",
     "output_type": "stream",
     "text": [
      "frame loading (JPEG): 100%|██████████| 67/67 [00:04<00:00, 14.09it/s]\n"
     ]
    },
    {
     "name": "stdout",
     "output_type": "stream",
     "text": [
      "Clip 84 / Check 2: Inference State Initiated\n",
      "Waiting for a response...\n",
      "Waiting for a response...\n",
      "Waiting for a click...\n",
      "[(1385, 515)]\n",
      "[1]\n",
      "Click registered. Generating mask...\n",
      "Waiting for a response...\n",
      "Waiting for a response...\n",
      "Mask generation complete.\n",
      "Clip 84 / Check 3: Prompt saved - points: (1, 2), labels: (1,)\n",
      "Clip 85 / Check 1: New Clip Started\n"
     ]
    },
    {
     "name": "stderr",
     "output_type": "stream",
     "text": [
      "frame loading (JPEG): 100%|██████████| 185/185 [00:12<00:00, 14.39it/s]\n"
     ]
    },
    {
     "name": "stdout",
     "output_type": "stream",
     "text": [
      "Clip 85 / Check 2: Inference State Initiated\n",
      "Waiting for a response...\n",
      "Waiting for a response...\n",
      "Waiting for a click...\n",
      "[(1187, 131)]\n",
      "[1]\n",
      "Click registered. Generating mask...\n",
      "Waiting for a response...\n",
      "Waiting for a response...\n",
      "Mask generation complete.\n",
      "Clip 85 / Check 3: Prompt saved - points: (1, 2), labels: (1,)\n",
      "Clip 86 / Check 1: New Clip Started\n"
     ]
    },
    {
     "name": "stderr",
     "output_type": "stream",
     "text": [
      "frame loading (JPEG): 100%|██████████| 94/94 [00:05<00:00, 16.33it/s]\n"
     ]
    },
    {
     "name": "stdout",
     "output_type": "stream",
     "text": [
      "Clip 86 / Check 2: Inference State Initiated\n",
      "Waiting for a response...\n",
      "Waiting for a response...\n",
      "Waiting for a click...\n",
      "[(1261, 542)]\n",
      "[1]\n",
      "Click registered. Generating mask...\n",
      "Waiting for a response...\n",
      "Waiting for a response...\n",
      "Mask generation complete.\n",
      "Clip 86 / Check 3: Prompt saved - points: (1, 2), labels: (1,)\n",
      "Clip 87 / Check 1: New Clip Started\n"
     ]
    },
    {
     "name": "stderr",
     "output_type": "stream",
     "text": [
      "frame loading (JPEG): 100%|██████████| 221/221 [00:13<00:00, 16.94it/s]\n"
     ]
    },
    {
     "name": "stdout",
     "output_type": "stream",
     "text": [
      "Clip 87 / Check 2: Inference State Initiated\n",
      "Waiting for a response...\n",
      "Waiting for a response...\n",
      "Waiting for a click...\n",
      "[(1214, 243)]\n",
      "[1]\n",
      "Click registered. Generating mask...\n",
      "Waiting for a response...\n",
      "Waiting for a response...\n",
      "Mask generation complete.\n",
      "Clip 87 / Check 3: Prompt saved - points: (1, 2), labels: (1,)\n",
      "Clip 88 / Check 1: New Clip Started\n"
     ]
    },
    {
     "name": "stderr",
     "output_type": "stream",
     "text": [
      "frame loading (JPEG): 100%|██████████| 148/148 [00:08<00:00, 16.45it/s]\n"
     ]
    },
    {
     "name": "stdout",
     "output_type": "stream",
     "text": [
      "Clip 88 / Check 2: Inference State Initiated\n",
      "Waiting for a response...\n",
      "Waiting for a response...\n",
      "Waiting for a click...\n",
      "[(1288, 181)]\n",
      "[1]\n",
      "Click registered. Generating mask...\n",
      "Waiting for a response...\n",
      "Waiting for a response...\n",
      "Mask generation complete.\n",
      "Clip 88 / Check 3: Prompt saved - points: (1, 2), labels: (1,)\n",
      "Clip 89 / Check 1: New Clip Started\n"
     ]
    },
    {
     "name": "stderr",
     "output_type": "stream",
     "text": [
      "frame loading (JPEG): 100%|██████████| 131/131 [00:08<00:00, 16.08it/s]\n"
     ]
    },
    {
     "name": "stdout",
     "output_type": "stream",
     "text": [
      "Clip 89 / Check 2: Inference State Initiated\n",
      "Waiting for a response...\n",
      "Waiting for a response...\n",
      "Waiting for a click...\n",
      "[(1152, 600)]\n",
      "[1]\n",
      "Click registered. Generating mask...\n",
      "Waiting for a response...\n",
      "Waiting for a response...\n",
      "Mask generation complete.\n",
      "Clip 89 / Check 3: Prompt saved - points: (1, 2), labels: (1,)\n",
      "Clip 90 / Check 1: New Clip Started\n"
     ]
    },
    {
     "name": "stderr",
     "output_type": "stream",
     "text": [
      "frame loading (JPEG): 100%|██████████| 141/141 [00:09<00:00, 14.18it/s]\n"
     ]
    },
    {
     "name": "stdout",
     "output_type": "stream",
     "text": [
      "Clip 90 / Check 2: Inference State Initiated\n",
      "Waiting for a response...\n",
      "Waiting for a response...\n",
      "Waiting for a click...\n",
      "[(1261, 604)]\n",
      "[1]\n",
      "Click registered. Generating mask...\n",
      "Waiting for a response...\n",
      "Waiting for a response...\n",
      "Mask generation complete.\n",
      "Clip 90 / Check 3: Prompt saved - points: (1, 2), labels: (1,)\n",
      "Clip 91 / Check 1: New Clip Started\n"
     ]
    },
    {
     "name": "stderr",
     "output_type": "stream",
     "text": [
      "frame loading (JPEG): 100%|██████████| 271/271 [00:15<00:00, 17.09it/s]\n"
     ]
    },
    {
     "name": "stdout",
     "output_type": "stream",
     "text": [
      "Clip 91 / Check 2: Inference State Initiated\n",
      "Waiting for a response...\n",
      "Waiting for a response...\n",
      "Waiting for a click...\n",
      "[(1369, 220)]\n",
      "[1]\n",
      "Click registered. Generating mask...\n",
      "Waiting for a response...\n",
      "Waiting for a response...\n",
      "Mask generation complete.\n",
      "Clip 91 / Check 3: Prompt saved - points: (1, 2), labels: (1,)\n",
      "Clip 92 / Check 1: New Clip Started\n"
     ]
    },
    {
     "name": "stderr",
     "output_type": "stream",
     "text": [
      "frame loading (JPEG): 100%|██████████| 351/351 [00:22<00:00, 15.31it/s]\n"
     ]
    },
    {
     "name": "stdout",
     "output_type": "stream",
     "text": [
      "Clip 92 / Check 2: Inference State Initiated\n",
      "Waiting for a response...\n",
      "Waiting for a response...\n",
      "Waiting for a click...\n",
      "[(1179, 437)]\n",
      "[1]\n",
      "Click registered. Generating mask...\n",
      "Waiting for a response...\n",
      "Waiting for a response...\n",
      "Mask generation complete.\n",
      "Clip 92 / Check 3: Prompt saved - points: (1, 2), labels: (1,)\n",
      "Clip 93 / Check 1: New Clip Started\n"
     ]
    },
    {
     "name": "stderr",
     "output_type": "stream",
     "text": [
      "frame loading (JPEG): 100%|██████████| 147/147 [00:08<00:00, 18.16it/s]\n"
     ]
    },
    {
     "name": "stdout",
     "output_type": "stream",
     "text": [
      "Clip 93 / Check 2: Inference State Initiated\n",
      "Waiting for a response...\n",
      "Waiting for a response...\n",
      "Waiting for a click...\n",
      "[(1327, 538)]\n",
      "[1]\n",
      "Click registered. Generating mask...\n",
      "Waiting for a response...\n",
      "Waiting for a response...\n",
      "wrong input\n",
      "Mask generation complete.\n",
      "Clip 93 / Check 3: Prompt saved - points: (1, 2), labels: (1,)\n",
      "Clip 94 / Check 1: New Clip Started\n"
     ]
    },
    {
     "name": "stderr",
     "output_type": "stream",
     "text": [
      "frame loading (JPEG): 100%|██████████| 296/296 [00:17<00:00, 16.73it/s]\n"
     ]
    },
    {
     "name": "stdout",
     "output_type": "stream",
     "text": [
      "Clip 94 / Check 2: Inference State Initiated\n",
      "Waiting for a response...\n",
      "Waiting for a response...\n",
      "Waiting for a click...\n",
      "[(1335, 426)]\n",
      "[1]\n",
      "Click registered. Generating mask...\n",
      "Waiting for a response...\n",
      "Waiting for a response...\n",
      "Mask generation complete.\n",
      "Clip 94 / Check 3: Prompt saved - points: (1, 2), labels: (1,)\n",
      "Clip 95 / Check 1: New Clip Started\n"
     ]
    },
    {
     "name": "stderr",
     "output_type": "stream",
     "text": [
      "frame loading (JPEG): 100%|██████████| 142/142 [00:07<00:00, 18.46it/s]\n"
     ]
    },
    {
     "name": "stdout",
     "output_type": "stream",
     "text": [
      "Clip 95 / Check 2: Inference State Initiated\n",
      "Waiting for a response...\n",
      "Waiting for a response...\n",
      "Waiting for a click...\n",
      "[(1315, 484)]\n",
      "[1]\n",
      "Click registered. Generating mask...\n",
      "Waiting for a response...\n",
      "Waiting for a response...\n",
      "Mask generation complete.\n",
      "Clip 95 / Check 3: Prompt saved - points: (1, 2), labels: (1,)\n",
      "Clip 96 / Check 1: New Clip Started\n"
     ]
    },
    {
     "name": "stderr",
     "output_type": "stream",
     "text": [
      "frame loading (JPEG): 100%|██████████| 149/149 [00:08<00:00, 16.56it/s]\n"
     ]
    },
    {
     "name": "stdout",
     "output_type": "stream",
     "text": [
      "Clip 96 / Check 2: Inference State Initiated\n",
      "Waiting for a response...\n",
      "Waiting for a response...\n",
      "Waiting for a click...\n",
      "[(1222, 573)]\n",
      "[1]\n",
      "Click registered. Generating mask...\n",
      "Waiting for a response...\n",
      "Waiting for a response...\n",
      "Mask generation complete.\n",
      "Clip 96 / Check 3: Prompt saved - points: (1, 2), labels: (1,)\n",
      "Clip 97 / Check 1: New Clip Started\n"
     ]
    },
    {
     "name": "stderr",
     "output_type": "stream",
     "text": [
      "frame loading (JPEG): 100%|██████████| 375/375 [00:22<00:00, 16.91it/s]\n"
     ]
    },
    {
     "name": "stdout",
     "output_type": "stream",
     "text": [
      "Clip 97 / Check 2: Inference State Initiated\n",
      "Waiting for a response...\n",
      "Waiting for a response...\n",
      "Waiting for a click...\n",
      "[(1335, 511)]\n",
      "[1]\n",
      "Click registered. Generating mask...\n",
      "Waiting for a response...\n",
      "Waiting for a response...\n",
      "Waiting for a click...\n",
      "[(1335, 511), (1400, 534)]\n",
      "[1, 0]\n",
      "Click registered. Generating mask...\n",
      "Waiting for a response...\n",
      "Waiting for a response...\n",
      "Mask generation complete.\n",
      "Clip 97 / Check 3: Prompt saved - points: (2, 2), labels: (2,)\n",
      "Clip 98 / Check 1: New Clip Started\n"
     ]
    },
    {
     "name": "stderr",
     "output_type": "stream",
     "text": [
      "frame loading (JPEG): 100%|██████████| 22/22 [00:01<00:00, 15.26it/s]\n"
     ]
    },
    {
     "name": "stdout",
     "output_type": "stream",
     "text": [
      "Clip 98 / Check 2: Inference State Initiated\n",
      "Waiting for a response...\n",
      "Waiting for a response...\n",
      "Waiting for a click...\n",
      "[(1133, 395)]\n",
      "[1]\n",
      "Click registered. Generating mask...\n",
      "Waiting for a response...\n",
      "Waiting for a response...\n",
      "Mask generation complete.\n",
      "Clip 98 / Check 3: Prompt saved - points: (1, 2), labels: (1,)\n",
      "Clip 99 / Check 1: New Clip Started\n"
     ]
    },
    {
     "name": "stderr",
     "output_type": "stream",
     "text": [
      "frame loading (JPEG): 100%|██████████| 200/200 [00:12<00:00, 16.64it/s]\n"
     ]
    },
    {
     "name": "stdout",
     "output_type": "stream",
     "text": [
      "Clip 99 / Check 2: Inference State Initiated\n",
      "Waiting for a response...\n",
      "Waiting for a response...\n",
      "Waiting for a click...\n",
      "[(1276, 166)]\n",
      "[1]\n",
      "Click registered. Generating mask...\n",
      "Waiting for a response...\n",
      "Waiting for a response...\n",
      "Mask generation complete.\n",
      "Clip 99 / Check 3: Prompt saved - points: (1, 2), labels: (1,)\n",
      "Clip 100 / Check 1: New Clip Started\n"
     ]
    },
    {
     "name": "stderr",
     "output_type": "stream",
     "text": [
      "frame loading (JPEG): 100%|██████████| 168/168 [00:09<00:00, 17.43it/s]\n"
     ]
    },
    {
     "name": "stdout",
     "output_type": "stream",
     "text": [
      "Clip 100 / Check 2: Inference State Initiated\n",
      "Waiting for a response...\n",
      "Waiting for a response...\n",
      "Waiting for a click...\n",
      "[(1300, 557)]\n",
      "[1]\n",
      "Click registered. Generating mask...\n",
      "Waiting for a response...\n",
      "Waiting for a response...\n",
      "Mask generation complete.\n",
      "Clip 100 / Check 3: Prompt saved - points: (1, 2), labels: (1,)\n",
      "Clip 101 / Check 1: New Clip Started\n"
     ]
    },
    {
     "name": "stderr",
     "output_type": "stream",
     "text": [
      "frame loading (JPEG): 100%|██████████| 134/134 [00:07<00:00, 18.09it/s]\n"
     ]
    },
    {
     "name": "stdout",
     "output_type": "stream",
     "text": [
      "Clip 101 / Check 2: Inference State Initiated\n",
      "Waiting for a response...\n",
      "Waiting for a response...\n",
      "Waiting for a click...\n",
      "[(1261, 503)]\n",
      "[1]\n",
      "Click registered. Generating mask...\n",
      "Waiting for a response...\n",
      "Waiting for a response...\n",
      "Mask generation complete.\n",
      "Clip 101 / Check 3: Prompt saved - points: (1, 2), labels: (1,)\n",
      "Clip 102 / Check 1: New Clip Started\n"
     ]
    },
    {
     "name": "stderr",
     "output_type": "stream",
     "text": [
      "frame loading (JPEG): 100%|██████████| 162/162 [00:09<00:00, 16.70it/s]\n"
     ]
    },
    {
     "name": "stdout",
     "output_type": "stream",
     "text": [
      "Clip 102 / Check 2: Inference State Initiated\n",
      "Waiting for a response...\n",
      "Waiting for a response...\n",
      "Waiting for a click...\n",
      "[(1230, 414)]\n",
      "[1]\n",
      "Click registered. Generating mask...\n",
      "Waiting for a response...\n",
      "Waiting for a response...\n",
      "Mask generation complete.\n",
      "Clip 102 / Check 3: Prompt saved - points: (1, 2), labels: (1,)\n",
      "Clip 103 / Check 1: New Clip Started\n"
     ]
    },
    {
     "name": "stderr",
     "output_type": "stream",
     "text": [
      "frame loading (JPEG): 100%|██████████| 156/156 [00:09<00:00, 16.35it/s]\n"
     ]
    },
    {
     "name": "stdout",
     "output_type": "stream",
     "text": [
      "Clip 103 / Check 2: Inference State Initiated\n",
      "Waiting for a response...\n",
      "Waiting for a response...\n",
      "Waiting for a click...\n",
      "[(1179, 480)]\n",
      "[1]\n",
      "[(1179, 480), (1176, 476)]\n",
      "[1, 1]\n",
      "Click registered. Generating mask...\n",
      "Waiting for a response...\n",
      "Waiting for a response...\n",
      "Mask generation complete.\n",
      "Clip 103 / Check 3: Prompt saved - points: (2, 2), labels: (2,)\n",
      "Clip 104 / Check 1: New Clip Started\n"
     ]
    },
    {
     "name": "stderr",
     "output_type": "stream",
     "text": [
      "frame loading (JPEG): 100%|██████████| 183/183 [00:10<00:00, 17.89it/s]\n"
     ]
    },
    {
     "name": "stdout",
     "output_type": "stream",
     "text": [
      "Clip 104 / Check 2: Inference State Initiated\n",
      "Waiting for a response...\n",
      "Waiting for a response...\n",
      "Waiting for a click...\n",
      "[(1137, 771)]\n",
      "[1]\n",
      "Click registered. Generating mask...\n",
      "Waiting for a response...\n",
      "Waiting for a response...\n",
      "Mask generation complete.\n",
      "Clip 104 / Check 3: Prompt saved - points: (1, 2), labels: (1,)\n",
      "Clip 105 / Check 1: New Clip Started\n"
     ]
    },
    {
     "name": "stderr",
     "output_type": "stream",
     "text": [
      "frame loading (JPEG): 100%|██████████| 85/85 [00:04<00:00, 17.42it/s]\n"
     ]
    },
    {
     "name": "stdout",
     "output_type": "stream",
     "text": [
      "Clip 105 / Check 2: Inference State Initiated\n",
      "Waiting for a response...\n",
      "Waiting for a response...\n",
      "Waiting for a click...\n",
      "[(1195, 426)]\n",
      "[1]\n",
      "Click registered. Generating mask...\n",
      "Waiting for a response...\n",
      "Waiting for a response...\n",
      "Mask generation complete.\n",
      "Clip 105 / Check 3: Prompt saved - points: (1, 2), labels: (1,)\n",
      "Clip 106 / Check 1: New Clip Started\n"
     ]
    },
    {
     "name": "stderr",
     "output_type": "stream",
     "text": [
      "frame loading (JPEG): 100%|██████████| 115/115 [00:06<00:00, 17.76it/s]\n"
     ]
    },
    {
     "name": "stdout",
     "output_type": "stream",
     "text": [
      "Clip 106 / Check 2: Inference State Initiated\n",
      "Waiting for a response...\n",
      "Waiting for a response...\n",
      "Waiting for a click...\n",
      "[(1238, 511)]\n",
      "[1]\n",
      "Click registered. Generating mask...\n",
      "Waiting for a response...\n",
      "Waiting for a response...\n",
      "Mask generation complete.\n",
      "Clip 106 / Check 3: Prompt saved - points: (1, 2), labels: (1,)\n",
      "Clip 107 / Check 1: New Clip Started\n"
     ]
    },
    {
     "name": "stderr",
     "output_type": "stream",
     "text": [
      "frame loading (JPEG): 100%|██████████| 26/26 [00:01<00:00, 17.26it/s]\n"
     ]
    },
    {
     "name": "stdout",
     "output_type": "stream",
     "text": [
      "Clip 107 / Check 2: Inference State Initiated\n",
      "Waiting for a response...\n",
      "Waiting for a response...\n",
      "Waiting for a click...\n",
      "[(1284, 406)]\n",
      "[1]\n",
      "Click registered. Generating mask...\n",
      "Waiting for a response...\n",
      "Waiting for a response...\n",
      "Mask generation complete.\n",
      "Clip 107 / Check 3: Prompt saved - points: (1, 2), labels: (1,)\n",
      "Clip 108 / Check 1: New Clip Started\n"
     ]
    },
    {
     "name": "stderr",
     "output_type": "stream",
     "text": [
      "frame loading (JPEG): 100%|██████████| 144/144 [00:08<00:00, 17.84it/s]\n"
     ]
    },
    {
     "name": "stdout",
     "output_type": "stream",
     "text": [
      "Clip 108 / Check 2: Inference State Initiated\n",
      "Waiting for a response...\n",
      "Waiting for a response...\n",
      "Waiting for a click...\n",
      "[(1199, 678)]\n",
      "[1]\n",
      "Click registered. Generating mask...\n",
      "Waiting for a response...\n",
      "Waiting for a response...\n",
      "Mask generation complete.\n",
      "Clip 108 / Check 3: Prompt saved - points: (1, 2), labels: (1,)\n",
      "Clip 109 / Check 1: New Clip Started\n"
     ]
    },
    {
     "name": "stderr",
     "output_type": "stream",
     "text": [
      "frame loading (JPEG): 100%|██████████| 74/74 [00:04<00:00, 16.99it/s]\n"
     ]
    },
    {
     "name": "stdout",
     "output_type": "stream",
     "text": [
      "Clip 109 / Check 2: Inference State Initiated\n",
      "Waiting for a response...\n",
      "Waiting for a response...\n",
      "Waiting for a click...\n",
      "[(1195, 429)]\n",
      "[1]\n",
      "Click registered. Generating mask...\n",
      "Waiting for a response...\n",
      "Waiting for a response...\n",
      "Mask generation complete.\n",
      "Clip 109 / Check 3: Prompt saved - points: (1, 2), labels: (1,)\n",
      "Clip 110 / Check 1: New Clip Started\n"
     ]
    },
    {
     "name": "stderr",
     "output_type": "stream",
     "text": [
      "frame loading (JPEG): 100%|██████████| 106/106 [00:06<00:00, 17.24it/s]\n"
     ]
    },
    {
     "name": "stdout",
     "output_type": "stream",
     "text": [
      "Clip 110 / Check 2: Inference State Initiated\n",
      "Waiting for a response...\n",
      "Waiting for a response...\n",
      "Waiting for a click...\n",
      "[(1269, 418)]\n",
      "[1]\n",
      "Click registered. Generating mask...\n",
      "Waiting for a response...\n",
      "Waiting for a response...\n",
      "Mask generation complete.\n",
      "Clip 110 / Check 3: Prompt saved - points: (1, 2), labels: (1,)\n",
      "Clip 111 / Check 1: New Clip Started\n"
     ]
    },
    {
     "name": "stderr",
     "output_type": "stream",
     "text": [
      "frame loading (JPEG): 100%|██████████| 104/104 [00:06<00:00, 16.90it/s]\n"
     ]
    },
    {
     "name": "stdout",
     "output_type": "stream",
     "text": [
      "Clip 111 / Check 2: Inference State Initiated\n",
      "Waiting for a response...\n",
      "Waiting for a response...\n",
      "Waiting for a click...\n",
      "[(1253, 492)]\n",
      "[1]\n",
      "Click registered. Generating mask...\n",
      "Waiting for a response...\n",
      "Waiting for a response...\n",
      "Mask generation complete.\n",
      "Clip 111 / Check 3: Prompt saved - points: (1, 2), labels: (1,)\n",
      "Clip 112 / Check 1: New Clip Started\n"
     ]
    },
    {
     "name": "stderr",
     "output_type": "stream",
     "text": [
      "frame loading (JPEG): 100%|██████████| 114/114 [00:07<00:00, 15.73it/s]\n"
     ]
    },
    {
     "name": "stdout",
     "output_type": "stream",
     "text": [
      "Clip 112 / Check 2: Inference State Initiated\n",
      "Waiting for a response...\n",
      "Waiting for a response...\n",
      "Waiting for a click...\n",
      "[(1253, 554)]\n",
      "[1]\n",
      "Click registered. Generating mask...\n",
      "Waiting for a response...\n",
      "Waiting for a response...\n",
      "Mask generation complete.\n",
      "Clip 112 / Check 3: Prompt saved - points: (1, 2), labels: (1,)\n",
      "Clip 113 / Check 1: New Clip Started\n"
     ]
    },
    {
     "name": "stderr",
     "output_type": "stream",
     "text": [
      "frame loading (JPEG): 100%|██████████| 151/151 [00:09<00:00, 16.48it/s]\n"
     ]
    },
    {
     "name": "stdout",
     "output_type": "stream",
     "text": [
      "Clip 113 / Check 2: Inference State Initiated\n",
      "Waiting for a response...\n",
      "Waiting for a response...\n",
      "Waiting for a click...\n",
      "[(1292, 612)]\n",
      "[1]\n",
      "Click registered. Generating mask...\n",
      "Waiting for a response...\n",
      "Waiting for a response...\n",
      "Mask generation complete.\n",
      "Clip 113 / Check 3: Prompt saved - points: (1, 2), labels: (1,)\n",
      "Clip 114 / Check 1: New Clip Started\n"
     ]
    },
    {
     "name": "stderr",
     "output_type": "stream",
     "text": [
      "frame loading (JPEG): 100%|██████████| 99/99 [00:06<00:00, 15.79it/s]\n"
     ]
    },
    {
     "name": "stdout",
     "output_type": "stream",
     "text": [
      "Clip 114 / Check 2: Inference State Initiated\n",
      "Waiting for a response...\n",
      "Waiting for a response...\n",
      "Waiting for a click...\n",
      "[(1218, 367)]\n",
      "[1]\n",
      "Click registered. Generating mask...\n",
      "Waiting for a response...\n",
      "Waiting for a response...\n",
      "Mask generation complete.\n",
      "Clip 114 / Check 3: Prompt saved - points: (1, 2), labels: (1,)\n",
      "Clip 115 / Check 1: New Clip Started\n"
     ]
    },
    {
     "name": "stderr",
     "output_type": "stream",
     "text": [
      "frame loading (JPEG): 100%|██████████| 35/35 [00:02<00:00, 14.06it/s]\n"
     ]
    },
    {
     "name": "stdout",
     "output_type": "stream",
     "text": [
      "Clip 115 / Check 2: Inference State Initiated\n",
      "Waiting for a response...\n",
      "Waiting for a response...\n",
      "Waiting for a click...\n",
      "[(1079, 193)]\n",
      "[1]\n",
      "Click registered. Generating mask...\n",
      "Waiting for a response...\n",
      "Waiting for a response...\n",
      "Mask generation complete.\n",
      "Clip 115 / Check 3: Prompt saved - points: (1, 2), labels: (1,)\n",
      "Clip 116 / Check 1: New Clip Started\n"
     ]
    },
    {
     "name": "stderr",
     "output_type": "stream",
     "text": [
      "frame loading (JPEG): 100%|██████████| 77/77 [00:04<00:00, 16.78it/s]\n"
     ]
    },
    {
     "name": "stdout",
     "output_type": "stream",
     "text": [
      "Clip 116 / Check 2: Inference State Initiated\n",
      "Waiting for a response...\n",
      "Waiting for a response...\n",
      "Waiting for a click...\n",
      "[(1059, 647)]\n",
      "[1]\n",
      "Click registered. Generating mask...\n",
      "Waiting for a response...\n",
      "Waiting for a response...\n",
      "Mask generation complete.\n",
      "Clip 116 / Check 3: Prompt saved - points: (1, 2), labels: (1,)\n",
      "Clip 117 / Check 1: New Clip Started\n"
     ]
    },
    {
     "name": "stderr",
     "output_type": "stream",
     "text": [
      "frame loading (JPEG): 100%|██████████| 19/19 [00:01<00:00, 13.78it/s]\n"
     ]
    },
    {
     "name": "stdout",
     "output_type": "stream",
     "text": [
      "Clip 117 / Check 2: Inference State Initiated\n",
      "Waiting for a response...\n",
      "Waiting for a response...\n",
      "Waiting for a click...\n",
      "[(1501, 321)]\n",
      "[1]\n",
      "Click registered. Generating mask...\n",
      "Waiting for a response...\n",
      "Waiting for a response...\n",
      "Waiting for a response...\n",
      "Waiting for a click...\n",
      "[(1493, 321)]\n",
      "[1]\n",
      "Click registered. Generating mask...\n",
      "Waiting for a response...\n",
      "Waiting for a response...\n",
      "Mask generation complete.\n",
      "Clip 117 / Check 3: Prompt saved - points: (1, 2), labels: (1,)\n",
      "Clip 118 / Check 1: New Clip Started\n"
     ]
    },
    {
     "name": "stderr",
     "output_type": "stream",
     "text": [
      "frame loading (JPEG): 100%|██████████| 71/71 [00:04<00:00, 17.45it/s]\n"
     ]
    },
    {
     "name": "stdout",
     "output_type": "stream",
     "text": [
      "Clip 118 / Check 2: Inference State Initiated\n",
      "Waiting for a response...\n",
      "Waiting for a response...\n",
      "Waiting for a click...\n",
      "[(1238, 104)]\n",
      "[1]\n",
      "Click registered. Generating mask...\n",
      "Waiting for a response...\n",
      "Waiting for a response...\n",
      "Mask generation complete.\n",
      "Clip 118 / Check 3: Prompt saved - points: (1, 2), labels: (1,)\n",
      "Clip 119 / Check 1: New Clip Started\n"
     ]
    },
    {
     "name": "stderr",
     "output_type": "stream",
     "text": [
      "frame loading (JPEG): 100%|██████████| 140/140 [00:07<00:00, 17.74it/s]\n"
     ]
    },
    {
     "name": "stdout",
     "output_type": "stream",
     "text": [
      "Clip 119 / Check 2: Inference State Initiated\n",
      "Waiting for a response...\n",
      "Waiting for a response...\n",
      "Waiting for a click...\n",
      "[(1241, 146)]\n",
      "[1]\n",
      "Click registered. Generating mask...\n",
      "Waiting for a response...\n",
      "Waiting for a response...\n",
      "Mask generation complete.\n",
      "Clip 119 / Check 3: Prompt saved - points: (1, 2), labels: (1,)\n",
      "Clip 120 / Check 1: New Clip Started\n"
     ]
    },
    {
     "name": "stderr",
     "output_type": "stream",
     "text": [
      "frame loading (JPEG): 100%|██████████| 217/217 [00:12<00:00, 17.11it/s]\n"
     ]
    },
    {
     "name": "stdout",
     "output_type": "stream",
     "text": [
      "Clip 120 / Check 2: Inference State Initiated\n",
      "Waiting for a response...\n",
      "Waiting for a response...\n",
      "Waiting for a click...\n",
      "[(1195, 902)]\n",
      "[1]\n",
      "Click registered. Generating mask...\n",
      "Waiting for a response...\n",
      "Waiting for a response...\n",
      "Mask generation complete.\n",
      "Clip 120 / Check 3: Prompt saved - points: (1, 2), labels: (1,)\n",
      "Clip 121 / Check 1: New Clip Started\n"
     ]
    },
    {
     "name": "stderr",
     "output_type": "stream",
     "text": [
      "frame loading (JPEG): 100%|██████████| 84/84 [00:05<00:00, 15.27it/s]\n"
     ]
    },
    {
     "name": "stdout",
     "output_type": "stream",
     "text": [
      "Clip 121 / Check 2: Inference State Initiated\n",
      "Waiting for a response...\n",
      "Waiting for a response...\n",
      "Waiting for a click...\n",
      "[(1187, 949)]\n",
      "[1]\n",
      "Click registered. Generating mask...\n",
      "Waiting for a response...\n",
      "Waiting for a response...\n",
      "Mask generation complete.\n",
      "Clip 121 / Check 3: Prompt saved - points: (1, 2), labels: (1,)\n",
      "Clip 122 / Check 1: New Clip Started\n"
     ]
    },
    {
     "name": "stderr",
     "output_type": "stream",
     "text": [
      "frame loading (JPEG): 100%|██████████| 111/111 [00:06<00:00, 17.32it/s]\n"
     ]
    },
    {
     "name": "stdout",
     "output_type": "stream",
     "text": [
      "Clip 122 / Check 2: Inference State Initiated\n",
      "Waiting for a response...\n",
      "Waiting for a response...\n",
      "Waiting for a click...\n",
      "[(1063, 782)]\n",
      "[1]\n",
      "Click registered. Generating mask...\n",
      "Waiting for a response...\n",
      "Waiting for a response...\n",
      "Mask generation complete.\n",
      "Clip 122 / Check 3: Prompt saved - points: (1, 2), labels: (1,)\n",
      "Clip 123 / Check 1: New Clip Started\n"
     ]
    },
    {
     "name": "stderr",
     "output_type": "stream",
     "text": [
      "frame loading (JPEG): 100%|██████████| 52/52 [00:03<00:00, 16.18it/s]\n"
     ]
    },
    {
     "name": "stdout",
     "output_type": "stream",
     "text": [
      "Clip 123 / Check 2: Inference State Initiated\n",
      "Waiting for a response...\n",
      "Waiting for a response...\n",
      "Waiting for a click...\n",
      "[(1269, 255)]\n",
      "[1]\n",
      "Click registered. Generating mask...\n",
      "Waiting for a response...\n",
      "Waiting for a response...\n",
      "Mask generation complete.\n",
      "Clip 123 / Check 3: Prompt saved - points: (1, 2), labels: (1,)\n",
      "Clip 124 / Check 1: New Clip Started\n"
     ]
    },
    {
     "name": "stderr",
     "output_type": "stream",
     "text": [
      "frame loading (JPEG): 100%|██████████| 127/127 [00:07<00:00, 16.19it/s]\n"
     ]
    },
    {
     "name": "stdout",
     "output_type": "stream",
     "text": [
      "Clip 124 / Check 2: Inference State Initiated\n",
      "Waiting for a response...\n",
      "Waiting for a response...\n",
      "Waiting for a click...\n",
      "[(1083, 705)]\n",
      "[1]\n",
      "Click registered. Generating mask...\n",
      "Waiting for a response...\n",
      "Waiting for a response...\n",
      "Mask generation complete.\n",
      "Clip 124 / Check 3: Prompt saved - points: (1, 2), labels: (1,)\n",
      "Clip 125 / Check 1: New Clip Started\n"
     ]
    },
    {
     "name": "stderr",
     "output_type": "stream",
     "text": [
      "frame loading (JPEG): 100%|██████████| 73/73 [00:03<00:00, 18.28it/s]\n"
     ]
    },
    {
     "name": "stdout",
     "output_type": "stream",
     "text": [
      "Clip 125 / Check 2: Inference State Initiated\n",
      "Waiting for a response...\n",
      "Waiting for a response...\n",
      "Waiting for a click...\n",
      "[(1331, 476)]\n",
      "[1]\n",
      "Click registered. Generating mask...\n",
      "Waiting for a response...\n",
      "Waiting for a response...\n",
      "Mask generation complete.\n",
      "Clip 125 / Check 3: Prompt saved - points: (1, 2), labels: (1,)\n",
      "Clip 126 / Check 1: New Clip Started\n"
     ]
    },
    {
     "name": "stderr",
     "output_type": "stream",
     "text": [
      "frame loading (JPEG): 100%|██████████| 210/210 [00:12<00:00, 16.50it/s]\n"
     ]
    },
    {
     "name": "stdout",
     "output_type": "stream",
     "text": [
      "Clip 126 / Check 2: Inference State Initiated\n",
      "Waiting for a response...\n",
      "Waiting for a response...\n",
      "Waiting for a click...\n",
      "[(1486, 1092)]\n",
      "[1]\n",
      "Click registered. Generating mask...\n",
      "Waiting for a response...\n",
      "Waiting for a response...\n",
      "Mask generation complete.\n",
      "Clip 126 / Check 3: Prompt saved - points: (1, 2), labels: (1,)\n",
      "Clip 127 / Check 1: New Clip Started\n"
     ]
    },
    {
     "name": "stderr",
     "output_type": "stream",
     "text": [
      "frame loading (JPEG): 100%|██████████| 199/199 [00:11<00:00, 17.29it/s]\n"
     ]
    },
    {
     "name": "stdout",
     "output_type": "stream",
     "text": [
      "Clip 127 / Check 2: Inference State Initiated\n",
      "Waiting for a response...\n",
      "Waiting for a response...\n",
      "Waiting for a click...\n",
      "[(1071, 809)]\n",
      "[1]\n",
      "Click registered. Generating mask...\n",
      "Waiting for a response...\n",
      "Waiting for a response...\n",
      "Mask generation complete.\n",
      "Clip 127 / Check 3: Prompt saved - points: (1, 2), labels: (1,)\n",
      "Clip 128 / Check 1: New Clip Started\n"
     ]
    },
    {
     "name": "stderr",
     "output_type": "stream",
     "text": [
      "frame loading (JPEG): 100%|██████████| 140/140 [00:07<00:00, 17.98it/s]\n"
     ]
    },
    {
     "name": "stdout",
     "output_type": "stream",
     "text": [
      "Clip 128 / Check 2: Inference State Initiated\n",
      "Waiting for a response...\n",
      "Waiting for a response...\n",
      "Waiting for a click...\n",
      "[(1117, 662)]\n",
      "[1]\n",
      "Click registered. Generating mask...\n",
      "Waiting for a response...\n",
      "Waiting for a response...\n",
      "Mask generation complete.\n",
      "Clip 128 / Check 3: Prompt saved - points: (1, 2), labels: (1,)\n",
      "Clip 129 / Check 1: New Clip Started\n"
     ]
    },
    {
     "name": "stderr",
     "output_type": "stream",
     "text": [
      "frame loading (JPEG): 100%|██████████| 105/105 [00:06<00:00, 16.44it/s]\n"
     ]
    },
    {
     "name": "stdout",
     "output_type": "stream",
     "text": [
      "Clip 129 / Check 2: Inference State Initiated\n",
      "Waiting for a response...\n",
      "Waiting for a response...\n",
      "Waiting for a click...\n",
      "[(1226, 697)]\n",
      "[1]\n",
      "Click registered. Generating mask...\n",
      "Waiting for a response...\n",
      "Waiting for a response...\n",
      "Mask generation complete.\n",
      "Clip 129 / Check 3: Prompt saved - points: (1, 2), labels: (1,)\n",
      "Clip 130 / Check 1: New Clip Started\n"
     ]
    },
    {
     "name": "stderr",
     "output_type": "stream",
     "text": [
      "frame loading (JPEG): 100%|██████████| 187/187 [00:11<00:00, 16.79it/s]\n"
     ]
    },
    {
     "name": "stdout",
     "output_type": "stream",
     "text": [
      "Clip 130 / Check 2: Inference State Initiated\n",
      "Waiting for a response...\n",
      "Waiting for a response...\n",
      "Waiting for a click...\n",
      "[(1203, 949)]\n",
      "[1]\n",
      "Click registered. Generating mask...\n",
      "Waiting for a response...\n",
      "Waiting for a response...\n",
      "Mask generation complete.\n",
      "Clip 130 / Check 3: Prompt saved - points: (1, 2), labels: (1,)\n",
      "Clip 131 / Check 1: New Clip Started\n"
     ]
    },
    {
     "name": "stderr",
     "output_type": "stream",
     "text": [
      "frame loading (JPEG): 100%|██████████| 126/126 [00:08<00:00, 15.03it/s]\n"
     ]
    },
    {
     "name": "stdout",
     "output_type": "stream",
     "text": [
      "Clip 131 / Check 2: Inference State Initiated\n",
      "Waiting for a response...\n",
      "Waiting for a response...\n",
      "Waiting for a click...\n",
      "[(1288, 561)]\n",
      "[1]\n",
      "Click registered. Generating mask...\n",
      "Waiting for a response...\n",
      "Waiting for a response...\n",
      "Mask generation complete.\n",
      "Clip 131 / Check 3: Prompt saved - points: (1, 2), labels: (1,)\n",
      "Clip 132 / Check 1: New Clip Started\n"
     ]
    },
    {
     "name": "stderr",
     "output_type": "stream",
     "text": [
      "frame loading (JPEG): 100%|██████████| 186/186 [00:10<00:00, 18.21it/s]\n"
     ]
    },
    {
     "name": "stdout",
     "output_type": "stream",
     "text": [
      "Clip 132 / Check 2: Inference State Initiated\n",
      "Waiting for a response...\n",
      "Waiting for a response...\n",
      "Waiting for a click...\n",
      "[(1179, 205)]\n",
      "[1]\n",
      "Click registered. Generating mask...\n",
      "Waiting for a response...\n",
      "Waiting for a response...\n",
      "Mask generation complete.\n",
      "Clip 132 / Check 3: Prompt saved - points: (1, 2), labels: (1,)\n",
      "Clip 133 / Check 1: New Clip Started\n"
     ]
    },
    {
     "name": "stderr",
     "output_type": "stream",
     "text": [
      "frame loading (JPEG): 100%|██████████| 221/221 [00:14<00:00, 15.64it/s]\n"
     ]
    },
    {
     "name": "stdout",
     "output_type": "stream",
     "text": [
      "Clip 133 / Check 2: Inference State Initiated\n",
      "Waiting for a response...\n",
      "Waiting for a response...\n",
      "Waiting for a click...\n",
      "[(1532, 833)]\n",
      "[1]\n",
      "Click registered. Generating mask...\n",
      "Waiting for a response...\n",
      "Waiting for a response...\n",
      "Mask generation complete.\n",
      "Clip 133 / Check 3: Prompt saved - points: (1, 2), labels: (1,)\n",
      "Clip 134 / Check 1: New Clip Started\n"
     ]
    },
    {
     "name": "stderr",
     "output_type": "stream",
     "text": [
      "frame loading (JPEG): 100%|██████████| 59/59 [00:03<00:00, 16.88it/s]\n"
     ]
    },
    {
     "name": "stdout",
     "output_type": "stream",
     "text": [
      "Clip 134 / Check 2: Inference State Initiated\n",
      "Waiting for a response...\n",
      "Waiting for a response...\n",
      "Waiting for a click...\n",
      "[(1067, 492)]\n",
      "[1]\n",
      "Click registered. Generating mask...\n",
      "Waiting for a response...\n",
      "Waiting for a response...\n",
      "Mask generation complete.\n",
      "Clip 134 / Check 3: Prompt saved - points: (1, 2), labels: (1,)\n",
      "Clip 135 / Check 1: New Clip Started\n"
     ]
    },
    {
     "name": "stderr",
     "output_type": "stream",
     "text": [
      "frame loading (JPEG): 100%|██████████| 163/163 [00:10<00:00, 15.61it/s]\n"
     ]
    },
    {
     "name": "stdout",
     "output_type": "stream",
     "text": [
      "Clip 135 / Check 2: Inference State Initiated\n",
      "Waiting for a response...\n",
      "Waiting for a response...\n",
      "Waiting for a click...\n",
      "[(1191, 495)]\n",
      "[1]\n",
      "Click registered. Generating mask...\n",
      "Waiting for a response...\n",
      "Waiting for a response...\n",
      "Mask generation complete.\n",
      "Clip 135 / Check 3: Prompt saved - points: (1, 2), labels: (1,)\n",
      "Clip 136 / Check 1: New Clip Started\n"
     ]
    },
    {
     "name": "stderr",
     "output_type": "stream",
     "text": [
      "frame loading (JPEG): 100%|██████████| 107/107 [00:06<00:00, 16.45it/s]\n"
     ]
    },
    {
     "name": "stdout",
     "output_type": "stream",
     "text": [
      "Clip 136 / Check 2: Inference State Initiated\n",
      "Waiting for a response...\n",
      "Waiting for a response...\n",
      "Waiting for a click...\n",
      "[(1338, 181)]\n",
      "[1]\n",
      "Click registered. Generating mask...\n",
      "Waiting for a response...\n",
      "Waiting for a response...\n",
      "Mask generation complete.\n",
      "Clip 136 / Check 3: Prompt saved - points: (1, 2), labels: (1,)\n",
      "Clip 137 / Check 1: New Clip Started\n"
     ]
    },
    {
     "name": "stderr",
     "output_type": "stream",
     "text": [
      "frame loading (JPEG): 100%|██████████| 141/141 [00:09<00:00, 15.27it/s]\n"
     ]
    },
    {
     "name": "stdout",
     "output_type": "stream",
     "text": [
      "Clip 137 / Check 2: Inference State Initiated\n",
      "Waiting for a response...\n",
      "Waiting for a response...\n",
      "Waiting for a click...\n",
      "[(1121, 84)]\n",
      "[1]\n",
      "Click registered. Generating mask...\n",
      "Waiting for a response...\n",
      "Waiting for a response...\n",
      "Mask generation complete.\n",
      "Clip 137 / Check 3: Prompt saved - points: (1, 2), labels: (1,)\n",
      "Clip 138 / Check 1: New Clip Started\n"
     ]
    },
    {
     "name": "stderr",
     "output_type": "stream",
     "text": [
      "frame loading (JPEG): 100%|██████████| 383/383 [00:25<00:00, 14.90it/s]\n"
     ]
    },
    {
     "name": "stdout",
     "output_type": "stream",
     "text": [
      "Clip 138 / Check 2: Inference State Initiated\n",
      "Waiting for a response...\n",
      "Waiting for a response...\n",
      "Waiting for a click...\n",
      "[(1319, 674)]\n",
      "[1]\n",
      "Click registered. Generating mask...\n",
      "Waiting for a response...\n",
      "Waiting for a response...\n",
      "Mask generation complete.\n",
      "Clip 138 / Check 3: Prompt saved - points: (1, 2), labels: (1,)\n",
      "Clip 139 / Check 1: New Clip Started\n"
     ]
    },
    {
     "name": "stderr",
     "output_type": "stream",
     "text": [
      "frame loading (JPEG): 100%|██████████| 217/217 [00:12<00:00, 17.59it/s]\n"
     ]
    },
    {
     "name": "stdout",
     "output_type": "stream",
     "text": [
      "Clip 139 / Check 2: Inference State Initiated\n",
      "Waiting for a response...\n",
      "Waiting for a response...\n",
      "Waiting for a click...\n",
      "[(1373, 1069)]\n",
      "[1]\n",
      "Click registered. Generating mask...\n",
      "Waiting for a response...\n",
      "Waiting for a response...\n",
      "Mask generation complete.\n",
      "Clip 139 / Check 3: Prompt saved - points: (1, 2), labels: (1,)\n",
      "Clip 140 / Check 1: New Clip Started\n"
     ]
    },
    {
     "name": "stderr",
     "output_type": "stream",
     "text": [
      "frame loading (JPEG): 100%|██████████| 90/90 [00:05<00:00, 17.66it/s]\n"
     ]
    },
    {
     "name": "stdout",
     "output_type": "stream",
     "text": [
      "Clip 140 / Check 2: Inference State Initiated\n",
      "Waiting for a response...\n",
      "Waiting for a response...\n",
      "Waiting for a click...\n",
      "[(1307, 499)]\n",
      "[1]\n",
      "Click registered. Generating mask...\n",
      "Waiting for a response...\n",
      "Waiting for a response...\n",
      "Mask generation complete.\n",
      "Clip 140 / Check 3: Prompt saved - points: (1, 2), labels: (1,)\n",
      "Clip 141 / Check 1: New Clip Started\n"
     ]
    },
    {
     "name": "stderr",
     "output_type": "stream",
     "text": [
      "frame loading (JPEG): 100%|██████████| 63/63 [00:03<00:00, 17.81it/s]\n"
     ]
    },
    {
     "name": "stdout",
     "output_type": "stream",
     "text": [
      "Clip 141 / Check 2: Inference State Initiated\n",
      "Waiting for a response...\n",
      "Waiting for a response...\n",
      "Waiting for a click...\n",
      "[(1307, 526)]\n",
      "[1]\n",
      "Click registered. Generating mask...\n",
      "Waiting for a response...\n",
      "Waiting for a response...\n",
      "Mask generation complete.\n",
      "Clip 141 / Check 3: Prompt saved - points: (1, 2), labels: (1,)\n",
      "Clip 142 / Check 1: New Clip Started\n"
     ]
    },
    {
     "name": "stderr",
     "output_type": "stream",
     "text": [
      "frame loading (JPEG): 100%|██████████| 400/400 [00:26<00:00, 15.17it/s]\n"
     ]
    },
    {
     "name": "stdout",
     "output_type": "stream",
     "text": [
      "Clip 142 / Check 2: Inference State Initiated\n",
      "Waiting for a response...\n",
      "Waiting for a response...\n",
      "Waiting for a click...\n",
      "[(1335, 844)]\n",
      "[1]\n",
      "Click registered. Generating mask...\n",
      "Waiting for a response...\n",
      "Waiting for a response...\n",
      "Mask generation complete.\n",
      "Clip 142 / Check 3: Prompt saved - points: (1, 2), labels: (1,)\n",
      "Clip 143 / Check 1: New Clip Started\n"
     ]
    },
    {
     "name": "stderr",
     "output_type": "stream",
     "text": [
      "frame loading (JPEG): 100%|██████████| 94/94 [00:06<00:00, 15.09it/s]\n"
     ]
    },
    {
     "name": "stdout",
     "output_type": "stream",
     "text": [
      "Clip 143 / Check 2: Inference State Initiated\n",
      "Waiting for a response...\n",
      "Waiting for a response...\n",
      "Waiting for a click...\n",
      "[(1331, 743)]\n",
      "[1]\n",
      "Click registered. Generating mask...\n",
      "Waiting for a response...\n",
      "Waiting for a response...\n",
      "Mask generation complete.\n",
      "Clip 143 / Check 3: Prompt saved - points: (1, 2), labels: (1,)\n",
      "Clip 144 / Check 1: New Clip Started\n"
     ]
    },
    {
     "name": "stderr",
     "output_type": "stream",
     "text": [
      "frame loading (JPEG): 100%|██████████| 152/152 [00:08<00:00, 17.46it/s]\n"
     ]
    },
    {
     "name": "stdout",
     "output_type": "stream",
     "text": [
      "Clip 144 / Check 2: Inference State Initiated\n",
      "Waiting for a response...\n",
      "Waiting for a response...\n",
      "Waiting for a click...\n",
      "[(1222, 492)]\n",
      "[1]\n",
      "Click registered. Generating mask...\n",
      "Waiting for a response...\n",
      "Waiting for a response...\n",
      "Mask generation complete.\n",
      "Clip 144 / Check 3: Prompt saved - points: (1, 2), labels: (1,)\n",
      "Clip 145 / Check 1: New Clip Started\n"
     ]
    },
    {
     "name": "stderr",
     "output_type": "stream",
     "text": [
      "frame loading (JPEG): 100%|██████████| 113/113 [00:06<00:00, 17.32it/s]\n"
     ]
    },
    {
     "name": "stdout",
     "output_type": "stream",
     "text": [
      "Clip 145 / Check 2: Inference State Initiated\n",
      "Waiting for a response...\n",
      "Waiting for a response...\n",
      "Waiting for a click...\n",
      "[(1183, 232)]\n",
      "[1]\n",
      "Click registered. Generating mask...\n",
      "Waiting for a response...\n",
      "Waiting for a response...\n",
      "Mask generation complete.\n",
      "Clip 145 / Check 3: Prompt saved - points: (1, 2), labels: (1,)\n",
      "Clip 146 / Check 1: New Clip Started\n"
     ]
    },
    {
     "name": "stderr",
     "output_type": "stream",
     "text": [
      "frame loading (JPEG): 100%|██████████| 126/126 [00:07<00:00, 17.08it/s]\n"
     ]
    },
    {
     "name": "stdout",
     "output_type": "stream",
     "text": [
      "Clip 146 / Check 2: Inference State Initiated\n",
      "Waiting for a response...\n",
      "Waiting for a response...\n",
      "Waiting for a click...\n",
      "[(1292, 511)]\n",
      "[1]\n",
      "Click registered. Generating mask...\n",
      "Waiting for a response...\n",
      "Waiting for a response...\n",
      "Mask generation complete.\n",
      "Clip 146 / Check 3: Prompt saved - points: (1, 2), labels: (1,)\n",
      "Clip 147 / Check 1: New Clip Started\n"
     ]
    },
    {
     "name": "stderr",
     "output_type": "stream",
     "text": [
      "frame loading (JPEG): 100%|██████████| 172/172 [00:09<00:00, 17.76it/s]\n"
     ]
    },
    {
     "name": "stdout",
     "output_type": "stream",
     "text": [
      "Clip 147 / Check 2: Inference State Initiated\n",
      "Waiting for a response...\n",
      "Waiting for a response...\n",
      "Waiting for a click...\n",
      "[(1300, 825)]\n",
      "[1]\n",
      "Click registered. Generating mask...\n",
      "Waiting for a response...\n",
      "Waiting for a response...\n",
      "Mask generation complete.\n",
      "Clip 147 / Check 3: Prompt saved - points: (1, 2), labels: (1,)\n",
      "Clip 148 / Check 1: New Clip Started\n"
     ]
    },
    {
     "name": "stderr",
     "output_type": "stream",
     "text": [
      "frame loading (JPEG): 100%|██████████| 86/86 [00:05<00:00, 16.91it/s]\n"
     ]
    },
    {
     "name": "stdout",
     "output_type": "stream",
     "text": [
      "Clip 148 / Check 2: Inference State Initiated\n",
      "Waiting for a response...\n",
      "Waiting for a response...\n",
      "Waiting for a click...\n",
      "[(1214, 395)]\n",
      "[1]\n",
      "Click registered. Generating mask...\n",
      "Waiting for a response...\n",
      "Waiting for a response...\n",
      "Mask generation complete.\n",
      "Clip 148 / Check 3: Prompt saved - points: (1, 2), labels: (1,)\n",
      "Clip 149 / Check 1: New Clip Started\n"
     ]
    },
    {
     "name": "stderr",
     "output_type": "stream",
     "text": [
      "frame loading (JPEG): 100%|██████████| 176/176 [00:11<00:00, 15.71it/s]\n"
     ]
    },
    {
     "name": "stdout",
     "output_type": "stream",
     "text": [
      "Clip 149 / Check 2: Inference State Initiated\n",
      "Waiting for a response...\n",
      "Waiting for a response...\n",
      "Waiting for a click...\n",
      "[(1284, 612)]\n",
      "[1]\n",
      "Click registered. Generating mask...\n",
      "Waiting for a response...\n",
      "Waiting for a response...\n",
      "Mask generation complete.\n",
      "Clip 149 / Check 3: Prompt saved - points: (1, 2), labels: (1,)\n",
      "Clip 150 / Check 1: New Clip Started\n"
     ]
    },
    {
     "name": "stderr",
     "output_type": "stream",
     "text": [
      "frame loading (JPEG): 100%|██████████| 67/67 [00:04<00:00, 14.54it/s]\n"
     ]
    },
    {
     "name": "stdout",
     "output_type": "stream",
     "text": [
      "Clip 150 / Check 2: Inference State Initiated\n",
      "Waiting for a response...\n",
      "Waiting for a response...\n",
      "Waiting for a click...\n",
      "[(1338, 371)]\n",
      "[1]\n",
      "Click registered. Generating mask...\n",
      "Waiting for a response...\n",
      "Waiting for a response...\n",
      "Mask generation complete.\n",
      "Clip 150 / Check 3: Prompt saved - points: (1, 2), labels: (1,)\n",
      "Clip 151 / Check 1: New Clip Started\n"
     ]
    },
    {
     "name": "stderr",
     "output_type": "stream",
     "text": [
      "frame loading (JPEG): 100%|██████████| 194/194 [00:12<00:00, 15.36it/s]\n"
     ]
    },
    {
     "name": "stdout",
     "output_type": "stream",
     "text": [
      "Clip 151 / Check 2: Inference State Initiated\n",
      "Waiting for a response...\n",
      "Waiting for a response...\n",
      "Waiting for a click...\n",
      "[(1106, 197)]\n",
      "[1]\n",
      "Click registered. Generating mask...\n",
      "Waiting for a response...\n",
      "Waiting for a response...\n",
      "Mask generation complete.\n",
      "Clip 151 / Check 3: Prompt saved - points: (1, 2), labels: (1,)\n",
      "Clip 152 / Check 1: New Clip Started\n"
     ]
    },
    {
     "name": "stderr",
     "output_type": "stream",
     "text": [
      "frame loading (JPEG): 100%|██████████| 77/77 [00:04<00:00, 16.93it/s]\n"
     ]
    },
    {
     "name": "stdout",
     "output_type": "stream",
     "text": [
      "Clip 152 / Check 2: Inference State Initiated\n",
      "Waiting for a response...\n",
      "Waiting for a response...\n",
      "Waiting for a click...\n",
      "[(1331, 414)]\n",
      "[1]\n",
      "Click registered. Generating mask...\n",
      "Waiting for a response...\n",
      "Waiting for a response...\n",
      "Mask generation complete.\n",
      "Clip 152 / Check 3: Prompt saved - points: (1, 2), labels: (1,)\n",
      "Clip 153 / Check 1: New Clip Started\n"
     ]
    },
    {
     "name": "stderr",
     "output_type": "stream",
     "text": [
      "frame loading (JPEG): 100%|██████████| 138/138 [00:08<00:00, 16.15it/s]\n"
     ]
    },
    {
     "name": "stdout",
     "output_type": "stream",
     "text": [
      "Clip 153 / Check 2: Inference State Initiated\n",
      "Waiting for a response...\n",
      "Waiting for a response...\n",
      "Waiting for a click...\n",
      "[(1272, 643)]\n",
      "[1]\n",
      "Click registered. Generating mask...\n",
      "Waiting for a response...\n",
      "Waiting for a response...\n",
      "Mask generation complete.\n",
      "Clip 153 / Check 3: Prompt saved - points: (1, 2), labels: (1,)\n",
      "Clip 154 / Check 1: New Clip Started\n"
     ]
    },
    {
     "name": "stderr",
     "output_type": "stream",
     "text": [
      "frame loading (JPEG): 100%|██████████| 113/113 [00:07<00:00, 16.09it/s]\n"
     ]
    },
    {
     "name": "stdout",
     "output_type": "stream",
     "text": [
      "Clip 154 / Check 2: Inference State Initiated\n",
      "Waiting for a response...\n",
      "Waiting for a response...\n",
      "Waiting for a click...\n",
      "[(1238, 534)]\n",
      "[1]\n",
      "Click registered. Generating mask...\n",
      "Waiting for a response...\n",
      "Waiting for a response...\n",
      "Mask generation complete.\n",
      "Clip 154 / Check 3: Prompt saved - points: (1, 2), labels: (1,)\n",
      "Clip 155 / Check 1: New Clip Started\n"
     ]
    },
    {
     "name": "stderr",
     "output_type": "stream",
     "text": [
      "frame loading (JPEG): 100%|██████████| 172/172 [00:11<00:00, 14.71it/s]\n"
     ]
    },
    {
     "name": "stdout",
     "output_type": "stream",
     "text": [
      "Clip 155 / Check 2: Inference State Initiated\n",
      "Waiting for a response...\n",
      "Waiting for a response...\n",
      "Waiting for a click...\n",
      "[(1245, 612)]\n",
      "[1]\n",
      "Click registered. Generating mask...\n",
      "Waiting for a response...\n",
      "Waiting for a response...\n",
      "Mask generation complete.\n",
      "Clip 155 / Check 3: Prompt saved - points: (1, 2), labels: (1,)\n",
      "Clip 156 / Check 1: New Clip Started\n"
     ]
    },
    {
     "name": "stderr",
     "output_type": "stream",
     "text": [
      "frame loading (JPEG): 100%|██████████| 40/40 [00:02<00:00, 16.34it/s]\n"
     ]
    },
    {
     "name": "stdout",
     "output_type": "stream",
     "text": [
      "Clip 156 / Check 2: Inference State Initiated\n",
      "Waiting for a response...\n",
      "Waiting for a response...\n",
      "Waiting for a click...\n",
      "[(1241, 538)]\n",
      "[1]\n",
      "Click registered. Generating mask...\n",
      "Waiting for a response...\n",
      "Waiting for a response...\n",
      "Mask generation complete.\n",
      "Clip 156 / Check 3: Prompt saved - points: (1, 2), labels: (1,)\n",
      "Clip 157 / Check 1: New Clip Started\n"
     ]
    },
    {
     "name": "stderr",
     "output_type": "stream",
     "text": [
      "frame loading (JPEG): 100%|██████████| 67/67 [00:03<00:00, 17.93it/s]\n"
     ]
    },
    {
     "name": "stdout",
     "output_type": "stream",
     "text": [
      "Clip 157 / Check 2: Inference State Initiated\n",
      "Waiting for a response...\n",
      "Waiting for a response...\n",
      "Waiting for a click...\n",
      "[(1474, 852)]\n",
      "[1]\n",
      "Click registered. Generating mask...\n",
      "Waiting for a response...\n",
      "Waiting for a response...\n",
      "Mask generation complete.\n",
      "Clip 157 / Check 3: Prompt saved - points: (1, 2), labels: (1,)\n",
      "Clip 158 / Check 1: New Clip Started\n"
     ]
    },
    {
     "name": "stderr",
     "output_type": "stream",
     "text": [
      "frame loading (JPEG): 100%|██████████| 144/144 [00:08<00:00, 16.24it/s]\n"
     ]
    },
    {
     "name": "stdout",
     "output_type": "stream",
     "text": [
      "Clip 158 / Check 2: Inference State Initiated\n",
      "Waiting for a response...\n",
      "Waiting for a response...\n",
      "Waiting for a click...\n",
      "[(1249, 627)]\n",
      "[1]\n",
      "Click registered. Generating mask...\n",
      "Waiting for a response...\n",
      "Waiting for a response...\n",
      "Mask generation complete.\n",
      "Clip 158 / Check 3: Prompt saved - points: (1, 2), labels: (1,)\n",
      "Clip 159 / Check 1: New Clip Started\n"
     ]
    },
    {
     "name": "stderr",
     "output_type": "stream",
     "text": [
      "frame loading (JPEG): 100%|██████████| 183/183 [00:10<00:00, 18.04it/s]\n"
     ]
    },
    {
     "name": "stdout",
     "output_type": "stream",
     "text": [
      "Clip 159 / Check 2: Inference State Initiated\n",
      "Waiting for a response...\n",
      "Waiting for a response...\n",
      "Waiting for a click...\n",
      "[(1195, 743)]\n",
      "[1]\n",
      "Click registered. Generating mask...\n",
      "Waiting for a response...\n",
      "Waiting for a response...\n",
      "Mask generation complete.\n",
      "Clip 159 / Check 3: Prompt saved - points: (1, 2), labels: (1,)\n",
      "Clip 160 / Check 1: New Clip Started\n"
     ]
    },
    {
     "name": "stderr",
     "output_type": "stream",
     "text": [
      "frame loading (JPEG): 100%|██████████| 99/99 [00:06<00:00, 15.70it/s]\n"
     ]
    },
    {
     "name": "stdout",
     "output_type": "stream",
     "text": [
      "Clip 160 / Check 2: Inference State Initiated\n",
      "Waiting for a response...\n",
      "Waiting for a response...\n",
      "Waiting for a click...\n",
      "[(1280, 433)]\n",
      "[1]\n",
      "Click registered. Generating mask...\n",
      "Waiting for a response...\n",
      "Waiting for a response...\n",
      "Mask generation complete.\n",
      "Clip 160 / Check 3: Prompt saved - points: (1, 2), labels: (1,)\n",
      "Clip 161 / Check 1: New Clip Started\n"
     ]
    },
    {
     "name": "stderr",
     "output_type": "stream",
     "text": [
      "frame loading (JPEG): 100%|██████████| 54/54 [00:03<00:00, 14.63it/s]\n"
     ]
    },
    {
     "name": "stdout",
     "output_type": "stream",
     "text": [
      "Clip 161 / Check 2: Inference State Initiated\n",
      "Waiting for a response...\n",
      "Waiting for a response...\n",
      "Waiting for a click...\n",
      "[(1307, 228)]\n",
      "[1]\n",
      "Click registered. Generating mask...\n",
      "Waiting for a response...\n",
      "Waiting for a response...\n",
      "Mask generation complete.\n",
      "Clip 161 / Check 3: Prompt saved - points: (1, 2), labels: (1,)\n",
      "Clip 162 / Check 1: New Clip Started\n"
     ]
    },
    {
     "name": "stderr",
     "output_type": "stream",
     "text": [
      "frame loading (JPEG): 100%|██████████| 231/231 [00:16<00:00, 14.34it/s]\n"
     ]
    },
    {
     "name": "stdout",
     "output_type": "stream",
     "text": [
      "Clip 162 / Check 2: Inference State Initiated\n",
      "Waiting for a response...\n",
      "Waiting for a response...\n",
      "Waiting for a click...\n",
      "[(1245, 697)]\n",
      "[1]\n",
      "Click registered. Generating mask...\n",
      "Waiting for a response...\n",
      "Waiting for a response...\n",
      "Mask generation complete.\n",
      "Clip 162 / Check 3: Prompt saved - points: (1, 2), labels: (1,)\n",
      "Clip 163 / Check 1: New Clip Started\n"
     ]
    },
    {
     "name": "stderr",
     "output_type": "stream",
     "text": [
      "frame loading (JPEG): 100%|██████████| 56/56 [00:03<00:00, 15.24it/s]\n"
     ]
    },
    {
     "name": "stdout",
     "output_type": "stream",
     "text": [
      "Clip 163 / Check 2: Inference State Initiated\n",
      "Waiting for a response...\n",
      "Waiting for a response...\n",
      "Waiting for a click...\n",
      "[(881, 709)]\n",
      "[1]\n",
      "Click registered. Generating mask...\n",
      "Waiting for a response...\n",
      "Waiting for a response...\n",
      "Mask generation complete.\n",
      "Clip 163 / Check 3: Prompt saved - points: (1, 2), labels: (1,)\n",
      "Clip 164 / Check 1: New Clip Started\n"
     ]
    },
    {
     "name": "stderr",
     "output_type": "stream",
     "text": [
      "frame loading (JPEG): 100%|██████████| 69/69 [00:04<00:00, 16.06it/s]\n"
     ]
    },
    {
     "name": "stdout",
     "output_type": "stream",
     "text": [
      "Clip 164 / Check 2: Inference State Initiated\n",
      "Waiting for a response...\n",
      "Waiting for a response...\n",
      "Waiting for a click...\n",
      "[(1528, 643)]\n",
      "[1]\n",
      "Click registered. Generating mask...\n",
      "Waiting for a response...\n",
      "Waiting for a response...\n",
      "Mask generation complete.\n",
      "Clip 164 / Check 3: Prompt saved - points: (1, 2), labels: (1,)\n",
      "Clip 165 / Check 1: New Clip Started\n"
     ]
    },
    {
     "name": "stderr",
     "output_type": "stream",
     "text": [
      "frame loading (JPEG): 100%|██████████| 140/140 [00:08<00:00, 16.85it/s]\n"
     ]
    },
    {
     "name": "stdout",
     "output_type": "stream",
     "text": [
      "Clip 165 / Check 2: Inference State Initiated\n",
      "Waiting for a response...\n",
      "Waiting for a response...\n",
      "Waiting for a click...\n",
      "[(1129, 542)]\n",
      "[1]\n",
      "Click registered. Generating mask...\n",
      "Waiting for a response...\n",
      "Waiting for a response...\n",
      "Mask generation complete.\n",
      "Clip 165 / Check 3: Prompt saved - points: (1, 2), labels: (1,)\n",
      "Clip 166 / Check 1: New Clip Started\n"
     ]
    },
    {
     "name": "stderr",
     "output_type": "stream",
     "text": [
      "frame loading (JPEG): 100%|██████████| 81/81 [00:04<00:00, 18.55it/s]\n"
     ]
    },
    {
     "name": "stdout",
     "output_type": "stream",
     "text": [
      "Clip 166 / Check 2: Inference State Initiated\n",
      "Waiting for a response...\n",
      "Waiting for a response...\n",
      "Waiting for a click...\n",
      "[(1063, 670)]\n",
      "[1]\n",
      "Click registered. Generating mask...\n",
      "Waiting for a response...\n",
      "Waiting for a response...\n",
      "Mask generation complete.\n",
      "Clip 166 / Check 3: Prompt saved - points: (1, 2), labels: (1,)\n",
      "Prompt data saved for all clips.\n",
      "Clip 1 / Check 4: Processing with stored prompts.\n"
     ]
    },
    {
     "name": "stderr",
     "output_type": "stream",
     "text": [
      "frame loading (JPEG): 100%|██████████| 214/214 [00:10<00:00, 20.54it/s]\n",
      "propagate in video: 100%|██████████| 214/214 [02:02<00:00,  1.75it/s]\n"
     ]
    },
    {
     "name": "stdout",
     "output_type": "stream",
     "text": [
      "Clip 1 data saved to: /mnt/d/Flora project/Clips/Dorsal_clips/Output/Botia_lohachata_10_C_R_1_D/Botia_lohachata_10_C_R_1_D_track.csv\n",
      "Clip 2 / Check 4: Processing with stored prompts.\n"
     ]
    },
    {
     "name": "stderr",
     "output_type": "stream",
     "text": [
      "frame loading (JPEG): 100%|██████████| 177/177 [00:08<00:00, 20.45it/s]\n",
      "propagate in video: 100%|██████████| 177/177 [01:40<00:00,  1.77it/s]\n"
     ]
    },
    {
     "name": "stdout",
     "output_type": "stream",
     "text": [
      "Clip 2 data saved to: /mnt/d/Flora project/Clips/Dorsal_clips/Output/Botia_lohachata_10_C_R_2_D/Botia_lohachata_10_C_R_2_D_track.csv\n",
      "Clip 3 / Check 4: Processing with stored prompts.\n"
     ]
    },
    {
     "name": "stderr",
     "output_type": "stream",
     "text": [
      "frame loading (JPEG): 100%|██████████| 194/194 [00:09<00:00, 20.52it/s]\n",
      "propagate in video: 100%|██████████| 194/194 [01:49<00:00,  1.77it/s]\n"
     ]
    },
    {
     "name": "stdout",
     "output_type": "stream",
     "text": [
      "Clip 3 data saved to: /mnt/d/Flora project/Clips/Dorsal_clips/Output/Botia_lohachata_10_C_R_3_D/Botia_lohachata_10_C_R_3_D_track.csv\n",
      "Clip 4 / Check 4: Processing with stored prompts.\n"
     ]
    },
    {
     "name": "stderr",
     "output_type": "stream",
     "text": [
      "frame loading (JPEG): 100%|██████████| 114/114 [00:05<00:00, 20.40it/s]\n",
      "propagate in video: 100%|██████████| 114/114 [01:04<00:00,  1.76it/s]\n"
     ]
    },
    {
     "name": "stdout",
     "output_type": "stream",
     "text": [
      "Clip 4 data saved to: /mnt/d/Flora project/Clips/Dorsal_clips/Output/Botia_lohachata_10_P_L_3_D/Botia_lohachata_10_P_L_3_D_track.csv\n",
      "Clip 5 / Check 4: Processing with stored prompts.\n"
     ]
    },
    {
     "name": "stderr",
     "output_type": "stream",
     "text": [
      "frame loading (JPEG): 100%|██████████| 141/141 [00:06<00:00, 20.58it/s]\n",
      "propagate in video: 100%|██████████| 141/141 [01:22<00:00,  1.71it/s]\n"
     ]
    },
    {
     "name": "stdout",
     "output_type": "stream",
     "text": [
      "Clip 5 data saved to: /mnt/d/Flora project/Clips/Dorsal_clips/Output/Botia_lohachata_10_P_L_6_D/Botia_lohachata_10_P_L_6_D_track.csv\n",
      "Clip 6 / Check 4: Processing with stored prompts.\n"
     ]
    },
    {
     "name": "stderr",
     "output_type": "stream",
     "text": [
      "frame loading (JPEG): 100%|██████████| 138/138 [00:06<00:00, 20.97it/s]\n",
      "propagate in video: 100%|██████████| 138/138 [01:15<00:00,  1.82it/s]\n"
     ]
    },
    {
     "name": "stdout",
     "output_type": "stream",
     "text": [
      "Clip 6 data saved to: /mnt/d/Flora project/Clips/Dorsal_clips/Output/Botia_lohachata_10_P_R_1_D/Botia_lohachata_10_P_R_1_D_track.csv\n",
      "Clip 7 / Check 4: Processing with stored prompts.\n"
     ]
    },
    {
     "name": "stderr",
     "output_type": "stream",
     "text": [
      "frame loading (JPEG): 100%|██████████| 66/66 [00:03<00:00, 20.91it/s]\n",
      "propagate in video: 100%|██████████| 66/66 [00:36<00:00,  1.82it/s]\n"
     ]
    },
    {
     "name": "stdout",
     "output_type": "stream",
     "text": [
      "Clip 7 data saved to: /mnt/d/Flora project/Clips/Dorsal_clips/Output/Botia_lohachata_11_C_L_1_D/Botia_lohachata_11_C_L_1_D_track.csv\n",
      "Clip 8 / Check 4: Processing with stored prompts.\n"
     ]
    },
    {
     "name": "stderr",
     "output_type": "stream",
     "text": [
      "frame loading (JPEG): 100%|██████████| 27/27 [00:01<00:00, 21.23it/s]\n",
      "propagate in video: 100%|██████████| 27/27 [00:14<00:00,  1.82it/s]\n"
     ]
    },
    {
     "name": "stdout",
     "output_type": "stream",
     "text": [
      "Clip 8 data saved to: /mnt/d/Flora project/Clips/Dorsal_clips/Output/Botia_lohachata_11_C_L_3_D/Botia_lohachata_11_C_L_3_D_track.csv\n",
      "Clip 9 / Check 4: Processing with stored prompts.\n"
     ]
    },
    {
     "name": "stderr",
     "output_type": "stream",
     "text": [
      "frame loading (JPEG): 100%|██████████| 83/83 [00:03<00:00, 21.64it/s]\n",
      "propagate in video: 100%|██████████| 83/83 [00:45<00:00,  1.83it/s]\n"
     ]
    },
    {
     "name": "stdout",
     "output_type": "stream",
     "text": [
      "Clip 9 data saved to: /mnt/d/Flora project/Clips/Dorsal_clips/Output/Botia_lohachata_11_C_L_4_D/Botia_lohachata_11_C_L_4_D_track.csv\n",
      "Clip 10 / Check 4: Processing with stored prompts.\n"
     ]
    },
    {
     "name": "stderr",
     "output_type": "stream",
     "text": [
      "frame loading (JPEG): 100%|██████████| 39/39 [00:01<00:00, 20.93it/s]\n",
      "propagate in video: 100%|██████████| 39/39 [00:20<00:00,  1.87it/s]\n"
     ]
    },
    {
     "name": "stdout",
     "output_type": "stream",
     "text": [
      "Clip 10 data saved to: /mnt/d/Flora project/Clips/Dorsal_clips/Output/Botia_lohachata_11_C_L_5_D/Botia_lohachata_11_C_L_5_D_track.csv\n",
      "Clip 11 / Check 4: Processing with stored prompts.\n"
     ]
    },
    {
     "name": "stderr",
     "output_type": "stream",
     "text": [
      "frame loading (JPEG): 100%|██████████| 39/39 [00:01<00:00, 20.82it/s]\n",
      "propagate in video: 100%|██████████| 39/39 [00:21<00:00,  1.85it/s]\n"
     ]
    },
    {
     "name": "stdout",
     "output_type": "stream",
     "text": [
      "Clip 11 data saved to: /mnt/d/Flora project/Clips/Dorsal_clips/Output/Botia_lohachata_11_C_R_2_D/Botia_lohachata_11_C_R_2_D_track.csv\n",
      "Clip 12 / Check 4: Processing with stored prompts.\n"
     ]
    },
    {
     "name": "stderr",
     "output_type": "stream",
     "text": [
      "frame loading (JPEG): 100%|██████████| 149/149 [00:06<00:00, 21.49it/s]\n",
      "propagate in video: 100%|██████████| 149/149 [01:21<00:00,  1.82it/s]\n"
     ]
    },
    {
     "name": "stdout",
     "output_type": "stream",
     "text": [
      "Clip 12 data saved to: /mnt/d/Flora project/Clips/Dorsal_clips/Output/Botia_lohachata_11_P_L_1_D/Botia_lohachata_11_P_L_1_D_track.csv\n",
      "Clip 13 / Check 4: Processing with stored prompts.\n"
     ]
    },
    {
     "name": "stderr",
     "output_type": "stream",
     "text": [
      "frame loading (JPEG): 100%|██████████| 109/109 [00:05<00:00, 21.26it/s]\n",
      "propagate in video: 100%|██████████| 109/109 [00:46<00:00,  2.35it/s]\n"
     ]
    },
    {
     "name": "stdout",
     "output_type": "stream",
     "text": [
      "Clip 13 data saved to: /mnt/d/Flora project/Clips/Dorsal_clips/Output/Botia_lohachata_11_P_R_2_D/Botia_lohachata_11_P_R_2_D_track.csv\n",
      "Clip 14 / Check 4: Processing with stored prompts.\n"
     ]
    },
    {
     "name": "stderr",
     "output_type": "stream",
     "text": [
      "frame loading (JPEG): 100%|██████████| 133/133 [00:06<00:00, 21.17it/s]\n",
      "propagate in video: 100%|██████████| 133/133 [01:12<00:00,  1.83it/s]\n"
     ]
    },
    {
     "name": "stdout",
     "output_type": "stream",
     "text": [
      "Clip 14 data saved to: /mnt/d/Flora project/Clips/Dorsal_clips/Output/Botia_lohachata_11_P_R_3_D/Botia_lohachata_11_P_R_3_D_track.csv\n",
      "Clip 15 / Check 4: Processing with stored prompts.\n"
     ]
    },
    {
     "name": "stderr",
     "output_type": "stream",
     "text": [
      "frame loading (JPEG): 100%|██████████| 161/161 [00:07<00:00, 21.39it/s]\n",
      "propagate in video: 100%|██████████| 161/161 [01:28<00:00,  1.83it/s]\n"
     ]
    },
    {
     "name": "stdout",
     "output_type": "stream",
     "text": [
      "Clip 15 data saved to: /mnt/d/Flora project/Clips/Dorsal_clips/Output/Botia_lohachata_11_P_R_4_D/Botia_lohachata_11_P_R_4_D_track.csv\n",
      "Clip 16 / Check 4: Processing with stored prompts.\n"
     ]
    },
    {
     "name": "stderr",
     "output_type": "stream",
     "text": [
      "frame loading (JPEG): 100%|██████████| 110/110 [00:05<00:00, 21.42it/s]\n",
      "propagate in video: 100%|██████████| 110/110 [00:59<00:00,  1.84it/s]\n"
     ]
    },
    {
     "name": "stdout",
     "output_type": "stream",
     "text": [
      "Clip 16 data saved to: /mnt/d/Flora project/Clips/Dorsal_clips/Output/Botia_lohachata_11_P_R_5_D/Botia_lohachata_11_P_R_5_D_track.csv\n",
      "Clip 17 / Check 4: Processing with stored prompts.\n"
     ]
    },
    {
     "name": "stderr",
     "output_type": "stream",
     "text": [
      "frame loading (JPEG): 100%|██████████| 101/101 [00:04<00:00, 21.61it/s]\n",
      "propagate in video: 100%|██████████| 101/101 [00:55<00:00,  1.83it/s]\n"
     ]
    },
    {
     "name": "stdout",
     "output_type": "stream",
     "text": [
      "Clip 17 data saved to: /mnt/d/Flora project/Clips/Dorsal_clips/Output/Botia_lohachata_12_C_23_D/Botia_lohachata_12_C_23_D_track.csv\n",
      "Clip 18 / Check 4: Processing with stored prompts.\n"
     ]
    },
    {
     "name": "stderr",
     "output_type": "stream",
     "text": [
      "frame loading (JPEG): 100%|██████████| 130/130 [00:06<00:00, 21.02it/s]\n",
      "propagate in video: 100%|██████████| 130/130 [01:11<00:00,  1.83it/s]\n"
     ]
    },
    {
     "name": "stdout",
     "output_type": "stream",
     "text": [
      "Clip 18 data saved to: /mnt/d/Flora project/Clips/Dorsal_clips/Output/Botia_lohachata_12_C_L_10_D/Botia_lohachata_12_C_L_10_D_track.csv\n",
      "Clip 19 / Check 4: Processing with stored prompts.\n"
     ]
    },
    {
     "name": "stderr",
     "output_type": "stream",
     "text": [
      "frame loading (JPEG): 100%|██████████| 153/153 [00:07<00:00, 21.36it/s]\n",
      "propagate in video: 100%|██████████| 153/153 [01:24<00:00,  1.82it/s]\n"
     ]
    },
    {
     "name": "stdout",
     "output_type": "stream",
     "text": [
      "Clip 19 data saved to: /mnt/d/Flora project/Clips/Dorsal_clips/Output/Botia_lohachata_12_C_L_11_D/Botia_lohachata_12_C_L_11_D_track.csv\n",
      "Clip 20 / Check 4: Processing with stored prompts.\n"
     ]
    },
    {
     "name": "stderr",
     "output_type": "stream",
     "text": [
      "frame loading (JPEG): 100%|██████████| 126/126 [00:05<00:00, 21.67it/s]\n",
      "propagate in video: 100%|██████████| 126/126 [01:09<00:00,  1.81it/s]\n"
     ]
    },
    {
     "name": "stdout",
     "output_type": "stream",
     "text": [
      "Clip 20 data saved to: /mnt/d/Flora project/Clips/Dorsal_clips/Output/Botia_lohachata_12_C_L_12_D/Botia_lohachata_12_C_L_12_D_track.csv\n",
      "Clip 21 / Check 4: Processing with stored prompts.\n"
     ]
    },
    {
     "name": "stderr",
     "output_type": "stream",
     "text": [
      "frame loading (JPEG): 100%|██████████| 241/241 [00:11<00:00, 21.22it/s]\n",
      "propagate in video: 100%|██████████| 241/241 [02:12<00:00,  1.82it/s]\n"
     ]
    },
    {
     "name": "stdout",
     "output_type": "stream",
     "text": [
      "Clip 21 data saved to: /mnt/d/Flora project/Clips/Dorsal_clips/Output/Botia_lohachata_12_C_L_17_D/Botia_lohachata_12_C_L_17_D_track.csv\n",
      "Clip 22 / Check 4: Processing with stored prompts.\n"
     ]
    },
    {
     "name": "stderr",
     "output_type": "stream",
     "text": [
      "frame loading (JPEG): 100%|██████████| 131/131 [00:06<00:00, 21.48it/s]\n",
      "propagate in video: 100%|██████████| 131/131 [01:11<00:00,  1.84it/s]\n"
     ]
    },
    {
     "name": "stdout",
     "output_type": "stream",
     "text": [
      "Clip 22 data saved to: /mnt/d/Flora project/Clips/Dorsal_clips/Output/Botia_lohachata_12_C_L_19_D/Botia_lohachata_12_C_L_19_D_track.csv\n",
      "Clip 23 / Check 4: Processing with stored prompts.\n"
     ]
    },
    {
     "name": "stderr",
     "output_type": "stream",
     "text": [
      "frame loading (JPEG): 100%|██████████| 187/187 [00:08<00:00, 21.21it/s]\n",
      "propagate in video: 100%|██████████| 187/187 [01:41<00:00,  1.83it/s]\n"
     ]
    },
    {
     "name": "stdout",
     "output_type": "stream",
     "text": [
      "Clip 23 data saved to: /mnt/d/Flora project/Clips/Dorsal_clips/Output/Botia_lohachata_12_C_L_1_D/Botia_lohachata_12_C_L_1_D_track.csv\n",
      "Clip 24 / Check 4: Processing with stored prompts.\n"
     ]
    },
    {
     "name": "stderr",
     "output_type": "stream",
     "text": [
      "frame loading (JPEG): 100%|██████████| 447/447 [00:21<00:00, 21.26it/s]\n",
      "propagate in video: 100%|██████████| 447/447 [04:04<00:00,  1.83it/s]\n"
     ]
    },
    {
     "name": "stdout",
     "output_type": "stream",
     "text": [
      "Clip 24 data saved to: /mnt/d/Flora project/Clips/Dorsal_clips/Output/Botia_lohachata_12_C_L_3_D/Botia_lohachata_12_C_L_3_D_track.csv\n",
      "Clip 25 / Check 4: Processing with stored prompts.\n"
     ]
    },
    {
     "name": "stderr",
     "output_type": "stream",
     "text": [
      "frame loading (JPEG): 100%|██████████| 47/47 [00:02<00:00, 21.37it/s]\n",
      "propagate in video: 100%|██████████| 47/47 [00:25<00:00,  1.86it/s]\n"
     ]
    },
    {
     "name": "stdout",
     "output_type": "stream",
     "text": [
      "Clip 25 data saved to: /mnt/d/Flora project/Clips/Dorsal_clips/Output/Botia_lohachata_12_C_L_4_D/Botia_lohachata_12_C_L_4_D_track.csv\n",
      "Clip 26 / Check 4: Processing with stored prompts.\n"
     ]
    },
    {
     "name": "stderr",
     "output_type": "stream",
     "text": [
      "frame loading (JPEG): 100%|██████████| 185/185 [00:08<00:00, 21.45it/s]\n",
      "propagate in video: 100%|██████████| 185/185 [01:41<00:00,  1.83it/s]\n"
     ]
    },
    {
     "name": "stdout",
     "output_type": "stream",
     "text": [
      "Clip 26 data saved to: /mnt/d/Flora project/Clips/Dorsal_clips/Output/Botia_lohachata_12_C_L_5_D/Botia_lohachata_12_C_L_5_D_track.csv\n",
      "Clip 27 / Check 4: Processing with stored prompts.\n"
     ]
    },
    {
     "name": "stderr",
     "output_type": "stream",
     "text": [
      "frame loading (JPEG): 100%|██████████| 119/119 [00:05<00:00, 21.01it/s]\n",
      "propagate in video: 100%|██████████| 119/119 [01:05<00:00,  1.83it/s]\n"
     ]
    },
    {
     "name": "stdout",
     "output_type": "stream",
     "text": [
      "Clip 27 data saved to: /mnt/d/Flora project/Clips/Dorsal_clips/Output/Botia_lohachata_12_C_L_7_D/Botia_lohachata_12_C_L_7_D_track.csv\n",
      "Clip 28 / Check 4: Processing with stored prompts.\n"
     ]
    },
    {
     "name": "stderr",
     "output_type": "stream",
     "text": [
      "frame loading (JPEG): 100%|██████████| 645/645 [00:30<00:00, 21.32it/s]\n",
      "propagate in video: 100%|██████████| 645/645 [05:53<00:00,  1.83it/s]\n"
     ]
    },
    {
     "name": "stdout",
     "output_type": "stream",
     "text": [
      "Clip 28 data saved to: /mnt/d/Flora project/Clips/Dorsal_clips/Output/Botia_lohachata_12_C_R_14_D/Botia_lohachata_12_C_R_14_D_track.csv\n",
      "Clip 29 / Check 4: Processing with stored prompts.\n"
     ]
    },
    {
     "name": "stderr",
     "output_type": "stream",
     "text": [
      "frame loading (JPEG): 100%|██████████| 205/205 [00:09<00:00, 21.39it/s]\n",
      "propagate in video: 100%|██████████| 205/205 [01:52<00:00,  1.83it/s]\n"
     ]
    },
    {
     "name": "stdout",
     "output_type": "stream",
     "text": [
      "Clip 29 data saved to: /mnt/d/Flora project/Clips/Dorsal_clips/Output/Botia_lohachata_12_C_R_16_D/Botia_lohachata_12_C_R_16_D_track.csv\n",
      "Clip 30 / Check 4: Processing with stored prompts.\n"
     ]
    },
    {
     "name": "stderr",
     "output_type": "stream",
     "text": [
      "frame loading (JPEG): 100%|██████████| 43/43 [00:02<00:00, 20.70it/s]\n",
      "propagate in video: 100%|██████████| 43/43 [00:23<00:00,  1.83it/s]\n"
     ]
    },
    {
     "name": "stdout",
     "output_type": "stream",
     "text": [
      "Clip 30 data saved to: /mnt/d/Flora project/Clips/Dorsal_clips/Output/Botia_lohachata_12_C_R_18_D/Botia_lohachata_12_C_R_18_D_track.csv\n",
      "Clip 31 / Check 4: Processing with stored prompts.\n"
     ]
    },
    {
     "name": "stderr",
     "output_type": "stream",
     "text": [
      "frame loading (JPEG): 100%|██████████| 169/169 [00:07<00:00, 21.31it/s]\n",
      "propagate in video: 100%|██████████| 169/169 [01:32<00:00,  1.82it/s]\n"
     ]
    },
    {
     "name": "stdout",
     "output_type": "stream",
     "text": [
      "Clip 31 data saved to: /mnt/d/Flora project/Clips/Dorsal_clips/Output/Botia_lohachata_12_C_R_20_D/Botia_lohachata_12_C_R_20_D_track.csv\n",
      "Clip 32 / Check 4: Processing with stored prompts.\n"
     ]
    },
    {
     "name": "stderr",
     "output_type": "stream",
     "text": [
      "frame loading (JPEG): 100%|██████████| 49/49 [00:02<00:00, 21.38it/s]\n",
      "propagate in video: 100%|██████████| 49/49 [00:26<00:00,  1.84it/s]\n"
     ]
    },
    {
     "name": "stdout",
     "output_type": "stream",
     "text": [
      "Clip 32 data saved to: /mnt/d/Flora project/Clips/Dorsal_clips/Output/Botia_lohachata_12_C_R_22_D/Botia_lohachata_12_C_R_22_D_track.csv\n",
      "Clip 33 / Check 4: Processing with stored prompts.\n"
     ]
    },
    {
     "name": "stderr",
     "output_type": "stream",
     "text": [
      "frame loading (JPEG): 100%|██████████| 52/52 [00:02<00:00, 21.37it/s]\n",
      "propagate in video: 100%|██████████| 52/52 [00:28<00:00,  1.83it/s]\n"
     ]
    },
    {
     "name": "stdout",
     "output_type": "stream",
     "text": [
      "Clip 33 data saved to: /mnt/d/Flora project/Clips/Dorsal_clips/Output/Botia_lohachata_12_C_R_24_D/Botia_lohachata_12_C_R_24_D_track.csv\n",
      "Clip 34 / Check 4: Processing with stored prompts.\n"
     ]
    },
    {
     "name": "stderr",
     "output_type": "stream",
     "text": [
      "frame loading (JPEG): 100%|██████████| 154/154 [00:07<00:00, 21.40it/s]\n",
      "propagate in video: 100%|██████████| 154/154 [01:24<00:00,  1.83it/s]\n"
     ]
    },
    {
     "name": "stdout",
     "output_type": "stream",
     "text": [
      "Clip 34 data saved to: /mnt/d/Flora project/Clips/Dorsal_clips/Output/Botia_lohachata_12_C_R_6_D/Botia_lohachata_12_C_R_6_D_track.csv\n",
      "Clip 35 / Check 4: Processing with stored prompts.\n"
     ]
    },
    {
     "name": "stderr",
     "output_type": "stream",
     "text": [
      "frame loading (JPEG): 100%|██████████| 66/66 [00:03<00:00, 21.78it/s]\n",
      "propagate in video: 100%|██████████| 66/66 [00:36<00:00,  1.82it/s]\n"
     ]
    },
    {
     "name": "stdout",
     "output_type": "stream",
     "text": [
      "Clip 35 data saved to: /mnt/d/Flora project/Clips/Dorsal_clips/Output/Botia_lohachata_12_C_R_8_D/Botia_lohachata_12_C_R_8_D_track.csv\n",
      "Clip 36 / Check 4: Processing with stored prompts.\n"
     ]
    },
    {
     "name": "stderr",
     "output_type": "stream",
     "text": [
      "frame loading (JPEG): 100%|██████████| 75/75 [00:03<00:00, 21.64it/s]\n",
      "propagate in video: 100%|██████████| 75/75 [00:41<00:00,  1.79it/s]\n"
     ]
    },
    {
     "name": "stdout",
     "output_type": "stream",
     "text": [
      "Clip 36 data saved to: /mnt/d/Flora project/Clips/Dorsal_clips/Output/Botia_lohachata_12_C_R_9_D/Botia_lohachata_12_C_R_9_D_track.csv\n",
      "Clip 37 / Check 4: Processing with stored prompts.\n"
     ]
    },
    {
     "name": "stderr",
     "output_type": "stream",
     "text": [
      "frame loading (JPEG): 100%|██████████| 454/454 [00:20<00:00, 21.67it/s]\n",
      "propagate in video: 100%|██████████| 454/454 [04:09<00:00,  1.82it/s]\n"
     ]
    },
    {
     "name": "stdout",
     "output_type": "stream",
     "text": [
      "Clip 37 data saved to: /mnt/d/Flora project/Clips/Dorsal_clips/Output/Botia_lohachata_12_P_L_4_D/Botia_lohachata_12_P_L_4_D_track.csv\n",
      "Clip 38 / Check 4: Processing with stored prompts.\n"
     ]
    },
    {
     "name": "stderr",
     "output_type": "stream",
     "text": [
      "frame loading (JPEG): 100%|██████████| 60/60 [00:02<00:00, 21.49it/s]\n",
      "propagate in video: 100%|██████████| 60/60 [00:32<00:00,  1.84it/s]\n"
     ]
    },
    {
     "name": "stdout",
     "output_type": "stream",
     "text": [
      "Clip 38 data saved to: /mnt/d/Flora project/Clips/Dorsal_clips/Output/Botia_lohachata_12_P_L_6_D/Botia_lohachata_12_P_L_6_D_track.csv\n",
      "Clip 39 / Check 4: Processing with stored prompts.\n"
     ]
    },
    {
     "name": "stderr",
     "output_type": "stream",
     "text": [
      "frame loading (JPEG): 100%|██████████| 105/105 [00:04<00:00, 21.52it/s]\n",
      "propagate in video: 100%|██████████| 105/105 [00:56<00:00,  1.85it/s]\n"
     ]
    },
    {
     "name": "stdout",
     "output_type": "stream",
     "text": [
      "Clip 39 data saved to: /mnt/d/Flora project/Clips/Dorsal_clips/Output/Botia_lohachata_12_P_R_1_D/Botia_lohachata_12_P_R_1_D_track.csv\n",
      "Clip 40 / Check 4: Processing with stored prompts.\n"
     ]
    },
    {
     "name": "stderr",
     "output_type": "stream",
     "text": [
      "frame loading (JPEG): 100%|██████████| 97/97 [00:04<00:00, 21.43it/s]\n",
      "propagate in video: 100%|██████████| 97/97 [00:53<00:00,  1.83it/s]\n"
     ]
    },
    {
     "name": "stdout",
     "output_type": "stream",
     "text": [
      "Clip 40 data saved to: /mnt/d/Flora project/Clips/Dorsal_clips/Output/Botia_lohachata_12_P_R_5_D/Botia_lohachata_12_P_R_5_D_track.csv\n",
      "Clip 41 / Check 4: Processing with stored prompts.\n"
     ]
    },
    {
     "name": "stderr",
     "output_type": "stream",
     "text": [
      "frame loading (JPEG): 100%|██████████| 78/78 [00:03<00:00, 21.65it/s]\n",
      "propagate in video: 100%|██████████| 78/78 [00:42<00:00,  1.84it/s]\n"
     ]
    },
    {
     "name": "stdout",
     "output_type": "stream",
     "text": [
      "Clip 41 data saved to: /mnt/d/Flora project/Clips/Dorsal_clips/Output/Botia_lohachata_13_C_L_2_D/Botia_lohachata_13_C_L_2_D_track.csv\n",
      "Clip 42 / Check 4: Processing with stored prompts.\n"
     ]
    },
    {
     "name": "stderr",
     "output_type": "stream",
     "text": [
      "frame loading (JPEG): 100%|██████████| 172/172 [00:08<00:00, 21.30it/s]\n",
      "propagate in video: 100%|██████████| 172/172 [01:33<00:00,  1.84it/s]\n"
     ]
    },
    {
     "name": "stdout",
     "output_type": "stream",
     "text": [
      "Clip 42 data saved to: /mnt/d/Flora project/Clips/Dorsal_clips/Output/Botia_lohachata_13_C_L_3_D/Botia_lohachata_13_C_L_3_D_track.csv\n",
      "Clip 43 / Check 4: Processing with stored prompts.\n"
     ]
    },
    {
     "name": "stderr",
     "output_type": "stream",
     "text": [
      "frame loading (JPEG): 100%|██████████| 46/46 [00:02<00:00, 21.14it/s]\n",
      "propagate in video: 100%|██████████| 46/46 [00:24<00:00,  1.85it/s]\n"
     ]
    },
    {
     "name": "stdout",
     "output_type": "stream",
     "text": [
      "Clip 43 data saved to: /mnt/d/Flora project/Clips/Dorsal_clips/Output/Botia_lohachata_13_C_L_4_D/Botia_lohachata_13_C_L_4_D_track.csv\n",
      "Clip 44 / Check 4: Processing with stored prompts.\n"
     ]
    },
    {
     "name": "stderr",
     "output_type": "stream",
     "text": [
      "frame loading (JPEG): 100%|██████████| 166/166 [00:07<00:00, 21.12it/s]\n",
      "propagate in video: 100%|██████████| 166/166 [01:30<00:00,  1.84it/s]\n"
     ]
    },
    {
     "name": "stdout",
     "output_type": "stream",
     "text": [
      "Clip 44 data saved to: /mnt/d/Flora project/Clips/Dorsal_clips/Output/Botia_lohachata_13_P_L_1_D/Botia_lohachata_13_P_L_1_D_track.csv\n",
      "Clip 45 / Check 4: Processing with stored prompts.\n"
     ]
    },
    {
     "name": "stderr",
     "output_type": "stream",
     "text": [
      "frame loading (JPEG): 100%|██████████| 205/205 [00:09<00:00, 21.50it/s]\n",
      "propagate in video: 100%|██████████| 205/205 [01:51<00:00,  1.84it/s]\n"
     ]
    },
    {
     "name": "stdout",
     "output_type": "stream",
     "text": [
      "Clip 45 data saved to: /mnt/d/Flora project/Clips/Dorsal_clips/Output/Botia_lohachata_13_P_L_2_D/Botia_lohachata_13_P_L_2_D_track.csv\n",
      "Clip 46 / Check 4: Processing with stored prompts.\n"
     ]
    },
    {
     "name": "stderr",
     "output_type": "stream",
     "text": [
      "frame loading (JPEG): 100%|██████████| 107/107 [00:05<00:00, 21.38it/s]\n",
      "propagate in video: 100%|██████████| 107/107 [00:58<00:00,  1.83it/s]\n"
     ]
    },
    {
     "name": "stdout",
     "output_type": "stream",
     "text": [
      "Clip 46 data saved to: /mnt/d/Flora project/Clips/Dorsal_clips/Output/Botia_lohachata_13_P_R_3_D/Botia_lohachata_13_P_R_3_D_track.csv\n",
      "Clip 47 / Check 4: Processing with stored prompts.\n"
     ]
    },
    {
     "name": "stderr",
     "output_type": "stream",
     "text": [
      "frame loading (JPEG): 100%|██████████| 94/94 [00:04<00:00, 21.33it/s]\n",
      "propagate in video: 100%|██████████| 94/94 [00:51<00:00,  1.82it/s]\n"
     ]
    },
    {
     "name": "stdout",
     "output_type": "stream",
     "text": [
      "Clip 47 data saved to: /mnt/d/Flora project/Clips/Dorsal_clips/Output/Botia_lohachata_14_P_L_2_D/Botia_lohachata_14_P_L_2_D_track.csv\n",
      "Clip 48 / Check 4: Processing with stored prompts.\n"
     ]
    },
    {
     "name": "stderr",
     "output_type": "stream",
     "text": [
      "frame loading (JPEG): 100%|██████████| 144/144 [00:06<00:00, 21.73it/s]\n",
      "propagate in video: 100%|██████████| 144/144 [01:19<00:00,  1.82it/s]\n"
     ]
    },
    {
     "name": "stdout",
     "output_type": "stream",
     "text": [
      "Clip 48 data saved to: /mnt/d/Flora project/Clips/Dorsal_clips/Output/Botia_lohachata_14_P_R_1_D/Botia_lohachata_14_P_R_1_D_track.csv\n",
      "Clip 49 / Check 4: Processing with stored prompts.\n"
     ]
    },
    {
     "name": "stderr",
     "output_type": "stream",
     "text": [
      "frame loading (JPEG): 100%|██████████| 170/170 [00:07<00:00, 21.71it/s]\n",
      "propagate in video: 100%|██████████| 170/170 [01:34<00:00,  1.80it/s]\n"
     ]
    },
    {
     "name": "stdout",
     "output_type": "stream",
     "text": [
      "Clip 49 data saved to: /mnt/d/Flora project/Clips/Dorsal_clips/Output/Botia_lohachata_14_P_R_3_D/Botia_lohachata_14_P_R_3_D_track.csv\n",
      "Clip 50 / Check 4: Processing with stored prompts.\n"
     ]
    },
    {
     "name": "stderr",
     "output_type": "stream",
     "text": [
      "frame loading (JPEG): 100%|██████████| 166/166 [00:08<00:00, 20.41it/s]\n",
      "propagate in video: 100%|██████████| 166/166 [01:34<00:00,  1.76it/s]\n"
     ]
    },
    {
     "name": "stdout",
     "output_type": "stream",
     "text": [
      "Clip 50 data saved to: /mnt/d/Flora project/Clips/Dorsal_clips/Output/Botia_lohachata_15_P_L_2_D/Botia_lohachata_15_P_L_2_D_track.csv\n",
      "Clip 51 / Check 4: Processing with stored prompts.\n"
     ]
    },
    {
     "name": "stderr",
     "output_type": "stream",
     "text": [
      "frame loading (JPEG): 100%|██████████| 68/68 [00:03<00:00, 20.78it/s]\n",
      "propagate in video: 100%|██████████| 68/68 [00:38<00:00,  1.78it/s]\n"
     ]
    },
    {
     "name": "stdout",
     "output_type": "stream",
     "text": [
      "Clip 51 data saved to: /mnt/d/Flora project/Clips/Dorsal_clips/Output/Botia_lohachata_1_C_L_3_D/Botia_lohachata_1_C_L_3_D_track.csv\n",
      "Clip 52 / Check 4: Processing with stored prompts.\n"
     ]
    },
    {
     "name": "stderr",
     "output_type": "stream",
     "text": [
      "frame loading (JPEG): 100%|██████████| 154/154 [00:07<00:00, 20.68it/s]\n",
      "propagate in video: 100%|██████████| 154/154 [01:26<00:00,  1.78it/s]\n"
     ]
    },
    {
     "name": "stdout",
     "output_type": "stream",
     "text": [
      "Clip 52 data saved to: /mnt/d/Flora project/Clips/Dorsal_clips/Output/Botia_lohachata_1_C_R_1_D/Botia_lohachata_1_C_R_1_D_track.csv\n",
      "Clip 53 / Check 4: Processing with stored prompts.\n"
     ]
    },
    {
     "name": "stderr",
     "output_type": "stream",
     "text": [
      "frame loading (JPEG): 100%|██████████| 130/130 [00:06<00:00, 20.60it/s]\n",
      "propagate in video: 100%|██████████| 130/130 [01:11<00:00,  1.81it/s]\n"
     ]
    },
    {
     "name": "stdout",
     "output_type": "stream",
     "text": [
      "Clip 53 data saved to: /mnt/d/Flora project/Clips/Dorsal_clips/Output/Botia_lohachata_1_C_R_2_D/Botia_lohachata_1_C_R_2_D_track.csv\n",
      "Clip 54 / Check 4: Processing with stored prompts.\n"
     ]
    },
    {
     "name": "stderr",
     "output_type": "stream",
     "text": [
      "frame loading (JPEG): 100%|██████████| 94/94 [00:04<00:00, 21.03it/s]\n",
      "propagate in video: 100%|██████████| 94/94 [00:51<00:00,  1.82it/s]\n"
     ]
    },
    {
     "name": "stdout",
     "output_type": "stream",
     "text": [
      "Clip 54 data saved to: /mnt/d/Flora project/Clips/Dorsal_clips/Output/Botia_lohachata_1_P_L_10_D/Botia_lohachata_1_P_L_10_D_track.csv\n",
      "Clip 55 / Check 4: Processing with stored prompts.\n"
     ]
    },
    {
     "name": "stderr",
     "output_type": "stream",
     "text": [
      "frame loading (JPEG): 100%|██████████| 76/76 [00:03<00:00, 20.68it/s]\n",
      "propagate in video: 100%|██████████| 76/76 [00:41<00:00,  1.83it/s]\n"
     ]
    },
    {
     "name": "stdout",
     "output_type": "stream",
     "text": [
      "Clip 55 data saved to: /mnt/d/Flora project/Clips/Dorsal_clips/Output/Botia_lohachata_1_P_L_1_D/Botia_lohachata_1_P_L_1_D_track.csv\n",
      "Clip 56 / Check 4: Processing with stored prompts.\n"
     ]
    },
    {
     "name": "stderr",
     "output_type": "stream",
     "text": [
      "frame loading (JPEG): 100%|██████████| 165/165 [00:08<00:00, 20.49it/s]\n",
      "propagate in video: 100%|██████████| 165/165 [01:30<00:00,  1.82it/s]\n"
     ]
    },
    {
     "name": "stdout",
     "output_type": "stream",
     "text": [
      "Clip 56 data saved to: /mnt/d/Flora project/Clips/Dorsal_clips/Output/Botia_lohachata_1_P_L_4_D/Botia_lohachata_1_P_L_4_D_track.csv\n",
      "Clip 57 / Check 4: Processing with stored prompts.\n"
     ]
    },
    {
     "name": "stderr",
     "output_type": "stream",
     "text": [
      "frame loading (JPEG): 100%|██████████| 108/108 [00:05<00:00, 21.05it/s]\n",
      "propagate in video: 100%|██████████| 108/108 [00:59<00:00,  1.82it/s]\n"
     ]
    },
    {
     "name": "stdout",
     "output_type": "stream",
     "text": [
      "Clip 57 data saved to: /mnt/d/Flora project/Clips/Dorsal_clips/Output/Botia_lohachata_1_P_L_8_D/Botia_lohachata_1_P_L_8_D_track.csv\n",
      "Clip 58 / Check 4: Processing with stored prompts.\n"
     ]
    },
    {
     "name": "stderr",
     "output_type": "stream",
     "text": [
      "frame loading (JPEG): 100%|██████████| 85/85 [00:03<00:00, 21.57it/s]\n",
      "propagate in video: 100%|██████████| 85/85 [00:46<00:00,  1.81it/s]\n"
     ]
    },
    {
     "name": "stdout",
     "output_type": "stream",
     "text": [
      "Clip 58 data saved to: /mnt/d/Flora project/Clips/Dorsal_clips/Output/Botia_lohachata_1_P_L_9_D/Botia_lohachata_1_P_L_9_D_track.csv\n",
      "Clip 59 / Check 4: Processing with stored prompts.\n"
     ]
    },
    {
     "name": "stderr",
     "output_type": "stream",
     "text": [
      "frame loading (JPEG): 100%|██████████| 148/148 [00:07<00:00, 21.06it/s]\n",
      "propagate in video: 100%|██████████| 148/148 [01:20<00:00,  1.83it/s]\n"
     ]
    },
    {
     "name": "stdout",
     "output_type": "stream",
     "text": [
      "Clip 59 data saved to: /mnt/d/Flora project/Clips/Dorsal_clips/Output/Botia_lohachata_1_P_R_2_D/Botia_lohachata_1_P_R_2_D_track.csv\n",
      "Clip 60 / Check 4: Processing with stored prompts.\n"
     ]
    },
    {
     "name": "stderr",
     "output_type": "stream",
     "text": [
      "frame loading (JPEG): 100%|██████████| 74/74 [00:03<00:00, 21.54it/s]\n",
      "propagate in video: 100%|██████████| 74/74 [00:40<00:00,  1.82it/s]\n"
     ]
    },
    {
     "name": "stdout",
     "output_type": "stream",
     "text": [
      "Clip 60 data saved to: /mnt/d/Flora project/Clips/Dorsal_clips/Output/Botia_lohachata_1_P_R_3_D/Botia_lohachata_1_P_R_3_D_track.csv\n",
      "Clip 61 / Check 4: Processing with stored prompts.\n"
     ]
    },
    {
     "name": "stderr",
     "output_type": "stream",
     "text": [
      "frame loading (JPEG): 100%|██████████| 183/183 [00:09<00:00, 18.61it/s]\n",
      "propagate in video: 100%|██████████| 183/183 [01:40<00:00,  1.82it/s]\n"
     ]
    },
    {
     "name": "stdout",
     "output_type": "stream",
     "text": [
      "Clip 61 data saved to: /mnt/d/Flora project/Clips/Dorsal_clips/Output/Botia_lohachata_1_P_R_5_D/Botia_lohachata_1_P_R_5_D_track.csv\n",
      "Clip 62 / Check 4: Processing with stored prompts.\n"
     ]
    },
    {
     "name": "stderr",
     "output_type": "stream",
     "text": [
      "frame loading (JPEG): 100%|██████████| 133/133 [00:06<00:00, 19.26it/s]\n",
      "propagate in video: 100%|██████████| 133/133 [01:12<00:00,  1.83it/s]\n"
     ]
    },
    {
     "name": "stdout",
     "output_type": "stream",
     "text": [
      "Clip 62 data saved to: /mnt/d/Flora project/Clips/Dorsal_clips/Output/Botia_lohachata_1_P_R_6_D/Botia_lohachata_1_P_R_6_D_track.csv\n",
      "Clip 63 / Check 4: Processing with stored prompts.\n"
     ]
    },
    {
     "name": "stderr",
     "output_type": "stream",
     "text": [
      "frame loading (JPEG): 100%|██████████| 95/95 [00:04<00:00, 19.03it/s]\n",
      "propagate in video: 100%|██████████| 95/95 [00:52<00:00,  1.82it/s]\n"
     ]
    },
    {
     "name": "stdout",
     "output_type": "stream",
     "text": [
      "Clip 63 data saved to: /mnt/d/Flora project/Clips/Dorsal_clips/Output/Botia_lohachata_1_P_R_7_D/Botia_lohachata_1_P_R_7_D_track.csv\n",
      "Clip 64 / Check 4: Processing with stored prompts.\n"
     ]
    },
    {
     "name": "stderr",
     "output_type": "stream",
     "text": [
      "frame loading (JPEG): 100%|██████████| 77/77 [00:03<00:00, 19.77it/s]\n",
      "propagate in video: 100%|██████████| 77/77 [00:42<00:00,  1.83it/s]\n"
     ]
    },
    {
     "name": "stdout",
     "output_type": "stream",
     "text": [
      "Clip 64 data saved to: /mnt/d/Flora project/Clips/Dorsal_clips/Output/Botia_lohachata_2_C_L_1_D/Botia_lohachata_2_C_L_1_D_track.csv\n",
      "Clip 65 / Check 4: Processing with stored prompts.\n"
     ]
    },
    {
     "name": "stderr",
     "output_type": "stream",
     "text": [
      "frame loading (JPEG): 100%|██████████| 105/105 [00:05<00:00, 19.27it/s]\n",
      "propagate in video: 100%|██████████| 105/105 [00:57<00:00,  1.82it/s]\n"
     ]
    },
    {
     "name": "stdout",
     "output_type": "stream",
     "text": [
      "Clip 65 data saved to: /mnt/d/Flora project/Clips/Dorsal_clips/Output/Botia_lohachata_2_C_L_3_D/Botia_lohachata_2_C_L_3_D_track.csv\n",
      "Clip 66 / Check 4: Processing with stored prompts.\n"
     ]
    },
    {
     "name": "stderr",
     "output_type": "stream",
     "text": [
      "frame loading (JPEG): 100%|██████████| 29/29 [00:01<00:00, 20.14it/s]\n",
      "propagate in video: 100%|██████████| 29/29 [00:15<00:00,  1.84it/s]\n"
     ]
    },
    {
     "name": "stdout",
     "output_type": "stream",
     "text": [
      "Clip 66 data saved to: /mnt/d/Flora project/Clips/Dorsal_clips/Output/Botia_lohachata_2_C_R_2_D/Botia_lohachata_2_C_R_2_D_track.csv\n",
      "Clip 67 / Check 4: Processing with stored prompts.\n"
     ]
    },
    {
     "name": "stderr",
     "output_type": "stream",
     "text": [
      "frame loading (JPEG): 100%|██████████| 134/134 [00:06<00:00, 19.51it/s]\n",
      "propagate in video: 100%|██████████| 134/134 [01:13<00:00,  1.83it/s]\n"
     ]
    },
    {
     "name": "stdout",
     "output_type": "stream",
     "text": [
      "Clip 67 data saved to: /mnt/d/Flora project/Clips/Dorsal_clips/Output/Botia_lohachata_2_P_L_11_D/Botia_lohachata_2_P_L_11_D_track.csv\n",
      "Clip 68 / Check 4: Processing with stored prompts.\n"
     ]
    },
    {
     "name": "stderr",
     "output_type": "stream",
     "text": [
      "frame loading (JPEG): 100%|██████████| 31/31 [00:01<00:00, 19.16it/s]\n",
      "propagate in video: 100%|██████████| 31/31 [00:16<00:00,  1.84it/s]\n"
     ]
    },
    {
     "name": "stdout",
     "output_type": "stream",
     "text": [
      "Clip 68 data saved to: /mnt/d/Flora project/Clips/Dorsal_clips/Output/Botia_lohachata_2_P_L_13_D/Botia_lohachata_2_P_L_13_D_track.csv\n",
      "Clip 69 / Check 4: Processing with stored prompts.\n"
     ]
    },
    {
     "name": "stderr",
     "output_type": "stream",
     "text": [
      "frame loading (JPEG): 100%|██████████| 129/129 [00:06<00:00, 18.61it/s]\n",
      "propagate in video: 100%|██████████| 129/129 [01:10<00:00,  1.83it/s]\n"
     ]
    },
    {
     "name": "stdout",
     "output_type": "stream",
     "text": [
      "Clip 69 data saved to: /mnt/d/Flora project/Clips/Dorsal_clips/Output/Botia_lohachata_2_P_L_1_D/Botia_lohachata_2_P_L_1_D_track.csv\n",
      "Clip 70 / Check 4: Processing with stored prompts.\n"
     ]
    },
    {
     "name": "stderr",
     "output_type": "stream",
     "text": [
      "frame loading (JPEG): 100%|██████████| 113/113 [00:05<00:00, 19.39it/s]\n",
      "propagate in video: 100%|██████████| 113/113 [01:01<00:00,  1.84it/s]\n"
     ]
    },
    {
     "name": "stdout",
     "output_type": "stream",
     "text": [
      "Clip 70 data saved to: /mnt/d/Flora project/Clips/Dorsal_clips/Output/Botia_lohachata_2_P_L_4_D/Botia_lohachata_2_P_L_4_D_track.csv\n",
      "Clip 71 / Check 4: Processing with stored prompts.\n"
     ]
    },
    {
     "name": "stderr",
     "output_type": "stream",
     "text": [
      "frame loading (JPEG): 100%|██████████| 48/48 [00:02<00:00, 20.20it/s]\n",
      "propagate in video: 100%|██████████| 48/48 [00:26<00:00,  1.83it/s]\n"
     ]
    },
    {
     "name": "stdout",
     "output_type": "stream",
     "text": [
      "Clip 71 data saved to: /mnt/d/Flora project/Clips/Dorsal_clips/Output/Botia_lohachata_2_P_L_6_D/Botia_lohachata_2_P_L_6_D_track.csv\n",
      "Clip 72 / Check 4: Processing with stored prompts.\n"
     ]
    },
    {
     "name": "stderr",
     "output_type": "stream",
     "text": [
      "frame loading (JPEG): 100%|██████████| 44/44 [00:02<00:00, 20.21it/s]\n",
      "propagate in video: 100%|██████████| 44/44 [00:23<00:00,  1.85it/s]\n"
     ]
    },
    {
     "name": "stdout",
     "output_type": "stream",
     "text": [
      "Clip 72 data saved to: /mnt/d/Flora project/Clips/Dorsal_clips/Output/Botia_lohachata_2_P_L_7_D/Botia_lohachata_2_P_L_7_D_track.csv\n",
      "Clip 73 / Check 4: Processing with stored prompts.\n"
     ]
    },
    {
     "name": "stderr",
     "output_type": "stream",
     "text": [
      "frame loading (JPEG): 100%|██████████| 69/69 [00:03<00:00, 19.13it/s]\n",
      "propagate in video: 100%|██████████| 69/69 [00:37<00:00,  1.83it/s]\n"
     ]
    },
    {
     "name": "stdout",
     "output_type": "stream",
     "text": [
      "Clip 73 data saved to: /mnt/d/Flora project/Clips/Dorsal_clips/Output/Botia_lohachata_2_P_L_9_D/Botia_lohachata_2_P_L_9_D_track.csv\n",
      "Clip 74 / Check 4: Processing with stored prompts.\n"
     ]
    },
    {
     "name": "stderr",
     "output_type": "stream",
     "text": [
      "frame loading (JPEG): 100%|██████████| 68/68 [00:03<00:00, 19.53it/s]\n",
      "propagate in video: 100%|██████████| 68/68 [00:36<00:00,  1.86it/s]\n"
     ]
    },
    {
     "name": "stdout",
     "output_type": "stream",
     "text": [
      "Clip 74 data saved to: /mnt/d/Flora project/Clips/Dorsal_clips/Output/Botia_lohachata_2_P_R_10_D/Botia_lohachata_2_P_R_10_D_track.csv\n",
      "Clip 75 / Check 4: Processing with stored prompts.\n"
     ]
    },
    {
     "name": "stderr",
     "output_type": "stream",
     "text": [
      "frame loading (JPEG): 100%|██████████| 146/146 [00:07<00:00, 18.81it/s]\n",
      "propagate in video: 100%|██████████| 146/146 [01:20<00:00,  1.82it/s]\n"
     ]
    },
    {
     "name": "stdout",
     "output_type": "stream",
     "text": [
      "Clip 75 data saved to: /mnt/d/Flora project/Clips/Dorsal_clips/Output/Botia_lohachata_2_P_R_12_D/Botia_lohachata_2_P_R_12_D_track.csv\n",
      "Clip 76 / Check 4: Processing with stored prompts.\n"
     ]
    },
    {
     "name": "stderr",
     "output_type": "stream",
     "text": [
      "frame loading (JPEG): 100%|██████████| 96/96 [00:04<00:00, 20.40it/s]\n",
      "propagate in video: 100%|██████████| 96/96 [00:52<00:00,  1.83it/s]\n"
     ]
    },
    {
     "name": "stdout",
     "output_type": "stream",
     "text": [
      "Clip 76 data saved to: /mnt/d/Flora project/Clips/Dorsal_clips/Output/Botia_lohachata_2_P_R_2_D/Botia_lohachata_2_P_R_2_D_track.csv\n",
      "Clip 77 / Check 4: Processing with stored prompts.\n"
     ]
    },
    {
     "name": "stderr",
     "output_type": "stream",
     "text": [
      "frame loading (JPEG): 100%|██████████| 120/120 [00:06<00:00, 19.73it/s]\n",
      "propagate in video: 100%|██████████| 120/120 [01:05<00:00,  1.83it/s]\n"
     ]
    },
    {
     "name": "stdout",
     "output_type": "stream",
     "text": [
      "Clip 77 data saved to: /mnt/d/Flora project/Clips/Dorsal_clips/Output/Botia_lohachata_2_P_R_3_D/Botia_lohachata_2_P_R_3_D_track.csv\n",
      "Clip 78 / Check 4: Processing with stored prompts.\n"
     ]
    },
    {
     "name": "stderr",
     "output_type": "stream",
     "text": [
      "frame loading (JPEG): 100%|██████████| 85/85 [00:04<00:00, 20.41it/s]\n",
      "propagate in video: 100%|██████████| 85/85 [00:46<00:00,  1.84it/s]\n"
     ]
    },
    {
     "name": "stdout",
     "output_type": "stream",
     "text": [
      "Clip 78 data saved to: /mnt/d/Flora project/Clips/Dorsal_clips/Output/Botia_lohachata_2_P_R_5_D/Botia_lohachata_2_P_R_5_D_track.csv\n",
      "Clip 79 / Check 4: Processing with stored prompts.\n"
     ]
    },
    {
     "name": "stderr",
     "output_type": "stream",
     "text": [
      "frame loading (JPEG): 100%|██████████| 105/105 [00:05<00:00, 19.52it/s]\n",
      "propagate in video: 100%|██████████| 105/105 [00:57<00:00,  1.83it/s]\n"
     ]
    },
    {
     "name": "stdout",
     "output_type": "stream",
     "text": [
      "Clip 79 data saved to: /mnt/d/Flora project/Clips/Dorsal_clips/Output/Botia_lohachata_2_P_R_8_D/Botia_lohachata_2_P_R_8_D_track.csv\n",
      "Clip 80 / Check 4: Processing with stored prompts.\n"
     ]
    },
    {
     "name": "stderr",
     "output_type": "stream",
     "text": [
      "frame loading (JPEG): 100%|██████████| 116/116 [00:06<00:00, 19.21it/s]\n",
      "propagate in video: 100%|██████████| 116/116 [01:03<00:00,  1.83it/s]\n"
     ]
    },
    {
     "name": "stdout",
     "output_type": "stream",
     "text": [
      "Clip 80 data saved to: /mnt/d/Flora project/Clips/Dorsal_clips/Output/Botia_lohachata_3_C_L_1_D/Botia_lohachata_3_C_L_1_D_track.csv\n",
      "Clip 81 / Check 4: Processing with stored prompts.\n"
     ]
    },
    {
     "name": "stderr",
     "output_type": "stream",
     "text": [
      "frame loading (JPEG): 100%|██████████| 88/88 [00:04<00:00, 20.13it/s]\n",
      "propagate in video: 100%|██████████| 88/88 [00:48<00:00,  1.83it/s]\n"
     ]
    },
    {
     "name": "stdout",
     "output_type": "stream",
     "text": [
      "Clip 81 data saved to: /mnt/d/Flora project/Clips/Dorsal_clips/Output/Botia_lohachata_3_C_R_2_D/Botia_lohachata_3_C_R_2_D_track.csv\n",
      "Clip 82 / Check 4: Processing with stored prompts.\n"
     ]
    },
    {
     "name": "stderr",
     "output_type": "stream",
     "text": [
      "frame loading (JPEG): 100%|██████████| 93/93 [00:04<00:00, 18.93it/s]\n",
      "propagate in video: 100%|██████████| 93/93 [00:50<00:00,  1.85it/s]\n"
     ]
    },
    {
     "name": "stdout",
     "output_type": "stream",
     "text": [
      "Clip 82 data saved to: /mnt/d/Flora project/Clips/Dorsal_clips/Output/Botia_lohachata_3_P_L_1_D/Botia_lohachata_3_P_L_1_D_track.csv\n",
      "Clip 83 / Check 4: Processing with stored prompts.\n"
     ]
    },
    {
     "name": "stderr",
     "output_type": "stream",
     "text": [
      "frame loading (JPEG): 100%|██████████| 104/104 [00:05<00:00, 19.44it/s]\n",
      "propagate in video: 100%|██████████| 104/104 [00:56<00:00,  1.85it/s]\n"
     ]
    },
    {
     "name": "stdout",
     "output_type": "stream",
     "text": [
      "Clip 83 data saved to: /mnt/d/Flora project/Clips/Dorsal_clips/Output/Botia_lohachata_3_P_L_4_D/Botia_lohachata_3_P_L_4_D_track.csv\n",
      "Clip 84 / Check 4: Processing with stored prompts.\n"
     ]
    },
    {
     "name": "stderr",
     "output_type": "stream",
     "text": [
      "frame loading (JPEG): 100%|██████████| 67/67 [00:03<00:00, 18.89it/s]\n",
      "propagate in video: 100%|██████████| 67/67 [00:36<00:00,  1.84it/s]\n"
     ]
    },
    {
     "name": "stdout",
     "output_type": "stream",
     "text": [
      "Clip 84 data saved to: /mnt/d/Flora project/Clips/Dorsal_clips/Output/Botia_lohachata_3_P_R_2_D/Botia_lohachata_3_P_R_2_D_track.csv\n",
      "Clip 85 / Check 4: Processing with stored prompts.\n"
     ]
    },
    {
     "name": "stderr",
     "output_type": "stream",
     "text": [
      "frame loading (JPEG): 100%|██████████| 185/185 [00:09<00:00, 18.71it/s]\n",
      "propagate in video: 100%|██████████| 185/185 [01:40<00:00,  1.84it/s]\n"
     ]
    },
    {
     "name": "stdout",
     "output_type": "stream",
     "text": [
      "Clip 85 data saved to: /mnt/d/Flora project/Clips/Dorsal_clips/Output/Botia_lohachata_3_P_R_3_D/Botia_lohachata_3_P_R_3_D_track.csv\n",
      "Clip 86 / Check 4: Processing with stored prompts.\n"
     ]
    },
    {
     "name": "stderr",
     "output_type": "stream",
     "text": [
      "frame loading (JPEG): 100%|██████████| 94/94 [00:04<00:00, 19.71it/s]\n",
      "propagate in video: 100%|██████████| 94/94 [00:50<00:00,  1.85it/s]\n"
     ]
    },
    {
     "name": "stdout",
     "output_type": "stream",
     "text": [
      "Clip 86 data saved to: /mnt/d/Flora project/Clips/Dorsal_clips/Output/Botia_lohachata_3_P_R_5_D/Botia_lohachata_3_P_R_5_D_track.csv\n",
      "Clip 87 / Check 4: Processing with stored prompts.\n"
     ]
    },
    {
     "name": "stderr",
     "output_type": "stream",
     "text": [
      "frame loading (JPEG): 100%|██████████| 221/221 [00:11<00:00, 19.67it/s]\n",
      "propagate in video: 100%|██████████| 221/221 [02:00<00:00,  1.83it/s]\n"
     ]
    },
    {
     "name": "stdout",
     "output_type": "stream",
     "text": [
      "Clip 87 data saved to: /mnt/d/Flora project/Clips/Dorsal_clips/Output/Botia_lohachata_4_C_L_2_D/Botia_lohachata_4_C_L_2_D_track.csv\n",
      "Clip 88 / Check 4: Processing with stored prompts.\n"
     ]
    },
    {
     "name": "stderr",
     "output_type": "stream",
     "text": [
      "frame loading (JPEG): 100%|██████████| 148/148 [00:07<00:00, 19.22it/s]\n",
      "propagate in video: 100%|██████████| 148/148 [01:20<00:00,  1.83it/s]\n"
     ]
    },
    {
     "name": "stdout",
     "output_type": "stream",
     "text": [
      "Clip 88 data saved to: /mnt/d/Flora project/Clips/Dorsal_clips/Output/Botia_lohachata_4_C_R_1_D/Botia_lohachata_4_C_R_1_D_track.csv\n",
      "Clip 89 / Check 4: Processing with stored prompts.\n"
     ]
    },
    {
     "name": "stderr",
     "output_type": "stream",
     "text": [
      "frame loading (JPEG): 100%|██████████| 131/131 [00:06<00:00, 19.66it/s]\n",
      "propagate in video: 100%|██████████| 131/131 [01:11<00:00,  1.83it/s]\n"
     ]
    },
    {
     "name": "stdout",
     "output_type": "stream",
     "text": [
      "Clip 89 data saved to: /mnt/d/Flora project/Clips/Dorsal_clips/Output/Botia_lohachata_4_C_R_3_D/Botia_lohachata_4_C_R_3_D_track.csv\n",
      "Clip 90 / Check 4: Processing with stored prompts.\n"
     ]
    },
    {
     "name": "stderr",
     "output_type": "stream",
     "text": [
      "frame loading (JPEG): 100%|██████████| 141/141 [00:07<00:00, 19.54it/s]\n",
      "propagate in video: 100%|██████████| 141/141 [01:17<00:00,  1.82it/s]\n"
     ]
    },
    {
     "name": "stdout",
     "output_type": "stream",
     "text": [
      "Clip 90 data saved to: /mnt/d/Flora project/Clips/Dorsal_clips/Output/Botia_lohachata_4_P_R_7_D/Botia_lohachata_4_P_R_7_D_track.csv\n",
      "Clip 91 / Check 4: Processing with stored prompts.\n"
     ]
    },
    {
     "name": "stderr",
     "output_type": "stream",
     "text": [
      "frame loading (JPEG): 100%|██████████| 271/271 [00:13<00:00, 19.50it/s]\n",
      "propagate in video: 100%|██████████| 271/271 [02:27<00:00,  1.83it/s]\n"
     ]
    },
    {
     "name": "stdout",
     "output_type": "stream",
     "text": [
      "Clip 91 data saved to: /mnt/d/Flora project/Clips/Dorsal_clips/Output/Botia_lohachata_5_C_L_1_D/Botia_lohachata_5_C_L_1_D_track.csv\n",
      "Clip 92 / Check 4: Processing with stored prompts.\n"
     ]
    },
    {
     "name": "stderr",
     "output_type": "stream",
     "text": [
      "frame loading (JPEG): 100%|██████████| 351/351 [00:17<00:00, 19.71it/s]\n",
      "propagate in video: 100%|██████████| 351/351 [03:11<00:00,  1.84it/s]\n"
     ]
    },
    {
     "name": "stdout",
     "output_type": "stream",
     "text": [
      "Clip 92 data saved to: /mnt/d/Flora project/Clips/Dorsal_clips/Output/Botia_lohachata_5_P_R_1_D/Botia_lohachata_5_P_R_1_D_track.csv\n",
      "Clip 93 / Check 4: Processing with stored prompts.\n"
     ]
    },
    {
     "name": "stderr",
     "output_type": "stream",
     "text": [
      "frame loading (JPEG): 100%|██████████| 147/147 [00:07<00:00, 19.79it/s]\n",
      "propagate in video: 100%|██████████| 147/147 [01:20<00:00,  1.83it/s]\n"
     ]
    },
    {
     "name": "stdout",
     "output_type": "stream",
     "text": [
      "Clip 93 data saved to: /mnt/d/Flora project/Clips/Dorsal_clips/Output/Botia_lohachata_6_P_L_11_D/Botia_lohachata_6_P_L_11_D_track.csv\n",
      "Clip 94 / Check 4: Processing with stored prompts.\n"
     ]
    },
    {
     "name": "stderr",
     "output_type": "stream",
     "text": [
      "frame loading (JPEG): 100%|██████████| 296/296 [00:15<00:00, 19.67it/s]\n",
      "propagate in video: 100%|██████████| 296/296 [02:41<00:00,  1.84it/s]\n"
     ]
    },
    {
     "name": "stdout",
     "output_type": "stream",
     "text": [
      "Clip 94 data saved to: /mnt/d/Flora project/Clips/Dorsal_clips/Output/Botia_lohachata_6_P_L_2_D/Botia_lohachata_6_P_L_2_D_track.csv\n",
      "Clip 95 / Check 4: Processing with stored prompts.\n"
     ]
    },
    {
     "name": "stderr",
     "output_type": "stream",
     "text": [
      "frame loading (JPEG): 100%|██████████| 142/142 [00:06<00:00, 20.49it/s]\n",
      "propagate in video: 100%|██████████| 142/142 [01:17<00:00,  1.83it/s]\n"
     ]
    },
    {
     "name": "stdout",
     "output_type": "stream",
     "text": [
      "Clip 95 data saved to: /mnt/d/Flora project/Clips/Dorsal_clips/Output/Botia_lohachata_6_P_L_3_D/Botia_lohachata_6_P_L_3_D_track.csv\n",
      "Clip 96 / Check 4: Processing with stored prompts.\n"
     ]
    },
    {
     "name": "stderr",
     "output_type": "stream",
     "text": [
      "frame loading (JPEG): 100%|██████████| 149/149 [00:07<00:00, 20.23it/s]\n",
      "propagate in video: 100%|██████████| 149/149 [01:22<00:00,  1.81it/s]\n"
     ]
    },
    {
     "name": "stdout",
     "output_type": "stream",
     "text": [
      "Clip 96 data saved to: /mnt/d/Flora project/Clips/Dorsal_clips/Output/Botia_lohachata_6_P_L_7_D/Botia_lohachata_6_P_L_7_D_track.csv\n",
      "Clip 97 / Check 4: Processing with stored prompts.\n"
     ]
    },
    {
     "name": "stderr",
     "output_type": "stream",
     "text": [
      "frame loading (JPEG): 100%|██████████| 375/375 [00:19<00:00, 19.35it/s]\n",
      "propagate in video: 100%|██████████| 375/375 [03:24<00:00,  1.83it/s]\n"
     ]
    },
    {
     "name": "stdout",
     "output_type": "stream",
     "text": [
      "Clip 97 data saved to: /mnt/d/Flora project/Clips/Dorsal_clips/Output/Botia_lohachata_6_P_R_10_D/Botia_lohachata_6_P_R_10_D_track.csv\n",
      "Clip 98 / Check 4: Processing with stored prompts.\n"
     ]
    },
    {
     "name": "stderr",
     "output_type": "stream",
     "text": [
      "frame loading (JPEG): 100%|██████████| 22/22 [00:01<00:00, 19.05it/s]\n",
      "propagate in video: 100%|██████████| 22/22 [00:11<00:00,  1.86it/s]\n"
     ]
    },
    {
     "name": "stdout",
     "output_type": "stream",
     "text": [
      "Clip 98 data saved to: /mnt/d/Flora project/Clips/Dorsal_clips/Output/Botia_lohachata_7_C_R_1_D/Botia_lohachata_7_C_R_1_D_track.csv\n",
      "Clip 99 / Check 4: Processing with stored prompts.\n"
     ]
    },
    {
     "name": "stderr",
     "output_type": "stream",
     "text": [
      "frame loading (JPEG): 100%|██████████| 200/200 [00:10<00:00, 19.72it/s]\n",
      "propagate in video: 100%|██████████| 200/200 [01:49<00:00,  1.82it/s]\n"
     ]
    },
    {
     "name": "stdout",
     "output_type": "stream",
     "text": [
      "Clip 99 data saved to: /mnt/d/Flora project/Clips/Dorsal_clips/Output/Botia_lohachata_7_C_R_2_D/Botia_lohachata_7_C_R_2_D_track.csv\n",
      "Clip 100 / Check 4: Processing with stored prompts.\n"
     ]
    },
    {
     "name": "stderr",
     "output_type": "stream",
     "text": [
      "frame loading (JPEG): 100%|██████████| 168/168 [00:08<00:00, 19.64it/s]\n",
      "propagate in video: 100%|██████████| 168/168 [01:32<00:00,  1.83it/s]\n"
     ]
    },
    {
     "name": "stdout",
     "output_type": "stream",
     "text": [
      "Clip 100 data saved to: /mnt/d/Flora project/Clips/Dorsal_clips/Output/Botia_lohachata_7_P_L_10_D/Botia_lohachata_7_P_L_10_D_track.csv\n",
      "Clip 101 / Check 4: Processing with stored prompts.\n"
     ]
    },
    {
     "name": "stderr",
     "output_type": "stream",
     "text": [
      "frame loading (JPEG): 100%|██████████| 134/134 [00:06<00:00, 20.35it/s]\n",
      "propagate in video: 100%|██████████| 134/134 [01:13<00:00,  1.82it/s]\n"
     ]
    },
    {
     "name": "stdout",
     "output_type": "stream",
     "text": [
      "Clip 101 data saved to: /mnt/d/Flora project/Clips/Dorsal_clips/Output/Botia_lohachata_7_P_L_11_D/Botia_lohachata_7_P_L_11_D_track.csv\n",
      "Clip 102 / Check 4: Processing with stored prompts.\n"
     ]
    },
    {
     "name": "stderr",
     "output_type": "stream",
     "text": [
      "frame loading (JPEG): 100%|██████████| 162/162 [00:08<00:00, 20.06it/s]\n",
      "propagate in video: 100%|██████████| 162/162 [01:27<00:00,  1.84it/s]\n"
     ]
    },
    {
     "name": "stdout",
     "output_type": "stream",
     "text": [
      "Clip 102 data saved to: /mnt/d/Flora project/Clips/Dorsal_clips/Output/Botia_lohachata_7_P_L_12_D/Botia_lohachata_7_P_L_12_D_track.csv\n",
      "Clip 103 / Check 4: Processing with stored prompts.\n"
     ]
    },
    {
     "name": "stderr",
     "output_type": "stream",
     "text": [
      "frame loading (JPEG): 100%|██████████| 156/156 [00:08<00:00, 19.46it/s]\n",
      "propagate in video: 100%|██████████| 156/156 [01:25<00:00,  1.83it/s]\n"
     ]
    },
    {
     "name": "stdout",
     "output_type": "stream",
     "text": [
      "Clip 103 data saved to: /mnt/d/Flora project/Clips/Dorsal_clips/Output/Botia_lohachata_7_P_L_3_D/Botia_lohachata_7_P_L_3_D_track.csv\n",
      "Clip 104 / Check 4: Processing with stored prompts.\n"
     ]
    },
    {
     "name": "stderr",
     "output_type": "stream",
     "text": [
      "frame loading (JPEG): 100%|██████████| 183/183 [00:09<00:00, 19.55it/s]\n",
      "propagate in video: 100%|██████████| 183/183 [01:39<00:00,  1.83it/s]\n"
     ]
    },
    {
     "name": "stdout",
     "output_type": "stream",
     "text": [
      "Clip 104 data saved to: /mnt/d/Flora project/Clips/Dorsal_clips/Output/Botia_lohachata_7_P_L_5_D/Botia_lohachata_7_P_L_5_D_track.csv\n",
      "Clip 105 / Check 4: Processing with stored prompts.\n"
     ]
    },
    {
     "name": "stderr",
     "output_type": "stream",
     "text": [
      "frame loading (JPEG): 100%|██████████| 85/85 [00:04<00:00, 19.43it/s]\n",
      "propagate in video: 100%|██████████| 85/85 [00:46<00:00,  1.82it/s]\n"
     ]
    },
    {
     "name": "stdout",
     "output_type": "stream",
     "text": [
      "Clip 105 data saved to: /mnt/d/Flora project/Clips/Dorsal_clips/Output/Botia_lohachata_7_P_L_7_D/Botia_lohachata_7_P_L_7_D_track.csv\n",
      "Clip 106 / Check 4: Processing with stored prompts.\n"
     ]
    },
    {
     "name": "stderr",
     "output_type": "stream",
     "text": [
      "frame loading (JPEG): 100%|██████████| 115/115 [00:05<00:00, 19.55it/s]\n",
      "propagate in video: 100%|██████████| 115/115 [01:03<00:00,  1.82it/s]\n"
     ]
    },
    {
     "name": "stdout",
     "output_type": "stream",
     "text": [
      "Clip 106 data saved to: /mnt/d/Flora project/Clips/Dorsal_clips/Output/Botia_lohachata_7_P_L_9_D/Botia_lohachata_7_P_L_9_D_track.csv\n",
      "Clip 107 / Check 4: Processing with stored prompts.\n"
     ]
    },
    {
     "name": "stderr",
     "output_type": "stream",
     "text": [
      "frame loading (JPEG): 100%|██████████| 26/26 [00:01<00:00, 19.52it/s]\n",
      "propagate in video: 100%|██████████| 26/26 [00:13<00:00,  1.86it/s]\n"
     ]
    },
    {
     "name": "stdout",
     "output_type": "stream",
     "text": [
      "Clip 107 data saved to: /mnt/d/Flora project/Clips/Dorsal_clips/Output/Botia_lohachata_7_P_R_1_D/Botia_lohachata_7_P_R_1_D_track.csv\n",
      "Clip 108 / Check 4: Processing with stored prompts.\n"
     ]
    },
    {
     "name": "stderr",
     "output_type": "stream",
     "text": [
      "frame loading (JPEG): 100%|██████████| 144/144 [00:07<00:00, 19.36it/s]\n",
      "propagate in video: 100%|██████████| 144/144 [01:18<00:00,  1.84it/s]\n"
     ]
    },
    {
     "name": "stdout",
     "output_type": "stream",
     "text": [
      "Clip 108 data saved to: /mnt/d/Flora project/Clips/Dorsal_clips/Output/Botia_lohachata_8_C_R_1_D/Botia_lohachata_8_C_R_1_D_track.csv\n",
      "Clip 109 / Check 4: Processing with stored prompts.\n"
     ]
    },
    {
     "name": "stderr",
     "output_type": "stream",
     "text": [
      "frame loading (JPEG): 100%|██████████| 74/74 [00:03<00:00, 19.11it/s]\n",
      "propagate in video: 100%|██████████| 74/74 [00:40<00:00,  1.83it/s]\n"
     ]
    },
    {
     "name": "stdout",
     "output_type": "stream",
     "text": [
      "Clip 109 data saved to: /mnt/d/Flora project/Clips/Dorsal_clips/Output/Botia_lohachata_8_P_L_1_D/Botia_lohachata_8_P_L_1_D_track.csv\n",
      "Clip 110 / Check 4: Processing with stored prompts.\n"
     ]
    },
    {
     "name": "stderr",
     "output_type": "stream",
     "text": [
      "frame loading (JPEG): 100%|██████████| 106/106 [00:05<00:00, 19.05it/s]\n",
      "propagate in video: 100%|██████████| 106/106 [00:58<00:00,  1.82it/s]\n"
     ]
    },
    {
     "name": "stdout",
     "output_type": "stream",
     "text": [
      "Clip 110 data saved to: /mnt/d/Flora project/Clips/Dorsal_clips/Output/Botia_lohachata_8_P_L_5_D/Botia_lohachata_8_P_L_5_D_track.csv\n",
      "Clip 111 / Check 4: Processing with stored prompts.\n"
     ]
    },
    {
     "name": "stderr",
     "output_type": "stream",
     "text": [
      "frame loading (JPEG): 100%|██████████| 104/104 [00:05<00:00, 19.51it/s]\n",
      "propagate in video: 100%|██████████| 104/104 [00:56<00:00,  1.84it/s]\n"
     ]
    },
    {
     "name": "stdout",
     "output_type": "stream",
     "text": [
      "Clip 111 data saved to: /mnt/d/Flora project/Clips/Dorsal_clips/Output/Botia_lohachata_8_P_L_8_D/Botia_lohachata_8_P_L_8_D_track.csv\n",
      "Clip 112 / Check 4: Processing with stored prompts.\n"
     ]
    },
    {
     "name": "stderr",
     "output_type": "stream",
     "text": [
      "frame loading (JPEG): 100%|██████████| 114/114 [00:05<00:00, 19.50it/s]\n",
      "propagate in video: 100%|██████████| 114/114 [01:02<00:00,  1.83it/s]\n"
     ]
    },
    {
     "name": "stdout",
     "output_type": "stream",
     "text": [
      "Clip 112 data saved to: /mnt/d/Flora project/Clips/Dorsal_clips/Output/Botia_lohachata_8_P_R_2_D/Botia_lohachata_8_P_R_2_D_track.csv\n",
      "Clip 113 / Check 4: Processing with stored prompts.\n"
     ]
    },
    {
     "name": "stderr",
     "output_type": "stream",
     "text": [
      "frame loading (JPEG): 100%|██████████| 151/151 [00:07<00:00, 19.47it/s]\n",
      "propagate in video: 100%|██████████| 151/151 [01:21<00:00,  1.84it/s]\n"
     ]
    },
    {
     "name": "stdout",
     "output_type": "stream",
     "text": [
      "Clip 113 data saved to: /mnt/d/Flora project/Clips/Dorsal_clips/Output/Botia_lohachata_8_P_R_6_D/Botia_lohachata_8_P_R_6_D_track.csv\n",
      "Clip 114 / Check 4: Processing with stored prompts.\n"
     ]
    },
    {
     "name": "stderr",
     "output_type": "stream",
     "text": [
      "frame loading (JPEG): 100%|██████████| 99/99 [00:05<00:00, 19.58it/s]\n",
      "propagate in video: 100%|██████████| 99/99 [00:53<00:00,  1.84it/s]\n"
     ]
    },
    {
     "name": "stdout",
     "output_type": "stream",
     "text": [
      "Clip 114 data saved to: /mnt/d/Flora project/Clips/Dorsal_clips/Output/Botia_lohachata_9_P_L_1_D/Botia_lohachata_9_P_L_1_D_track.csv\n",
      "Clip 115 / Check 4: Processing with stored prompts.\n"
     ]
    },
    {
     "name": "stderr",
     "output_type": "stream",
     "text": [
      "frame loading (JPEG): 100%|██████████| 35/35 [00:01<00:00, 18.56it/s]\n",
      "propagate in video: 100%|██████████| 35/35 [00:18<00:00,  1.87it/s]\n"
     ]
    },
    {
     "name": "stdout",
     "output_type": "stream",
     "text": [
      "Clip 115 data saved to: /mnt/d/Flora project/Clips/Dorsal_clips/Output/Yasuhikotakia_modesta_10_P_L_4_D/Yasuhikotakia_modesta_10_P_L_4_D_track.csv\n",
      "Clip 116 / Check 4: Processing with stored prompts.\n"
     ]
    },
    {
     "name": "stderr",
     "output_type": "stream",
     "text": [
      "frame loading (JPEG): 100%|██████████| 77/77 [00:03<00:00, 20.00it/s]\n",
      "propagate in video: 100%|██████████| 77/77 [00:41<00:00,  1.83it/s]\n"
     ]
    },
    {
     "name": "stdout",
     "output_type": "stream",
     "text": [
      "Clip 116 data saved to: /mnt/d/Flora project/Clips/Dorsal_clips/Output/Yasuhikotakia_modesta_10_P_R_1_D/Yasuhikotakia_modesta_10_P_R_1_D_track.csv\n",
      "Clip 117 / Check 4: Processing with stored prompts.\n"
     ]
    },
    {
     "name": "stderr",
     "output_type": "stream",
     "text": [
      "frame loading (JPEG): 100%|██████████| 19/19 [00:01<00:00, 17.46it/s]\n",
      "propagate in video: 100%|██████████| 19/19 [00:10<00:00,  1.89it/s]\n"
     ]
    },
    {
     "name": "stdout",
     "output_type": "stream",
     "text": [
      "Clip 117 data saved to: /mnt/d/Flora project/Clips/Dorsal_clips/Output/Yasuhikotakia_modesta_10_P_R_5_D/Yasuhikotakia_modesta_10_P_R_5_D_track.csv\n",
      "Clip 118 / Check 4: Processing with stored prompts.\n"
     ]
    },
    {
     "name": "stderr",
     "output_type": "stream",
     "text": [
      "frame loading (JPEG): 100%|██████████| 71/71 [00:03<00:00, 20.38it/s]\n",
      "propagate in video: 100%|██████████| 71/71 [00:38<00:00,  1.85it/s]\n"
     ]
    },
    {
     "name": "stdout",
     "output_type": "stream",
     "text": [
      "Clip 118 data saved to: /mnt/d/Flora project/Clips/Dorsal_clips/Output/Yasuhikotakia_modesta_1_C_R_1_D/Yasuhikotakia_modesta_1_C_R_1_D_track.csv\n",
      "Clip 119 / Check 4: Processing with stored prompts.\n"
     ]
    },
    {
     "name": "stderr",
     "output_type": "stream",
     "text": [
      "frame loading (JPEG): 100%|██████████| 140/140 [00:07<00:00, 18.92it/s]\n",
      "propagate in video: 100%|██████████| 140/140 [01:16<00:00,  1.82it/s]\n"
     ]
    },
    {
     "name": "stdout",
     "output_type": "stream",
     "text": [
      "Clip 119 data saved to: /mnt/d/Flora project/Clips/Dorsal_clips/Output/Yasuhikotakia_modesta_1_C_R_2_D/Yasuhikotakia_modesta_1_C_R_2_D_track.csv\n",
      "Clip 120 / Check 4: Processing with stored prompts.\n"
     ]
    },
    {
     "name": "stderr",
     "output_type": "stream",
     "text": [
      "frame loading (JPEG): 100%|██████████| 217/217 [00:11<00:00, 19.59it/s]\n",
      "propagate in video: 100%|██████████| 217/217 [01:58<00:00,  1.83it/s]\n"
     ]
    },
    {
     "name": "stdout",
     "output_type": "stream",
     "text": [
      "Clip 120 data saved to: /mnt/d/Flora project/Clips/Dorsal_clips/Output/Yasuhikotakia_modesta_1_P_L_2_D/Yasuhikotakia_modesta_1_P_L_2_D_track.csv\n",
      "Clip 121 / Check 4: Processing with stored prompts.\n"
     ]
    },
    {
     "name": "stderr",
     "output_type": "stream",
     "text": [
      "frame loading (JPEG): 100%|██████████| 84/84 [00:04<00:00, 20.03it/s]\n",
      "propagate in video: 100%|██████████| 84/84 [00:45<00:00,  1.85it/s]\n"
     ]
    },
    {
     "name": "stdout",
     "output_type": "stream",
     "text": [
      "Clip 121 data saved to: /mnt/d/Flora project/Clips/Dorsal_clips/Output/Yasuhikotakia_modesta_2_C_L_2_D/Yasuhikotakia_modesta_2_C_L_2_D_track.csv\n",
      "Clip 122 / Check 4: Processing with stored prompts.\n"
     ]
    },
    {
     "name": "stderr",
     "output_type": "stream",
     "text": [
      "frame loading (JPEG): 100%|██████████| 111/111 [00:05<00:00, 19.94it/s]\n",
      "propagate in video: 100%|██████████| 111/111 [01:00<00:00,  1.83it/s]\n"
     ]
    },
    {
     "name": "stdout",
     "output_type": "stream",
     "text": [
      "Clip 122 data saved to: /mnt/d/Flora project/Clips/Dorsal_clips/Output/Yasuhikotakia_modesta_2_C_L_4_D/Yasuhikotakia_modesta_2_C_L_4_D_track.csv\n",
      "Clip 123 / Check 4: Processing with stored prompts.\n"
     ]
    },
    {
     "name": "stderr",
     "output_type": "stream",
     "text": [
      "frame loading (JPEG): 100%|██████████| 52/52 [00:02<00:00, 18.63it/s]\n",
      "propagate in video: 100%|██████████| 52/52 [00:28<00:00,  1.85it/s]\n"
     ]
    },
    {
     "name": "stdout",
     "output_type": "stream",
     "text": [
      "Clip 123 data saved to: /mnt/d/Flora project/Clips/Dorsal_clips/Output/Yasuhikotakia_modesta_2_C_R_1_D/Yasuhikotakia_modesta_2_C_R_1_D_track.csv\n",
      "Clip 124 / Check 4: Processing with stored prompts.\n"
     ]
    },
    {
     "name": "stderr",
     "output_type": "stream",
     "text": [
      "frame loading (JPEG): 100%|██████████| 127/127 [00:06<00:00, 19.01it/s]\n",
      "propagate in video: 100%|██████████| 127/127 [01:08<00:00,  1.86it/s]\n"
     ]
    },
    {
     "name": "stdout",
     "output_type": "stream",
     "text": [
      "Clip 124 data saved to: /mnt/d/Flora project/Clips/Dorsal_clips/Output/Yasuhikotakia_modesta_2_C_R_3_D/Yasuhikotakia_modesta_2_C_R_3_D_track.csv\n",
      "Clip 125 / Check 4: Processing with stored prompts.\n"
     ]
    },
    {
     "name": "stderr",
     "output_type": "stream",
     "text": [
      "frame loading (JPEG): 100%|██████████| 73/73 [00:03<00:00, 19.79it/s]\n",
      "propagate in video: 100%|██████████| 73/73 [00:39<00:00,  1.85it/s]\n"
     ]
    },
    {
     "name": "stdout",
     "output_type": "stream",
     "text": [
      "Clip 125 data saved to: /mnt/d/Flora project/Clips/Dorsal_clips/Output/Yasuhikotakia_modesta_3_C_L_3_D/Yasuhikotakia_modesta_3_C_L_3_D_track.csv\n",
      "Clip 126 / Check 4: Processing with stored prompts.\n"
     ]
    },
    {
     "name": "stderr",
     "output_type": "stream",
     "text": [
      "frame loading (JPEG): 100%|██████████| 210/210 [00:11<00:00, 18.95it/s]\n",
      "propagate in video: 100%|██████████| 210/210 [01:55<00:00,  1.82it/s]\n"
     ]
    },
    {
     "name": "stdout",
     "output_type": "stream",
     "text": [
      "Clip 126 data saved to: /mnt/d/Flora project/Clips/Dorsal_clips/Output/Yasuhikotakia_modesta_3_C_R_1_D/Yasuhikotakia_modesta_3_C_R_1_D_track.csv\n",
      "Clip 127 / Check 4: Processing with stored prompts.\n"
     ]
    },
    {
     "name": "stderr",
     "output_type": "stream",
     "text": [
      "frame loading (JPEG): 100%|██████████| 199/199 [00:10<00:00, 19.42it/s]\n",
      "propagate in video: 100%|██████████| 199/199 [01:49<00:00,  1.82it/s]\n"
     ]
    },
    {
     "name": "stdout",
     "output_type": "stream",
     "text": [
      "Clip 127 data saved to: /mnt/d/Flora project/Clips/Dorsal_clips/Output/Yasuhikotakia_modesta_3_C_R_2_D/Yasuhikotakia_modesta_3_C_R_2_D_track.csv\n",
      "Clip 128 / Check 4: Processing with stored prompts.\n"
     ]
    },
    {
     "name": "stderr",
     "output_type": "stream",
     "text": [
      "frame loading (JPEG): 100%|██████████| 140/140 [00:07<00:00, 19.86it/s]\n",
      "propagate in video: 100%|██████████| 140/140 [01:17<00:00,  1.81it/s]\n"
     ]
    },
    {
     "name": "stdout",
     "output_type": "stream",
     "text": [
      "Clip 128 data saved to: /mnt/d/Flora project/Clips/Dorsal_clips/Output/Yasuhikotakia_modesta_3_C_R_4_D/Yasuhikotakia_modesta_3_C_R_4_D_track.csv\n",
      "Clip 129 / Check 4: Processing with stored prompts.\n"
     ]
    },
    {
     "name": "stderr",
     "output_type": "stream",
     "text": [
      "frame loading (JPEG): 100%|██████████| 105/105 [00:05<00:00, 19.63it/s]\n",
      "propagate in video: 100%|██████████| 105/105 [00:57<00:00,  1.84it/s]\n"
     ]
    },
    {
     "name": "stdout",
     "output_type": "stream",
     "text": [
      "Clip 129 data saved to: /mnt/d/Flora project/Clips/Dorsal_clips/Output/Yasuhikotakia_modesta_3_P_L_3_D/Yasuhikotakia_modesta_3_P_L_3_D_track.csv\n",
      "Clip 130 / Check 4: Processing with stored prompts.\n"
     ]
    },
    {
     "name": "stderr",
     "output_type": "stream",
     "text": [
      "frame loading (JPEG): 100%|██████████| 187/187 [00:10<00:00, 18.13it/s]\n",
      "propagate in video: 100%|██████████| 187/187 [01:42<00:00,  1.82it/s]\n"
     ]
    },
    {
     "name": "stdout",
     "output_type": "stream",
     "text": [
      "Clip 130 data saved to: /mnt/d/Flora project/Clips/Dorsal_clips/Output/Yasuhikotakia_modesta_3_P_R_1_D/Yasuhikotakia_modesta_3_P_R_1_D_track.csv\n",
      "Clip 131 / Check 4: Processing with stored prompts.\n"
     ]
    },
    {
     "name": "stderr",
     "output_type": "stream",
     "text": [
      "frame loading (JPEG): 100%|██████████| 126/126 [00:06<00:00, 18.24it/s]\n",
      "propagate in video: 100%|██████████| 126/126 [01:08<00:00,  1.83it/s]\n"
     ]
    },
    {
     "name": "stdout",
     "output_type": "stream",
     "text": [
      "Clip 131 data saved to: /mnt/d/Flora project/Clips/Dorsal_clips/Output/Yasuhikotakia_modesta_3_P_R_2_D/Yasuhikotakia_modesta_3_P_R_2_D_track.csv\n",
      "Clip 132 / Check 4: Processing with stored prompts.\n"
     ]
    },
    {
     "name": "stderr",
     "output_type": "stream",
     "text": [
      "frame loading (JPEG): 100%|██████████| 186/186 [00:09<00:00, 19.66it/s]\n",
      "propagate in video: 100%|██████████| 186/186 [01:41<00:00,  1.84it/s]\n"
     ]
    },
    {
     "name": "stdout",
     "output_type": "stream",
     "text": [
      "Clip 132 data saved to: /mnt/d/Flora project/Clips/Dorsal_clips/Output/Yasuhikotakia_modesta_3_P_R_4_D/Yasuhikotakia_modesta_3_P_R_4_D_track.csv\n",
      "Clip 133 / Check 4: Processing with stored prompts.\n"
     ]
    },
    {
     "name": "stderr",
     "output_type": "stream",
     "text": [
      "frame loading (JPEG): 100%|██████████| 221/221 [00:11<00:00, 19.11it/s]\n",
      "propagate in video: 100%|██████████| 221/221 [02:01<00:00,  1.82it/s]\n"
     ]
    },
    {
     "name": "stdout",
     "output_type": "stream",
     "text": [
      "Clip 133 data saved to: /mnt/d/Flora project/Clips/Dorsal_clips/Output/Yasuhikotakia_modesta_4_C_L_3_D/Yasuhikotakia_modesta_4_C_L_3_D_track.csv\n",
      "Clip 134 / Check 4: Processing with stored prompts.\n"
     ]
    },
    {
     "name": "stderr",
     "output_type": "stream",
     "text": [
      "frame loading (JPEG): 100%|██████████| 59/59 [00:03<00:00, 19.55it/s]\n",
      "propagate in video: 100%|██████████| 59/59 [00:31<00:00,  1.85it/s]\n"
     ]
    },
    {
     "name": "stdout",
     "output_type": "stream",
     "text": [
      "Clip 134 data saved to: /mnt/d/Flora project/Clips/Dorsal_clips/Output/Yasuhikotakia_modesta_4_C_L_4_D/Yasuhikotakia_modesta_4_C_L_4_D_track.csv\n",
      "Clip 135 / Check 4: Processing with stored prompts.\n"
     ]
    },
    {
     "name": "stderr",
     "output_type": "stream",
     "text": [
      "frame loading (JPEG): 100%|██████████| 163/163 [00:08<00:00, 19.35it/s]\n",
      "propagate in video: 100%|██████████| 163/163 [01:28<00:00,  1.84it/s]\n"
     ]
    },
    {
     "name": "stdout",
     "output_type": "stream",
     "text": [
      "Clip 135 data saved to: /mnt/d/Flora project/Clips/Dorsal_clips/Output/Yasuhikotakia_modesta_4_C_L_6_D/Yasuhikotakia_modesta_4_C_L_6_D_track.csv\n",
      "Clip 136 / Check 4: Processing with stored prompts.\n"
     ]
    },
    {
     "name": "stderr",
     "output_type": "stream",
     "text": [
      "frame loading (JPEG): 100%|██████████| 107/107 [00:05<00:00, 20.23it/s]\n",
      "propagate in video: 100%|██████████| 107/107 [00:57<00:00,  1.85it/s]\n"
     ]
    },
    {
     "name": "stdout",
     "output_type": "stream",
     "text": [
      "Clip 136 data saved to: /mnt/d/Flora project/Clips/Dorsal_clips/Output/Yasuhikotakia_modesta_4_C_R_1_D/Yasuhikotakia_modesta_4_C_R_1_D_track.csv\n",
      "Clip 137 / Check 4: Processing with stored prompts.\n"
     ]
    },
    {
     "name": "stderr",
     "output_type": "stream",
     "text": [
      "frame loading (JPEG): 100%|██████████| 141/141 [00:07<00:00, 19.19it/s]\n",
      "propagate in video: 100%|██████████| 141/141 [01:17<00:00,  1.82it/s]\n"
     ]
    },
    {
     "name": "stdout",
     "output_type": "stream",
     "text": [
      "Clip 137 data saved to: /mnt/d/Flora project/Clips/Dorsal_clips/Output/Yasuhikotakia_modesta_4_C_R_2_D/Yasuhikotakia_modesta_4_C_R_2_D_track.csv\n",
      "Clip 138 / Check 4: Processing with stored prompts.\n"
     ]
    },
    {
     "name": "stderr",
     "output_type": "stream",
     "text": [
      "frame loading (JPEG): 100%|██████████| 383/383 [00:20<00:00, 18.61it/s]\n",
      "propagate in video: 100%|██████████| 383/383 [03:29<00:00,  1.83it/s]\n"
     ]
    },
    {
     "name": "stdout",
     "output_type": "stream",
     "text": [
      "Clip 138 data saved to: /mnt/d/Flora project/Clips/Dorsal_clips/Output/Yasuhikotakia_modesta_4_C_R_5_D/Yasuhikotakia_modesta_4_C_R_5_D_track.csv\n",
      "Clip 139 / Check 4: Processing with stored prompts.\n"
     ]
    },
    {
     "name": "stderr",
     "output_type": "stream",
     "text": [
      "frame loading (JPEG): 100%|██████████| 217/217 [00:10<00:00, 19.75it/s]\n",
      "propagate in video: 100%|██████████| 217/217 [01:59<00:00,  1.82it/s]\n"
     ]
    },
    {
     "name": "stdout",
     "output_type": "stream",
     "text": [
      "Clip 139 data saved to: /mnt/d/Flora project/Clips/Dorsal_clips/Output/Yasuhikotakia_modesta_4_P_R_2_D/Yasuhikotakia_modesta_4_P_R_2_D_track.csv\n",
      "Clip 140 / Check 4: Processing with stored prompts.\n"
     ]
    },
    {
     "name": "stderr",
     "output_type": "stream",
     "text": [
      "frame loading (JPEG): 100%|██████████| 90/90 [00:04<00:00, 19.49it/s]\n",
      "propagate in video: 100%|██████████| 90/90 [00:48<00:00,  1.85it/s]\n"
     ]
    },
    {
     "name": "stdout",
     "output_type": "stream",
     "text": [
      "Clip 140 data saved to: /mnt/d/Flora project/Clips/Dorsal_clips/Output/Yasuhikotakia_modesta_4_P_R_5_D/Yasuhikotakia_modesta_4_P_R_5_D_track.csv\n",
      "Clip 141 / Check 4: Processing with stored prompts.\n"
     ]
    },
    {
     "name": "stderr",
     "output_type": "stream",
     "text": [
      "frame loading (JPEG): 100%|██████████| 63/63 [00:03<00:00, 19.87it/s]\n",
      "propagate in video: 100%|██████████| 63/63 [00:33<00:00,  1.85it/s]\n"
     ]
    },
    {
     "name": "stdout",
     "output_type": "stream",
     "text": [
      "Clip 141 data saved to: /mnt/d/Flora project/Clips/Dorsal_clips/Output/Yasuhikotakia_modesta_5_C_L_1_D/Yasuhikotakia_modesta_5_C_L_1_D_track.csv\n",
      "Clip 142 / Check 4: Processing with stored prompts.\n"
     ]
    },
    {
     "name": "stderr",
     "output_type": "stream",
     "text": [
      "frame loading (JPEG): 100%|██████████| 400/400 [00:21<00:00, 18.85it/s]\n",
      "propagate in video: 100%|██████████| 400/400 [03:39<00:00,  1.82it/s]\n"
     ]
    },
    {
     "name": "stdout",
     "output_type": "stream",
     "text": [
      "Clip 142 data saved to: /mnt/d/Flora project/Clips/Dorsal_clips/Output/Yasuhikotakia_modesta_5_C_L_2_D/Yasuhikotakia_modesta_5_C_L_2_D_track.csv\n",
      "Clip 143 / Check 4: Processing with stored prompts.\n"
     ]
    },
    {
     "name": "stderr",
     "output_type": "stream",
     "text": [
      "frame loading (JPEG): 100%|██████████| 94/94 [00:04<00:00, 21.10it/s]\n",
      "propagate in video: 100%|██████████| 94/94 [00:51<00:00,  1.82it/s]\n"
     ]
    },
    {
     "name": "stdout",
     "output_type": "stream",
     "text": [
      "Clip 143 data saved to: /mnt/d/Flora project/Clips/Dorsal_clips/Output/Yasuhikotakia_modesta_5_C_R_3_D/Yasuhikotakia_modesta_5_C_R_3_D_track.csv\n",
      "Clip 144 / Check 4: Processing with stored prompts.\n"
     ]
    },
    {
     "name": "stderr",
     "output_type": "stream",
     "text": [
      "frame loading (JPEG): 100%|██████████| 152/152 [00:07<00:00, 19.96it/s]\n",
      "propagate in video: 100%|██████████| 152/152 [01:22<00:00,  1.84it/s]\n"
     ]
    },
    {
     "name": "stdout",
     "output_type": "stream",
     "text": [
      "Clip 144 data saved to: /mnt/d/Flora project/Clips/Dorsal_clips/Output/Yasuhikotakia_modesta_5_P_R_1_D/Yasuhikotakia_modesta_5_P_R_1_D_track.csv\n",
      "Clip 145 / Check 4: Processing with stored prompts.\n"
     ]
    },
    {
     "name": "stderr",
     "output_type": "stream",
     "text": [
      "frame loading (JPEG): 100%|██████████| 113/113 [00:05<00:00, 19.50it/s]\n",
      "propagate in video: 100%|██████████| 113/113 [01:01<00:00,  1.84it/s]\n"
     ]
    },
    {
     "name": "stdout",
     "output_type": "stream",
     "text": [
      "Clip 145 data saved to: /mnt/d/Flora project/Clips/Dorsal_clips/Output/Yasuhikotakia_modesta_5_P_R_3_D/Yasuhikotakia_modesta_5_P_R_3_D_track.csv\n",
      "Clip 146 / Check 4: Processing with stored prompts.\n"
     ]
    },
    {
     "name": "stderr",
     "output_type": "stream",
     "text": [
      "frame loading (JPEG): 100%|██████████| 126/126 [00:06<00:00, 19.61it/s]\n",
      "propagate in video: 100%|██████████| 126/126 [01:08<00:00,  1.84it/s]\n"
     ]
    },
    {
     "name": "stdout",
     "output_type": "stream",
     "text": [
      "Clip 146 data saved to: /mnt/d/Flora project/Clips/Dorsal_clips/Output/Yasuhikotakia_modesta_5_P_R_6_D/Yasuhikotakia_modesta_5_P_R_6_D_track.csv\n",
      "Clip 147 / Check 4: Processing with stored prompts.\n"
     ]
    },
    {
     "name": "stderr",
     "output_type": "stream",
     "text": [
      "frame loading (JPEG): 100%|██████████| 172/172 [00:09<00:00, 18.90it/s]\n",
      "propagate in video: 100%|██████████| 172/172 [01:34<00:00,  1.83it/s]\n"
     ]
    },
    {
     "name": "stdout",
     "output_type": "stream",
     "text": [
      "Clip 147 data saved to: /mnt/d/Flora project/Clips/Dorsal_clips/Output/Yasuhikotakia_modesta_5_P_R_7_D/Yasuhikotakia_modesta_5_P_R_7_D_track.csv\n",
      "Clip 148 / Check 4: Processing with stored prompts.\n"
     ]
    },
    {
     "name": "stderr",
     "output_type": "stream",
     "text": [
      "frame loading (JPEG): 100%|██████████| 86/86 [00:04<00:00, 20.03it/s]\n",
      "propagate in video: 100%|██████████| 86/86 [00:46<00:00,  1.83it/s]\n"
     ]
    },
    {
     "name": "stdout",
     "output_type": "stream",
     "text": [
      "Clip 148 data saved to: /mnt/d/Flora project/Clips/Dorsal_clips/Output/Yasuhikotakia_modesta_6_C_R_3_D/Yasuhikotakia_modesta_6_C_R_3_D_track.csv\n",
      "Clip 149 / Check 4: Processing with stored prompts.\n"
     ]
    },
    {
     "name": "stderr",
     "output_type": "stream",
     "text": [
      "frame loading (JPEG): 100%|██████████| 176/176 [00:09<00:00, 18.52it/s]\n",
      "propagate in video: 100%|██████████| 176/176 [01:35<00:00,  1.84it/s]\n"
     ]
    },
    {
     "name": "stdout",
     "output_type": "stream",
     "text": [
      "Clip 149 data saved to: /mnt/d/Flora project/Clips/Dorsal_clips/Output/Yasuhikotakia_modesta_6_P_L_2_D/Yasuhikotakia_modesta_6_P_L_2_D_track.csv\n",
      "Clip 150 / Check 4: Processing with stored prompts.\n"
     ]
    },
    {
     "name": "stderr",
     "output_type": "stream",
     "text": [
      "frame loading (JPEG): 100%|██████████| 67/67 [00:03<00:00, 18.63it/s]\n",
      "propagate in video: 100%|██████████| 67/67 [00:36<00:00,  1.84it/s]\n"
     ]
    },
    {
     "name": "stdout",
     "output_type": "stream",
     "text": [
      "Clip 150 data saved to: /mnt/d/Flora project/Clips/Dorsal_clips/Output/Yasuhikotakia_modesta_6_P_L_6_D/Yasuhikotakia_modesta_6_P_L_6_D_track.csv\n",
      "Clip 151 / Check 4: Processing with stored prompts.\n"
     ]
    },
    {
     "name": "stderr",
     "output_type": "stream",
     "text": [
      "frame loading (JPEG): 100%|██████████| 194/194 [00:10<00:00, 18.49it/s]\n",
      "propagate in video: 100%|██████████| 194/194 [01:46<00:00,  1.83it/s]\n"
     ]
    },
    {
     "name": "stdout",
     "output_type": "stream",
     "text": [
      "Clip 151 data saved to: /mnt/d/Flora project/Clips/Dorsal_clips/Output/Yasuhikotakia_modesta_6_P_R_3_D/Yasuhikotakia_modesta_6_P_R_3_D_track.csv\n",
      "Clip 152 / Check 4: Processing with stored prompts.\n"
     ]
    },
    {
     "name": "stderr",
     "output_type": "stream",
     "text": [
      "frame loading (JPEG): 100%|██████████| 77/77 [00:04<00:00, 18.38it/s]\n",
      "propagate in video: 100%|██████████| 77/77 [00:41<00:00,  1.84it/s]\n"
     ]
    },
    {
     "name": "stdout",
     "output_type": "stream",
     "text": [
      "Clip 152 data saved to: /mnt/d/Flora project/Clips/Dorsal_clips/Output/Yasuhikotakia_modesta_6_P_R_5_D/Yasuhikotakia_modesta_6_P_R_5_D_track.csv\n",
      "Clip 153 / Check 4: Processing with stored prompts.\n"
     ]
    },
    {
     "name": "stderr",
     "output_type": "stream",
     "text": [
      "frame loading (JPEG): 100%|██████████| 138/138 [00:07<00:00, 18.95it/s]\n",
      "propagate in video: 100%|██████████| 138/138 [01:14<00:00,  1.85it/s]\n"
     ]
    },
    {
     "name": "stdout",
     "output_type": "stream",
     "text": [
      "Clip 153 data saved to: /mnt/d/Flora project/Clips/Dorsal_clips/Output/Yasuhikotakia_modesta_7_C_L_1_D/Yasuhikotakia_modesta_7_C_L_1_D_track.csv\n",
      "Clip 154 / Check 4: Processing with stored prompts.\n"
     ]
    },
    {
     "name": "stderr",
     "output_type": "stream",
     "text": [
      "frame loading (JPEG): 100%|██████████| 113/113 [00:06<00:00, 18.76it/s]\n",
      "propagate in video: 100%|██████████| 113/113 [01:01<00:00,  1.84it/s]\n"
     ]
    },
    {
     "name": "stdout",
     "output_type": "stream",
     "text": [
      "Clip 154 data saved to: /mnt/d/Flora project/Clips/Dorsal_clips/Output/Yasuhikotakia_modesta_7_P_L_2_D/Yasuhikotakia_modesta_7_P_L_2_D_track.csv\n",
      "Clip 155 / Check 4: Processing with stored prompts.\n"
     ]
    },
    {
     "name": "stderr",
     "output_type": "stream",
     "text": [
      "frame loading (JPEG): 100%|██████████| 172/172 [00:09<00:00, 18.76it/s]\n",
      "propagate in video: 100%|██████████| 172/172 [01:33<00:00,  1.84it/s]\n"
     ]
    },
    {
     "name": "stdout",
     "output_type": "stream",
     "text": [
      "Clip 155 data saved to: /mnt/d/Flora project/Clips/Dorsal_clips/Output/Yasuhikotakia_modesta_7_P_L_4_D/Yasuhikotakia_modesta_7_P_L_4_D_track.csv\n",
      "Clip 156 / Check 4: Processing with stored prompts.\n"
     ]
    },
    {
     "name": "stderr",
     "output_type": "stream",
     "text": [
      "frame loading (JPEG): 100%|██████████| 40/40 [00:01<00:00, 20.89it/s]\n",
      "propagate in video: 100%|██████████| 40/40 [00:21<00:00,  1.84it/s]\n"
     ]
    },
    {
     "name": "stdout",
     "output_type": "stream",
     "text": [
      "Clip 156 data saved to: /mnt/d/Flora project/Clips/Dorsal_clips/Output/Yasuhikotakia_modesta_7_P_R_1_D/Yasuhikotakia_modesta_7_P_R_1_D_track.csv\n",
      "Clip 157 / Check 4: Processing with stored prompts.\n"
     ]
    },
    {
     "name": "stderr",
     "output_type": "stream",
     "text": [
      "frame loading (JPEG): 100%|██████████| 67/67 [00:03<00:00, 19.99it/s]\n",
      "propagate in video: 100%|██████████| 67/67 [00:36<00:00,  1.85it/s]\n"
     ]
    },
    {
     "name": "stdout",
     "output_type": "stream",
     "text": [
      "Clip 157 data saved to: /mnt/d/Flora project/Clips/Dorsal_clips/Output/Yasuhikotakia_modesta_7_P_R_3_D/Yasuhikotakia_modesta_7_P_R_3_D_track.csv\n",
      "Clip 158 / Check 4: Processing with stored prompts.\n"
     ]
    },
    {
     "name": "stderr",
     "output_type": "stream",
     "text": [
      "frame loading (JPEG): 100%|██████████| 144/144 [00:07<00:00, 18.70it/s]\n",
      "propagate in video: 100%|██████████| 144/144 [01:18<00:00,  1.83it/s]\n"
     ]
    },
    {
     "name": "stdout",
     "output_type": "stream",
     "text": [
      "Clip 158 data saved to: /mnt/d/Flora project/Clips/Dorsal_clips/Output/Yasuhikotakia_modesta_8_C_L_4_D/Yasuhikotakia_modesta_8_C_L_4_D_track.csv\n",
      "Clip 159 / Check 4: Processing with stored prompts.\n"
     ]
    },
    {
     "name": "stderr",
     "output_type": "stream",
     "text": [
      "frame loading (JPEG): 100%|██████████| 183/183 [00:09<00:00, 18.43it/s]\n",
      "propagate in video: 100%|██████████| 183/183 [01:39<00:00,  1.83it/s]\n"
     ]
    },
    {
     "name": "stdout",
     "output_type": "stream",
     "text": [
      "Clip 159 data saved to: /mnt/d/Flora project/Clips/Dorsal_clips/Output/Yasuhikotakia_modesta_8_C_L_6_D/Yasuhikotakia_modesta_8_C_L_6_D_track.csv\n",
      "Clip 160 / Check 4: Processing with stored prompts.\n"
     ]
    },
    {
     "name": "stderr",
     "output_type": "stream",
     "text": [
      "frame loading (JPEG): 100%|██████████| 99/99 [00:05<00:00, 19.35it/s]\n",
      "propagate in video: 100%|██████████| 99/99 [00:53<00:00,  1.83it/s]\n"
     ]
    },
    {
     "name": "stdout",
     "output_type": "stream",
     "text": [
      "Clip 160 data saved to: /mnt/d/Flora project/Clips/Dorsal_clips/Output/Yasuhikotakia_modesta_8_C_R_3_D/Yasuhikotakia_modesta_8_C_R_3_D_track.csv\n",
      "Clip 161 / Check 4: Processing with stored prompts.\n"
     ]
    },
    {
     "name": "stderr",
     "output_type": "stream",
     "text": [
      "frame loading (JPEG): 100%|██████████| 54/54 [00:02<00:00, 18.75it/s]\n",
      "propagate in video: 100%|██████████| 54/54 [00:29<00:00,  1.84it/s]\n"
     ]
    },
    {
     "name": "stdout",
     "output_type": "stream",
     "text": [
      "Clip 161 data saved to: /mnt/d/Flora project/Clips/Dorsal_clips/Output/Yasuhikotakia_modesta_8_P_L_2_D/Yasuhikotakia_modesta_8_P_L_2_D_track.csv\n",
      "Clip 162 / Check 4: Processing with stored prompts.\n"
     ]
    },
    {
     "name": "stderr",
     "output_type": "stream",
     "text": [
      "frame loading (JPEG): 100%|██████████| 231/231 [00:12<00:00, 18.50it/s]\n",
      "propagate in video: 100%|██████████| 231/231 [02:06<00:00,  1.83it/s]\n"
     ]
    },
    {
     "name": "stdout",
     "output_type": "stream",
     "text": [
      "Clip 162 data saved to: /mnt/d/Flora project/Clips/Dorsal_clips/Output/Yasuhikotakia_modesta_8_P_L_5_D/Yasuhikotakia_modesta_8_P_L_5_D_track.csv\n",
      "Clip 163 / Check 4: Processing with stored prompts.\n"
     ]
    },
    {
     "name": "stderr",
     "output_type": "stream",
     "text": [
      "frame loading (JPEG): 100%|██████████| 56/56 [00:03<00:00, 17.83it/s]\n",
      "propagate in video: 100%|██████████| 56/56 [00:30<00:00,  1.83it/s]\n"
     ]
    },
    {
     "name": "stdout",
     "output_type": "stream",
     "text": [
      "Clip 163 data saved to: /mnt/d/Flora project/Clips/Dorsal_clips/Output/Yasuhikotakia_modesta_8_P_L_8_D/Yasuhikotakia_modesta_8_P_L_8_D_track.csv\n",
      "Clip 164 / Check 4: Processing with stored prompts.\n"
     ]
    },
    {
     "name": "stderr",
     "output_type": "stream",
     "text": [
      "frame loading (JPEG): 100%|██████████| 69/69 [00:03<00:00, 20.08it/s]\n",
      "propagate in video: 100%|██████████| 69/69 [00:37<00:00,  1.85it/s]\n"
     ]
    },
    {
     "name": "stdout",
     "output_type": "stream",
     "text": [
      "Clip 164 data saved to: /mnt/d/Flora project/Clips/Dorsal_clips/Output/Yasuhikotakia_modesta_8_P_R_7_D/Yasuhikotakia_modesta_8_P_R_7_D_track.csv\n",
      "Clip 165 / Check 4: Processing with stored prompts.\n"
     ]
    },
    {
     "name": "stderr",
     "output_type": "stream",
     "text": [
      "frame loading (JPEG): 100%|██████████| 140/140 [00:07<00:00, 19.22it/s]\n",
      "propagate in video: 100%|██████████| 140/140 [01:15<00:00,  1.85it/s]\n"
     ]
    },
    {
     "name": "stdout",
     "output_type": "stream",
     "text": [
      "Clip 165 data saved to: /mnt/d/Flora project/Clips/Dorsal_clips/Output/Yasuhikotakia_modesta_8_P_R_9_D/Yasuhikotakia_modesta_8_P_R_9_D_track.csv\n",
      "Clip 166 / Check 4: Processing with stored prompts.\n"
     ]
    },
    {
     "name": "stderr",
     "output_type": "stream",
     "text": [
      "frame loading (JPEG): 100%|██████████| 81/81 [00:04<00:00, 19.28it/s]\n",
      "propagate in video: 100%|██████████| 81/81 [00:43<00:00,  1.84it/s]"
     ]
    },
    {
     "name": "stdout",
     "output_type": "stream",
     "text": [
      "Clip 166 data saved to: /mnt/d/Flora project/Clips/Dorsal_clips/Output/Yasuhikotakia_modesta_9_P_L_4_D/Yasuhikotakia_modesta_9_P_L_4_D_track.csv\n",
      "All clips processed.\n",
      "Combined tracking data saved to: /mnt/d/Flora project/Clips/Dorsal_clips/Output/Tracks.csv\n"
     ]
    },
    {
     "name": "stderr",
     "output_type": "stream",
     "text": [
      "\n"
     ]
    }
   ],
   "source": [
    "import os\n",
    "import gc\n",
    "import json\n",
    "import numpy as np\n",
    "import pandas as pd\n",
    "\n",
    "%matplotlib tk\n",
    "\n",
    "# Path to store prompt points and labels\n",
    "prompt_save_path = os.path.join(dstdir, \"prompt_data.json\")\n",
    "\n",
    "# Initialize an empty list to store tracking data across all clips\n",
    "track_coords = []\n",
    "prompt_data = {}\n",
    "\n",
    "### **PASS 1: Collect Prompt Points & Labels**\n",
    "for i, clip_name in enumerate(clips):\n",
    "    clip_dir = clip_directories[i]  \n",
    "    clip_frames = frame_names[i]\n",
    "    first_frame = clip_frames[0]  \n",
    "    clip_num = i + 1\n",
    "\n",
    "    print(f\"Clip {clip_num} / Check 1: New Clip Started\")\n",
    "\n",
    "    ### Step 1: Initiate Inference State\n",
    "    inference_state = predictor.init_state(video_path=clip_dir)\n",
    "    print(f\"Clip {clip_num} / Check 2: Inference State Initiated\")\n",
    "\n",
    "    ### Step 2: Give Prompt on First Frame\n",
    "    prompt_pts, prompt_labs = give_prompt(\n",
    "        clip_dir=clip_dir,\n",
    "        frame_name=first_frame,\n",
    "        predictor=predictor,\n",
    "        inference_state=inference_state,\n",
    "        obj_id=1\n",
    "    )\n",
    "    \n",
    "    # Convert numpy arrays to lists for JSON serialization\n",
    "    prompt_data[clip_name] = {\n",
    "        \"prompt_pts\": prompt_pts.tolist(),\n",
    "        \"prompt_labs\": prompt_labs.tolist()\n",
    "    }\n",
    "\n",
    "    print(f\"Clip {clip_num} / Check 3: Prompt saved - points: {prompt_pts.shape}, labels: {prompt_labs.shape}\")\n",
    "\n",
    "    ### Step 3: Reset and clear memory\n",
    "    gc.collect()\n",
    "    predictor.reset_state(inference_state) \n",
    "    plt.close(\"all\")\n",
    "\n",
    "# Save prompt data\n",
    "with open(prompt_save_path, \"w\") as f:\n",
    "    json.dump(prompt_data, f)\n",
    "\n",
    "print(\"Prompt data saved for all clips.\")\n",
    "\n",
    "\n",
    "### **PASS 2: Process Clips Using Stored Prompts**\n",
    "for i, clip_name in enumerate(clips):\n",
    "    clip_dir = clip_directories[i]  \n",
    "    clip_frames = frame_names[i]\n",
    "    output_dir = out_directories[i]\n",
    "    clip_num = i + 1\n",
    "\n",
    "    print(f\"Clip {clip_num} / Check 4: Processing with stored prompts.\")\n",
    "\n",
    "    ### Step 1: Reload Prompt Data\n",
    "    prompt_pts = np.array(prompt_data[clip_name][\"prompt_pts\"], dtype=np.float32)\n",
    "    prompt_labs = np.array(prompt_data[clip_name][\"prompt_labs\"], np.int32)\n",
    "    obj_id = 1\n",
    "\n",
    "    ### Step 2: Initiate Inference State\n",
    "    inference_state = predictor.init_state(video_path=clip_dir)\n",
    "\n",
    "    _, out_obj_ids, out_mask_logits = predictor.add_new_points_or_box(\n",
    "    inference_state=inference_state,\n",
    "    frame_idx=0,\n",
    "    obj_id=obj_id,\n",
    "    points=prompt_pts,\n",
    "    labels=prompt_labs,\n",
    ")\n",
    "\n",
    "    ### Step 3: Propagate Mask Through Clip\n",
    "    clip_track = []  \n",
    "\n",
    "    for out_frame_idx, out_obj_ids, out_mask_logits in predictor.propagate_in_video(\n",
    "        inference_state\n",
    "    ):\n",
    "        frame_num = clip_frames[out_frame_idx]\n",
    "        mask_data = out_mask_logits[0] > 0.0 if out_obj_ids else None\n",
    "        \n",
    "        if mask_data is not None and np.any(mask_data.cpu().numpy()):\n",
    "            mask_array = mask_data.cpu().numpy()\n",
    "\n",
    "            # Ensure mask_array is 2D\n",
    "            if mask_array.ndim > 2:\n",
    "                mask_array = np.squeeze(mask_array)\n",
    "\n",
    "            if mask_array.ndim != 2:\n",
    "                raise ValueError(f\"Unexpected mask shape: {mask_array.shape}\")\n",
    "\n",
    "            y_indices, x_indices = np.where(mask_array)\n",
    "            center_x, center_y = round(np.mean(x_indices)), round(np.mean(y_indices))\n",
    "\n",
    "            mask_filename = f\"{clip_name}_frame_{frame_num}_mask.csv\"\n",
    "            mask_path = os.path.join(output_dir, mask_filename)\n",
    "            np.savetxt(mask_path, mask_array, delimiter=\",\", fmt=\"%d\")\n",
    "        else:\n",
    "            center_x, center_y = None, None\n",
    "\n",
    "        clip_track.append((frame_num, center_x, center_y))\n",
    "\n",
    "    # Convert clip-specific tracking data to DataFrame & save it as csv\n",
    "    clip_track_df = pd.DataFrame(clip_track, columns=['frame', 'x', 'y'])\n",
    "    clip_csv_path = os.path.join(output_dir, f\"{clip_name}_track.csv\")\n",
    "    clip_track_df.to_csv(clip_csv_path, index=False)\n",
    "\n",
    "    # Append to global tracking dataset\n",
    "    for row in clip_track:\n",
    "        track_coords.append((clip_name, *row))\n",
    "\n",
    "    print(f\"Clip {clip_num} data saved to: {clip_csv_path}\")\n",
    "\n",
    "    ### Step 4: Reset and clear memory\n",
    "    gc.collect()\n",
    "    predictor.reset_state(inference_state) \n",
    "\n",
    "print(\"All clips processed.\")\n",
    "\n",
    "### FINAL STEP: Save the combined tracking data\n",
    "track_coords_df = pd.DataFrame(track_coords, columns=['clip', 'frame', 'x', 'y'])\n",
    "combined_csv_path = os.path.join(dstdir, \"Tracks.csv\")\n",
    "track_coords_df.to_csv(combined_csv_path, index=False)\n",
    "\n",
    "print(\"Combined tracking data saved to:\", combined_csv_path)\n"
   ]
  },
  {
   "cell_type": "markdown",
   "id": "62a30977",
   "metadata": {},
   "source": [
    "## Old/Basic loops & Extra code\n",
    "\n",
    "separating dorsal and lateral\n",
    "different tasks"
   ]
  },
  {
   "cell_type": "markdown",
   "id": "ba9932f1",
   "metadata": {},
   "source": [
    "### Loop for dorsal clips"
   ]
  },
  {
   "cell_type": "code",
   "execution_count": null,
   "id": "f599eb04",
   "metadata": {},
   "outputs": [],
   "source": [
    "%matplotlib tk\n",
    "\n",
    "# Initialize an empty list to store tracking data across all clips\n",
    "track_coords = []\n",
    "\n",
    "for i, clip_name in enumerate(clips):\n",
    "    clip_dir = clip_directories[i]  \n",
    "    clip_frames = frame_names[i]\n",
    "    frame_name = clip_frames[0]  \n",
    "    clip_num = i + 1\n",
    "    output_dir = out_directories[i]\n",
    "\n",
    "    print(f\"Clip {clip_num} / Check 1: New Clip Started\")\n",
    "\n",
    "    ### Step 1: Initiate Inference State\n",
    "    inference_state = predictor.init_state(video_path=clip_dir)\n",
    "    print(f\"Clip {clip_num} / Check 2: Inference State Initiated\")\n",
    "\n",
    "    ### Step 2: Give Prompt on First Frame\n",
    "    prompt_pts, prompt_labs = give_prompt(\n",
    "        clip_dir=clip_dir,\n",
    "        frame_name=frame_name,\n",
    "        predictor=predictor,\n",
    "        inference_state=inference_state,\n",
    "        obj_id=1\n",
    "    )\n",
    "    print(f\"Clip {clip_num} / Check 3: Prompt given - points: {prompt_pts}, labels: {prompt_labs}\")\n",
    "\n",
    "    ### Step 3: Propagate mask through the clip\n",
    "    clip_segments = {}\n",
    "    for out_frame_idx, out_obj_ids, out_mask_logits in predictor.propagate_in_video(inference_state):\n",
    "        clip_segments[out_frame_idx] = {\n",
    "            out_obj_id: (out_mask_logits[i] > 0.0).cpu().numpy()\n",
    "            for i, out_obj_id in enumerate(out_obj_ids)\n",
    "        }\n",
    "\n",
    "    print(f\"Clip {clip_num} / Check 4: Mask Propagation Complete\")\n",
    "\n",
    "    ### Step 4: Store center coordinates\n",
    "    for frame_num, frame_data in clip_segments.items():\n",
    "        if frame_data:\n",
    "            mask = frame_data[1][0]  # Assuming object ID 1\n",
    "            if mask is not None and np.any(mask):\n",
    "                # Find the center of the mask\n",
    "                y_indices, x_indices = np.where(mask)\n",
    "                center_x, center_y = round(np.mean(x_indices)), round(np.mean(y_indices))\n",
    "\n",
    "                # Append coordinates\n",
    "                track_coords.append((clip_name, clip_frames[frame_num], center_x, center_y))\n",
    "\n",
    "                # # Save mask as CSV\n",
    "                # mask_filename = f\"{clip_name}_frame_{frame_num}_mask.csv\"\n",
    "                # mask_path = os.path.join(output_dir, mask_filename)\n",
    "                # np.savetxt(mask_path, mask, delimiter=\",\", fmt=\"%d\")\n",
    "\n",
    "            else:\n",
    "                track_coords.append((clip_name, clip_frames[frame_num], None, None))\n",
    "                # clip_segments[out_frame_idx][out_obj_id] = np.full(mask_shape, False, dtype=bool)\n",
    "        else:\n",
    "            track_coords.append((clip_name, clip_frames[frame_num], None, None))\n",
    "            # clip_segments[out_frame_idx][out_obj_id] = np.full(mask_shape, False, dtype=bool)\n",
    "\n",
    "    \n",
    "    print(f\"Clip {clip_num} / Check 5: Masks and Center Coordinates Saved\")\n",
    "\n",
    "    # Reset predictor and clear memory\n",
    "    gc.collect()\n",
    "    predictor.reset_state(inference_state) \n",
    "\n",
    "    print(f\"Clip {clip_num} / Check 6: Reset Complete. Clip {clip_num} finished\")\n",
    "\n",
    "### FINAL STEP: Save the combined data after all clips\n",
    "# Convert the combined tracking data to a DataFrame\n",
    "track_coords_df = pd.DataFrame(track_coords, columns=['clip', 'frame', 'x', 'y'])\n",
    "\n",
    "# Save the combined DataFrame as CSV\n",
    "combined_csv_path = os.path.join(dstdir, \"Tracks.csv\")\n",
    "track_coords_df.to_csv(combined_csv_path, index=False)\n",
    "\n",
    "print(\"All clips processed. Combined center coordinates saved to:\", combined_csv_path)\n"
   ]
  },
  {
   "cell_type": "code",
   "execution_count": null,
   "id": "cc762bfb",
   "metadata": {},
   "outputs": [],
   "source": [
    "### Dorsal loop with saving the clip track, combined csv of tracks, and masks\n",
    "\n",
    "\n",
    "%matplotlib tk\n",
    "\n",
    "# Initialize an empty list to store tracking data across all clips\n",
    "track_coords = []\n",
    "\n",
    "for i, clip_name in enumerate(clips):\n",
    "    clip_dir = clip_directories[i]  \n",
    "    clip_frames = frame_names[i]\n",
    "    frame_name = clip_frames[0]  \n",
    "    clip_num = i + 1\n",
    "    output_dir = out_directories[i]\n",
    "\n",
    "    print(f\"Clip {clip_num} / Check 1: New Clip Started\")\n",
    "\n",
    "    ### Step 1: Initiate Inference State\n",
    "    inference_state = predictor.init_state(video_path=clip_dir)\n",
    "    print(f\"Clip {clip_num} / Check 2: Inference State Initiated\")\n",
    "\n",
    "    ### Step 2: Give Prompt on First Frame\n",
    "    prompt_pts, prompt_labs = give_prompt(\n",
    "        clip_dir=clip_dir,\n",
    "        frame_name=frame_name,\n",
    "        predictor=predictor,\n",
    "        inference_state=inference_state,\n",
    "        obj_id=1\n",
    "    )\n",
    "    print(f\"Clip {clip_num} / Check 3: Prompt given - points: {prompt_pts}, labels: {prompt_labs}\")\n",
    "\n",
    "    ### Step 3: Propagate mask through the clip Saving tracks and masks\n",
    "\n",
    "    ## 3a - tracks\n",
    "    # this should check the dimensions of the mask (unlike above - idk why it worked before)\n",
    "    clip_track = []  \n",
    "\n",
    "    for out_frame_idx, out_obj_ids, out_mask_logits in predictor.propagate_in_video(inference_state):\n",
    "        frame_num = clip_frames[out_frame_idx]\n",
    "        mask_data = out_mask_logits[0] > 0.0 if out_obj_ids else None\n",
    "        \n",
    "        if mask_data is not None and np.any(mask_data.cpu().numpy()):\n",
    "            mask_array = mask_data.cpu().numpy()\n",
    "\n",
    "            # Ensure mask_array is 2D\n",
    "            if mask_array.ndim > 2:\n",
    "                mask_array = np.squeeze(mask_array)\n",
    "\n",
    "            if mask_array.ndim != 2:\n",
    "                raise ValueError(f\"Unexpected mask shape: {mask_array.shape}\")\n",
    "\n",
    "            y_indices, x_indices = np.where(mask_array)\n",
    "            center_x, center_y = round(np.mean(x_indices)), round(np.mean(y_indices))\n",
    "\n",
    "            mask_filename = f\"{clip_name}_frame_{frame_num}_mask.csv\"\n",
    "            mask_path = os.path.join(output_dir, mask_filename)\n",
    "            np.savetxt(mask_path, mask_array, delimiter=\",\", fmt=\"%d\")\n",
    "        else:\n",
    "            center_x, center_y = None, None\n",
    "\n",
    "        # Append to clip-specific tracking data\n",
    "        clip_track.append((frame_num, center_x, center_y))\n",
    "\n",
    "    # Convert clip-specific tracking data to DataFrame & save it as csv\n",
    "    clip_track_df = pd.DataFrame(clip_track, columns=['frame', 'x', 'y'])\n",
    "    clip_csv_path = os.path.join(output_dir, f\"{clip_name}_track.csv\")\n",
    "    clip_track_df.to_csv(clip_csv_path, index=False)\n",
    "\n",
    "    # Append to global tracking dataset, adding `clip_name`\n",
    "    for row in clip_track:\n",
    "        track_coords.append((clip_name, *row))  # Expands (frame_num, center_x, center_y)\n",
    "\n",
    "    print(f\"Clip {clip_num} data saved to: {clip_csv_path}\")\n",
    "    print(f\"Clip {clip_num} / Check 4: Masks and Center Coordinates Saved\")\n",
    "\n",
    "    ### Step 4: Reset and clear memory\n",
    "    gc.collect()\n",
    "    predictor.reset_state(inference_state) \n",
    "\n",
    "    print(f\"Clip {clip_num} / Check 6: Reset Complete. Clip {clip_num} finished\")\n",
    "\n",
    "### FINAL STEP: Save the combined data after all clips\n",
    "# Convert the combined tracking data to a DataFrame\n",
    "track_coords_df = pd.DataFrame(track_coords, columns=['clip', 'frame', 'x', 'y'])\n",
    "\n",
    "# Save the combined DataFrame as CSV\n",
    "combined_csv_path = os.path.join(dstdir, \"Tracks.csv\")\n",
    "track_coords_df.to_csv(combined_csv_path, index=False)\n",
    "\n",
    "print(\"All clips processed. Combined center coordinates saved to:\", combined_csv_path)"
   ]
  },
  {
   "cell_type": "markdown",
   "id": "7939155c",
   "metadata": {},
   "source": [
    "### Loop for lateral clips - masks"
   ]
  },
  {
   "cell_type": "code",
   "execution_count": null,
   "id": "66ae40e3",
   "metadata": {},
   "outputs": [],
   "source": [
    "%matplotlib tk\n",
    "\n",
    "# Initialize an empty list to store tracking data across all clips\n",
    "\n",
    "for i, clip_name in enumerate(clips):\n",
    "    clip_dir = clip_directories[i]  \n",
    "    clip_frames = frame_names[i]\n",
    "    frame_name = clip_frames[0]  \n",
    "    clip_num = i + 1\n",
    "    output_dir = out_directories[i]\n",
    "\n",
    "    print(f\"Clip {clip_num} / Check 1: New Clip Started\")\n",
    "\n",
    "    ### Step 1: Initiate Inference State\n",
    "    inference_state = predictor.init_state(video_path=clip_dir)\n",
    "    print(f\"Clip {clip_num} / Check 2: Inference State Initiated\")\n",
    "\n",
    "    ### Step 2: Give Prompt on First Frame\n",
    "    prompt_pts, prompt_labs = give_prompt(\n",
    "        clip_dir=clip_dir,\n",
    "        frame_name=frame_name,\n",
    "        predictor=predictor,\n",
    "        inference_state=inference_state,\n",
    "        obj_id=1\n",
    "    )\n",
    "    print(f\"Clip {clip_num} / Check 3: Prompt given - points: {prompt_pts}, labels: {prompt_labs}\")\n",
    "\n",
    "    ### Step 3: Propagate mask through the clip\n",
    "    clip_segments = {}\n",
    "    for out_frame_idx, out_obj_ids, out_mask_logits in predictor.propagate_in_video(inference_state):\n",
    "        clip_segments[out_frame_idx] = {\n",
    "            out_obj_id: (out_mask_logits[i] > 0.0).cpu().numpy()\n",
    "            for i, out_obj_id in enumerate(out_obj_ids)\n",
    "        }\n",
    "\n",
    "    print(f\"Clip {clip_num} / Check 4: Mask Propagation Complete\")\n",
    "\n",
    "    ### Step 4: Store masks as csv\n",
    "    for frame_num, frame_data in clip_segments.items():\n",
    "        if frame_data:\n",
    "            mask = frame_data[1][0]  # Assuming object ID 1\n",
    "            if mask is not None and np.any(mask):\n",
    "                \n",
    "                # Save mask as CSV\n",
    "                mask_filename = f\"{clip_name}_frame_{frame_num}_mask.csv\"\n",
    "                mask_path = os.path.join(output_dir, mask_filename)\n",
    "                np.savetxt(mask_path, mask, delimiter=\",\", fmt=\"%d\")\n",
    "\n",
    "            else:\n",
    "                clip_segments[out_frame_idx][out_obj_id] = np.full(mask_shape, False, dtype=bool)\n",
    "        else:\n",
    "            clip_segments[out_frame_idx][out_obj_id] = np.full(mask_shape, False, dtype=bool)\n",
    "\n",
    "    print(f\"Clip {clip_num} / Check 5: Masks and Center Coordinates Saved\")\n",
    "\n",
    "    # Reset predictor and clear memory\n",
    "    gc.collect()\n",
    "    predictor.reset_state(inference_state) \n",
    "\n",
    "    print(f\"Clip {clip_num} / Check 6: Reset Complete. Clip {clip_num} finished\")\n",
    "\n",
    "\n",
    "print(\"All clips processed.\")\n"
   ]
  },
  {
   "cell_type": "markdown",
   "id": "ced06a9e",
   "metadata": {},
   "source": [
    "### Adding mask altering - mean luminance "
   ]
  },
  {
   "cell_type": "code",
   "execution_count": null,
   "id": "3afa6578",
   "metadata": {},
   "outputs": [],
   "source": [
    "import os\n",
    "import cv2\n",
    "import gc\n",
    "import numpy as np\n",
    "import pandas as pd\n",
    "import re\n",
    "\n",
    "%matplotlib tk\n",
    "\n",
    "# Function to extract frame number from filename\n",
    "def extract_frame_number(filename):\n",
    "    match = re.search(r'frame_(\\d+)', filename)\n",
    "    return int(match.group(1)) if match else float('inf')\n",
    "\n",
    "# Initialize processing for all clips\n",
    "for i, clip_name in enumerate(clips):\n",
    "    clip_dir = clip_directories[i]  \n",
    "    clip_frames = frame_names[i]\n",
    "    frame_name = clip_frames[0]  \n",
    "    clip_num = i + 1\n",
    "    output_dir = out_directories[i]\n",
    "\n",
    "    print(f\"Clip {clip_num} / Check 1: New Clip Started\")\n",
    "\n",
    "    ### Step 1: Initiate Inference State\n",
    "    inference_state = predictor.init_state(video_path=clip_dir)\n",
    "    print(f\"Clip {clip_num} / Check 2: Inference State Initiated\")\n",
    "\n",
    "    ### Step 2: Give Prompt on First Frame\n",
    "    prompt_pts, prompt_labs = give_prompt(\n",
    "        clip_dir=clip_dir,\n",
    "        frame_name=frame_name,\n",
    "        predictor=predictor,\n",
    "        inference_state=inference_state,\n",
    "        obj_id=1\n",
    "    )\n",
    "    print(f\"Clip {clip_num} / Check 3: Prompt given - points: {prompt_pts}, labels: {prompt_labs}\")\n",
    "\n",
    "    ### Step 3: Propagate mask through the clip\n",
    "    clip_segments = {}\n",
    "    for out_frame_idx, out_obj_ids, out_mask_logits in predictor.propagate_in_video(inference_state):\n",
    "        clip_segments[out_frame_idx] = {\n",
    "            out_obj_id: (out_mask_logits[i] > 0.0).cpu().numpy()\n",
    "            for i, out_obj_id in enumerate(out_obj_ids)\n",
    "        }\n",
    "\n",
    "    print(f\"Clip {clip_num} / Check 4: Mask Propagation Complete\")\n",
    "\n",
    "    ### Step 4: Store masks as csv\n",
    "    for frame_num, frame_data in clip_segments.items():\n",
    "        if frame_data:\n",
    "            mask = frame_data[1][0]  # Assuming object ID 1\n",
    "            if mask is not None and np.any(mask):\n",
    "                \n",
    "                # Save mask as CSV\n",
    "                mask_filename = f\"{clip_name}_frame_{frame_num}_mask.csv\"\n",
    "                mask_path = os.path.join(output_dir, mask_filename)\n",
    "                np.savetxt(mask_path, mask, delimiter=\",\", fmt=\"%d\")\n",
    "\n",
    "    print(f\"Clip {clip_num} / Check 5: Masks CSVs Saved\")\n",
    "\n",
    "\n",
    "\n",
    "    print(f\"Clip {clip_num} / Check 6: Generating Videos...\")\n",
    "\n",
    "    ### Step 5: Generate Videos using Frames and Masks\n",
    "    frame_dir = clip_dir  # Use original frames\n",
    "    mask_dir = output_dir  # Where masks were saved\n",
    "    dst_dir = output_dir  # Save videos in same directory\n",
    "\n",
    "    # Sort frames and masks\n",
    "    frames = sorted(os.listdir(frame_dir))\n",
    "    masks = sorted(os.listdir(mask_dir), key=extract_frame_number)\n",
    "\n",
    "    # Read first frame to get dimensions\n",
    "    sample_frame = cv2.imread(os.path.join(frame_dir, frames[0]))\n",
    "    height, width, _ = sample_frame.shape\n",
    "    fps = 60  # Adjust if needed\n",
    "\n",
    "    fourcc = cv2.VideoWriter_fourcc(*'mp4v')\n",
    "    video1 = cv2.VideoWriter(os.path.join(dst_dir, 'unaltered_mask.mp4'), fourcc, fps, (width, height))\n",
    "    video2 = cv2.VideoWriter(os.path.join(dst_dir, 'mean_luminance_fish.mp4'), fourcc, fps, (width, height))\n",
    "    video3 = cv2.VideoWriter(os.path.join(dst_dir, 'mean_luminance_background.mp4'), fourcc, fps, (width, height))\n",
    "    video4 = cv2.VideoWriter(os.path.join(dst_dir, 'mean_luminance_both.mp4'), fourcc, fps, (width, height))\n",
    "\n",
    "    for frame_name, mask_name in zip(frames, masks):\n",
    "        frame_path = os.path.join(frame_dir, frame_name)\n",
    "        mask_path = os.path.join(mask_dir, mask_name)\n",
    "\n",
    "        # Read frame and mask\n",
    "        frame = cv2.imread(frame_path)\n",
    "        mask = pd.read_csv(mask_path, header=None).values  # Convert CSV to NumPy array\n",
    "\n",
    "        # Compute mean luminance\n",
    "        fish_pixels = frame[mask == 1]\n",
    "        background_pixels = frame[mask == 0]\n",
    "\n",
    "        mean_fish = (\n",
    "            np.mean(fish_pixels, axis=0).astype(np.uint8)\n",
    "            if len(fish_pixels) > 0\n",
    "            else np.array([0, 0, 0], dtype=np.uint8)\n",
    "        )\n",
    "        mean_background = (\n",
    "            np.mean(background_pixels, axis=0).astype(np.uint8)\n",
    "            if len(background_pixels) > 0\n",
    "            else np.array([0, 0, 0], dtype=np.uint8)\n",
    "        )\n",
    "\n",
    "        # Create mean luminance images\n",
    "        mean_fish_img = np.full(frame.shape, mean_fish, dtype=np.uint8)\n",
    "        mean_background_img = np.full(frame.shape, mean_background, dtype=np.uint8)\n",
    "\n",
    "        # Apply treatments\n",
    "        unaltered_mask = frame.copy()\n",
    "        mean_fish_treatment = frame.copy()\n",
    "        mean_background_treatment = frame.copy()\n",
    "        mean_both_treatment = frame.copy()\n",
    "\n",
    "        # Apply modifications\n",
    "        mean_fish_treatment[mask == 1] = mean_fish  # Replace fish with mean luminance\n",
    "        mean_background_treatment[mask == 0] = mean_background  # Replace background with mean luminance\n",
    "        mean_both_treatment[mask == 1] = mean_fish  # Replace fish\n",
    "        mean_both_treatment[mask == 0] = mean_background  # Replace background\n",
    "\n",
    "        # Write frames to videos\n",
    "        video1.write(unaltered_mask)\n",
    "        video2.write(mean_fish_treatment)\n",
    "        video3.write(mean_background_treatment)\n",
    "        video4.write(mean_both_treatment)\n",
    "\n",
    "    # Release videos\n",
    "    video1.release()\n",
    "    video2.release()\n",
    "    video3.release()\n",
    "    video4.release()\n",
    "\n",
    "    print(f\"Clip {clip_num} / Check 7: Videos Saved\")\n",
    "\n",
    "    # Reset predictor and clear memory\n",
    "    gc.collect()\n",
    "    predictor.reset_state(inference_state) \n",
    "    print(f\"Clip {clip_num} / Check 7: Reset complete. Clip {clip_num} finished.\")\n",
    "\n",
    "print(\"All clips processed.\")\n"
   ]
  },
  {
   "cell_type": "markdown",
   "id": "a7d152d3",
   "metadata": {},
   "source": [
    "#### Extra unrelated code"
   ]
  },
  {
   "cell_type": "code",
   "execution_count": null,
   "id": "94eeb7a9",
   "metadata": {},
   "outputs": [],
   "source": [
    "# render the segmentation results every few frames\n",
    "vis_frame_stride = 50\n",
    "plt.close(\"all\")\n",
    "for out_frame_idx in range(0, len(clip_frames), vis_frame_stride):\n",
    "    plt.figure(figsize=(6, 4))\n",
    "    plt.title(f\"frame {out_frame_idx}\")\n",
    "    plt.imshow(Image.open(os.path.join(clip_dir, clip_frames[out_frame_idx]) + \".jpg\"))\n",
    "    for out_obj_id, out_mask in clip_segments[out_frame_idx].items():\n",
    "        show_mask(out_mask, plt.gca(), obj_id=out_obj_id)\n",
    "\n",
    "track_coords_df\n",
    "\n",
    "###########################\n",
    "## shapely center\n",
    "\n",
    "# Step 2: Create a list of coordinates for the polygon\n",
    "mask_coords = [(x_indices[i], y_indices[i]) for i in range(len(y_indices))]\n",
    "\n",
    "# Step 3: Create a Shapely Polygon and compute the centroid\n",
    "polygon = Polygon(mask_coords)\n",
    "polylabel_point = polylabel(polygon, tolerance=1)\n",
    "\n",
    "\n",
    "######################\n",
    "\n",
    "coordinates = []\n",
    "for i in range(len(y_indices)):\n",
    "    current = (x_indices[i], y_indices[i])\n",
    "    coordinates.append(current)\n",
    "coordinates = tuple(coordinates)\n",
    "#\n",
    "polygon = Polygon(coordinates)\n",
    "rep_point = polygon.representative_point() # 2. representative point method\n",
    "rep_x, rep_y = rep_point.x, rep_point.y\n",
    "\n",
    "print(f\"rep_x: {rep_x}, rep_y: {rep_y}\")\n",
    "\n",
    "print(rep_point)"
   ]
  },
  {
   "cell_type": "markdown",
   "id": "2d32a01f",
   "metadata": {},
   "source": [
    "# In action - for Katie and Anna"
   ]
  },
  {
   "cell_type": "markdown",
   "id": "3999e1c9",
   "metadata": {},
   "source": [
    "### Initial Trial Set-up\n",
    "\n",
    "Katie (18/02/2025) - Dorsal masks from long-ish clip to use to help make a skeleton for 3D tracking\n",
    "Anna (04/03/2025) - Dorsal tracks of multiple individuals to test occlusion. I didn't do them simultaneously, I just did them one at a time so it wasn't a true test"
   ]
  },
  {
   "cell_type": "code",
   "execution_count": null,
   "id": "e777393a",
   "metadata": {},
   "outputs": [],
   "source": [
    "### for katie\n",
    "# srcdir = \"/mnt/c/Users/sjoh5476/Desktop/Katie/Frames\" \n",
    "# dstdir = \"/mnt/c/Users/sjoh5476/Desktop/Katie/Output\" \n",
    "\n",
    "### for anna\n",
    "srcdir = \"/mnt/c/Users/sjoh5476/Desktop/Anna/AnnaClipFrames\"\n",
    "dstdir = \"/mnt/c/Users/sjoh5476/Desktop/Anna/AnnaClipFrames/Output\"\n",
    "\n",
    "\n",
    "import os\n",
    "\n",
    "# Scan all the JPEG frame names in this directory and remove 'frame_' and the extension\n",
    "frame_names = [\n",
    "    os.path.splitext(p)[0].replace('frame_', '')  # Remove 'frame_' and extension\n",
    "    for p in os.listdir(srcdir)\n",
    "    if os.path.splitext(p)[-1].lower() in [\".jpg\", \".jpeg\"]\n",
    "]\n",
    "\n",
    "# Sort the names by numeric value (assuming the names are numeric after removing 'frame_')\n",
    "frame_names.sort(key=lambda p: int(p))\n",
    "\n",
    "print(frame_names)\n",
    "\n",
    "\n",
    "mask_shape = (1, 1520, 2704) # define mask (frame) dimensions so we can fill with false later\n",
    "fallback_mask = np.zeros(mask_shape, dtype=bool)\n",
    "\n",
    "clip_dirs = [\n",
    "    os.path.join(srcdir, d) for d in os.listdir(srcdir)\n",
    "    if os.path.isdir(os.path.join(srcdir, d)) and d.startswith(\"clip_\")\n",
    "]\n",
    "\n",
    "print(clip_dirs)"
   ]
  },
  {
   "cell_type": "code",
   "execution_count": null,
   "id": "ef8f750c",
   "metadata": {},
   "outputs": [],
   "source": [
    "import os\n",
    "\n",
    "def split_clip_into_subclips(video_dir, frame_names, clip_len=500):\n",
    "    clip_num = 1  # Start numbering the clips\n",
    "    prompt_idx = 0  # Starting index for the frames\n",
    "    clip_dirs = {}  # Dictionary to store the clip directories\n",
    "\n",
    "    while prompt_idx < len(frame_names):\n",
    "        # Step 1. Create a new subdirectory for the current clip \n",
    "        clip_fr = frame_names[prompt_idx:prompt_idx + clip_len]\n",
    "        if not clip_fr:  # Stop if no frames are left!!!!\n",
    "            print(\"All frames processed.\")\n",
    "            break\n",
    "        \n",
    "        clip_dir = os.path.join(video_dir, f\"clip_{clip_num}\")\n",
    "        \n",
    "        # Check if the directory already exists, if not, create it\n",
    "        if not os.path.exists(clip_dir):\n",
    "            os.mkdir(clip_dir)\n",
    "        else:\n",
    "            print(f\"Directory already exists: {clip_dir}\")\n",
    "        \n",
    "        # Store the clip_dir in the dictionary\n",
    "        clip_dirs[clip_num] = clip_dir\n",
    "        \n",
    "        # Step 2. Populate the subdirectory with hard links to the relevant frames\n",
    "        for frame in clip_fr:\n",
    "            src_path = os.path.join(video_dir, f\"{frame}.jpg\")\n",
    "            dst_path = os.path.join(clip_dir, os.path.basename(src_path))\n",
    "            \n",
    "            # Check if the source file exists before creating a hard link\n",
    "            if os.path.exists(src_path):\n",
    "                os.link(src_path, dst_path)  # Create a hard link\n",
    "            else:\n",
    "                print(f\"Warning: Source file does not exist: {src_path}\")\n",
    "        \n",
    "        # Checkpoint1\n",
    "        print(f\"Clip {clip_num} / Check1: Clip Creation Complete\")\n",
    "        \n",
    "        # Step 3. Move to the next batch of frames\n",
    "        prompt_idx += clip_len\n",
    "        clip_num += 1  # Increment the clip number for the next subclip\n",
    "\n",
    "    # Print the clip directories for verification\n",
    "    print(\"Clip directories created:\", clip_dirs)\n",
    "    return clip_dirs  # Return the dictionary containing all clip directories\n",
    "\n",
    "# Example usage\n",
    "# srcdir = \"/mnt/c/Users/sjoh5476/Desktop/Katie/Frames\"\n",
    "srcdir = \"/mnt/c/Users/sjoh5476/Desktop/Anna/AnnaClipFrames\"\n",
    "clip_dirs = split_clip_into_subclips(srcdir, frame_names)\n"
   ]
  },
  {
   "cell_type": "code",
   "execution_count": null,
   "id": "f3a3deb2",
   "metadata": {},
   "outputs": [],
   "source": [
    "%matplotlib tk\n",
    "\n",
    "import os\n",
    "import gc\n",
    "import numpy as np\n",
    "import pandas as pd\n",
    "\n",
    "# Define a name for the video (could be the name of the video file or anything you like)\n",
    "video_name = \"Zebrafish_clip_blender\"  # Replace with your video name\n",
    "\n",
    "# Initialize an empty list to store tracking data across all frames\n",
    "track_coords = []\n",
    "\n",
    "# Loop through all clip folders from clip1 to clip10\n",
    "for clip_num in range(1, 21):  # Loop through clip1 to clip10\n",
    "    clip_dir = clip_dirs[clip_num]\n",
    "    \n",
    "    # Check if the folder exists\n",
    "    if not os.path.exists(clip_dir):\n",
    "        print(f\"Folder {clip_dir} does not exist. Skipping...\")\n",
    "        continue\n",
    "\n",
    "    inference_state = predictor.init_state(video_path=clip_dir)\n",
    "\n",
    "    # Get the frame names in the current clip folder\n",
    "    # Get the sorted list of frame names, excluding the .jpg extension\n",
    "    frame_names = sorted([\n",
    "        os.path.splitext(p)[0]  # Remove the .jpg extension\n",
    "        for p in os.listdir(clip_dir)\n",
    "        if os.path.splitext(p)[-1].lower() in [\".jpg\", \".jpeg\"]\n",
    "    ])\n",
    "\n",
    "    print(f\"Processing {clip_dir} with {len(frame_names)} frames.\")\n",
    "\n",
    "    # Iterate through all frames in the directory\n",
    "    for i, frame_name in enumerate(frame_names):\n",
    "        print(f\"Processing frame {i+1} / {len(frame_names)}: {frame_name}\")\n",
    "\n",
    "        ### Step 2: Give Prompt on Current Frame\n",
    "        prompt_pts, prompt_labs = give_prompt(\n",
    "            clip_dir=clip_dir,\n",
    "            frame_name=frame_name,\n",
    "            predictor=predictor,\n",
    "            inference_state=inference_state,\n",
    "            obj_id=1  # Assuming you're tracking object ID 1\n",
    "        )\n",
    "        print(f\"Prompt given for {frame_name}: points: {prompt_pts}, labels: {prompt_labs}\")\n",
    "\n",
    "        ### Step 3: Propagate mask for the current frame\n",
    "        clip_segments = {}\n",
    "        for out_frame_idx, out_obj_ids, out_mask_logits in predictor.propagate_in_video(inference_state):\n",
    "            clip_segments[out_frame_idx] = {\n",
    "                out_obj_id: (out_mask_logits[i] > 0.0).cpu().numpy()\n",
    "                for i, out_obj_id in enumerate(out_obj_ids)\n",
    "            }\n",
    "\n",
    "        print(f\"Mask propagation complete for {frame_name}\")\n",
    "\n",
    "        ### Step 4: Store center coordinates for the current frame\n",
    "        if clip_segments:\n",
    "            mask = clip_segments.get(1, {}).get(0, None)  # Assuming object ID 1\n",
    "            if mask is not None and np.any(mask):\n",
    "                # Find the center of the mask\n",
    "                y_indices, x_indices = np.where(mask)\n",
    "                center_x, center_y = round(np.mean(x_indices)), round(np.mean(y_indices))\n",
    "\n",
    "                # Append coordinates\n",
    "                track_coords.append((video_name, frame_name, center_x, center_y))\n",
    "            else:\n",
    "                track_coords.append((video_name, frame_name, None, None))\n",
    "\n",
    "        else:\n",
    "            track_coords.append((video_name, frame_name, None, None))\n",
    "\n",
    "        print(f\"Center coordinates saved for {frame_name}\")\n",
    "\n",
    "        ### Step 5: Store masks as CSV for the current frame\n",
    "        if clip_segments:\n",
    "            mask = clip_segments.get(1, {}).get(0, None)  # Assuming object ID 1\n",
    "            if mask is not None and np.any(mask):\n",
    "                mask_filename = f\"frame_{i+1}_mask.csv\"\n",
    "                mask_path = os.path.join(dstdir, mask_filename)\n",
    "                np.savetxt(mask_path, mask, delimiter=\",\", fmt=\"%d\")\n",
    "\n",
    "        print(f\"Mask saved for {frame_name}\")\n",
    "\n",
    "        # Reset predictor and clear memory\n",
    "        gc.collect()\n",
    "        predictor.reset_state(inference_state)  # Reset the state for the next frame\n",
    "\n",
    "# FINAL STEP: Save the combined data after all frames\n",
    "track_coords_df = pd.DataFrame(track_coords, columns=['clip', 'frame', 'x', 'y'])\n",
    "combined_csv_path = os.path.join(dstdir, \"Track.csv\")\n",
    "track_coords_df.to_csv(combined_csv_path, index=False)\n",
    "\n",
    "print(f\"All frames processed. Combined center coordinates saved to: {combined_csv_path}\")\n"
   ]
  },
  {
   "cell_type": "code",
   "execution_count": null,
   "id": "031ca6fc",
   "metadata": {},
   "outputs": [],
   "source": [
    "### Looping through clips of the same video!\n",
    "\n",
    "%matplotlib tk\n",
    "\n",
    "# Initialize an empty list to store tracking data across all clips\n",
    "track_coords = []\n",
    "\n",
    "for i, clip_name in enumerate(clips):\n",
    "    clip_dir = clip_directories[i]  \n",
    "    clip_frames = frame_names[i]\n",
    "    frame_name = clip_frames[0]  \n",
    "    clip_num = i + 1\n",
    "    output_dir = out_directories[i]\n",
    "\n",
    "    print(f\"Clip {clip_num} / Check 1: New Clip Started\")\n",
    "\n",
    "    ### Step 1: Initiate Inference State\n",
    "    inference_state = predictor.init_state(video_path=clip_dir)\n",
    "    print(f\"Clip {clip_num} / Check 2: Inference State Initiated\")\n",
    "\n",
    "    ### Step 2: Give Prompt on First Frame\n",
    "    prompt_pts, prompt_labs = give_prompt(\n",
    "        clip_dir=clip_dir,\n",
    "        frame_name=frame_name,\n",
    "        predictor=predictor,\n",
    "        inference_state=inference_state,\n",
    "        obj_id=1\n",
    "    )\n",
    "    print(f\"Clip {clip_num} / Check 3: Prompt given - points: {prompt_pts}, labels: {prompt_labs}\")\n",
    "\n",
    "    ### Step 3: Propagate mask through the clip\n",
    "    clip_segments = {}\n",
    "    for out_frame_idx, out_obj_ids, out_mask_logits in predictor.propagate_in_video(inference_state):\n",
    "        clip_segments[out_frame_idx] = {\n",
    "            out_obj_id: (out_mask_logits[i] > 0.0).cpu().numpy()\n",
    "            for i, out_obj_id in enumerate(out_obj_ids)\n",
    "        }\n",
    "\n",
    "    print(f\"Clip {clip_num} / Check 4: Mask Propagation Complete\")\n",
    "\n",
    "    ### Step 4: Store center coordinates\n",
    "    for frame_num, frame_data in clip_segments.items():\n",
    "        if frame_data:\n",
    "            mask = frame_data[1][0]  # Assuming object ID 1\n",
    "            if mask is not None and np.any(mask):\n",
    "                # Find the center of the mask\n",
    "                y_indices, x_indices = np.where(mask)\n",
    "                center_x, center_y = round(np.mean(x_indices)), round(np.mean(y_indices))\n",
    "\n",
    "                # Append coordinates\n",
    "                track_coords.append((clip_name, clip_frames[frame_num], center_x, center_y))\n",
    "\n",
    "            else:\n",
    "                track_coords.append((clip_name, clip_frames[frame_num], None, None))\n",
    "        else:\n",
    "            track_coords.append((clip_name, clip_frames[frame_num], None, None))\n",
    "\n",
    "    print(f\"Clip {clip_num} / Check 5: Masks and Center Coordinates Saved\")\n",
    "\n",
    "    ### Step 5: Store masks as csv\n",
    "    for frame_num, frame_data in clip_segments.items():\n",
    "        if frame_data:\n",
    "            mask = frame_data[1][0]  # Assuming object ID 1\n",
    "            if mask is not None and np.any(mask):\n",
    "                \n",
    "                # Save mask as CSV\n",
    "                mask_filename = f\"{clip_name}_frame_{frame_num}_mask.csv\"\n",
    "                mask_path = os.path.join(output_dir, mask_filename)\n",
    "                np.savetxt(mask_path, mask, delimiter=\",\", fmt=\"%d\")\n",
    "\n",
    "            else:\n",
    "                clip_segments[out_frame_idx][out_obj_id] = np.full(mask_shape, False, dtype=bool)\n",
    "        else:\n",
    "            clip_segments[out_frame_idx][out_obj_id] = np.full(mask_shape, False, dtype=bool)\n",
    "\n",
    "    print(f\"Clip {clip_num} / Check 5: Masks and Center Coordinates Saved\")\n",
    "\n",
    "    # Reset predictor and clear memory\n",
    "    gc.collect()\n",
    "    predictor.reset_state(inference_state) \n",
    "\n",
    "    print(f\"Clip {clip_num} / Check 6: Reset Complete. Clip {clip_num} finished\")\n",
    "\n",
    "### FINAL STEP: Save the combined data after all clips\n",
    "# Convert the combined tracking data to a DataFrame\n",
    "track_coords_df = pd.DataFrame(track_coords, columns=['clip', 'frame', 'x', 'y'])\n",
    "\n",
    "# Save the combined DataFrame as CSV\n",
    "combined_csv_path = os.path.join(dstdir, \"Tracks.csv\")\n",
    "track_coords_df.to_csv(combined_csv_path, index=False)\n",
    "\n",
    "print(\"All clips processed. Combined center coordinates saved to:\", combined_csv_path)"
   ]
  },
  {
   "cell_type": "code",
   "execution_count": null,
   "id": "cc2328f7",
   "metadata": {},
   "outputs": [],
   "source": [
    "### Removing loop\n",
    "\n",
    "%matplotlib tk\n",
    "\n",
    "import os\n",
    "import gc\n",
    "import numpy as np\n",
    "import pandas as pd\n",
    "\n",
    "# Specify the clip directory you want to process\n",
    "clip_name=\"Anna\"\n",
    "# clip_dir = f\"/mnt/c/Users/sjoh5476/Desktop/Katie/Frames/{clip_name}\"\n",
    "# output_dir = f\"/mnt/c/Users/sjoh5476/Desktop/Katie/Output/{clip_name}\"\n",
    "\n",
    "clip_dir = \"/mnt/c/Users/sjoh5476/Desktop/Anna/AnnaClipFrames\"\n",
    "output_dir = \"/mnt/c/Users/sjoh5476/Desktop/Anna/AnnaClipFrames/Output\"\n",
    "\n",
    "\n",
    "\n",
    "# Get the sorted list of frame names, excluding the .jpg extension\n",
    "frame_names = sorted([\n",
    "    os.path.splitext(p)[0]  # Remove the .jpg extension\n",
    "    for p in os.listdir(clip_dir)\n",
    "    if os.path.splitext(p)[-1].lower() in [\".jpg\", \".jpeg\"]\n",
    "])\n",
    "\n",
    "if not frame_names:\n",
    "    print(f\"No valid frames found in {clip_dir}. Exiting.\")\n",
    "    exit()\n",
    "\n",
    "frame_name = frame_names[0]  # First frame for prompting\n",
    "track_coords = []  # Store tracking data\n",
    "\n",
    "print(f\"{clip_name} / Check 1: New Clip Started\")\n",
    "\n",
    "### Step 1: Initiate Inference State\n",
    "inference_state = predictor.init_state(video_path=clip_dir)\n",
    "print(f\"{clip_name} / Check 2: Inference State Initiated\")\n",
    "\n",
    "### Step 2: Give Prompt on First Frame\n",
    "prompt_pts, prompt_labs = give_prompt(\n",
    "    clip_dir=clip_dir,\n",
    "    frame_name=frame_name,\n",
    "    predictor=predictor,\n",
    "    inference_state=inference_state,\n",
    "    obj_id=1\n",
    ")\n",
    "print(f\"{clip_name} / Check 3: Prompt given - points: {prompt_pts}, labels: {prompt_labs}\")\n",
    "\n",
    "### Step 3: Propagate mask through the clip\n",
    "clip_segments = {}\n",
    "for out_frame_idx, out_obj_ids, out_mask_logits in predictor.propagate_in_video(inference_state):\n",
    "    clip_segments[out_frame_idx] = {\n",
    "        out_obj_id: (out_mask_logits[i] > 0.0).cpu().numpy()\n",
    "        for i, out_obj_id in enumerate(out_obj_ids)\n",
    "    }\n",
    "\n",
    "print(f\"{clip_name} / Check 4: Mask Propagation Complete\")\n",
    "\n",
    "### Step 4: Store center coordinates\n",
    "for frame_num, frame_data in clip_segments.items():\n",
    "    if frame_data:\n",
    "        mask = frame_data[1][0]  # Assuming object ID 1\n",
    "        if mask is not None and np.any(mask):\n",
    "            # Find the center of the mask\n",
    "            y_indices, x_indices = np.where(mask)\n",
    "            center_x, center_y = round(np.mean(x_indices)), round(np.mean(y_indices))\n",
    "\n",
    "            # Append coordinates\n",
    "            track_coords.append((clip_name, frame_names[frame_num], center_x, center_y))\n",
    "        else:\n",
    "            track_coords.append((clip_name, frame_names[frame_num], None, None))\n",
    "    else:\n",
    "        track_coords.append((clip_name, frame_names[frame_num], None, None))\n",
    "\n",
    "print(f\"{clip_name} / Check 5: Masks and Center Coordinates Saved\")\n",
    "\n",
    "### Step 5: Store masks as CSV\n",
    "for frame_num, frame_data in clip_segments.items():\n",
    "    if frame_data:\n",
    "        mask = frame_data[1][0]  # Assuming object ID 1\n",
    "        if mask is not None and np.any(mask):\n",
    "            # Save mask as CSV\n",
    "            #mask_filename = f\"{clip_name}_frame_{frame_num}_mask.csv\"\n",
    "            mask_filename = f\"{frame_names[frame_num]}_mask.csv\"\n",
    "            mask_path = os.path.join(output_dir, mask_filename)\n",
    "            np.savetxt(mask_path, mask, delimiter=\",\", fmt=\"%d\")\n",
    "\n",
    "print(f\"{clip_name} / Check 6: Masks saved successfully.\")\n",
    "\n",
    "# Reset predictor and clear memory\n",
    "gc.collect()\n",
    "predictor.reset_state(inference_state)\n",
    "\n",
    "print(f\"{clip_name} / Check 7: Reset Complete. Clip finished.\")\n",
    "\n",
    "### FINAL STEP: Save the tracking data\n",
    "track_coords_df = pd.DataFrame(track_coords, columns=['clip', 'frame', 'x', 'y'])\n",
    "combined_csv_path = os.path.join(output_dir, f\"{clip_name}_Track.csv\")\n",
    "track_coords_df.to_csv(combined_csv_path, index=False)\n",
    "\n",
    "print(f\"Tracking data for {clip_name} saved to:\", combined_csv_path)\n"
   ]
  },
  {
   "cell_type": "code",
   "execution_count": null,
   "id": "529917f7",
   "metadata": {},
   "outputs": [],
   "source": [
    "# Step 5:  Render Segmentation Results\n",
    "for out_frame_idx in range(0, len(frame_names), 25):\n",
    "    plt.figure(figsize=(6, 4))\n",
    "    plt.title(f\"frame {out_frame_idx}\")\n",
    "    plt.imshow(Image.open(os.path.join(clip_dir, frame_names[out_frame_idx]) + '.jpg'))\n",
    "    for out_obj_id, out_mask in clip_segments[out_frame_idx].items():\n",
    "        show_mask(out_mask, plt.gca(), obj_id=out_obj_id)\n",
    "\n",
    "#checkpoint5\n",
    "print(\"Check5: Rendering Frames Complete\")"
   ]
  },
  {
   "cell_type": "code",
   "execution_count": null,
   "id": "45ce9f9c",
   "metadata": {},
   "outputs": [],
   "source": [
    "plt.close(\"all\")"
   ]
  },
  {
   "cell_type": "code",
   "execution_count": null,
   "id": "31b6852b",
   "metadata": {},
   "outputs": [],
   "source": [
    "## Save output as a video\n",
    "\n",
    "import os\n",
    "import cv2\n",
    "import numpy as np\n",
    "import matplotlib.pyplot as plt\n",
    "from PIL import Image\n",
    "\n",
    "# Define output directory for frames\n",
    "output_frames_dir = \"/mnt/c/Users/sjoh5476/Desktop/Anna/Rendered_Frames\"\n",
    "os.makedirs(output_frames_dir, exist_ok=True)\n",
    "\n",
    "# Step 5: Render and save segmentation results\n",
    "frame_list = []\n",
    "for out_frame_idx in range(0, len(frame_names), 1):\n",
    "    fig, ax = plt.subplots(figsize=(6, 4))\n",
    "    ax.set_title(f\"frame {out_frame_idx}\")\n",
    "\n",
    "    # Load and display frame\n",
    "    img_path = os.path.join(clip_dir, frame_names[out_frame_idx]) + \".jpg\"\n",
    "    img = Image.open(img_path)\n",
    "    ax.imshow(img)\n",
    "\n",
    "    # Overlay segmentation mask\n",
    "    for out_obj_id, out_mask in clip_segments[out_frame_idx].items():\n",
    "        show_mask(out_mask, ax, obj_id=out_obj_id)\n",
    "\n",
    "    # Save frame as an image\n",
    "    frame_path = os.path.join(output_frames_dir, f\"frame_{out_frame_idx:04d}.png\")\n",
    "    fig.savefig(frame_path, bbox_inches='tight', pad_inches=0)\n",
    "    plt.close(fig)  # Close figure to free memory\n",
    "\n",
    "    frame_list.append(frame_path)\n",
    "\n",
    "# Checkpoint\n",
    "print(\"Check5: Rendering Frames Complete\")\n",
    "\n",
    "# Step 6: Convert saved images to a video\n",
    "output_video_path = \"/mnt/c/Users/sjoh5476/Desktop/Anna/2_segmentation_output.mp4\"\n",
    "frame_rate = 30  # Adjust as needed\n",
    "\n",
    "# Read first image to get dimensions\n",
    "first_frame = cv2.imread(frame_list[0])\n",
    "height, width, layers = first_frame.shape\n",
    "\n",
    "# Define video writer\n",
    "fourcc = cv2.VideoWriter_fourcc(*\"mp4v\")  # Codec\n",
    "video_writer = cv2.VideoWriter(output_video_path, fourcc, frame_rate, (width, height))\n",
    "\n",
    "# Add frames to video\n",
    "for frame_path in frame_list:\n",
    "    img = cv2.imread(frame_path)\n",
    "    video_writer.write(img)\n",
    "\n",
    "video_writer.release()\n",
    "print(f\"Video saved at: {output_video_path}\")\n"
   ]
  }
 ],
 "metadata": {
  "kernelspec": {
   "display_name": "sam2",
   "language": "python",
   "name": "python3"
  },
  "language_info": {
   "codemirror_mode": {
    "name": "ipython",
    "version": 3
   },
   "file_extension": ".py",
   "mimetype": "text/x-python",
   "name": "python",
   "nbconvert_exporter": "python",
   "pygments_lexer": "ipython3",
   "version": "3.12.7"
  }
 },
 "nbformat": 4,
 "nbformat_minor": 5
}
